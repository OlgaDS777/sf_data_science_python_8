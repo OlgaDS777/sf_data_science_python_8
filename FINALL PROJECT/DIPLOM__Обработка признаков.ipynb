{
 "cells": [
  {
   "cell_type": "markdown",
   "metadata": {},
   "source": [
    "# Исследование данных"
   ]
  },
  {
   "cell_type": "code",
   "execution_count": 1,
   "metadata": {},
   "outputs": [],
   "source": [
    "# импорт необходимых библиотек\n",
    "import pandas as pd\n",
    "import numpy as np\n",
    "from tqdm import tqdm\n",
    "tqdm.pandas()\n",
    "import re\n",
    "import ast\n",
    "from Levenshtein import distance\n"
   ]
  },
  {
   "cell_type": "code",
   "execution_count": 2,
   "metadata": {},
   "outputs": [
    {
     "data": {
      "text/html": [
       "<div>\n",
       "<style scoped>\n",
       "    .dataframe tbody tr th:only-of-type {\n",
       "        vertical-align: middle;\n",
       "    }\n",
       "\n",
       "    .dataframe tbody tr th {\n",
       "        vertical-align: top;\n",
       "    }\n",
       "\n",
       "    .dataframe thead th {\n",
       "        text-align: right;\n",
       "    }\n",
       "</style>\n",
       "<table border=\"1\" class=\"dataframe\">\n",
       "  <thead>\n",
       "    <tr style=\"text-align: right;\">\n",
       "      <th></th>\n",
       "      <th>status</th>\n",
       "      <th>private pool</th>\n",
       "      <th>propertyType</th>\n",
       "      <th>street</th>\n",
       "      <th>baths</th>\n",
       "      <th>homeFacts</th>\n",
       "      <th>fireplace</th>\n",
       "      <th>city</th>\n",
       "      <th>schools</th>\n",
       "      <th>sqft</th>\n",
       "      <th>zipcode</th>\n",
       "      <th>beds</th>\n",
       "      <th>state</th>\n",
       "      <th>stories</th>\n",
       "      <th>mls-id</th>\n",
       "      <th>PrivatePool</th>\n",
       "      <th>MlsId</th>\n",
       "      <th>target</th>\n",
       "    </tr>\n",
       "  </thead>\n",
       "  <tbody>\n",
       "    <tr>\n",
       "      <th>0</th>\n",
       "      <td>Active</td>\n",
       "      <td>NaN</td>\n",
       "      <td>Single Family Home</td>\n",
       "      <td>240 Heather Ln</td>\n",
       "      <td>3.5</td>\n",
       "      <td>{'atAGlanceFacts': [{'factValue': '2019', 'fac...</td>\n",
       "      <td>Gas Logs</td>\n",
       "      <td>Southern Pines</td>\n",
       "      <td>[{'rating': ['4', '4', '7', 'NR', '4', '7', 'N...</td>\n",
       "      <td>2900</td>\n",
       "      <td>28387</td>\n",
       "      <td>4</td>\n",
       "      <td>NC</td>\n",
       "      <td>NaN</td>\n",
       "      <td>NaN</td>\n",
       "      <td>NaN</td>\n",
       "      <td>611019</td>\n",
       "      <td>$418,000</td>\n",
       "    </tr>\n",
       "    <tr>\n",
       "      <th>1</th>\n",
       "      <td>for sale</td>\n",
       "      <td>NaN</td>\n",
       "      <td>single-family home</td>\n",
       "      <td>12911 E Heroy Ave</td>\n",
       "      <td>3 Baths</td>\n",
       "      <td>{'atAGlanceFacts': [{'factValue': '2019', 'fac...</td>\n",
       "      <td>NaN</td>\n",
       "      <td>Spokane Valley</td>\n",
       "      <td>[{'rating': ['4/10', 'None/10', '4/10'], 'data...</td>\n",
       "      <td>1,947 sqft</td>\n",
       "      <td>99216</td>\n",
       "      <td>3 Beds</td>\n",
       "      <td>WA</td>\n",
       "      <td>2.0</td>\n",
       "      <td>NaN</td>\n",
       "      <td>NaN</td>\n",
       "      <td>201916904</td>\n",
       "      <td>$310,000</td>\n",
       "    </tr>\n",
       "  </tbody>\n",
       "</table>\n",
       "</div>"
      ],
      "text/plain": [
       "     status private pool        propertyType             street    baths  \\\n",
       "0    Active          NaN  Single Family Home     240 Heather Ln      3.5   \n",
       "1  for sale          NaN  single-family home  12911 E Heroy Ave  3 Baths   \n",
       "\n",
       "                                           homeFacts fireplace  \\\n",
       "0  {'atAGlanceFacts': [{'factValue': '2019', 'fac...  Gas Logs   \n",
       "1  {'atAGlanceFacts': [{'factValue': '2019', 'fac...       NaN   \n",
       "\n",
       "             city                                            schools  \\\n",
       "0  Southern Pines  [{'rating': ['4', '4', '7', 'NR', '4', '7', 'N...   \n",
       "1  Spokane Valley  [{'rating': ['4/10', 'None/10', '4/10'], 'data...   \n",
       "\n",
       "         sqft zipcode    beds state stories mls-id PrivatePool      MlsId  \\\n",
       "0        2900   28387       4    NC     NaN    NaN         NaN     611019   \n",
       "1  1,947 sqft   99216  3 Beds    WA     2.0    NaN         NaN  201916904   \n",
       "\n",
       "     target  \n",
       "0  $418,000  \n",
       "1  $310,000  "
      ]
     },
     "execution_count": 2,
     "metadata": {},
     "output_type": "execute_result"
    }
   ],
   "source": [
    "# чтение файла\n",
    "data = pd.read_csv('data/data.csv', sep=',')\n",
    "# вывод первых двух строк\n",
    "data.head(2)"
   ]
  },
  {
   "cell_type": "code",
   "execution_count": 3,
   "metadata": {},
   "outputs": [
    {
     "data": {
      "text/plain": [
       "(377185, 18)"
      ]
     },
     "execution_count": 3,
     "metadata": {},
     "output_type": "execute_result"
    }
   ],
   "source": [
    "#размерность таблицы\n",
    "data.shape"
   ]
  },
  {
   "cell_type": "code",
   "execution_count": 4,
   "metadata": {},
   "outputs": [
    {
     "name": "stdout",
     "output_type": "stream",
     "text": [
      "<class 'pandas.core.frame.DataFrame'>\n",
      "RangeIndex: 377185 entries, 0 to 377184\n",
      "Data columns (total 18 columns):\n",
      " #   Column        Non-Null Count   Dtype \n",
      "---  ------        --------------   ----- \n",
      " 0   status        337267 non-null  object\n",
      " 1   private pool  4181 non-null    object\n",
      " 2   propertyType  342452 non-null  object\n",
      " 3   street        377183 non-null  object\n",
      " 4   baths         270847 non-null  object\n",
      " 5   homeFacts     377185 non-null  object\n",
      " 6   fireplace     103114 non-null  object\n",
      " 7   city          377151 non-null  object\n",
      " 8   schools       377185 non-null  object\n",
      " 9   sqft          336608 non-null  object\n",
      " 10  zipcode       377185 non-null  object\n",
      " 11  beds          285903 non-null  object\n",
      " 12  state         377185 non-null  object\n",
      " 13  stories       226469 non-null  object\n",
      " 14  mls-id        24942 non-null   object\n",
      " 15  PrivatePool   40311 non-null   object\n",
      " 16  MlsId         310305 non-null  object\n",
      " 17  target        374704 non-null  object\n",
      "dtypes: object(18)\n",
      "memory usage: 51.8+ MB\n"
     ]
    }
   ],
   "source": [
    "#получение информации о столбцах\n",
    "data.info()"
   ]
  },
  {
   "cell_type": "markdown",
   "metadata": {},
   "source": [
    "В большинстве признаков имеются пропуски в данных. Для наглядности выразим пропущенные значения в процентах."
   ]
  },
  {
   "cell_type": "code",
   "execution_count": 5,
   "metadata": {},
   "outputs": [
    {
     "data": {
      "text/plain": [
       "private pool    98.891525\n",
       "mls-id          93.387330\n",
       "PrivatePool     89.312672\n",
       "fireplace       72.662221\n",
       "stories         39.958111\n",
       "baths           28.192532\n",
       "beds            24.200856\n",
       "MlsId           17.731352\n",
       "sqft            10.757851\n",
       "status          10.583136\n",
       "propertyType     9.208479\n",
       "target           0.657767\n",
       "city             0.009014\n",
       "street           0.000530\n",
       "zipcode          0.000000\n",
       "schools          0.000000\n",
       "state            0.000000\n",
       "homeFacts        0.000000\n",
       "dtype: float64"
      ]
     },
     "metadata": {},
     "output_type": "display_data"
    }
   ],
   "source": [
    "percent_null = (data.isnull().sum() / len(data)) * 100\n",
    "display(percent_null.sort_values(ascending=False))"
   ]
  },
  {
   "cell_type": "code",
   "execution_count": 6,
   "metadata": {},
   "outputs": [
    {
     "data": {
      "text/html": [
       "<div>\n",
       "<style scoped>\n",
       "    .dataframe tbody tr th:only-of-type {\n",
       "        vertical-align: middle;\n",
       "    }\n",
       "\n",
       "    .dataframe tbody tr th {\n",
       "        vertical-align: top;\n",
       "    }\n",
       "\n",
       "    .dataframe thead th {\n",
       "        text-align: right;\n",
       "    }\n",
       "</style>\n",
       "<table border=\"1\" class=\"dataframe\">\n",
       "  <thead>\n",
       "    <tr style=\"text-align: right;\">\n",
       "      <th></th>\n",
       "      <th>status</th>\n",
       "      <th>private pool</th>\n",
       "      <th>propertyType</th>\n",
       "      <th>street</th>\n",
       "      <th>baths</th>\n",
       "      <th>homeFacts</th>\n",
       "      <th>fireplace</th>\n",
       "      <th>city</th>\n",
       "      <th>schools</th>\n",
       "      <th>sqft</th>\n",
       "      <th>zipcode</th>\n",
       "      <th>beds</th>\n",
       "      <th>state</th>\n",
       "      <th>stories</th>\n",
       "      <th>mls-id</th>\n",
       "      <th>PrivatePool</th>\n",
       "      <th>MlsId</th>\n",
       "      <th>target</th>\n",
       "    </tr>\n",
       "  </thead>\n",
       "  <tbody>\n",
       "    <tr>\n",
       "      <th>count</th>\n",
       "      <td>337267</td>\n",
       "      <td>4181</td>\n",
       "      <td>342452</td>\n",
       "      <td>377183</td>\n",
       "      <td>270847</td>\n",
       "      <td>377185</td>\n",
       "      <td>103114</td>\n",
       "      <td>377151</td>\n",
       "      <td>377185</td>\n",
       "      <td>336608</td>\n",
       "      <td>377185</td>\n",
       "      <td>285903</td>\n",
       "      <td>377185</td>\n",
       "      <td>226469</td>\n",
       "      <td>24942</td>\n",
       "      <td>40311</td>\n",
       "      <td>310305</td>\n",
       "      <td>374704</td>\n",
       "    </tr>\n",
       "    <tr>\n",
       "      <th>unique</th>\n",
       "      <td>159</td>\n",
       "      <td>1</td>\n",
       "      <td>1280</td>\n",
       "      <td>337076</td>\n",
       "      <td>229</td>\n",
       "      <td>321009</td>\n",
       "      <td>1652</td>\n",
       "      <td>2026</td>\n",
       "      <td>297365</td>\n",
       "      <td>25405</td>\n",
       "      <td>4549</td>\n",
       "      <td>1184</td>\n",
       "      <td>39</td>\n",
       "      <td>347</td>\n",
       "      <td>24907</td>\n",
       "      <td>2</td>\n",
       "      <td>232944</td>\n",
       "      <td>43939</td>\n",
       "    </tr>\n",
       "    <tr>\n",
       "      <th>top</th>\n",
       "      <td>for sale</td>\n",
       "      <td>Yes</td>\n",
       "      <td>single-family home</td>\n",
       "      <td>Address Not Disclosed</td>\n",
       "      <td>2 Baths</td>\n",
       "      <td>{'atAGlanceFacts': [{'factValue': '', 'factLab...</td>\n",
       "      <td>yes</td>\n",
       "      <td>Houston</td>\n",
       "      <td>[{'rating': [], 'data': {'Distance': [], 'Grad...</td>\n",
       "      <td>0</td>\n",
       "      <td>32137</td>\n",
       "      <td>3 Beds</td>\n",
       "      <td>FL</td>\n",
       "      <td>1.0</td>\n",
       "      <td>No MLS#</td>\n",
       "      <td>yes</td>\n",
       "      <td>NO MLS</td>\n",
       "      <td>$225,000</td>\n",
       "    </tr>\n",
       "    <tr>\n",
       "      <th>freq</th>\n",
       "      <td>156104</td>\n",
       "      <td>4181</td>\n",
       "      <td>92206</td>\n",
       "      <td>672</td>\n",
       "      <td>52466</td>\n",
       "      <td>7174</td>\n",
       "      <td>50356</td>\n",
       "      <td>24442</td>\n",
       "      <td>4204</td>\n",
       "      <td>11854</td>\n",
       "      <td>2141</td>\n",
       "      <td>53459</td>\n",
       "      <td>115449</td>\n",
       "      <td>67454</td>\n",
       "      <td>3</td>\n",
       "      <td>28793</td>\n",
       "      <td>24</td>\n",
       "      <td>1462</td>\n",
       "    </tr>\n",
       "  </tbody>\n",
       "</table>\n",
       "</div>"
      ],
      "text/plain": [
       "          status private pool        propertyType                 street  \\\n",
       "count     337267         4181              342452                 377183   \n",
       "unique       159            1                1280                 337076   \n",
       "top     for sale          Yes  single-family home  Address Not Disclosed   \n",
       "freq      156104         4181               92206                    672   \n",
       "\n",
       "          baths                                          homeFacts fireplace  \\\n",
       "count    270847                                             377185    103114   \n",
       "unique      229                                             321009      1652   \n",
       "top     2 Baths  {'atAGlanceFacts': [{'factValue': '', 'factLab...       yes   \n",
       "freq      52466                                               7174     50356   \n",
       "\n",
       "           city                                            schools    sqft  \\\n",
       "count    377151                                             377185  336608   \n",
       "unique     2026                                             297365   25405   \n",
       "top     Houston  [{'rating': [], 'data': {'Distance': [], 'Grad...       0   \n",
       "freq      24442                                               4204   11854   \n",
       "\n",
       "       zipcode    beds   state stories   mls-id PrivatePool   MlsId    target  \n",
       "count   377185  285903  377185  226469    24942       40311  310305    374704  \n",
       "unique    4549    1184      39     347    24907           2  232944     43939  \n",
       "top      32137  3 Beds      FL     1.0  No MLS#         yes  NO MLS  $225,000  \n",
       "freq      2141   53459  115449   67454        3       28793      24      1462  "
      ]
     },
     "execution_count": 6,
     "metadata": {},
     "output_type": "execute_result"
    }
   ],
   "source": [
    "data.describe(include=['object'])"
   ]
  },
  {
   "cell_type": "markdown",
   "metadata": {},
   "source": [
    "# Исследование отдельных признаков"
   ]
  },
  {
   "cell_type": "markdown",
   "metadata": {},
   "source": [
    "# 1. Status"
   ]
  },
  {
   "cell_type": "markdown",
   "metadata": {},
   "source": [
    "Признак содержит 159 уникальных категорий"
   ]
  },
  {
   "cell_type": "code",
   "execution_count": 7,
   "metadata": {},
   "outputs": [
    {
     "name": "stdout",
     "output_type": "stream",
     "text": [
      "Доля (%) 50-ти наиболее весомых категорий:  89.3\n"
     ]
    }
   ],
   "source": [
    "print('Доля (%) 50-ти наиболее весомых категорий: ' , round((data['status'].value_counts().nlargest(50)/len(data)*100).sum(),1))"
   ]
  },
  {
   "cell_type": "code",
   "execution_count": 8,
   "metadata": {},
   "outputs": [
    {
     "data": {
      "text/plain": [
       "status\n",
       "for sale                             156104\n",
       "Active                               105207\n",
       "For sale                              43465\n",
       "foreclosure                            6426\n",
       "New construction                       5475\n",
       "Pending                                4702\n",
       "Pre-foreclosure                        2119\n",
       "Pre-foreclosure / auction              1560\n",
       "P                                      1488\n",
       "Under Contract Show                    1183\n",
       " / auction                              936\n",
       "Under Contract   Showing                793\n",
       "Active Under Contract                   718\n",
       "New                                     690\n",
       "Under Contract                          690\n",
       "Contingent                              581\n",
       "Price Change                            563\n",
       "Auction                                 536\n",
       "Foreclosed                              459\n",
       "A Active                                443\n",
       "for rent                                398\n",
       "Foreclosure                             343\n",
       "recently sold                           287\n",
       "Under Contract Backups                  252\n",
       "Contingent Finance And Inspection       240\n",
       "Pending Continue To Show                194\n",
       "Option Pending                          110\n",
       "Back on Market                          106\n",
       "pending                                 105\n",
       "Contingent Show                         101\n",
       "Pending Taking Backups                   63\n",
       "Option Contract                          54\n",
       "Active With Offer                        49\n",
       "Pending With Contingencies               44\n",
       "C                                        39\n",
       "Active Backup                            39\n",
       "Contract P                               36\n",
       "Pi                                       36\n",
       "P Pending Sale                           35\n",
       "Listing Extended                         28\n",
       "Auction - Active                         28\n",
       "Due Diligence Period                     27\n",
       "Contract Contingent On Buyer Sale        25\n",
       "Closed                                   18\n",
       "C Continue Show                          18\n",
       "Pending - Taking Backups                 17\n",
       "Offer Pending Signature                  15\n",
       "Active/Contingent                        15\n",
       "Pending Inspection                       14\n",
       "Contingent Take Backup                   14\n",
       "Name: count, dtype: int64"
      ]
     },
     "execution_count": 8,
     "metadata": {},
     "output_type": "execute_result"
    }
   ],
   "source": [
    "data['status'].value_counts().nlargest(50)"
   ]
  },
  {
   "cell_type": "code",
   "execution_count": 9,
   "metadata": {},
   "outputs": [],
   "source": [
    "# Создаем словарь с заменами\n",
    "replacements = {\n",
    "    'foreclosed': 'foreclosure',\n",
    "    'activated': 'active',\n",
    "    'a active': 'active',\n",
    "    'pre-foreclosure / auction': 'pre-foreclosure',\n",
    "    'pre foreclosure auction': 'pre-foreclosure',\n",
    "    'under contract show': 'under Contract',\n",
    "    'under contract   showing': 'under Contract',\n",
    "    'active under contract': 'under Contract',\n",
    "    '/ auction': 'auction',\n",
    "    'auction': 'auction',\n",
    "    'auction - active': 'auction',\n",
    "    'active auction': 'auction',\n",
    "    'auction active': 'auction',\n",
    "    'under contract backups':'backup contract',\n",
    "    'active backup': 'backup contract',\n",
    "    'pending continue to show': 'active with offer',\n",
    "    'pending backup wanted': 'active with offer',\n",
    "    'pending - taking backups': 'pending take backups'\n",
    "}\n",
    "\n",
    "# Приводим значения столбца \"status\" к нижнему регистру\n",
    "data['status'] = data['status'].str.lower()\n",
    "\n",
    "# Заменяем значения в столбце \"status\" с помощью словаря замен\n",
    "data['status'].replace(replacements, inplace=True)"
   ]
  },
  {
   "cell_type": "code",
   "execution_count": 10,
   "metadata": {},
   "outputs": [
    {
     "name": "stdout",
     "output_type": "stream",
     "text": [
      "Series([], Name: count, dtype: int64)\n"
     ]
    }
   ],
   "source": [
    "unwanted_values = ['foreclosed', \n",
    "                   'activated', \n",
    "                   'a active',  \n",
    "                   'pre-foreclosure / auction', \n",
    "                   'pre foreclosure auction', \n",
    "                   'under contract show', \n",
    "                   'under contract   showing', \n",
    "                   'active under contract', \n",
    "                   '/ auction',  \n",
    "                   'auction - active', \n",
    "                   'active auction', \n",
    "                   'auction active', \n",
    "                   'under contract backups',\n",
    "                   'active backup',\n",
    "                   'pending continue to show',\n",
    "                   'pending backup wanted',\n",
    "                   'pending - taking backups'\n",
    "                   ]\n",
    "\n",
    "filtered_data = data[data['status'].isin(unwanted_values)]\n",
    "unwanted_counts = filtered_data['status'].value_counts()\n",
    "\n",
    "print(unwanted_counts)"
   ]
  },
  {
   "cell_type": "code",
   "execution_count": 11,
   "metadata": {},
   "outputs": [
    {
     "name": "stdout",
     "output_type": "stream",
     "text": [
      "Количество уникальных значений:  142\n"
     ]
    }
   ],
   "source": [
    "print('Количество уникальных значений: ', data['status'].nunique())"
   ]
  },
  {
   "cell_type": "code",
   "execution_count": 12,
   "metadata": {},
   "outputs": [
    {
     "data": {
      "text/plain": [
       "status\n",
       "for sale                             199571\n",
       "active                               105650\n",
       "foreclosure                            7228\n",
       "new construction                       5475\n",
       "pending                                4807\n",
       "pre-foreclosure                        3679\n",
       "under Contract                         2694\n",
       "p                                      1488\n",
       " / auction                              936\n",
       "under contract                          692\n",
       "new                                     690\n",
       "contingent                              581\n",
       "auction                                 564\n",
       "price change                            563\n",
       "for rent                                398\n",
       "backup contract                         297\n",
       "recently sold                           287\n",
       "contingent finance and inspection       245\n",
       "active with offer                       243\n",
       "back on market                          112\n",
       "option pending                          110\n",
       "contingent show                         101\n",
       "Name: count, dtype: int64"
      ]
     },
     "execution_count": 12,
     "metadata": {},
     "output_type": "execute_result"
    }
   ],
   "source": [
    "data['status'].value_counts().nlargest(22)"
   ]
  },
  {
   "cell_type": "code",
   "execution_count": 13,
   "metadata": {},
   "outputs": [
    {
     "name": "stdout",
     "output_type": "stream",
     "text": [
      "Доля (%) 22-x наиболее весомых категорий:  89.2\n"
     ]
    }
   ],
   "source": [
    "print('Доля (%) 22-x наиболее весомых категорий: ' , round((data['status'].value_counts().nlargest(22)/len(data)*100).sum(),1))"
   ]
  },
  {
   "cell_type": "code",
   "execution_count": 14,
   "metadata": {},
   "outputs": [
    {
     "name": "stderr",
     "output_type": "stream",
     "text": [
      "  0%|          | 0/377185 [00:00<?, ?it/s]"
     ]
    },
    {
     "name": "stderr",
     "output_type": "stream",
     "text": [
      "100%|██████████| 377185/377185 [00:00<00:00, 749813.88it/s]\n"
     ]
    }
   ],
   "source": [
    "status_list = list(data['status'].value_counts().nlargest(22).index)\n",
    "data['status'] = data['status'].progress_apply(lambda x: x if x in status_list else 'other')"
   ]
  },
  {
   "cell_type": "code",
   "execution_count": 15,
   "metadata": {},
   "outputs": [
    {
     "name": "stdout",
     "output_type": "stream",
     "text": [
      "Количество уникальных значений:  23\n"
     ]
    }
   ],
   "source": [
    "print('Количество уникальных значений: ', data['status'].nunique())"
   ]
  },
  {
   "cell_type": "markdown",
   "metadata": {},
   "source": [
    "# 2. private pool и PrivatePool "
   ]
  },
  {
   "cell_type": "code",
   "execution_count": 16,
   "metadata": {},
   "outputs": [
    {
     "name": "stdout",
     "output_type": "stream",
     "text": [
      "Количество уникальных значений в столбце 'private pool': 1\n",
      "Все уникальные значения в столбце'private pool': [nan 'Yes']\n"
     ]
    }
   ],
   "source": [
    "# выводим количество уникальных значений в столбце private pool\n",
    "print(f\"Количество уникальных значений в столбце '{'private pool'}': {data['private pool'].nunique()}\")\n",
    "\n",
    "# выводим список всех уникальных значений в столбце private pool\n",
    "unique_values = data['private pool'].unique()\n",
    "print(f\"Все уникальные значения в столбце'{'private pool'}': {unique_values}\")"
   ]
  },
  {
   "cell_type": "code",
   "execution_count": 17,
   "metadata": {},
   "outputs": [
    {
     "name": "stdout",
     "output_type": "stream",
     "text": [
      "Количество уникальных значений в столбце 'PrivatePool': 2\n",
      "Все уникальные значения в столбце 'PrivatePool': [nan 'yes' 'Yes']\n"
     ]
    }
   ],
   "source": [
    "# выводим количество уникальных значений в столбце PrivatePool\n",
    "print(f\"Количество уникальных значений в столбце '{'PrivatePool'}': {data['PrivatePool'].nunique()}\")\n",
    "\n",
    "# выводим список всех уникальных значений в столбце PrivatePool\n",
    "unique_values = data['PrivatePool'].unique()\n",
    "print(f\"Все уникальные значения в столбце '{'PrivatePool'}': {unique_values}\")"
   ]
  },
  {
   "cell_type": "code",
   "execution_count": null,
   "metadata": {},
   "outputs": [],
   "source": [
    "# создадим новый признак 'Private_pool' и заполним его нулями\n",
    "data ['Private_pool'] = 0\n",
    "# изменим значения столбца 'Private_pool' в соответствии с наличием бассейна\n",
    "for i in range (0, len(data)):\n",
    "    if data['private pool'].iloc[i] == 'Yes' or data['PrivatePool'].iloc[i] in ['yes', 'Yes']:\n",
    "        data ['Private_pool'].iloc[i] = 1"
   ]
  },
  {
   "cell_type": "code",
   "execution_count": 19,
   "metadata": {},
   "outputs": [],
   "source": [
    "#удалим исходные столбцы\n",
    "data = data.drop (['private pool','PrivatePool'], axis = 1)"
   ]
  },
  {
   "cell_type": "code",
   "execution_count": 20,
   "metadata": {},
   "outputs": [
    {
     "name": "stdout",
     "output_type": "stream",
     "text": [
      "Количество уникальных значений в столбце 'Private_pool': 2\n",
      "Все уникальные значения в столбце 'Private_pool': [0 1]\n"
     ]
    }
   ],
   "source": [
    "# выводим количество уникальных значений в новом столбце Private_pool\n",
    "print(f\"Количество уникальных значений в столбце '{'Private_pool'}': {data['Private_pool'].nunique()}\")\n",
    "\n",
    "# выводим список всех уникальных значений в столбце Private_pool\n",
    "unique_values = data['Private_pool'].unique()\n",
    "print(f\"Все уникальные значения в столбце '{'Private_pool'}': {unique_values}\")"
   ]
  },
  {
   "cell_type": "code",
   "execution_count": 21,
   "metadata": {},
   "outputs": [
    {
     "data": {
      "text/html": [
       "<div>\n",
       "<style scoped>\n",
       "    .dataframe tbody tr th:only-of-type {\n",
       "        vertical-align: middle;\n",
       "    }\n",
       "\n",
       "    .dataframe tbody tr th {\n",
       "        vertical-align: top;\n",
       "    }\n",
       "\n",
       "    .dataframe thead th {\n",
       "        text-align: right;\n",
       "    }\n",
       "</style>\n",
       "<table border=\"1\" class=\"dataframe\">\n",
       "  <thead>\n",
       "    <tr style=\"text-align: right;\">\n",
       "      <th></th>\n",
       "      <th>status</th>\n",
       "      <th>propertyType</th>\n",
       "      <th>street</th>\n",
       "      <th>baths</th>\n",
       "      <th>homeFacts</th>\n",
       "      <th>fireplace</th>\n",
       "      <th>city</th>\n",
       "      <th>schools</th>\n",
       "      <th>sqft</th>\n",
       "      <th>zipcode</th>\n",
       "      <th>beds</th>\n",
       "      <th>state</th>\n",
       "      <th>stories</th>\n",
       "      <th>mls-id</th>\n",
       "      <th>MlsId</th>\n",
       "      <th>target</th>\n",
       "      <th>Private_pool</th>\n",
       "    </tr>\n",
       "  </thead>\n",
       "  <tbody>\n",
       "    <tr>\n",
       "      <th>0</th>\n",
       "      <td>active</td>\n",
       "      <td>Single Family Home</td>\n",
       "      <td>240 Heather Ln</td>\n",
       "      <td>3.5</td>\n",
       "      <td>{'atAGlanceFacts': [{'factValue': '2019', 'fac...</td>\n",
       "      <td>Gas Logs</td>\n",
       "      <td>Southern Pines</td>\n",
       "      <td>[{'rating': ['4', '4', '7', 'NR', '4', '7', 'N...</td>\n",
       "      <td>2900</td>\n",
       "      <td>28387</td>\n",
       "      <td>4</td>\n",
       "      <td>NC</td>\n",
       "      <td>NaN</td>\n",
       "      <td>NaN</td>\n",
       "      <td>611019</td>\n",
       "      <td>$418,000</td>\n",
       "      <td>0</td>\n",
       "    </tr>\n",
       "    <tr>\n",
       "      <th>1</th>\n",
       "      <td>for sale</td>\n",
       "      <td>single-family home</td>\n",
       "      <td>12911 E Heroy Ave</td>\n",
       "      <td>3 Baths</td>\n",
       "      <td>{'atAGlanceFacts': [{'factValue': '2019', 'fac...</td>\n",
       "      <td>NaN</td>\n",
       "      <td>Spokane Valley</td>\n",
       "      <td>[{'rating': ['4/10', 'None/10', '4/10'], 'data...</td>\n",
       "      <td>1,947 sqft</td>\n",
       "      <td>99216</td>\n",
       "      <td>3 Beds</td>\n",
       "      <td>WA</td>\n",
       "      <td>2.0</td>\n",
       "      <td>NaN</td>\n",
       "      <td>201916904</td>\n",
       "      <td>$310,000</td>\n",
       "      <td>0</td>\n",
       "    </tr>\n",
       "  </tbody>\n",
       "</table>\n",
       "</div>"
      ],
      "text/plain": [
       "     status        propertyType             street    baths  \\\n",
       "0    active  Single Family Home     240 Heather Ln      3.5   \n",
       "1  for sale  single-family home  12911 E Heroy Ave  3 Baths   \n",
       "\n",
       "                                           homeFacts fireplace  \\\n",
       "0  {'atAGlanceFacts': [{'factValue': '2019', 'fac...  Gas Logs   \n",
       "1  {'atAGlanceFacts': [{'factValue': '2019', 'fac...       NaN   \n",
       "\n",
       "             city                                            schools  \\\n",
       "0  Southern Pines  [{'rating': ['4', '4', '7', 'NR', '4', '7', 'N...   \n",
       "1  Spokane Valley  [{'rating': ['4/10', 'None/10', '4/10'], 'data...   \n",
       "\n",
       "         sqft zipcode    beds state stories mls-id      MlsId    target  \\\n",
       "0        2900   28387       4    NC     NaN    NaN     611019  $418,000   \n",
       "1  1,947 sqft   99216  3 Beds    WA     2.0    NaN  201916904  $310,000   \n",
       "\n",
       "   Private_pool  \n",
       "0             0  \n",
       "1             0  "
      ]
     },
     "execution_count": 21,
     "metadata": {},
     "output_type": "execute_result"
    }
   ],
   "source": [
    "data.head(2)"
   ]
  },
  {
   "cell_type": "markdown",
   "metadata": {},
   "source": [
    "# 3. propertyType"
   ]
  },
  {
   "cell_type": "markdown",
   "metadata": {},
   "source": [
    "Признак содержит 1280 уникальных значений (категорий)."
   ]
  },
  {
   "cell_type": "code",
   "execution_count": 22,
   "metadata": {},
   "outputs": [
    {
     "name": "stdout",
     "output_type": "stream",
     "text": [
      "Доля (%) 50-ти наиболее весомых категорий:  88.3\n"
     ]
    }
   ],
   "source": [
    "print('Доля (%) 50-ти наиболее весомых категорий: ' , round((data['propertyType'].value_counts().nlargest(50)/len(data)*100).sum(),1))"
   ]
  },
  {
   "cell_type": "code",
   "execution_count": 23,
   "metadata": {},
   "outputs": [
    {
     "data": {
      "text/plain": [
       "propertyType\n",
       "single-family home                  92206\n",
       "Single Family                       62869\n",
       "Single Family Home                  31728\n",
       "condo                               25968\n",
       "lot/land                            20552\n",
       "Condo                               16561\n",
       "townhouse                           11464\n",
       "Land                                10934\n",
       "multi-family                         7900\n",
       "Condo/Townhome/Row Home/Co-Op        7701\n",
       "Townhouse                            6936\n",
       "Traditional                          5913\n",
       "coop                                 3266\n",
       "Multi Family                         2794\n",
       "High Rise                            1823\n",
       "Ranch                                1781\n",
       "mobile/manufactured                  1618\n",
       "Detached, One Story                  1614\n",
       "Single Detached, Traditional         1581\n",
       "Contemporary                         1557\n",
       "Multi-Family Home                    1501\n",
       "1 Story                              1234\n",
       "Colonial                             1205\n",
       "Mobile / Manufactured                1066\n",
       "Contemporary/Modern                  1000\n",
       "2 Stories                             911\n",
       "Mfd/Mobile Home                       792\n",
       "Single Detached                       751\n",
       "Detached, Two Story                   638\n",
       "Apartment                             609\n",
       "One Story                             592\n",
       "Transitional                          560\n",
       "Cooperative                           535\n",
       "Florida                               530\n",
       "Bungalow                              442\n",
       "Farms/Ranches                         371\n",
       "apartment                             313\n",
       "Two Story                             312\n",
       "Garden Home                           305\n",
       "2 Story                               282\n",
       "Cape Cod                              281\n",
       "2 Stories, Traditional                280\n",
       "Spanish/Mediterranean                 272\n",
       "Other Style                           249\n",
       "1 Story, Traditional                  237\n",
       "Other                                 232\n",
       "Condo/Townhome, Traditional           225\n",
       "SingleFamilyResidence                 220\n",
       "Craftsman                             201\n",
       "Contemporary/Modern, Traditional      200\n",
       "Name: count, dtype: int64"
      ]
     },
     "execution_count": 23,
     "metadata": {},
     "output_type": "execute_result"
    }
   ],
   "source": [
    "data['propertyType'].value_counts().nlargest(50)"
   ]
  },
  {
   "cell_type": "markdown",
   "metadata": {},
   "source": [
    "Исправим некоторые дублирования"
   ]
  },
  {
   "cell_type": "code",
   "execution_count": 24,
   "metadata": {},
   "outputs": [],
   "source": [
    "# Создаем словарь с заменами\n",
    "replacements_1 = {\n",
    "    'mobile': 'manufactured home (house)',\n",
    "    'prefab': 'manufactured home (house)',\n",
    "    'modular': 'manufactured home (house)',\n",
    "    'mo2 le': 'manufactured home (house)',\n",
    "    'mo2le': 'manufactured home (house)',\n",
    "    'mobile/manufactured': 'manufactured home (house)',\n",
    "    'mobile / manufactured': 'manufactured home (house)',\n",
    "    'mfd/mobile home': 'manufactured home (house)',\n",
    "    'condo/townhome': 'manufactured home (house)',\n",
    "    'contemporary/modern': 'manufactured home (house)',\n",
    "    'condo': 'manufactured home (house)',\n",
    "    'ca2 n': 'cabin',\n",
    "    'ca2n': 'cabin',\n",
    "    '2 stories': 'two story',\n",
    "    '2 story': 'two story',\n",
    "    '2 stories, traditional': 'two story',\n",
    "    'farms/ranches': 'ranch',\n",
    "    'ranch, traditional': 'ranch',\n",
    "    'mid century': 'midcentury',\n",
    "    'mid-century': 'midcentury',\n",
    "    'lot/land': 'land',\n",
    "    'multi-family': 'multi family',\n",
    "    'multi-family home': 'multi family',\n",
    "    'multiple occupancy': 'multi family',\n",
    "    'single family home': 'single family', \n",
    "    'detached, one story': 'single family',\n",
    "    'single detached': 'single family',\n",
    "    'two story': 'single family',\n",
    "    'single detached, contemporary/modern': 'single family',\n",
    "    'single detached, traditional': 'single family',\n",
    "    'singlefamilyresidence': 'single family',\n",
    "    'single-family home': 'single family',\n",
    "    '1 story': 'one story ',\n",
    "    '1 story, traditional': 'one story ',\n",
    "    'traditional, transitional': 'traditional',\n",
    "}\n",
    "\n",
    "# Приводим значения столбца \"propertyType\" к нижнему регистру\n",
    "data['propertyType'] = data['propertyType'].str.lower()\n",
    "\n",
    "# Заменяем значения в столбце \"propertyType\" с помощью словаря замен\n",
    "data['propertyType'].replace(replacements_1, inplace=True)"
   ]
  },
  {
   "cell_type": "markdown",
   "metadata": {},
   "source": [
    "Проверяем отсутствие убранных дублирований"
   ]
  },
  {
   "cell_type": "code",
   "execution_count": 25,
   "metadata": {},
   "outputs": [
    {
     "name": "stdout",
     "output_type": "stream",
     "text": [
      "Series([], Name: count, dtype: int64)\n"
     ]
    }
   ],
   "source": [
    "unwanted_values = ['mobile', \n",
    "                   'prefab', \n",
    "                   'modular', \n",
    "                   'mo2 le', \n",
    "                   'mo2le', \n",
    "                   'mobile/manufactured', \n",
    "                   'mobile / manufactured', \n",
    "                   'mfd/mobile home', \n",
    "                   'condo/townhome', \n",
    "                   'contemporary/modern', \n",
    "                   'condo', \n",
    "                   'ca2 n', \n",
    "                   'ca2n', \n",
    "                   '2 stories', \n",
    "                   '2 story', \n",
    "                   '2 stories, traditional', \n",
    "                   'farms/ranches', \n",
    "                   'mid century', \n",
    "                   'mid-century', \n",
    "                   'lot/land', \n",
    "                   'multi-family', \n",
    "                   'multi-family home',\n",
    "                   'multiple occupancy', \n",
    "                   'single family home', \n",
    "                   'detached, one story', \n",
    "                   'single detached', \n",
    "                   'single detached, contemporary/modern', \n",
    "                   'single detached, traditional', \n",
    "                   'singlefamilyresidence',\n",
    "                   'ranch, traditional',\n",
    "                   '1 story',\n",
    "                   '1 story, traditional',\n",
    "                   'traditional, transitional',\n",
    "                   'single-family home']\n",
    "\n",
    "filtered_data = data[data['propertyType'].isin(unwanted_values)]\n",
    "unwanted_counts = filtered_data['propertyType'].value_counts()\n",
    "\n",
    "print(unwanted_counts)"
   ]
  },
  {
   "cell_type": "code",
   "execution_count": 26,
   "metadata": {},
   "outputs": [
    {
     "name": "stdout",
     "output_type": "stream",
     "text": [
      "Количество уникальных значений:  1249\n"
     ]
    }
   ],
   "source": [
    "print('Количество уникальных значений: ', data['propertyType'].nunique())"
   ]
  },
  {
   "cell_type": "code",
   "execution_count": 27,
   "metadata": {},
   "outputs": [
    {
     "data": {
      "text/plain": [
       "propertyType\n",
       "single family                               191457\n",
       "manufactured home (house)                    47188\n",
       "land                                         31486\n",
       "townhouse                                    18400\n",
       "multi family                                 12374\n",
       "condo/townhome/row home/co-op                 7701\n",
       "traditional                                   6039\n",
       "coop                                          3266\n",
       "ranch                                         2285\n",
       "high rise                                     1823\n",
       "contemporary                                  1557\n",
       "two story                                     1473\n",
       "one story                                     1472\n",
       "colonial                                      1205\n",
       "apartment                                      922\n",
       "detached, two story                            638\n",
       "one story                                      592\n",
       "transitional                                   560\n",
       "cooperative                                    535\n",
       "florida                                        530\n",
       "bungalow                                       442\n",
       "garden home                                    305\n",
       "cape cod                                       281\n",
       "spanish/mediterranean                          272\n",
       "other style                                    249\n",
       "other                                          232\n",
       "condo/townhome, traditional                    225\n",
       "craftsman                                      201\n",
       "contemporary/modern, traditional               200\n",
       "condo/townhome, contemporary/modern            180\n",
       "mediterranean                                  130\n",
       "2 stories, contemporary                        128\n",
       "                                               124\n",
       "custom                                         119\n",
       "cluster home                                   118\n",
       "federal                                        116\n",
       "urban contemporary                             113\n",
       "split-level                                    110\n",
       "victorian                                      102\n",
       "other (see remarks)                            101\n",
       "condominium (single level), contemporary       101\n",
       "condominium (single level)                      99\n",
       "1 story, contemporary                           96\n",
       "miscellaneous                                   96\n",
       "residential (<1 acre)                           95\n",
       "single detached, ranch                          91\n",
       "low-rise (1-3 stories)                          90\n",
       "ranch, one story                                86\n",
       "detached, ranch, one story                      81\n",
       "detached                                        81\n",
       "Name: count, dtype: int64"
      ]
     },
     "execution_count": 27,
     "metadata": {},
     "output_type": "execute_result"
    }
   ],
   "source": [
    "data['propertyType'].value_counts().nlargest(50)"
   ]
  },
  {
   "cell_type": "code",
   "execution_count": 28,
   "metadata": {},
   "outputs": [
    {
     "name": "stdout",
     "output_type": "stream",
     "text": [
      "Доля (%) 43-x наиболее весомых категорий:  89.0\n"
     ]
    }
   ],
   "source": [
    "print('Доля (%) 43-x наиболее весомых категорий: ' , round((data['propertyType'].value_counts().nlargest(43)/len(data)*100).sum(),1))"
   ]
  },
  {
   "cell_type": "markdown",
   "metadata": {},
   "source": [
    "После 43-й категории вклад остальных категорий незначителен. Заменим их на 'other'\n"
   ]
  },
  {
   "cell_type": "code",
   "execution_count": 29,
   "metadata": {},
   "outputs": [
    {
     "name": "stderr",
     "output_type": "stream",
     "text": [
      "  0%|          | 0/377185 [00:00<?, ?it/s]"
     ]
    },
    {
     "name": "stderr",
     "output_type": "stream",
     "text": [
      "100%|██████████| 377185/377185 [00:00<00:00, 643615.41it/s]\n"
     ]
    }
   ],
   "source": [
    "propertyType_list = list(data['propertyType'].value_counts().nlargest(43).index)\n",
    "data['propertyType'] = data['propertyType'].progress_apply(lambda x: x if x in propertyType_list else 'other')"
   ]
  },
  {
   "cell_type": "code",
   "execution_count": 30,
   "metadata": {},
   "outputs": [
    {
     "name": "stdout",
     "output_type": "stream",
     "text": [
      "Количество уникальных значений:  43\n"
     ]
    }
   ],
   "source": [
    "print('Количество уникальных значений: ', data['propertyType'].nunique())"
   ]
  },
  {
   "cell_type": "markdown",
   "metadata": {},
   "source": [
    "# 4. baths"
   ]
  },
  {
   "cell_type": "markdown",
   "metadata": {},
   "source": [
    "Данный признак имеет тип object, хотя должен быть числовым. Посмотрим первые 15 уникальных значений."
   ]
  },
  {
   "cell_type": "code",
   "execution_count": 31,
   "metadata": {},
   "outputs": [
    {
     "data": {
      "text/plain": [
       "array(['3.5', '3 Baths', '2 Baths', '8 Baths', nan, '2', '3',\n",
       "       'Bathrooms: 2', '1,750', '4 Baths', '2 ba', 'Bathrooms: 5',\n",
       "       '1,000', '7 Baths', '2.0'], dtype=object)"
      ]
     },
     "execution_count": 31,
     "metadata": {},
     "output_type": "execute_result"
    }
   ],
   "source": [
    "data['baths'].unique()[:15]"
   ]
  },
  {
   "cell_type": "markdown",
   "metadata": {},
   "source": [
    "Преобразуем строковое представление числа в числовое значение. Если переданная строка не содержит числовых значений, возвратим NaN."
   ]
  },
  {
   "cell_type": "code",
   "execution_count": 32,
   "metadata": {},
   "outputs": [],
   "source": [
    "def get_int(x):\n",
    "    x = str(x)\n",
    "    if '/' in x:\n",
    "        s = x.split('/')\n",
    "        if '0' in s[0]:\n",
    "            b = 0\n",
    "        else:\n",
    "            b = len(s)\n",
    "    else: \n",
    "        a = re.findall(r\"[-+]?(?:\\d*\\.*\\d+)\", x.replace(',', '.'))\n",
    "        if re.findall(\"\\d+\", x) != []:\n",
    "            b = float(a[0])\n",
    "            return b\n",
    "        else:\n",
    "            return np.nan"
   ]
  },
  {
   "cell_type": "markdown",
   "metadata": {},
   "source": [
    "Добавим новый столбец 'baths' в объект данных 'data' со значениями, полученными из применения функции 'get_int' к столбцу 'baths'."
   ]
  },
  {
   "cell_type": "code",
   "execution_count": 33,
   "metadata": {},
   "outputs": [
    {
     "name": "stderr",
     "output_type": "stream",
     "text": [
      "100%|██████████| 377185/377185 [00:01<00:00, 190965.53it/s]\n"
     ]
    }
   ],
   "source": [
    "data['baths'] = data['baths'].progress_apply(get_int)"
   ]
  },
  {
   "cell_type": "markdown",
   "metadata": {},
   "source": [
    "# 5. homeFacts"
   ]
  },
  {
   "cell_type": "markdown",
   "metadata": {},
   "source": [
    "Посмотрим, что из себя представляет данный признак"
   ]
  },
  {
   "cell_type": "code",
   "execution_count": 34,
   "metadata": {},
   "outputs": [
    {
     "data": {
      "text/plain": [
       "\"{'atAGlanceFacts': [{'factValue': '2019', 'factLabel': 'Year built'}, {'factValue': '', 'factLabel': 'Remodeled year'}, {'factValue': 'Central A/C, Heat Pump', 'factLabel': 'Heating'}, {'factValue': '', 'factLabel': 'Cooling'}, {'factValue': '', 'factLabel': 'Parking'}, {'factValue': None, 'factLabel': 'lotsize'}, {'factValue': '$144', 'factLabel': 'Price/sqft'}]}\""
      ]
     },
     "execution_count": 34,
     "metadata": {},
     "output_type": "execute_result"
    }
   ],
   "source": [
    "data['homeFacts'][0]"
   ]
  },
  {
   "cell_type": "markdown",
   "metadata": {},
   "source": [
    "Разобьем строку на отдельные словари"
   ]
  },
  {
   "cell_type": "code",
   "execution_count": 35,
   "metadata": {},
   "outputs": [
    {
     "name": "stdout",
     "output_type": "stream",
     "text": [
      "{'factValue': '2019', 'factLabel': 'Year built'}\n",
      "{'factValue': '', 'factLabel': 'Remodeled year'}\n",
      "{'factValue': 'Central A/C, Heat Pump', 'factLabel': 'Heating'}\n",
      "{'factValue': '', 'factLabel': 'Cooling'}\n",
      "{'factValue': '', 'factLabel': 'Parking'}\n",
      "{'factValue': None, 'factLabel': 'lotsize'}\n",
      "{'factValue': '$144', 'factLabel': 'Price/sqft'}\n",
      "[{'factValue': '2019', 'factLabel': 'Year built'}, {'factValue': '', 'factLabel': 'Remodeled year'}, {'factValue': 'Central A/C, Heat Pump', 'factLabel': 'Heating'}, {'factValue': '', 'factLabel': 'Cooling'}, {'factValue': '', 'factLabel': 'Parking'}, {'factValue': None, 'factLabel': 'lotsize'}, {'factValue': '$144', 'factLabel': 'Price/sqft'}]\n"
     ]
    }
   ],
   "source": [
    "facts = ast.literal_eval(data['homeFacts'][0])['atAGlanceFacts']\n",
    "for fact in facts:\n",
    "    print (fact)\n",
    "print (facts)"
   ]
  },
  {
   "cell_type": "markdown",
   "metadata": {},
   "source": [
    "Создадим 7 новых признаков"
   ]
  },
  {
   "cell_type": "code",
   "execution_count": 36,
   "metadata": {},
   "outputs": [],
   "source": [
    "feature_list = ['Cooling','lotsize','Parking','Heating', 'Year built','Remodeled year','Price/sqft']"
   ]
  },
  {
   "cell_type": "code",
   "execution_count": 37,
   "metadata": {},
   "outputs": [],
   "source": [
    "#Создадим новые столбцы с именами, указанным в списке \"feature_list\", и заполним все ячейки этого столбца значением np.nan.\n",
    "for f in feature_list:\n",
    "    data[f] = np.nan"
   ]
  },
  {
   "cell_type": "code",
   "execution_count": null,
   "metadata": {},
   "outputs": [],
   "source": [
    "#Заполним значениями соответствующие столбцы\n",
    "for i in range (0, len(data)):\n",
    "    facts = ast.literal_eval(data['homeFacts'][i])['atAGlanceFacts']\n",
    "    for fact in facts:\n",
    "        data[fact['factLabel']].iloc[i] = fact['factValue']"
   ]
  },
  {
   "cell_type": "markdown",
   "metadata": {},
   "source": [
    "Преобразуем новые признаки"
   ]
  },
  {
   "cell_type": "markdown",
   "metadata": {},
   "source": [
    "# 5.1 Cooling"
   ]
  },
  {
   "cell_type": "code",
   "execution_count": 39,
   "metadata": {},
   "outputs": [
    {
     "name": "stdout",
     "output_type": "stream",
     "text": [
      "Доля (%) 15-ти наиболее весомых категорий:  92.1\n"
     ]
    }
   ],
   "source": [
    "print('Доля (%) 15-ти наиболее весомых категорий: ' , round((data['Cooling'].value_counts().nlargest(15)/len(data)*100).sum(),1))"
   ]
  },
  {
   "cell_type": "code",
   "execution_count": 40,
   "metadata": {},
   "outputs": [
    {
     "data": {
      "text/plain": [
       "Cooling\n",
       "Central                                            158754\n",
       "                                                   120434\n",
       "Central Air                                         14384\n",
       "No Data                                             10616\n",
       "Has Cooling                                          9730\n",
       "None                                                 7390\n",
       "Central Electric                                     6154\n",
       "Wall                                                 4018\n",
       "Central Gas                                          3573\n",
       "Central Heating                                      2807\n",
       "Cooling System                                       2700\n",
       "Central A/C                                          2051\n",
       "Other                                                1840\n",
       "Central A/C (Electric), Central Heat (Gas)           1646\n",
       "Central A/C (Electric), Central Heat (Electric)      1429\n",
       "Name: count, dtype: int64"
      ]
     },
     "execution_count": 40,
     "metadata": {},
     "output_type": "execute_result"
    }
   ],
   "source": [
    "data['Cooling'].value_counts().nlargest(15)"
   ]
  },
  {
   "cell_type": "markdown",
   "metadata": {},
   "source": [
    "Найдем синонимы"
   ]
  },
  {
   "cell_type": "code",
   "execution_count": 41,
   "metadata": {},
   "outputs": [
    {
     "name": "stdout",
     "output_type": "stream",
     "text": [
      "Synonyms for '': ['', '1', '2', '3', '5', '4']\n",
      "Synonyms for 'central air': ['Central Air', 'Central Air,']\n",
      "Synonyms for 'central a/c': ['Central A/C', 'Central AC']\n",
      "Synonyms for 'central electric': ['Central Electric', 'Central, Electric', 'Central-Electric']\n",
      "Synonyms for 'none': ['None', None]\n",
      "Synonyms for 'ceiling fan, central electric': ['Ceiling Fan, Central Electric', 'Ceiling Fan, Central, Electric', 'Ceiling Fans, Central Electric']\n",
      "Synonyms for 'yes': ['Yes', 'YES']\n",
      "Synonyms for 'cooling system': ['Cooling System', 'Cooling System:']\n",
      "Synonyms for 'None': ['None', None]\n",
      "Synonyms for 'gas heating': ['Gas Heating', 'Has Heating']\n",
      "Synonyms for 'window unit(s)': ['Window Unit(s)', 'Window Unit(S)']\n",
      "Synonyms for 'central, electric': ['Central Electric', 'Central, Electric']\n",
      "Synonyms for 'ceiling fan, central electric, heat pump': ['Ceiling Fan, Central Electric, Heat Pump', 'Ceiling Fans, Central Electric, Heat Pump']\n",
      "Synonyms for 'has heating': ['Gas Heating', 'Has Heating']\n",
      "Synonyms for 'wall unit(s)': ['Wall Unit(s)', 'Wall Unit(S)']\n",
      "Synonyms for 'central air, multizone a/c': ['Central Air, Multizone A/C', 'Central Air, Multi-Zone A/C']\n",
      "Synonyms for 'ceiling fan': ['Ceiling Fan', 'Ceiling Fans']\n",
      "Synonyms for 'window': ['Window', 'WINDOW']\n",
      "Synonyms for '1': ['', '1', '2', '3', '5', '4']\n",
      "Synonyms for 'gas': ['Gas', 'gas']\n",
      "Synonyms for 'ceiling fan, central, electric': ['Ceiling Fan, Central Electric', 'Ceiling Fan, Central, Electric']\n",
      "Synonyms for 'central electric, heat pump': ['Central Electric, Heat Pump', 'Central, Electric, Heat Pump', 'Central Electric Heat Pump']\n",
      "Synonyms for 'multizone a/c': ['Multizone A/C', 'Multi-Zone A/C']\n",
      "Synonyms for '2': ['', '1', '2', '3', '5', '4']\n",
      "Synonyms for 'cooling system:': ['Cooling System', 'Cooling System:']\n",
      "Synonyms for 'window units': ['Window Units', 'Window Unit']\n",
      "Synonyms for 'central ac': ['Central A/C', 'Central AC']\n",
      "Synonyms for 'ceiling fans, central electric': ['Ceiling Fan, Central Electric', 'Ceiling Fans, Central Electric']\n",
      "Synonyms for 'window unit': ['Window Units', 'Window Unit']\n",
      "Synonyms for 'incl': ['incl', 'inc', 'Inc', 'Incl']\n",
      "Synonyms for 'ceiling fans, central cooling': ['Ceiling Fans, Central Cooling', 'Ceiling Fan, Central Cooling']\n",
      "Synonyms for 'central gas, window unit': ['Central Gas, Window Unit', 'Central Gas, Window Units']\n",
      "Synonyms for 'inc': ['incl', 'inc', 'Inc', 'Incl']\n",
      "Synonyms for '3': ['', '1', '2', '3', '5', '4']\n",
      "Synonyms for 'central electric, window units': ['Central Electric, Window Units', 'Central Electric, Window Unit']\n",
      "Synonyms for 'heat pump, zoned': ['Heat Pump, Zoned', 'Heat Pump, Zone']\n",
      "Synonyms for 'wall unit': ['Wall Unit', 'Wall Units']\n",
      "Synonyms for 'ceiling fans, central electric, heat pump': ['Ceiling Fan, Central Electric, Heat Pump', 'Ceiling Fans, Central Electric, Heat Pump']\n",
      "Synonyms for 'heat pump, electric': ['Heat Pump, Electric', 'Heat Pump,Electric']\n",
      "Synonyms for 'ceiling fan, central electric, zoned': ['Ceiling Fan, Central Electric, Zoned', 'Ceiling Fans, Central Electric, Zoned']\n",
      "Synonyms for 'central electric, window unit': ['Central Electric, Window Units', 'Central Electric, Window Unit', 'Central, Electric, Window Unit']\n",
      "Synonyms for '5': ['', '1', '2', '3', '5', '4']\n",
      "Synonyms for 'ceiling fans': ['Ceiling Fan', 'Ceiling Fans']\n",
      "Synonyms for 'multi-zone a/c': ['Multizone A/C', 'Multi-Zone A/C']\n",
      "Synonyms for 'window a/c': ['Window A/C', 'Window AC']\n",
      "Synonyms for 'central air, multi-zone a/c': ['Central Air, Multizone A/C', 'Central Air, Multi-Zone A/C']\n",
      "Synonyms for 'wall units': ['Wall Unit', 'Wall Units']\n",
      "Synonyms for 'central electric, wall unit': ['Central Electric, Wall Unit', 'Central Electric, Wall Units']\n",
      "Synonyms for 'ceiling fans, central electric, zoned': ['Ceiling Fan, Central Electric, Zoned', 'Ceiling Fans, Central Electric, Zoned']\n",
      "Synonyms for 'central air,': ['Central Air', 'Central Air,', 'Central Air, ']\n",
      "Synonyms for 'ceiling fan, central cooling': ['Ceiling Fans, Central Cooling', 'Ceiling Fan, Central Cooling']\n",
      "Synonyms for 'central, electric heat pump': ['Central, Electric Heat Pump', 'Central, Electric, Heat Pump', 'Central Electric Heat Pump']\n",
      "Synonyms for '2 air conditioners': ['2 Air Conditioners', '3 Air Conditioners']\n",
      "Synonyms for 'central electric, geothermal': ['Central Electric, Geothermal', 'Central, Electric, Geothermal']\n",
      "Synonyms for '1 (window/wall unit)': ['1 (Window/Wall Unit)', '2 (Window/Wall Unit)']\n",
      "Synonyms for 'central, electric, heat pump': ['Central Electric, Heat Pump', 'Central, Electric Heat Pump', 'Central, Electric, Heat Pump']\n",
      "Synonyms for 'central-electric': ['Central Electric', 'Central-Electric']\n",
      "Synonyms for '4': ['', '1', '2', '3', '5', '4']\n",
      "Synonyms for '2 (window/wall unit)': ['1 (Window/Wall Unit)', '2 (Window/Wall Unit)']\n",
      "Synonyms for 'central, electric, window unit': ['Central Electric, Window Unit', 'Central, Electric, Window Unit']\n",
      "Synonyms for 'central, wall units': ['Central, Wall Units', 'Central, Wall Unit']\n",
      "Synonyms for 'heat pump, zone': ['Heat Pump, Zoned', 'Heat Pump, Zone']\n",
      "Synonyms for 'central gas, window units': ['Central Gas, Window Unit', 'Central Gas, Window Units']\n",
      "Synonyms for 'central electric heat pump': ['Central Electric, Heat Pump', 'Central, Electric Heat Pump', 'Central Electric Heat Pump']\n",
      "Synonyms for 'heat pump,electric': ['Heat Pump, Electric', 'Heat Pump,Electric']\n",
      "Synonyms for '3 air conditioners': ['2 Air Conditioners', '3 Air Conditioners']\n",
      "Synonyms for 'central air, ': ['Central Air,', 'Central Air, ']\n",
      "Synonyms for 'central, wall unit': ['Central, Wall Units', 'Central, Wall Unit']\n",
      "Synonyms for 'window ac': ['Window A/C', 'Window AC']\n",
      "Synonyms for 'central electric, wall units': ['Central Electric, Wall Unit', 'Central Electric, Wall Units']\n",
      "Synonyms for 'central, electric, geothermal': ['Central Electric, Geothermal', 'Central, Electric, Geothermal']\n"
     ]
    }
   ],
   "source": [
    "\n",
    "\n",
    "# создаем список всех уникальных значений в столбце\n",
    "unique_values = data['Cooling'].unique()\n",
    "\n",
    "# создаем список всех уникальных значений в столбце, приведенных к нижнему регистру\n",
    "lowercase_values = [str(value).lower() if isinstance(value, str) else str(value) for value in unique_values]\n",
    "\n",
    "# создаем словарь синонимов (ключ - это нормализованное значение, значение - это список всех значений, которые считаются синонимами)\n",
    "synonyms_dict = {}\n",
    "\n",
    "for value in unique_values:\n",
    "    # нормализуем текущее значение\n",
    "    normalized_value = str(value).lower() if isinstance(value, str) else str(value)\n",
    "\n",
    "    # ищем все значения, которые считаются синонимами для текущего значения\n",
    "    synonyms = [v for v in unique_values if distance(str(v).lower() if isinstance(v, str) else str(v), normalized_value) <= 1]\n",
    "\n",
    "    # добавляем текущее значение и его синонимы в словарь\n",
    "    synonyms_dict[normalized_value] = synonyms\n",
    "\n",
    "# выводим все найденные синонимы\n",
    "for key, value in synonyms_dict.items():\n",
    "    if len(value) > 1:\n",
    "        print(f\"Synonyms for '{key}': {value}\")"
   ]
  },
  {
   "cell_type": "code",
   "execution_count": 42,
   "metadata": {},
   "outputs": [],
   "source": [
    "# Создаем словарь с заменами\n",
    "replacements_Сooling = {\n",
    "    'central air,': 'central air',\n",
    "    'cooling system:': 'cooling system',\n",
    "    'has cooling': 'cooling system',\n",
    "    'central, electric': 'central electric',\n",
    "    'central-electric': 'central electric',\n",
    "    'central ac': 'central a/c',\n",
    "    '': None,\n",
    "    'no data': None,\n",
    "    'none': None\n",
    "    }\n",
    "\n",
    "# Приводим значения столбца \"status\" к нижнему регистру\n",
    "data['Cooling'] = data['Cooling'].str.lower()\n",
    "\n",
    "# Заменяем значения в столбце \"status\" с помощью словаря замен\n",
    "data['Cooling'].replace(replacements_Сooling, inplace=True)"
   ]
  },
  {
   "cell_type": "code",
   "execution_count": 43,
   "metadata": {},
   "outputs": [
    {
     "name": "stdout",
     "output_type": "stream",
     "text": [
      "Series([], Name: count, dtype: int64)\n"
     ]
    }
   ],
   "source": [
    "unwanted_values_Cooling = ['central air,', \n",
    "                   'cooling system:', \n",
    "                   'has cooling',  \n",
    "                   'central, electric', \n",
    "                   'central-electric', \n",
    "                   'central ac', \n",
    "                   'no data', \n",
    "                   'none', \n",
    "                   '',  \n",
    "                   ]\n",
    "\n",
    "filtered_data = data[data['Cooling'].isin(unwanted_values_Cooling)]\n",
    "unwanted_counts = filtered_data['Cooling'].value_counts()\n",
    "\n",
    "print(unwanted_counts)"
   ]
  },
  {
   "cell_type": "code",
   "execution_count": 44,
   "metadata": {},
   "outputs": [
    {
     "name": "stderr",
     "output_type": "stream",
     "text": [
      "  0%|          | 0/377185 [00:00<?, ?it/s]"
     ]
    },
    {
     "name": "stderr",
     "output_type": "stream",
     "text": [
      "100%|██████████| 377185/377185 [00:00<00:00, 644713.08it/s]\n"
     ]
    }
   ],
   "source": [
    "Cooling_list = list(data['Cooling'].value_counts().nlargest(15).index)\n",
    "data['Cooling'] = data['Cooling'].progress_apply(lambda x: x if x in Cooling_list else 'other')"
   ]
  },
  {
   "cell_type": "code",
   "execution_count": 45,
   "metadata": {},
   "outputs": [
    {
     "name": "stdout",
     "output_type": "stream",
     "text": [
      "Количество уникальных значений:  15\n"
     ]
    }
   ],
   "source": [
    "print('Количество уникальных значений: ', data['Cooling'].nunique())"
   ]
  },
  {
   "cell_type": "markdown",
   "metadata": {},
   "source": [
    "# 5.2 lotsize"
   ]
  },
  {
   "cell_type": "code",
   "execution_count": 46,
   "metadata": {},
   "outputs": [
    {
     "data": {
      "text/plain": [
       "array([nan, '5828 sqft', '8,626 sqft', '8,220 sqft', '10,019 sqft',\n",
       "       '680 sqft', '4,996 Sq. Ft.', '8,750 Sq. Ft.', '124582',\n",
       "       '2,056 sqft', '1.73 acres', '5,715 Sq. Ft.', '10,270 sqft',\n",
       "       '7,000 sqft lot', '2,130 sqft'], dtype=object)"
      ]
     },
     "execution_count": 46,
     "metadata": {},
     "output_type": "execute_result"
    }
   ],
   "source": [
    "data['lotsize'].unique()[:15]"
   ]
  },
  {
   "cell_type": "markdown",
   "metadata": {},
   "source": [
    "Используем функцию для извлечения числа"
   ]
  },
  {
   "cell_type": "code",
   "execution_count": 47,
   "metadata": {},
   "outputs": [],
   "source": [
    "def square(x):\n",
    "    if type(x) == str:\n",
    "        a = re.findall(r\"[-+]?(?:\\d*\\.*\\d+)\", x.replace(',', ''))\n",
    "        if re.findall(\"\\d+\", x) != []:\n",
    "            b = float(a[0])\n",
    "            if 'cres' in x:\n",
    "                b = b*43560.04\n",
    "            return b\n",
    "        else:\n",
    "            return np.nan\n",
    "    else:\n",
    "        return np.nan"
   ]
  },
  {
   "cell_type": "code",
   "execution_count": 48,
   "metadata": {},
   "outputs": [
    {
     "name": "stderr",
     "output_type": "stream",
     "text": [
      "100%|██████████| 377185/377185 [00:02<00:00, 168822.32it/s]\n"
     ]
    }
   ],
   "source": [
    "data['lotsize'] = data['lotsize'].progress_apply(square) "
   ]
  },
  {
   "cell_type": "markdown",
   "metadata": {},
   "source": [
    "# 5.3 Parking"
   ]
  },
  {
   "cell_type": "code",
   "execution_count": 49,
   "metadata": {},
   "outputs": [
    {
     "data": {
      "text/plain": [
       "array(['', 'Attached Garage', 'Detached Garage',\n",
       "       'Carport, Attached Garage', '2 spaces', '4 spaces', 'Off Street',\n",
       "       'None', '0', '1 space', 'No Data', 'Carport', '2', '3 spaces',\n",
       "       'Double Wide Drive, Oversized Drive'], dtype=object)"
      ]
     },
     "execution_count": 49,
     "metadata": {},
     "output_type": "execute_result"
    }
   ],
   "source": [
    "data['Parking'].unique()[:15]"
   ]
  },
  {
   "cell_type": "code",
   "execution_count": 50,
   "metadata": {},
   "outputs": [
    {
     "name": "stdout",
     "output_type": "stream",
     "text": [
      "Количество уникальных значений:  3346\n"
     ]
    }
   ],
   "source": [
    "print('Количество уникальных значений: ', data['Parking'].nunique())"
   ]
  },
  {
   "cell_type": "code",
   "execution_count": 51,
   "metadata": {},
   "outputs": [
    {
     "name": "stdout",
     "output_type": "stream",
     "text": [
      "Доля (%) 15-ти наиболее весомых категорий:  91.0\n"
     ]
    }
   ],
   "source": [
    "print('Доля (%) 15-ти наиболее весомых категорий: ' , round((data['Parking'].value_counts().nlargest(15)/len(data)*100).sum(),1))"
   ]
  },
  {
   "cell_type": "code",
   "execution_count": 52,
   "metadata": {},
   "outputs": [
    {
     "data": {
      "text/plain": [
       "Parking\n",
       "                            171887\n",
       "Attached Garage              70752\n",
       "2 spaces                     28063\n",
       "1 space                      14252\n",
       "No Data                      13334\n",
       "Detached Garage              13201\n",
       "Carport                       7743\n",
       "3 spaces                      4724\n",
       "Off Street                    3622\n",
       "Carport, Attached Garage      3025\n",
       "1                             2936\n",
       "4 spaces                      2917\n",
       "2                             2756\n",
       "None                          2366\n",
       "Off street                    1657\n",
       "Name: count, dtype: int64"
      ]
     },
     "execution_count": 52,
     "metadata": {},
     "output_type": "execute_result"
    }
   ],
   "source": [
    "data['Parking'].value_counts().nlargest(15)"
   ]
  },
  {
   "cell_type": "code",
   "execution_count": 53,
   "metadata": {},
   "outputs": [
    {
     "name": "stdout",
     "output_type": "stream",
     "text": [
      "Synonyms for '': ['', '0', '2', '1', '7', '4', '3', '6', '5', '8', '9']\n",
      "Synonyms for 'attached garage': ['Attached Garage', 'Attached, Garage']\n",
      "Synonyms for '2 spaces': ['2 spaces', '4 spaces', '3 spaces', '7 spaces', '6 spaces', '8 spaces', '5 spaces', '9 spaces', '12 spaces', '20 spaces', '2+ Spaces', '28 spaces', '32 spaces', '22 spaces', '82 spaces', '24 spaces', '25 spaces', '27 spaces', '29 spaces', '42 spaces', '21 spaces', '23 spaces']\n",
      "Synonyms for '4 spaces': ['2 spaces', '4 spaces', '3 spaces', '7 spaces', '6 spaces', '8 spaces', '5 spaces', '9 spaces', '14 spaces', '40 spaces', '24 spaces', '44 spaces', '42 spaces', '41 spaces', '43 spaces', '47 spaces']\n",
      "Synonyms for 'off street': ['Off Street', 'Off street']\n",
      "Synonyms for 'none': ['None', None, 'none']\n",
      "Synonyms for '0': ['', '0', '2', '1', '10', '7', '4', '3', '6', '5', '8', '9', '20', '60', '30', '40', '50']\n",
      "Synonyms for 'carport': ['Carport', '-Carport']\n",
      "Synonyms for '2': ['', '0', '2', '1', '7', '4', '3', '6', '5', '8', '9', '20', '32', '27', '22', '12', '42', '24', '26', '21', '28', '23', '25']\n",
      "Synonyms for '3 spaces': ['2 spaces', '4 spaces', '3 spaces', '7 spaces', '6 spaces', '8 spaces', '5 spaces', '9 spaces', '30 spaces', '93 spaces', '32 spaces', '13 spaces', '37 spaces', '36 spaces', '73 spaces', '35 spaces', '23 spaces', '43 spaces']\n",
      "Synonyms for '1': ['', '0', '2', '1', '10', '7', '4', '3', '6', '5', '8', '16', '9', '11', '17', '12', '14', '15', '18', '13', '21', '51']\n",
      "Synonyms for '10': ['0', '1', '10', '16', '20', '60', '11', '100', '17', '12', '30', '40', '14', '15', '140', '18', '150', '110', '13', '50', '120']\n",
      "Synonyms for '7': ['', '0', '2', '1', '7', '4', '3', '6', '5', '8', '9', '27', '17', '75']\n",
      "Synonyms for 'detached parking': ['Detached parking', 'Detached Parking']\n",
      "Synonyms for '7 spaces': ['2 spaces', '4 spaces', '3 spaces', '7 spaces', '6 spaces', '8 spaces', '5 spaces', '9 spaces', '17 spaces', '79 spaces', '37 spaces', '75 spaces', '70 spaces', '27 spaces', '73 spaces', '47 spaces']\n",
      "Synonyms for 'None': ['None', None, 'none']\n",
      "Synonyms for 'on street, attached garage': ['On street, Attached Garage', 'On Street, Attached Garage']\n",
      "Synonyms for '2 car garage, attached, main level, off street parking': ['2 Car Garage, Attached, Main Level, Off Street Parking', '1 Car Garage, Attached, Main Level, Off Street Parking']\n",
      "Synonyms for 'garage - 2 car': ['Garage - 2 Car', 'Garage - 3 Car', 'Garage - 1 Car']\n",
      "Synonyms for 'off street, on street, attached garage': ['Off street, On street, Attached Garage', 'Off Street, On Street, Attached Garage']\n",
      "Synonyms for '4': ['', '0', '2', '1', '7', '4', '3', '6', '5', '8', '9', '42', '40', '14', '24', '34', '46', '48']\n",
      "Synonyms for '6 spaces': ['2 spaces', '4 spaces', '3 spaces', '7 spaces', '6 spaces', '8 spaces', '5 spaces', '9 spaces', '16 spaces', '68 spaces', '36 spaces', '56 spaces', '60 spaces']\n",
      "Synonyms for 'off street, attached garage': ['Off Street, Attached Garage', 'Off street, Attached Garage']\n",
      "Synonyms for 'carport, off street, detached garage': ['Carport, Off Street, Detached Garage', 'Carport, Off street, Detached Garage']\n",
      "Synonyms for 'garage detached': ['Garage Detached', 'Garage-Detached']\n",
      "Synonyms for 'attached garage, driveway, garage - 2 car, side load garage': ['Attached Garage, Driveway, Garage - 2 Car, Side Load Garage', 'Attached Garage, Driveway, Garage - 3 Car, Side Load Garage']\n",
      "Synonyms for 'off street parking': ['Off street parking', 'Off-Street Parking', 'Off Street Parking']\n",
      "Synonyms for 'on street': ['On Street', 'On street']\n",
      "Synonyms for 'detached garage, garage - 2 car': ['Detached Garage, Garage - 2 Car', 'Detached Garage, Garage - 1 Car', 'Detached Garage, Garage - 3 Car']\n",
      "Synonyms for '8 spaces': ['2 spaces', '4 spaces', '3 spaces', '7 spaces', '6 spaces', '8 spaces', '5 spaces', '9 spaces', '28 spaces', '18 spaces', '89 spaces', '82 spaces', '68 spaces']\n",
      "Synonyms for 'off street, detached garage': ['Off Street, Detached Garage', 'Off street, Detached Garage']\n",
      "Synonyms for 'off-street parking': ['Off street parking', 'Off-Street Parking', 'Off Street Parking']\n",
      "Synonyms for 'garage-attached': ['Garage-Attached', 'Garage Attached']\n",
      "Synonyms for 'assigned parking space - 2': ['Assigned Parking Space - 2', 'Assigned Parking Space - 1']\n",
      "Synonyms for 'garage - 2 car, garage door opener': ['Garage - 2 Car, Garage Door Opener', 'Garage - 3 Car, Garage Door Opener']\n",
      "Synonyms for 'attached garage, driveway, garage - 3 car, garage door opener, side load garage': ['Attached Garage, Driveway, Garage - 3 Car, Garage Door Opener, Side Load Garage', 'Attached Garage, Driveway, Garage - 2 Car, Garage Door Opener, Side Load Garage']\n",
      "Synonyms for 'driveway, parking space - 2': ['Driveway, Parking Space - 2', 'Driveway, Parking Space - 3', 'Driveway, Parking Space - 1']\n",
      "Synonyms for 'attached garage, driveway, garage - 3 car, garage door opener': ['Attached Garage, Driveway, Garage - 3 Car, Garage Door Opener', 'Attached Garage, Driveway, Garage - 2 Car, Garage Door Opener', 'Attached Garage, Driveway, Garage - 1 Car, Garage Door Opener']\n",
      "Synonyms for 'off street, on street': ['Off Street, On Street', 'Off street, On street']\n",
      "Synonyms for 'carport, off street': ['Carport, Off Street', 'Carport, Off street']\n",
      "Synonyms for '19 spaces': ['19 spaces', '10 spaces', '9 spaces', '12 spaces', '14 spaces', '16 spaces', '11 spaces', '15 spaces', '18 spaces', '13 spaces', '17 spaces', '89 spaces', '59 spaces', '79 spaces', '99 spaces', '29 spaces']\n",
      "Synonyms for '10 spaces': ['19 spaces', '10 spaces', '30 spaces', '12 spaces', '14 spaces', '20 spaces', '16 spaces', '120 spaces', '11 spaces', '50 spaces', '15 spaces', '40 spaces', '18 spaces', '13 spaces', '17 spaces', '210 spaces', '140 spaces', '100 spaces', '105 spaces', '70 spaces', '110 spaces', '60 spaces', '150 spaces', '108 spaces']\n",
      "Synonyms for '2 off street': ['2 Off Street', '1 Off Street']\n",
      "Synonyms for 'parking type': ['Parking Type', 'ParkingType']\n",
      "Synonyms for '3': ['', '0', '2', '1', '7', '4', '3', '6', '5', '8', '9', '32', '30', '34', '13', '23']\n",
      "Synonyms for 'gravl': ['GRAVL', 'Gravel']\n",
      "Synonyms for 'detached garage, driveway, garage - 1 car, on-street parking': ['Detached Garage, Driveway, Garage - 1 Car, On-Street Parking', 'Detached Garage, Driveway, Garage - 2 Car, On-Street Parking']\n",
      "Synonyms for '5 spaces': ['2 spaces', '4 spaces', '3 spaces', '7 spaces', '6 spaces', '8 spaces', '5 spaces', '9 spaces', '50 spaces', '15 spaces', '55 spaces', '59 spaces', '75 spaces', '25 spaces', '56 spaces', '35 spaces']\n",
      "Synonyms for '21+ spaces': ['21+ Spaces', '2+ Spaces', '210 spaces', '21 spaces']\n",
      "Synonyms for '6': ['', '0', '2', '1', '7', '4', '3', '6', '5', '8', '16', '9', '60', '26', '46']\n",
      "Synonyms for '2 car garage, 2 off street, attached garage, on street': ['2 Car Garage, 2 Off Street, Attached Garage, On Street', '1 Car Garage, 2 Off Street, Attached Garage, On Street']\n",
      "Synonyms for 'attached garage, garage - 2 car': ['Attached Garage, Garage - 2 Car', 'Attached Garage, Garage - 3 Car', 'Attached Garage, Garage - 1 Car']\n",
      "Synonyms for 'garage - 3 car, side load garage': ['Garage - 3 Car, Side Load Garage', 'Garage - 2 Car, Side Load Garage', 'Garage - 1 Car, Side Load Garage']\n",
      "Synonyms for '2 car garage, 2 off street, attached garage, on street, opener': ['2 Car Garage, 2 Off Street, Attached Garage, On Street, Opener', '1 Car Garage, 2 Off Street, Attached Garage, On Street, Opener']\n",
      "Synonyms for 'driveway, garage - 1 car': ['Driveway, Garage - 1 Car', 'Driveway, Garage - 2 Car', 'Driveway, Garage - 3 Car']\n",
      "Synonyms for 'attached garage, garage - 2 car, garage door opener': ['Attached Garage, Garage - 2 Car, Garage Door Opener', 'Attached Garage, Garage - 1 Car, Garage Door Opener', 'Attached Garage, Garage - 3 Car, Garage Door Opener']\n",
      "Synonyms for '5': ['', '0', '2', '1', '7', '4', '3', '6', '5', '8', '9', '55', '15', '51', '50', '75', '25']\n",
      "Synonyms for '2 off street, 4 car garage, attached garage, opener, side load': ['2 Off Street, 4 Car Garage, Attached Garage, Opener, Side Load', '2 Off Street, 3 Car Garage, Attached Garage, Opener, Side Load']\n",
      "Synonyms for 'garage - 3 car': ['Garage - 2 Car', 'Garage - 3 Car', 'Garage - 1 Car']\n",
      "Synonyms for 'driveway, paved': ['Driveway, Paved', 'Driveway Paved']\n",
      "Synonyms for 'parkingtype': ['Parking Type', 'ParkingType']\n",
      "Synonyms for 'garage attached': ['Garage-Attached', 'Garage Attached']\n",
      "Synonyms for 'driveway paved': ['Driveway, Paved', 'Driveway Paved']\n",
      "Synonyms for '9 spaces': ['2 spaces', '4 spaces', '3 spaces', '7 spaces', '6 spaces', '8 spaces', '19 spaces', '5 spaces', '9 spaces', '93 spaces', '89 spaces', '59 spaces', '79 spaces', '99 spaces', '29 spaces']\n",
      "Synonyms for 'on street parking': ['On Street Parking', 'On-Street Parking']\n",
      "Synonyms for 'attached garage, garage - 2 car, parking space - 2': ['Attached Garage, Garage - 2 Car, Parking Space - 2', 'Attached Garage, Garage - 1 Car, Parking Space - 2', 'Attached Garage, Garage - 2 Car, Parking Space - 1', 'Attached Garage, Garage - 2 Car, Parking Space - 3']\n",
      "Synonyms for 'carport - 1 car': ['Carport - 1 Car', 'Carport - 2 Car', 'Carport - 3 Car']\n",
      "Synonyms for '2 car garage, detached, off street parking, utility garage': ['2 Car Garage, Detached, Off Street Parking, Utility Garage', '1 Car Garage, Detached, Off Street Parking, Utility Garage']\n",
      "Synonyms for '2 car garage, attached garage': ['2 Car Garage, Attached Garage', '1 Car Garage, Attached Garage', '3 Car Garage, Attached Garage', '4 Car Garage, Attached Garage']\n",
      "Synonyms for 'attached garage, driveway, garage - 2 car, garage door opener, side load garage': ['Attached Garage, Driveway, Garage - 3 Car, Garage Door Opener, Side Load Garage', 'Attached Garage, Driveway, Garage - 2 Car, Garage Door Opener, Side Load Garage']\n",
      "Synonyms for 'back load garage, garage - 2 car': ['Back Load Garage, Garage - 2 Car', 'Back Load Garage, Garage - 3 Car', 'Back Load Garage, Garage - 1 Car']\n",
      "Synonyms for 'attached garage, garage - 3 car': ['Attached Garage, Garage - 2 Car', 'Attached Garage, Garage - 3 Car', 'Attached Garage, Garage - 1 Car']\n",
      "Synonyms for '8': ['', '0', '2', '1', '7', '4', '3', '6', '5', '8', '9', '18', '28', '48']\n",
      "Synonyms for '1 attached carport': ['1 Attached Carport', '2 Attached Carport']\n",
      "Synonyms for 'carport - 1 car, parking space - 3': ['Carport - 1 Car, Parking Space - 3', 'Carport - 1 Car, Parking Space - 2', 'Carport - 2 Car, Parking Space - 3']\n",
      "Synonyms for 'parking space - 2': ['Parking Space - 2', 'Parking Space - 3', 'Parking Space - 1']\n",
      "Synonyms for '3 car garage, attached garage, opener': ['3 Car Garage, Attached Garage, Opener', '2 Car Garage, Attached Garage, Opener', '1 Car Garage, Attached Garage, Opener']\n",
      "Synonyms for '2 car garage': ['2 Car Garage', '2 Car, Garage', '1 Car Garage', '3 Car Garage', '4 Car Garage']\n",
      "Synonyms for 'attached garage, driveway, garage - 2 car, garage door opener': ['Attached Garage, Driveway, Garage - 3 Car, Garage Door Opener', 'Attached Garage, Driveway, Garage - 2 Car, Garage Door Opener', 'Attached Garage, Driveway, Garage - 1 Car, Garage Door Opener']\n",
      "Synonyms for '1 car, parking lot': ['1 Car, Parking Lot', '2 Car, Parking Lot', '3 Car, Parking Lot']\n",
      "Synonyms for '2 car garage, attached garage, opener': ['3 Car Garage, Attached Garage, Opener', '2 Car Garage, Attached Garage, Opener', '1 Car Garage, Attached Garage, Opener']\n",
      "Synonyms for 'gravel': ['GRAVL', 'Gravel']\n",
      "Synonyms for 'parking/driveway': ['Parking/Driveway', 'Parking Driveway']\n",
      "Synonyms for 'on street, none': ['On Street, None', 'On street, None']\n",
      "Synonyms for '16': ['1', '10', '6', '16', '11', '17', '12', '14', '15', '18', '13', '26', '46']\n",
      "Synonyms for 'garage - 2 car, parking space - 4+': ['Garage - 2 Car, Parking Space - 4+', 'Garage - 1 Car, Parking Space - 4+']\n",
      "Synonyms for 'paved': ['Paved', 'PAVED']\n",
      "Synonyms for 'driveway, garage - 2 car, garage door opener, keypad entry': ['Driveway, Garage - 2 Car, Garage Door Opener, Keypad Entry', 'Driveway, Garage - 3 Car, Garage Door Opener, Keypad Entry']\n",
      "Synonyms for 'parking driveway': ['Parking/Driveway', 'Parking Driveway']\n",
      "Synonyms for 'assigned parking space - 1': ['Assigned Parking Space - 2', 'Assigned Parking Space - 1']\n",
      "Synonyms for 'attached garage, garage - 1 car': ['Attached Garage, Garage - 2 Car', 'Attached Garage, Garage - 3 Car', 'Attached Garage, Garage - 1 Car']\n",
      "Synonyms for 'detached garage, driveway, garage - 2 car': ['Detached Garage, Driveway, Garage - 2 Car', 'Detached Garage, Driveway, Garage - 1 Car']\n",
      "Synonyms for '1 off street': ['2 Off Street', '1 Off Street']\n",
      "Synonyms for '9': ['', '0', '2', '1', '7', '4', '3', '6', '5', '8', '9']\n",
      "Synonyms for 'main level, off street parking': ['Main Level, Off Street Parking', 'Main Level, Off-Street Parking']\n",
      "Synonyms for 'driveway, parking space - 3': ['Driveway, Parking Space - 2', 'Driveway, Parking Space - 3', 'Driveway, Parking Space - 1']\n",
      "Synonyms for 'garage - 2 car, garage door opener, keypad entry': ['Garage - 2 Car, Garage Door Opener, Keypad Entry', 'Garage - 3 Car, Garage Door Opener, Keypad Entry']\n",
      "Synonyms for '30 spaces': ['3 spaces', '10 spaces', '30 spaces', '20 spaces', '50 spaces', '40 spaces', '32 spaces', '37 spaces', '36 spaces', '70 spaces', '60 spaces', '35 spaces', '230 spaces']\n",
      "Synonyms for 'attached garage, garage - 3 car, garage door opener, side load garage': ['Attached Garage, Garage - 3 Car, Garage Door Opener, Side Load Garage', 'Attached Garage, Garage - 2 Car, Garage Door Opener, Side Load Garage']\n",
      "Synonyms for '2 car, garage': ['2 Car Garage', '2 Car, Garage']\n",
      "Synonyms for 'attached garage, back load garage, garage - 2 car': ['Attached Garage, Back Load Garage, Garage - 2 Car', 'Attached Garage, Back Load Garage, Garage - 1 Car']\n",
      "Synonyms for '20': ['0', '2', '10', '20', '60', '27', '22', '30', '40', '24', '26', '21', '28', '50', '23', '25', '120']\n",
      "Synonyms for '1 car garage, attached, main level, off street parking': ['2 Car Garage, Attached, Main Level, Off Street Parking', '1 Car Garage, Attached, Main Level, Off Street Parking']\n",
      "Synonyms for '12 spaces': ['2 spaces', '19 spaces', '10 spaces', '12 spaces', '14 spaces', '126 spaces', '16 spaces', '120 spaces', '11 spaces', '15 spaces', '32 spaces', '18 spaces', '22 spaces', '13 spaces', '17 spaces', '82 spaces', '112 spaces', '162 spaces', '42 spaces']\n",
      "Synonyms for '2 car, parking lot': ['1 Car, Parking Lot', '2 Car, Parking Lot', '3 Car, Parking Lot']\n",
      "Synonyms for 'attached garage, garage - 2 car, parking space - 4+, side load garage': ['Attached Garage, Garage - 2 Car, Parking Space - 4+, Side Load Garage', 'Attached Garage, Garage - 3 Car, Parking Space - 4+, Side Load Garage']\n",
      "Synonyms for 'garage - 1 car': ['Garage - 2 Car', 'Garage - 3 Car', 'Garage - 1 Car']\n",
      "Synonyms for 'parking features': ['Parking Features', 'ParkingFeatures']\n",
      "Synonyms for 'rv gated': ['RV Gated', 'RV Gate']\n",
      "Synonyms for 'attached garage, garage - 2 car, keypad entry': ['Attached Garage, Garage - 2 Car, Keypad Entry', 'Attached Garage, Garage - 3 Car, Keypad Entry']\n",
      "Synonyms for 'attached garage, driveway, garage - 2 car, garage door opener, keypad entry, side load garage': ['Attached Garage, Driveway, Garage - 2 Car, Garage Door Opener, Keypad Entry, Side Load Garage', 'Attached Garage, Driveway, Garage - 3 Car, Garage Door Opener, Keypad Entry, Side Load Garage']\n",
      "Synonyms for '2 car garage, attached garage, opener, side load': ['2 Car Garage, Attached Garage, Opener, Side Load', '3 Car Garage, Attached Garage, Opener, Side Load', '4 Car Garage, Attached Garage, Opener, Side Load']\n",
      "Synonyms for '1 car garage, 2 off street, detached garage': ['1 Car Garage, 2 Off Street, Detached Garage', '2 Car Garage, 2 Off Street, Detached Garage']\n",
      "Synonyms for 'attached garage, driveway, garage - 2 car': ['Attached Garage, Driveway, Garage - 2 Car', 'Attached Garage, Driveway, Garage - 3 Car', 'Attached Garage, Driveway, Garage - 1 Car']\n",
      "Synonyms for 'carport, on street': ['Carport, On street', 'Carport, On Street']\n",
      "Synonyms for '2 car garage, attached, off street parking': ['2 Car Garage, Attached, Off Street Parking', '1 Car Garage, Attached, Off Street Parking']\n",
      "Synonyms for 'parking deck, parking space - 1': ['Parking Deck, Parking Space - 1', 'Parking Deck, Parking Space - 2']\n",
      "Synonyms for 'on street, detached garage': ['On Street, Detached Garage', 'On street, Detached Garage']\n",
      "Synonyms for 'parking space - 3': ['Parking Space - 2', 'Parking Space - 3', 'Parking Space - 1']\n",
      "Synonyms for '14 spaces': ['4 spaces', '19 spaces', '10 spaces', '12 spaces', '14 spaces', '16 spaces', '11 spaces', '15 spaces', '18 spaces', '13 spaces', '17 spaces', '140 spaces', '24 spaces', '144 spaces', '44 spaces']\n",
      "Synonyms for '2 car garage, detached garage, opener': ['2 Car Garage, Detached Garage, Opener', '1 Car Garage, Detached Garage, Opener', '4 Car Garage, Detached Garage, Opener', '3 Car Garage, Detached Garage, Opener']\n",
      "Synonyms for 'attached garage, garage - 2 car, garage door opener, side load garage': ['Attached Garage, Garage - 3 Car, Garage Door Opener, Side Load Garage', 'Attached Garage, Garage - 2 Car, Garage Door Opener, Side Load Garage']\n",
      "Synonyms for 'detached, gravl': ['Detached, GRAVL', 'Detached, Gravel']\n",
      "Synonyms for 'attached garage, driveway, garage - 1 car, parking space - 4+': ['Attached Garage, Driveway, Garage - 1 Car, Parking Space - 4+', 'Attached Garage, Driveway, Garage - 3 Car, Parking Space - 4+', 'Attached Garage, Driveway, Garage - 2 Car, Parking Space - 4+']\n",
      "Synonyms for 'parking space - 1': ['Parking Space - 2', 'Parking Space - 3', 'Parking Space - 1']\n",
      "Synonyms for 'attached garage, garage - 2 car, side load garage': ['Attached Garage, Garage - 2 Car, Side Load Garage', 'Attached Garage, Garage - 3 Car, Side Load Garage']\n",
      "Synonyms for 'detached garage, garage - 1 car': ['Detached Garage, Garage - 2 Car', 'Detached Garage, Garage - 1 Car', 'Detached Garage, Garage - 3 Car']\n",
      "Synonyms for 'attached garage, garage - 2 car, garage door opener, keypad entry': ['Attached Garage, Garage - 2 Car, Garage Door Opener, Keypad Entry', 'Attached Garage, Garage - 3 Car, Garage Door Opener, Keypad Entry']\n",
      "Synonyms for '60': ['0', '10', '6', '20', '60', '30', '40', '50']\n",
      "Synonyms for '11': ['1', '10', '16', '11', '17', '12', '14', '15', '18', '110', '13', '21', '51', '111']\n",
      "Synonyms for '2 car, parking lot, unassigned': ['2 Car, Parking Lot, Unassigned', '1 Car, Parking Lot, Unassigned']\n",
      "Synonyms for 'garage - 3 car, garage door opener, keypad entry, side load garage': ['Garage - 3 Car, Garage Door Opener, Keypad Entry, Side Load Garage', 'Garage - 2 Car, Garage Door Opener, Keypad Entry, Side Load Garage']\n",
      "Synonyms for 'attached garage, garage - 1 car, parking space - 3': ['Attached Garage, Garage - 1 Car, Parking Space - 3', 'Attached Garage, Garage - 1 Car, Parking Space - 1', 'Attached Garage, Garage - 1 Car, Parking Space - 2', 'Attached Garage, Garage - 2 Car, Parking Space - 3']\n",
      "Synonyms for '100': ['10', '100', '1.00', '140', '150', '110', '120']\n",
      "Synonyms for '2 car garage, detached garage': ['2 Car Garage, Detached Garage', '3 Car Garage, Detached Garage', '4 Car Garage, Detached Garage', '1 Car Garage, Detached Garage']\n",
      "Synonyms for 'garage-detached': ['Garage Detached', 'Garage-Detached']\n",
      "Synonyms for 'lot, parking space - 1': ['Lot, Parking Space - 1', 'Lot, Parking Space - 2', 'Lot, Parking Space - 3']\n",
      "Synonyms for 'off street, on street, detached garage': ['Off Street, On Street, Detached Garage', 'Off street, On street, Detached Garage']\n",
      "Synonyms for '3 car garage, attached garage, opener, side load': ['2 Car Garage, Attached Garage, Opener, Side Load', '3 Car Garage, Attached Garage, Opener, Side Load', '4 Car Garage, Attached Garage, Opener, Side Load']\n",
      "Synonyms for 'attached garage, garage - 2 car, garage door opener, keypad entry, side load garage': ['Attached Garage, Garage - 2 Car, Garage Door Opener, Keypad Entry, Side Load Garage', 'Attached Garage, Garage - 3 Car, Garage Door Opener, Keypad Entry, Side Load Garage']\n",
      "Synonyms for 'parkingfeatures': ['Parking Features', 'ParkingFeatures']\n",
      "Synonyms for 'attached garage, driveway, garage - 3 car': ['Attached Garage, Driveway, Garage - 2 Car', 'Attached Garage, Driveway, Garage - 3 Car', 'Attached Garage, Driveway, Garage - 1 Car']\n",
      "Synonyms for '32': ['2', '3', '32', '22', '12', '30', '42', '34', '329']\n",
      "Synonyms for 'garage - 1 car, parking space - 1': ['Garage - 1 Car, Parking Space - 1', 'Garage - 1 Car, Parking Space - 2', 'Garage - 1 Car, Parking Space - 3']\n",
      "Synonyms for '27': ['2', '7', '20', '27', '22', '17', '24', '26', '21', '28', '23', '25']\n",
      "Synonyms for '2 car garage, attached, front loading, off street parking': ['2 Car Garage, Attached, Front Loading, Off Street Parking', '1 Car Garage, Attached, Front Loading, Off Street Parking']\n",
      "Synonyms for '2 car garage, detached, off street parking': ['2 Car Garage, Detached, Off Street Parking', '1 Car Garage, Detached, Off Street Parking']\n",
      "Synonyms for '55': ['5', '55', '15', '51', '50', '75', '25']\n",
      "Synonyms for 'off street, none': ['Off street, None', 'Off Street, None']\n",
      "Synonyms for 'attached garage, garage - 3 car, side load garage': ['Attached Garage, Garage - 2 Car, Side Load Garage', 'Attached Garage, Garage - 3 Car, Side Load Garage']\n",
      "Synonyms for 'attached garage, back load garage, garage - 1 car': ['Attached Garage, Back Load Garage, Garage - 2 Car', 'Attached Garage, Back Load Garage, Garage - 1 Car']\n",
      "Synonyms for '22': ['2', '20', '32', '27', '22', '12', '42', '24', '26', '21', '28', '23', '25', '228', '252']\n",
      "Synonyms for 'carport - 2 car': ['Carport - 1 Car', 'Carport - 2 Car', 'Carport - 3 Car']\n",
      "Synonyms for '20 spaces': ['2 spaces', '10 spaces', '30 spaces', '20 spaces', '2+ Spaces', '120 spaces', '50 spaces', '28 spaces', '40 spaces', '22 spaces', '210 spaces', '200 spaces', '70 spaces', '24 spaces', '25 spaces', '27 spaces', '29 spaces', '60 spaces', '21 spaces', '23 spaces', '230 spaces']\n",
      "Synonyms for 'detached garage, driveway, garage - 1 car': ['Detached Garage, Driveway, Garage - 2 Car', 'Detached Garage, Driveway, Garage - 1 Car']\n",
      "Synonyms for '126 spaces': ['12 spaces', '126 spaces', '16 spaces', '120 spaces']\n",
      "Synonyms for 'assigned parking space - 1, on-street parking': ['Assigned Parking Space - 1, On-Street Parking', 'Assigned Parking Space - 2, On-Street Parking']\n",
      "Synonyms for 'carport, off street, attached garage': ['Carport, Off street, Attached Garage', 'Carport, Off Street, Attached Garage']\n",
      "Synonyms for 'off street, attached garage, detached garage': ['Off Street, Attached Garage, Detached Garage', 'Off street, Attached Garage, Detached Garage']\n",
      "Synonyms for 'garage - 2 car, parking space - 3': ['Garage - 2 Car, Parking Space - 3', 'Garage - 2 Car, Parking Space - 2', 'Garage - 1 Car, Parking Space - 3']\n",
      "Synonyms for 'lot, parking space - 2': ['Lot, Parking Space - 1', 'Lot, Parking Space - 2', 'Lot, Parking Space - 3']\n",
      "Synonyms for 'attached garage, driveway, garage - 3 car, side load garage': ['Attached Garage, Driveway, Garage - 2 Car, Side Load Garage', 'Attached Garage, Driveway, Garage - 3 Car, Side Load Garage']\n",
      "Synonyms for '1 car garage, detached garage, opener': ['2 Car Garage, Detached Garage, Opener', '1 Car Garage, Detached Garage, Opener', '4 Car Garage, Detached Garage, Opener', '3 Car Garage, Detached Garage, Opener']\n",
      "Synonyms for 'attached parking': ['Attached Parking', 'Attached, Parking']\n",
      "Synonyms for '2 car, parking lot, paved': ['2 Car, Parking Lot, PAVED', '1 Car, Parking Lot, PAVED']\n",
      "Synonyms for 'garage - 2 car, parking space - 2': ['Garage - 2 Car, Parking Space - 3', 'Garage - 2 Car, Parking Space - 2', 'Garage - 1 Car, Parking Space - 2']\n",
      "Synonyms for 'attached garage, garage - 2 car, garage door opener, parking space - 2': ['Attached Garage, Garage - 2 Car, Garage Door Opener, Parking Space - 2', 'Attached Garage, Garage - 1 Car, Garage Door Opener, Parking Space - 2']\n",
      "Synonyms for '1 car garage, attached garage, opener': ['3 Car Garage, Attached Garage, Opener', '2 Car Garage, Attached Garage, Opener', '1 Car Garage, Attached Garage, Opener']\n",
      "Synonyms for 'assigned parking space - 1, parking garage': ['Assigned Parking Space - 1, Parking Garage', 'Assigned Parking Space - 2, Parking Garage']\n",
      "Synonyms for 'attached garage, garage - 2 car, garage door opener, on-street parking': ['Attached Garage, Garage - 2 Car, Garage Door Opener, On-Street Parking', 'Attached Garage, Garage - 1 Car, Garage Door Opener, On-Street Parking']\n",
      "Synonyms for '1 car garage, 2 off street, attached garage, opener': ['1 Car Garage, 2 Off Street, Attached Garage, Opener', '2 Car Garage, 2 Off Street, Attached Garage, Opener']\n",
      "Synonyms for '1 car garage, attached, off street parking': ['2 Car Garage, Attached, Off Street Parking', '1 Car Garage, Attached, Off Street Parking']\n",
      "Synonyms for 'attached garage, basement, garage - 1 car': ['Attached Garage, Basement, Garage - 1 Car', 'Attached Garage, Basement, Garage - 2 Car']\n",
      "Synonyms for '2 car garage, opener': ['2 Car Garage, Opener', '3 Car Garage, Opener']\n",
      "Synonyms for '2+ spaces': ['2 spaces', '21+ Spaces', '20 spaces', '2+ Spaces', '28 spaces', '22 spaces', '24 spaces', '25 spaces', '27 spaces', '29 spaces', '21 spaces', '23 spaces']\n",
      "Synonyms for '3 car garage, detached garage': ['2 Car Garage, Detached Garage', '3 Car Garage, Detached Garage', '4 Car Garage, Detached Garage', '1 Car Garage, Detached Garage']\n",
      "Synonyms for 'detached garage, driveway, garage - 2 car, on-street parking': ['Detached Garage, Driveway, Garage - 1 Car, On-Street Parking', 'Detached Garage, Driveway, Garage - 2 Car, On-Street Parking']\n",
      "Synonyms for '2 car garage, attached garage, heated, opener': ['2 Car Garage, Attached Garage, Heated, Opener', '3 Car Garage, Attached Garage, Heated, Opener', '1 Car Garage, Attached Garage, Heated, Opener']\n",
      "Synonyms for '2 assigned': ['2 Assigned', '1 Assigned']\n",
      "Synonyms for '1 car garage, attached garage': ['2 Car Garage, Attached Garage', '1 Car Garage, Attached Garage', '3 Car Garage, Attached Garage', '4 Car Garage, Attached Garage']\n",
      "Synonyms for '2 car garage, 3 car garage, attached garage, detached garage, opener': ['2 Car Garage, 3 Car Garage, Attached Garage, Detached Garage, Opener', '2 Car Garage, 4 Car Garage, Attached Garage, Detached Garage, Opener']\n",
      "Synonyms for '16 spaces': ['6 spaces', '19 spaces', '10 spaces', '12 spaces', '14 spaces', '126 spaces', '16 spaces', '11 spaces', '15 spaces', '18 spaces', '13 spaces', '17 spaces', '36 spaces', '162 spaces', '56 spaces']\n",
      "Synonyms for '17': ['1', '10', '7', '16', '11', '27', '17', '12', '14', '15', '18', '13', '179']\n",
      "Synonyms for 'attached garage, garage - 1 car, garage door opener, parking space - 2': ['Attached Garage, Garage - 2 Car, Garage Door Opener, Parking Space - 2', 'Attached Garage, Garage - 1 Car, Garage Door Opener, Parking Space - 2']\n",
      "Synonyms for '1 car garage, attached garage, detached garage': ['1 Car Garage, Attached Garage, Detached Garage', '3 Car Garage, Attached Garage, Detached Garage']\n",
      "Synonyms for '12': ['2', '1', '10', '16', '11', '32', '22', '17', '12', '42', '14', '15', '18', '13', '120']\n",
      "Synonyms for 'garage - 2 car, garage door opener, side load garage': ['Garage - 2 Car, Garage Door Opener, Side Load Garage', 'Garage - 3 Car, Garage Door Opener, Side Load Garage']\n",
      "Synonyms for '30': ['0', '10', '3', '20', '60', '32', '30', '40', '34', '50']\n",
      "Synonyms for '1 car garage, 1 off street, attached garage': ['1 Car Garage, 1 Off Street, Attached Garage', '1 Car Garage, 2 Off Street, Attached Garage']\n",
      "Synonyms for '120 spaces': ['10 spaces', '12 spaces', '20 spaces', '126 spaces', '120 spaces', '140 spaces', '100 spaces', '110 spaces', '150 spaces']\n",
      "Synonyms for 'assigned parking space - 2, parking garage': ['Assigned Parking Space - 1, Parking Garage', 'Assigned Parking Space - 2, Parking Garage']\n",
      "Synonyms for '3 car garage, attached garage, farm bldg, opener': ['3 Car Garage, Attached Garage, Farm Bldg, Opener', '2 Car Garage, Attached Garage, Farm Bldg, Opener']\n",
      "Synonyms for '11 spaces': ['19 spaces', '10 spaces', '12 spaces', '14 spaces', '16 spaces', '11 spaces', '15 spaces', '18 spaces', '13 spaces', '17 spaces', '131 spaces', '112 spaces', '110 spaces', '171 spaces', '21 spaces', '41 spaces', '118 spaces']\n",
      "Synonyms for 'driveway, garage - 2 car': ['Driveway, Garage - 1 Car', 'Driveway, Garage - 2 Car', 'Driveway, Garage - 3 Car']\n",
      "Synonyms for 'carport - 3 car, detached garage': ['Carport - 3 Car, Detached Garage', 'Carport - 2 Car, Detached Garage']\n",
      "Synonyms for '5209 spaces': ['5209 spaces', '529 spaces']\n",
      "Synonyms for 'garage - 1 car, parking space - 2': ['Garage - 1 Car, Parking Space - 1', 'Garage - 2 Car, Parking Space - 2', 'Garage - 1 Car, Parking Space - 2', 'Garage - 1 Car, Parking Space - 3']\n",
      "Synonyms for 'attached, gravl': ['Attached, GRAVL', 'Attached, Gravel']\n",
      "Synonyms for '50 spaces': ['10 spaces', '5 spaces', '30 spaces', '20 spaces', '50 spaces', '40 spaces', '55 spaces', '59 spaces', '70 spaces', '56 spaces', '60 spaces', '150 spaces']\n",
      "Synonyms for '15 spaces': ['19 spaces', '10 spaces', '5 spaces', '12 spaces', '14 spaces', '16 spaces', '11 spaces', '15 spaces', '18 spaces', '55 spaces', '13 spaces', '17 spaces', '75 spaces', '105 spaces', '25 spaces', '157 spaces', '150 spaces', '35 spaces']\n",
      "Synonyms for '28 spaces': ['2 spaces', '8 spaces', '20 spaces', '2+ Spaces', '28 spaces', '18 spaces', '22 spaces', '238 spaces', '68 spaces', '24 spaces', '25 spaces', '27 spaces', '29 spaces', '21 spaces', '23 spaces']\n",
      "Synonyms for '1 car garage, detached, off street parking': ['2 Car Garage, Detached, Off Street Parking', '1 Car Garage, Detached, Off Street Parking']\n",
      "Synonyms for 'driveway, on street parking': ['Driveway, On Street Parking', 'Driveway, On-Street Parking']\n",
      "Synonyms for 'rv gate': ['RV Gated', 'RV Gate']\n",
      "Synonyms for 'attached garage, driveway, garage - 2 car, garage door opener, on-street parking': ['Attached Garage, Driveway, Garage - 2 Car, Garage Door Opener, On-Street Parking', 'Attached Garage, Driveway, Garage - 3 Car, Garage Door Opener, On-Street Parking', 'Attached Garage, Driveway, Garage - 1 Car, Garage Door Opener, On-Street Parking']\n",
      "Synonyms for 'carport - 2 car, driveway, parking space - 4+': ['Carport - 2 Car, Driveway, Parking Space - 4+', 'Carport - 1 Car, Driveway, Parking Space - 4+']\n",
      "Synonyms for '93 spaces': ['3 spaces', '9 spaces', '93 spaces', '13 spaces', '99 spaces', '73 spaces', '23 spaces', '43 spaces']\n",
      "Synonyms for 'attached, gravel': ['Attached, GRAVL', 'Attached, Gravel']\n",
      "Synonyms for 'carport - 2 car, detached garage, garage - 3 car': ['Carport - 2 Car, Detached Garage, Garage - 3 Car', 'Carport - 1 Car, Detached Garage, Garage - 3 Car', 'Carport - 2 Car, Detached Garage, Garage - 1 Car']\n",
      "Synonyms for '40 spaces': ['4 spaces', '10 spaces', '30 spaces', '20 spaces', '50 spaces', '40 spaces', '140 spaces', '70 spaces', '60 spaces', '44 spaces', '42 spaces', '41 spaces', '43 spaces', '47 spaces']\n",
      "Synonyms for '3 car, parking lot': ['1 Car, Parking Lot', '2 Car, Parking Lot', '3 Car, Parking Lot']\n",
      "Synonyms for 'attached garage, garage - 2 car, garage door opener, parking space - 4+, side load garage': ['Attached Garage, Garage - 2 Car, Garage Door Opener, Parking Space - 4+, Side Load Garage', 'Attached Garage, Garage - 3 Car, Garage Door Opener, Parking Space - 4+, Side Load Garage']\n",
      "Synonyms for 'carport - 2 car, detached garage': ['Carport - 3 Car, Detached Garage', 'Carport - 2 Car, Detached Garage']\n",
      "Synonyms for 'attached garage, back load garage, garage - 2 car, garage door opener, keypad entry, on-street parking': ['Attached Garage, Back Load Garage, Garage - 2 Car, Garage Door Opener, Keypad Entry, On-Street Parking', 'Attached Garage, Back Load Garage, Garage - 1 Car, Garage Door Opener, Keypad Entry, On-Street Parking']\n",
      "Synonyms for 'attached garage, basement, garage - 2 car': ['Attached Garage, Basement, Garage - 1 Car', 'Attached Garage, Basement, Garage - 2 Car']\n",
      "Synonyms for '153': ['153', '15', '150', '13']\n",
      "Synonyms for 'attached garage, driveway, garage - 2 car, garage door opener, keypad entry': ['Attached Garage, Driveway, Garage - 2 Car, Garage Door Opener, Keypad Entry', 'Attached Garage, Driveway, Garage - 3 Car, Garage Door Opener, Keypad Entry']\n",
      "Synonyms for 'on-street parking': ['On Street Parking', 'On-Street Parking']\n",
      "Synonyms for 'attached garage, basement, driveway, garage - 1 car': ['Attached Garage, Basement, Driveway, Garage - 1 Car', 'Attached Garage, Basement, Driveway, Garage - 2 Car']\n",
      "Synonyms for 'driveway, garage - 3 car, side load garage': ['Driveway, Garage - 3 Car, Side Load Garage', 'Driveway, Garage - 2 Car, Side Load Garage']\n",
      "Synonyms for '42': ['2', '4', '32', '22', '12', '42', '40', '46', '48']\n",
      "Synonyms for '32 spaces': ['2 spaces', '3 spaces', '30 spaces', '12 spaces', '32 spaces', '22 spaces', '82 spaces', '37 spaces', '36 spaces', '35 spaces', '42 spaces']\n",
      "Synonyms for '40': ['0', '10', '4', '20', '60', '30', '42', '40', '140', '50', '46', '48']\n",
      "Synonyms for 'parking space': ['Parking Space', 'Parking Spaces']\n",
      "Synonyms for 'assigned parking space - 1, parking space - 1': ['Assigned Parking Space - 1, Parking Space - 1', 'Assigned Parking Space - 1, Parking Space - 2']\n",
      "Synonyms for 'garage - 2 car, side load garage': ['Garage - 3 Car, Side Load Garage', 'Garage - 2 Car, Side Load Garage', 'Garage - 1 Car, Side Load Garage']\n",
      "Synonyms for 'attached garage, driveway, garage - 3 car, garage door opener, keypad entry': ['Attached Garage, Driveway, Garage - 2 Car, Garage Door Opener, Keypad Entry', 'Attached Garage, Driveway, Garage - 3 Car, Garage Door Opener, Keypad Entry']\n",
      "Synonyms for '18 spaces': ['8 spaces', '19 spaces', '10 spaces', '12 spaces', '14 spaces', '16 spaces', '11 spaces', '15 spaces', '28 spaces', '18 spaces', '13 spaces', '17 spaces', '68 spaces', '108 spaces', '118 spaces']\n",
      "Synonyms for '1 car, assigned, parking lot': ['1 Car, Assigned, Parking Lot', '2 Car, Assigned, Parking Lot', '3 Car, Assigned, Parking Lot']\n",
      "Synonyms for '55 spaces': ['5 spaces', '50 spaces', '15 spaces', '55 spaces', '59 spaces', '75 spaces', '25 spaces', '56 spaces', '35 spaces']\n",
      "Synonyms for 'attached garage, driveway, garage - 2 car, parking space - 2': ['Attached Garage, Driveway, Garage - 2 Car, Parking Space - 2', 'Attached Garage, Driveway, Garage - 3 Car, Parking Space - 2', 'Attached Garage, Driveway, Garage - 2 Car, Parking Space - 3']\n",
      "Synonyms for 'attached garage, garage - 2 car, parking space - 4+': ['Attached Garage, Garage - 2 Car, Parking Space - 4+', 'Attached Garage, Garage - 3 Car, Parking Space - 4+']\n",
      "Synonyms for 'attached garage, garage - 2 car, tandem garage': ['Attached Garage, Garage - 2 Car, Tandem Garage', 'Attached Garage, Garage - 3 Car, Tandem Garage']\n",
      "Synonyms for '4 car garage, detached garage, opener': ['2 Car Garage, Detached Garage, Opener', '1 Car Garage, Detached Garage, Opener', '4 Car Garage, Detached Garage, Opener', '3 Car Garage, Detached Garage, Opener']\n",
      "Synonyms for '2 car garage, attached, basement, off street parking': ['2 Car Garage, Attached, Basement, Off Street Parking', '1 Car Garage, Attached, Basement, Off Street Parking']\n",
      "Synonyms for 'garage - 1 car, parking space - 3': ['Garage - 1 Car, Parking Space - 1', 'Garage - 2 Car, Parking Space - 3', 'Garage - 1 Car, Parking Space - 2', 'Garage - 1 Car, Parking Space - 3']\n",
      "Synonyms for '1.00': ['100', '1.00', '3.00', '6.00', '8.00', '2.00', '5.00']\n",
      "Synonyms for '14': ['1', '10', '4', '16', '11', '17', '12', '14', '15', '140', '18', '24', '34', '13']\n",
      "Synonyms for 'concrete driveway': ['Concrete Driveway', 'Concrete, Driveway']\n",
      "Synonyms for 'attached, parking': ['Attached Parking', 'Attached, Parking']\n",
      "Synonyms for 'assigned parking space - 1, lot, on-street parking': ['Assigned Parking Space - 1, Lot, On-Street Parking', 'Assigned Parking Space - 2, Lot, On-Street Parking']\n",
      "Synonyms for 'carport - 1 car, driveway, parking space - 4+': ['Carport - 2 Car, Driveway, Parking Space - 4+', 'Carport - 1 Car, Driveway, Parking Space - 4+']\n",
      "Synonyms for 'asphalt driveway': ['Asphalt Driveway', 'Asphalt, Driveway']\n",
      "Synonyms for '15': ['1', '10', '5', '16', '11', '55', '17', '12', '153', '14', '15', '18', '150', '13', '75', '25']\n",
      "Synonyms for '22 spaces': ['2 spaces', '12 spaces', '20 spaces', '2+ Spaces', '28 spaces', '32 spaces', '22 spaces', '82 spaces', '24 spaces', '25 spaces', '27 spaces', '29 spaces', '252 spaces', '42 spaces', '21 spaces', '23 spaces', '222 spaces']\n",
      "Synonyms for 'driveway, garage - 2 car, parking space - 3': ['Driveway, Garage - 2 Car, Parking Space - 3', 'Driveway, Garage - 2 Car, Parking Space - 2']\n",
      "Synonyms for '2 off street, 3 car garage, attached garage, opener, side load': ['2 Off Street, 4 Car Garage, Attached Garage, Opener, Side Load', '2 Off Street, 3 Car Garage, Attached Garage, Opener, Side Load']\n",
      "Synonyms for '1 car garage, 1 off street, attached garage, on street': ['1 Car Garage, 1 Off Street, Attached Garage, On Street', '1 Car Garage, 2 Off Street, Attached Garage, On Street']\n",
      "Synonyms for '13 spaces': ['3 spaces', '19 spaces', '10 spaces', '12 spaces', '14 spaces', '16 spaces', '11 spaces', '15 spaces', '93 spaces', '18 spaces', '13 spaces', '17 spaces', '131 spaces', '73 spaces', '23 spaces', '43 spaces']\n",
      "Synonyms for 'attached garage, driveway, garage - 1 car': ['Attached Garage, Driveway, Garage - 2 Car', 'Attached Garage, Driveway, Garage - 3 Car', 'Attached Garage, Driveway, Garage - 1 Car']\n",
      "Synonyms for 'attached garage, garage - 1 car, garage door opener': ['Attached Garage, Garage - 2 Car, Garage Door Opener', 'Attached Garage, Garage - 1 Car, Garage Door Opener', 'Attached Garage, Garage - 3 Car, Garage Door Opener']\n",
      "Synonyms for '140': ['10', '100', '40', '14', '140', '150', '110', '120']\n",
      "Synonyms for 'driveway, garage - 2 car, side load garage': ['Driveway, Garage - 3 Car, Side Load Garage', 'Driveway, Garage - 2 Car, Side Load Garage']\n",
      "Synonyms for '17 spaces': ['7 spaces', '19 spaces', '10 spaces', '12 spaces', '14 spaces', '16 spaces', '11 spaces', '15 spaces', '18 spaces', '13 spaces', '17 spaces', '37 spaces', '27 spaces', '157 spaces', '171 spaces', '47 spaces']\n",
      "Synonyms for '1 assigned': ['2 Assigned', '1 Assigned']\n",
      "Synonyms for 'attached garage, garage - 3 car, garage door opener, tandem garage': ['Attached Garage, Garage - 3 Car, Garage Door Opener, Tandem Garage', 'Attached Garage, Garage - 2 Car, Garage Door Opener, Tandem Garage']\n",
      "Synonyms for 'parking garage, parking space - 1': ['Parking Garage, Parking Space - 1', 'Parking Garage, Parking Space - 2']\n",
      "Synonyms for 'driveway, on-street parking, parking space - 3': ['Driveway, On-Street Parking, Parking Space - 3', 'Driveway, On-Street Parking, Parking Space - 2']\n",
      "Synonyms for '9 car, concr, parking lot': ['9 Car, CONCR, Parking Lot', '2 Car, CONCR, Parking Lot']\n",
      "Synonyms for '210 spaces': ['10 spaces', '21+ Spaces', '20 spaces', '210 spaces', '200 spaces', '110 spaces', '21 spaces', '230 spaces']\n",
      "Synonyms for '3 car garage, attached garage': ['2 Car Garage, Attached Garage', '1 Car Garage, Attached Garage', '3 Car Garage, Attached Garage', '4 Car Garage, Attached Garage']\n",
      "Synonyms for 'driveway, parking space - 1': ['Driveway, Parking Space - 2', 'Driveway, Parking Space - 3', 'Driveway, Parking Space - 1']\n",
      "Synonyms for 'attached garage, driveway, garage - 3 car, parking space - 3': ['Attached Garage, Driveway, Garage - 3 Car, Parking Space - 3', 'Attached Garage, Driveway, Garage - 3 Car, Parking Space - 2', 'Attached Garage, Driveway, Garage - 2 Car, Parking Space - 3']\n",
      "Synonyms for 'carport - 2 car, parking space - 4+': ['Carport - 2 Car, Parking Space - 4+', 'Carport - 1 Car, Parking Space - 4+']\n",
      "Synonyms for '89 spaces': ['8 spaces', '19 spaces', '9 spaces', '89 spaces', '82 spaces', '59 spaces', '79 spaces', '99 spaces', '29 spaces']\n",
      "Synonyms for 'attached garage, garage - 3 car, garage door opener, parking space - 3, side load garage': ['Attached Garage, Garage - 3 Car, Garage Door Opener, Parking Space - 3, Side Load Garage', 'Attached Garage, Garage - 2 Car, Garage Door Opener, Parking Space - 3, Side Load Garage']\n",
      "Synonyms for '18': ['1', '10', '8', '16', '11', '17', '12', '14', '15', '18', '13', '28', '48']\n",
      "Synonyms for '2 car carport, main level, off street parking': ['2 Car Carport, Main Level, Off Street Parking', '1 Car Carport, Main Level, Off Street Parking']\n",
      "Synonyms for '82 spaces': ['2 spaces', '8 spaces', '12 spaces', '32 spaces', '22 spaces', '89 spaces', '82 spaces', '42 spaces']\n",
      "Synonyms for '24': ['2', '4', '20', '27', '22', '14', '24', '34', '26', '21', '28', '23', '25']\n",
      "Synonyms for '2 car, concr, parking lot': ['9 Car, CONCR, Parking Lot', '2 Car, CONCR, Parking Lot']\n",
      "Synonyms for 'carport - 1 car, driveway': ['Carport - 1 Car, Driveway', 'Carport - 2 Car, Driveway']\n",
      "Synonyms for '150': ['10', '100', '153', '15', '140', '150', '110', '50', '120']\n",
      "Synonyms for 'garage - 3 car, garage door opener': ['Garage - 2 Car, Garage Door Opener', 'Garage - 3 Car, Garage Door Opener']\n",
      "Synonyms for 'driveway, on-street parking, parking space - 2': ['Driveway, On-Street Parking, Parking Space - 3', 'Driveway, On-Street Parking, Parking Space - 2']\n",
      "Synonyms for 'carport - 2 car, driveway': ['Carport - 1 Car, Driveway', 'Carport - 2 Car, Driveway']\n",
      "Synonyms for 'attached garage, driveway, garage - 3 car, garage door opener, keypad entry, side load garage': ['Attached Garage, Driveway, Garage - 2 Car, Garage Door Opener, Keypad Entry, Side Load Garage', 'Attached Garage, Driveway, Garage - 3 Car, Garage Door Opener, Keypad Entry, Side Load Garage']\n",
      "Synonyms for '2 car garage, front loading, main level, off street parking': ['2 Car Garage, Front Loading, Main Level, Off Street Parking', '1 Car Garage, Front Loading, Main Level, Off Street Parking']\n",
      "Synonyms for '110': ['10', '11', '100', '140', '150', '110', '111', '120']\n",
      "Synonyms for 'off street, on street, attached garage, detached garage': ['Off street, On street, Attached Garage, Detached Garage', 'Off Street, On Street, Attached Garage, Detached Garage']\n",
      "Synonyms for 'carport - 3+ car': ['Carport - 3+ Car', 'Carport - 3 Car', 'Carport - 4+ Car']\n",
      "Synonyms for '140 spaces': ['10 spaces', '14 spaces', '120 spaces', '40 spaces', '140 spaces', '100 spaces', '110 spaces', '144 spaces', '150 spaces']\n",
      "Synonyms for 'carport - 1 car, driveway, parking space - 3': ['Carport - 1 Car, Driveway, Parking Space - 3', 'Carport - 1 Car, Driveway, Parking Space - 2', 'Carport - 2 Car, Driveway, Parking Space - 3']\n",
      "Synonyms for '59 spaces': ['19 spaces', '5 spaces', '9 spaces', '50 spaces', '55 spaces', '89 spaces', '59 spaces', '79 spaces', '99 spaces', '29 spaces', '56 spaces', '529 spaces']\n",
      "Synonyms for 'on street, attached garage, detached garage': ['On street, Attached Garage, Detached Garage', 'On Street, Attached Garage, Detached Garage']\n",
      "Synonyms for 'driveway, on-street parking': ['Driveway, On Street Parking', 'Driveway, On-Street Parking']\n",
      "Synonyms for '1 car, attached - front, parking lot': ['1 Car, Attached - FRONT, Parking Lot', '2 Car, Attached - FRONT, Parking Lot']\n",
      "Synonyms for '238 spaces': ['28 spaces', '238 spaces', '23 spaces', '230 spaces']\n",
      "Synonyms for '79 spaces': ['7 spaces', '19 spaces', '9 spaces', '89 spaces', '59 spaces', '79 spaces', '99 spaces', '75 spaces', '70 spaces', '73 spaces', '29 spaces']\n",
      "Synonyms for '2 car, assigned, parking lot': ['1 Car, Assigned, Parking Lot', '2 Car, Assigned, Parking Lot', '3 Car, Assigned, Parking Lot']\n",
      "Synonyms for 'attached garage, carport - 2 car, garage - 3 car': ['Attached Garage, Carport - 2 Car, Garage - 3 Car', 'Attached Garage, Carport - 2 Car, Garage - 2 Car', 'Attached Garage, Carport - 2 Car, Garage - 1 Car']\n",
      "Synonyms for '1 off street, on street': ['1 Off Street, On Street', '2 Off Street, On Street']\n",
      "Synonyms for '200 spaces': ['20 spaces', '210 spaces', '200 spaces', '100 spaces', '2020 spaces', '230 spaces']\n",
      "Synonyms for 'attached garage, basement, garage - 3 car, on-street parking': ['Attached Garage, Basement, Garage - 3 Car, On-Street Parking', 'Attached Garage, Basement, Garage - 2 Car, On-Street Parking']\n",
      "Synonyms for 'asphalt driveway, off street, on street': ['Asphalt Driveway, Off Street, On Street', 'Asphalt, Driveway, Off Street, On Street']\n",
      "Synonyms for 'garage - 3 car, keypad entry, side load garage': ['Garage - 3 Car, Keypad Entry, Side Load Garage', 'Garage - 2 Car, Keypad Entry, Side Load Garage']\n",
      "Synonyms for 'assigned parking space - 2, lot': ['Assigned Parking Space - 2, Lot', 'Assigned Parking Space - 1, Lot']\n",
      "Synonyms for 'basement, garage - 2 car': ['Basement, Garage - 2 Car', 'Basement, Garage - 1 Car']\n",
      "Synonyms for 'detached, gravel': ['Detached, GRAVL', 'Detached, Gravel']\n",
      "Synonyms for 'attached garage, garage - 3 car, garage door opener': ['Attached Garage, Garage - 2 Car, Garage Door Opener', 'Attached Garage, Garage - 1 Car, Garage Door Opener', 'Attached Garage, Garage - 3 Car, Garage Door Opener']\n",
      "Synonyms for '3.00': ['1.00', '3.00', '6.00', '8.00', '2.00', '5.00']\n",
      "Synonyms for 'carport - 3 car': ['Carport - 1 Car', 'Carport - 2 Car', 'Carport - 3+ Car', 'Carport - 3 Car']\n",
      "Synonyms for '3 car garage, attached garage, detached garage': ['1 Car Garage, Attached Garage, Detached Garage', '3 Car Garage, Attached Garage, Detached Garage']\n",
      "Synonyms for '34': ['4', '3', '32', '30', '14', '24', '34']\n",
      "Synonyms for '2 car garage, detached garage, farm bldg, opener': ['2 Car Garage, Detached Garage, Farm Bldg, Opener', '3 Car Garage, Detached Garage, Farm Bldg, Opener']\n",
      "Synonyms for '99 spaces': ['19 spaces', '9 spaces', '93 spaces', '89 spaces', '59 spaces', '79 spaces', '99 spaces', '29 spaces']\n",
      "Synonyms for 'rv parking': ['RV Parking', 'Rv Parking']\n",
      "Synonyms for '353 spaces': ['353 spaces', '35 spaces']\n",
      "Synonyms for '100 spaces': ['10 spaces', '120 spaces', '140 spaces', '200 spaces', '100 spaces', '105 spaces', '110 spaces', '150 spaces', '108 spaces']\n",
      "Synonyms for '131 spaces': ['11 spaces', '13 spaces', '131 spaces', '331 spaces', '171 spaces']\n",
      "Synonyms for 'attached garage, garage - 1 car, parking space - 1': ['Attached Garage, Garage - 1 Car, Parking Space - 3', 'Attached Garage, Garage - 1 Car, Parking Space - 1', 'Attached Garage, Garage - 1 Car, Parking Space - 2', 'Attached Garage, Garage - 2 Car, Parking Space - 1']\n",
      "Synonyms for '68 spaces': ['6 spaces', '8 spaces', '28 spaces', '18 spaces', '68 spaces', '60 spaces']\n",
      "Synonyms for '37 spaces': ['3 spaces', '7 spaces', '30 spaces', '32 spaces', '17 spaces', '37 spaces', '36 spaces', '27 spaces', '35 spaces', '47 spaces']\n",
      "Synonyms for '2 off street, on street': ['1 Off Street, On Street', '2 Off Street, On Street']\n",
      "Synonyms for '1 car, detached, garage': ['1 Car, Detached, Garage', '2 Car, Detached, Garage']\n",
      "Synonyms for '1 car garage, detached, main level, off street parking': ['1 Car Garage, Detached, Main Level, Off Street Parking', '2 Car Garage, Detached, Main Level, Off Street Parking']\n",
      "Synonyms for '13': ['1', '10', '3', '16', '11', '17', '12', '153', '14', '15', '18', '13', '23']\n",
      "Synonyms for '26': ['2', '6', '16', '20', '27', '22', '24', '26', '21', '28', '23', '25', '46']\n",
      "Synonyms for '36 spaces': ['3 spaces', '6 spaces', '30 spaces', '16 spaces', '32 spaces', '37 spaces', '36 spaces', '56 spaces', '35 spaces']\n",
      "Synonyms for '21': ['2', '1', '20', '11', '27', '22', '24', '26', '21', '28', '51', '23', '25']\n",
      "Synonyms for '1 car garage, 2 off street, attached garage, on street': ['2 Car Garage, 2 Off Street, Attached Garage, On Street', '1 Car Garage, 1 Off Street, Attached Garage, On Street', '1 Car Garage, 2 Off Street, Attached Garage, On Street']\n",
      "Synonyms for 'attached garage, driveway, garage - 3 car, parking space - 4+': ['Attached Garage, Driveway, Garage - 1 Car, Parking Space - 4+', 'Attached Garage, Driveway, Garage - 3 Car, Parking Space - 4+', 'Attached Garage, Driveway, Garage - 2 Car, Parking Space - 4+']\n",
      "Synonyms for '112 spaces': ['12 spaces', '11 spaces', '112 spaces', '162 spaces', '110 spaces', '118 spaces']\n",
      "Synonyms for 'attached garage, back load garage, driveway, garage - 2 car, garage door opener': ['Attached Garage, Back Load Garage, Driveway, Garage - 2 Car, Garage Door Opener', 'Attached Garage, Back Load Garage, Driveway, Garage - 1 Car, Garage Door Opener']\n",
      "Synonyms for 'attached garage, 2 car garage': ['Attached Garage, 2 Car Garage', 'Attached Garage, 3 Car Garage']\n",
      "Synonyms for 'back load garage, garage - 3 car': ['Back Load Garage, Garage - 2 Car', 'Back Load Garage, Garage - 3 Car', 'Back Load Garage, Garage - 1 Car']\n",
      "Synonyms for 'garage - 3 car, garage door opener, side load garage': ['Garage - 2 Car, Garage Door Opener, Side Load Garage', 'Garage - 3 Car, Garage Door Opener, Side Load Garage']\n",
      "Synonyms for 'attached garage, driveway, garage - 3 car, parking space - 2': ['Attached Garage, Driveway, Garage - 2 Car, Parking Space - 2', 'Attached Garage, Driveway, Garage - 3 Car, Parking Space - 3', 'Attached Garage, Driveway, Garage - 3 Car, Parking Space - 2']\n",
      "Synonyms for 'carport - 1 car, driveway, parking space - 2': ['Carport - 1 Car, Driveway, Parking Space - 3', 'Carport - 1 Car, Driveway, Parking Space - 2', 'Carport - 2 Car, Driveway, Parking Space - 2']\n",
      "Synonyms for '6.00': ['1.00', '3.00', '6.00', '8.00', '2.00', '5.00']\n",
      "Synonyms for 'attached garage, garage - 1 car, garage door opener, keypad entry, on-street parking': ['Attached Garage, Garage - 1 Car, Garage Door Opener, Keypad Entry, On-Street Parking', 'Attached Garage, Garage - 2 Car, Garage Door Opener, Keypad Entry, On-Street Parking']\n",
      "Synonyms for '179': ['17', '179']\n",
      "Synonyms for 'attached, garage': ['Attached Garage', 'Attached, Garage']\n",
      "Synonyms for '2 car, attached - front, parking lot': ['1 Car, Attached - FRONT, Parking Lot', '2 Car, Attached - FRONT, Parking Lot']\n",
      "Synonyms for 'attached garage, garage - 2 car, garage door opener, tandem garage': ['Attached Garage, Garage - 3 Car, Garage Door Opener, Tandem Garage', 'Attached Garage, Garage - 2 Car, Garage Door Opener, Tandem Garage']\n",
      "Synonyms for '2 car garage, attached garage, farm bldg, opener': ['3 Car Garage, Attached Garage, Farm Bldg, Opener', '2 Car Garage, Attached Garage, Farm Bldg, Opener']\n",
      "Synonyms for 'assigned parking space - 1, parking garage, parking space - 1': ['Assigned Parking Space - 1, Parking Garage, Parking Space - 1', 'Assigned Parking Space - 1, Parking Garage, Parking Space - 2']\n",
      "Synonyms for 'assigned parking space - 1, parking garage, parking space - 2': ['Assigned Parking Space - 1, Parking Garage, Parking Space - 1', 'Assigned Parking Space - 1, Parking Garage, Parking Space - 2', 'Assigned Parking Space - 2, Parking Garage, Parking Space - 2']\n",
      "Synonyms for 'garage - 1 car, parking space - 4+': ['Garage - 2 Car, Parking Space - 4+', 'Garage - 1 Car, Parking Space - 4+']\n",
      "Synonyms for '2 car, detached, garage': ['1 Car, Detached, Garage', '2 Car, Detached, Garage']\n",
      "Synonyms for '28': ['2', '8', '20', '27', '22', '18', '24', '26', '21', '28', '23', '25', '228', '48']\n",
      "Synonyms for 'attached garage, garage - 2 car, golf cart garage, side load garage': ['Attached Garage, Garage - 2 Car, Golf Cart Garage, Side Load Garage', 'Attached Garage, Garage - 3 Car, Golf Cart Garage, Side Load Garage']\n",
      "Synonyms for '2 car space, on street parking': ['2 Car Space, On Street Parking', '1 Car Space, On Street Parking']\n",
      "Synonyms for 'carport, on street, detached garage': ['Carport, On Street, Detached Garage', 'Carport, On street, Detached Garage']\n",
      "Synonyms for 'parking spaces': ['Parking Space', 'Parking Spaces']\n",
      "Synonyms for '1 car garage, 2 off street, attached garage, on street, opener': ['2 Car Garage, 2 Off Street, Attached Garage, On Street, Opener', '1 Car Garage, 2 Off Street, Attached Garage, On Street, Opener']\n",
      "Synonyms for 'asphalt, driveway, on street': ['Asphalt, Driveway, On Street', 'Asphalt Driveway, On Street']\n",
      "Synonyms for '2 car garage, 2 off street, attached garage, opener': ['1 Car Garage, 2 Off Street, Attached Garage, Opener', '2 Car Garage, 2 Off Street, Attached Garage, Opener']\n",
      "Synonyms for '162 spaces': ['12 spaces', '16 spaces', '112 spaces', '162 spaces']\n",
      "Synonyms for '2 car garage, 2 off street, attached garage': ['2 Car Garage, 2 Off Street, Attached Garage', '1 Car Garage, 2 Off Street, Attached Garage']\n",
      "Synonyms for 'carport - 1 car, parking space - 4+': ['Carport - 2 Car, Parking Space - 4+', 'Carport - 1 Car, Parking Space - 4+']\n",
      "Synonyms for 'driveway, garage - 3 car': ['Driveway, Garage - 1 Car', 'Driveway, Garage - 2 Car', 'Driveway, Garage - 3 Car']\n",
      "Synonyms for 'assigned parking space - 2, parking garage, parking space - 2': ['Assigned Parking Space - 1, Parking Garage, Parking Space - 2', 'Assigned Parking Space - 2, Parking Garage, Parking Space - 2']\n",
      "Synonyms for 'attached garage, driveway, garage - 1 car, garage door opener': ['Attached Garage, Driveway, Garage - 3 Car, Garage Door Opener', 'Attached Garage, Driveway, Garage - 2 Car, Garage Door Opener', 'Attached Garage, Driveway, Garage - 1 Car, Garage Door Opener']\n",
      "Synonyms for '3 car garage, detached garage, farm bldg': ['3 Car Garage, Detached Garage, Farm Bldg', '2 Car Garage, Detached Garage, Farm Bldg']\n",
      "Synonyms for 'attached garage, 3 car garage': ['Attached Garage, 2 Car Garage', 'Attached Garage, 3 Car Garage']\n",
      "Synonyms for 'attached garage, garage - 1 car, garage door opener, on-street parking': ['Attached Garage, Garage - 2 Car, Garage Door Opener, On-Street Parking', 'Attached Garage, Garage - 1 Car, Garage Door Opener, On-Street Parking']\n",
      "Synonyms for '2 car attchd garage': ['2 Car Attchd Garage', '1 Car Attchd Garage']\n",
      "Synonyms for '4 car garage, detached garage': ['2 Car Garage, Detached Garage', '3 Car Garage, Detached Garage', '4 Car Garage, Detached Garage', '1 Car Garage, Detached Garage']\n",
      "Synonyms for 'main level, off-street parking': ['Main Level, Off Street Parking', 'Main Level, Off-Street Parking']\n",
      "Synonyms for '75 spaces': ['7 spaces', '5 spaces', '15 spaces', '55 spaces', '79 spaces', '75 spaces', '70 spaces', '25 spaces', '73 spaces', '35 spaces']\n",
      "Synonyms for 'asphalt driveway, on street': ['Asphalt, Driveway, On Street', 'Asphalt Driveway, On Street']\n",
      "Synonyms for 'assigned parking space - 2, attached garage': ['Assigned Parking Space - 2, Attached Garage', 'Assigned Parking Space - 1, Attached Garage']\n",
      "Synonyms for '1 car garage': ['2 Car Garage', '1 Car Garage', '3 Car Garage', '4 Car Garage']\n",
      "Synonyms for '105 spaces': ['10 spaces', '15 spaces', '100 spaces', '105 spaces', '108 spaces']\n",
      "Synonyms for 'parking deck, parking space - 2': ['Parking Deck, Parking Space - 1', 'Parking Deck, Parking Space - 2']\n",
      "Synonyms for 'garage - 2 car, garage door opener, keypad entry, parking space - 4+': ['Garage - 2 Car, Garage Door Opener, Keypad Entry, Parking Space - 4+', 'Garage - 3 Car, Garage Door Opener, Keypad Entry, Parking Space - 4+']\n",
      "Synonyms for '70 spaces': ['7 spaces', '10 spaces', '30 spaces', '20 spaces', '50 spaces', '40 spaces', '79 spaces', '75 spaces', '70 spaces', '73 spaces', '60 spaces']\n",
      "Synonyms for 'driveway, garage - 2 car, parking space - 2': ['Driveway, Garage - 2 Car, Parking Space - 3', 'Driveway, Garage - 2 Car, Parking Space - 2']\n",
      "Synonyms for '24 spaces': ['2 spaces', '4 spaces', '14 spaces', '20 spaces', '2+ Spaces', '28 spaces', '22 spaces', '24 spaces', '25 spaces', '27 spaces', '29 spaces', '44 spaces', '21 spaces', '23 spaces']\n",
      "Synonyms for 'on-street parking, parking space - 1': ['On-Street Parking, Parking Space - 1', 'On-Street Parking, Parking Space - 3']\n",
      "Synonyms for 'attached garage, garage - 3 car, tandem garage': ['Attached Garage, Garage - 2 Car, Tandem Garage', 'Attached Garage, Garage - 3 Car, Tandem Garage']\n",
      "Synonyms for 'attached garage, driveway, garage - 2 car, parking space - 3': ['Attached Garage, Driveway, Garage - 2 Car, Parking Space - 2', 'Attached Garage, Driveway, Garage - 3 Car, Parking Space - 3', 'Attached Garage, Driveway, Garage - 2 Car, Parking Space - 3']\n",
      "Synonyms for 'carport, on street, attached garage': ['Carport, On Street, Attached Garage', 'Carport, On street, Attached Garage']\n",
      "Synonyms for '1 car garage, detached garage': ['2 Car Garage, Detached Garage', '3 Car Garage, Detached Garage', '4 Car Garage, Detached Garage', '1 Car Garage, Detached Garage']\n",
      "Synonyms for '25 spaces': ['2 spaces', '5 spaces', '20 spaces', '2+ Spaces', '15 spaces', '28 spaces', '55 spaces', '22 spaces', '75 spaces', '24 spaces', '25 spaces', '27 spaces', '29 spaces', '252 spaces', '35 spaces', '21 spaces', '23 spaces']\n",
      "Synonyms for '3 car garage, detached garage, farm bldg, opener': ['2 Car Garage, Detached Garage, Farm Bldg, Opener', '3 Car Garage, Detached Garage, Farm Bldg, Opener']\n",
      "Synonyms for 'attached garage, garage - 3 car, keypad entry, side load garage': ['Attached Garage, Garage - 3 Car, Keypad Entry, Side Load Garage', 'Attached Garage, Garage - 2 Car, Keypad Entry, Side Load Garage']\n",
      "Synonyms for 'attached garage, garage - 3 car, parking space - 4+': ['Attached Garage, Garage - 2 Car, Parking Space - 4+', 'Attached Garage, Garage - 3 Car, Parking Space - 4+']\n",
      "Synonyms for '1 car garage, attached, front loading, off street parking': ['2 Car Garage, Attached, Front Loading, Off Street Parking', '1 Car Garage, Attached, Front Loading, Off Street Parking']\n",
      "Synonyms for '3 car garage, attached garage, heated, opener': ['2 Car Garage, Attached Garage, Heated, Opener', '3 Car Garage, Attached Garage, Heated, Opener', '1 Car Garage, Attached Garage, Heated, Opener']\n",
      "Synonyms for 'asphalt, driveway': ['Asphalt Driveway', 'Asphalt, Driveway']\n",
      "Synonyms for '51': ['1', '5', '11', '55', '21', '51', '50']\n",
      "Synonyms for '3 car garage, attached garage, side load': ['3 Car Garage, Attached Garage, Side Load', '2 Car Garage, Attached Garage, Side Load']\n",
      "Synonyms for 'parking garage, parking space - 2': ['Parking Garage, Parking Space - 1', 'Parking Garage, Parking Space - 2']\n",
      "Synonyms for '8.00': ['1.00', '3.00', '6.00', '8.00', '2.00', '5.00']\n",
      "Synonyms for '1 car space, guest parking': ['1 Car Space, Guest Parking', '2 Car Space, Guest Parking']\n",
      "Synonyms for '2020 spaces': ['200 spaces', '2020 spaces']\n",
      "Synonyms for '110 spaces': ['10 spaces', '120 spaces', '11 spaces', '210 spaces', '140 spaces', '100 spaces', '112 spaces', '110 spaces', '150 spaces', '118 spaces']\n",
      "Synonyms for '2 car garage, parking under building': ['2 Car Garage, Parking Under Building', '1 Car Garage, Parking Under Building']\n",
      "Synonyms for '27 spaces': ['2 spaces', '7 spaces', '20 spaces', '2+ Spaces', '28 spaces', '22 spaces', '17 spaces', '37 spaces', '24 spaces', '25 spaces', '27 spaces', '29 spaces', '21 spaces', '23 spaces', '47 spaces']\n",
      "Synonyms for 'back load garage, garage - 1 car': ['Back Load Garage, Garage - 2 Car', 'Back Load Garage, Garage - 3 Car', 'Back Load Garage, Garage - 1 Car']\n",
      "Synonyms for '1 car garage, basement, off street parking': ['1 Car Garage, Basement, Off Street Parking', '2 Car Garage, Basement, Off Street Parking']\n",
      "Synonyms for '1 car garage, front loading, main level, off street parking': ['2 Car Garage, Front Loading, Main Level, Off Street Parking', '1 Car Garage, Front Loading, Main Level, Off Street Parking']\n",
      "Synonyms for 'attached garage, garage - 1 car, parking space - 2': ['Attached Garage, Garage - 2 Car, Parking Space - 2', 'Attached Garage, Garage - 1 Car, Parking Space - 3', 'Attached Garage, Garage - 1 Car, Parking Space - 1', 'Attached Garage, Garage - 1 Car, Parking Space - 2']\n",
      "Synonyms for 'carport - 4+ car': ['Carport - 3+ Car', 'Carport - 4+ Car']\n",
      "Synonyms for 'assigned parking space - 1, attached garage': ['Assigned Parking Space - 2, Attached Garage', 'Assigned Parking Space - 1, Attached Garage']\n",
      "Synonyms for 'attached garage, garage - 3 car, golf cart garage, side load garage': ['Attached Garage, Garage - 2 Car, Golf Cart Garage, Side Load Garage', 'Attached Garage, Garage - 3 Car, Golf Cart Garage, Side Load Garage']\n",
      "Synonyms for '1 car garage, 2 off street, detached garage, on street': ['1 Car Garage, 2 Off Street, Detached Garage, On Street', '2 Car Garage, 2 Off Street, Detached Garage, On Street', '1 Car Garage, 1 Off Street, Detached Garage, On Street']\n",
      "Synonyms for 'garage - 2 car, keypad entry, side load garage': ['Garage - 3 Car, Keypad Entry, Side Load Garage', 'Garage - 2 Car, Keypad Entry, Side Load Garage']\n",
      "Synonyms for 'basement, garage - 1 car': ['Basement, Garage - 2 Car', 'Basement, Garage - 1 Car']\n",
      "Synonyms for 'assigned parking space - 1, parking space - 2': ['Assigned Parking Space - 1, Parking Space - 1', 'Assigned Parking Space - 1, Parking Space - 2']\n",
      "Synonyms for 'attached garage, driveway, garage - 3 car, garage door opener, on-street parking': ['Attached Garage, Driveway, Garage - 2 Car, Garage Door Opener, On-Street Parking', 'Attached Garage, Driveway, Garage - 3 Car, Garage Door Opener, On-Street Parking', 'Attached Garage, Driveway, Garage - 1 Car, Garage Door Opener, On-Street Parking']\n",
      "Synonyms for 'attached garage, back load garage, driveway, garage - 1 car, garage door opener': ['Attached Garage, Back Load Garage, Driveway, Garage - 2 Car, Garage Door Opener', 'Attached Garage, Back Load Garage, Driveway, Garage - 1 Car, Garage Door Opener']\n",
      "Synonyms for '2 car garage, 2 off street, detached garage': ['1 Car Garage, 2 Off Street, Detached Garage', '2 Car Garage, 2 Off Street, Detached Garage']\n",
      "Synonyms for '2.00': ['1.00', '3.00', '6.00', '8.00', '2.00', '5.00']\n",
      "Synonyms for 'assigned parking space - 2, lot, on-street parking': ['Assigned Parking Space - 1, Lot, On-Street Parking', 'Assigned Parking Space - 2, Lot, On-Street Parking']\n",
      "Synonyms for 'rv/boat parking': ['Rv/Boat Parking', 'RV/Boat Parking']\n",
      "Synonyms for '1 carport, 2 off street': ['1 Carport, 2 Off Street', '2 Carport, 2 Off Street']\n",
      "Synonyms for '73 spaces': ['3 spaces', '7 spaces', '93 spaces', '13 spaces', '79 spaces', '75 spaces', '70 spaces', '73 spaces', '23 spaces', '43 spaces']\n",
      "Synonyms for 'detached garage, garage - 3 car, parking space - 4+': ['Detached Garage, Garage - 3 Car, Parking Space - 4+', 'Detached Garage, Garage - 2 Car, Parking Space - 4+']\n",
      "Synonyms for '329': ['32', '329']\n",
      "Synonyms for 'on-street parking, parking space - 3': ['On-Street Parking, Parking Space - 1', 'On-Street Parking, Parking Space - 3']\n",
      "Synonyms for '2 car garage, attached garage, detached garage, side load': ['2 Car Garage, Attached Garage, Detached Garage, Side Load', '4 Car Garage, Attached Garage, Detached Garage, Side Load']\n",
      "Synonyms for '2 car garage, attached garage, detached garage, opener': ['2 Car Garage, Attached Garage, Detached Garage, Opener', '4 Car Garage, Attached Garage, Detached Garage, Opener']\n",
      "Synonyms for 'attached garage, carport - 2 car, garage - 2 car': ['Attached Garage, Carport - 2 Car, Garage - 3 Car', 'Attached Garage, Carport - 2 Car, Garage - 2 Car', 'Attached Garage, Carport - 2 Car, Garage - 1 Car']\n",
      "Synonyms for '2 car garage, on street': ['2 Car Garage, On Street', '1 Car Garage, On Street']\n",
      "Synonyms for '2 car garage, attached garage, side load': ['3 Car Garage, Attached Garage, Side Load', '2 Car Garage, Attached Garage, Side Load']\n",
      "Synonyms for '3 car garage': ['2 Car Garage', '1 Car Garage', '3 Car Garage', '4 Car Garage']\n",
      "Synonyms for '50': ['0', '10', '5', '20', '60', '55', '30', '40', '150', '51', '50']\n",
      "Synonyms for 'carport - 1 car, parking space - 2': ['Carport - 1 Car, Parking Space - 3', 'Carport - 1 Car, Parking Space - 2', 'Carport - 2 Car, Parking Space - 2']\n",
      "Synonyms for '3 car, assigned, parking lot': ['1 Car, Assigned, Parking Lot', '2 Car, Assigned, Parking Lot', '3 Car, Assigned, Parking Lot']\n",
      "Synonyms for '23': ['2', '3', '20', '27', '22', '24', '13', '26', '21', '28', '23', '25']\n",
      "Synonyms for '1 car, parking lot, unassigned': ['2 Car, Parking Lot, Unassigned', '1 Car, Parking Lot, Unassigned']\n",
      "Synonyms for 'garage - 3 car, garage door opener, keypad entry': ['Garage - 2 Car, Garage Door Opener, Keypad Entry', 'Garage - 3 Car, Garage Door Opener, Keypad Entry']\n",
      "Synonyms for '157 spaces': ['15 spaces', '17 spaces', '157 spaces', '150 spaces']\n",
      "Synonyms for 'attached garage, garage - 3 car, garage door opener, keypad entry, side load garage': ['Attached Garage, Garage - 2 Car, Garage Door Opener, Keypad Entry, Side Load Garage', 'Attached Garage, Garage - 3 Car, Garage Door Opener, Keypad Entry, Side Load Garage']\n",
      "Synonyms for 'attached garage, garage - 2 car, parking space - 1': ['Attached Garage, Garage - 2 Car, Parking Space - 2', 'Attached Garage, Garage - 1 Car, Parking Space - 1', 'Attached Garage, Garage - 2 Car, Parking Space - 1', 'Attached Garage, Garage - 2 Car, Parking Space - 3']\n",
      "Synonyms for '2 assigned, driveway paved': ['2 Assigned, Driveway Paved', '1 Assigned, Driveway Paved']\n",
      "Synonyms for '3 car garage, detached garage, opener': ['2 Car Garage, Detached Garage, Opener', '1 Car Garage, Detached Garage, Opener', '4 Car Garage, Detached Garage, Opener', '3 Car Garage, Detached Garage, Opener']\n",
      "Synonyms for '1 car, parking lot, paved': ['2 Car, Parking Lot, PAVED', '1 Car, Parking Lot, PAVED']\n",
      "Synonyms for 'attached garage, garage - 2 car, garage door opener, keypad entry, on-street parking': ['Attached Garage, Garage - 1 Car, Garage Door Opener, Keypad Entry, On-Street Parking', 'Attached Garage, Garage - 2 Car, Garage Door Opener, Keypad Entry, On-Street Parking']\n",
      "Synonyms for 'concrete, driveway': ['Concrete Driveway', 'Concrete, Driveway']\n",
      "Synonyms for '29 spaces': ['2 spaces', '19 spaces', '9 spaces', '20 spaces', '2+ Spaces', '28 spaces', '22 spaces', '89 spaces', '59 spaces', '79 spaces', '99 spaces', '24 spaces', '25 spaces', '27 spaces', '29 spaces', '21 spaces', '529 spaces', '23 spaces']\n",
      "Synonyms for 'carport - 2 car, detached garage, garage - 2 car, parking space - 4+': ['Carport - 2 Car, Detached Garage, Garage - 2 Car, Parking Space - 4+', 'Carport - 2 Car, Detached Garage, Garage - 1 Car, Parking Space - 4+']\n",
      "Synonyms for 'garage - 1 car, side load garage': ['Garage - 3 Car, Side Load Garage', 'Garage - 2 Car, Side Load Garage', 'Garage - 1 Car, Side Load Garage']\n",
      "Synonyms for 'carport - 2 car, detached garage, garage - 1 car, parking space - 4+': ['Carport - 2 Car, Detached Garage, Garage - 2 Car, Parking Space - 4+', 'Carport - 2 Car, Detached Garage, Garage - 1 Car, Parking Space - 4+', 'Carport - 1 Car, Detached Garage, Garage - 1 Car, Parking Space - 4+']\n",
      "Synonyms for 'carport - 2 car, driveway, parking space - 3': ['Carport - 1 Car, Driveway, Parking Space - 3', 'Carport - 2 Car, Driveway, Parking Space - 3', 'Carport - 2 Car, Driveway, Parking Space - 2']\n",
      "Synonyms for '1 car garage, 2 off street, attached garage': ['1 Car Garage, 1 Off Street, Attached Garage', '2 Car Garage, 2 Off Street, Attached Garage', '1 Car Garage, 2 Off Street, Attached Garage']\n",
      "Synonyms for '56 spaces': ['6 spaces', '5 spaces', '16 spaces', '50 spaces', '55 spaces', '59 spaces', '36 spaces', '56 spaces']\n",
      "Synonyms for '2 car garage, basement, off street parking': ['1 Car Garage, Basement, Off Street Parking', '2 Car Garage, Basement, Off Street Parking']\n",
      "Synonyms for 'carport - 2 car, driveway, parking space - 2': ['Carport - 1 Car, Driveway, Parking Space - 2', 'Carport - 2 Car, Driveway, Parking Space - 3', 'Carport - 2 Car, Driveway, Parking Space - 2']\n",
      "Synonyms for 'attached garage, garage - 2 car, keypad entry, side load garage': ['Attached Garage, Garage - 3 Car, Keypad Entry, Side Load Garage', 'Attached Garage, Garage - 2 Car, Keypad Entry, Side Load Garage']\n",
      "Synonyms for 'garage - 3 car, garage door opener, keypad entry, parking space - 4+': ['Garage - 2 Car, Garage Door Opener, Keypad Entry, Parking Space - 4+', 'Garage - 3 Car, Garage Door Opener, Keypad Entry, Parking Space - 4+']\n",
      "Synonyms for 'attached garage, garage - 3 car, garage door opener, parking space - 4+, side load garage': ['Attached Garage, Garage - 2 Car, Garage Door Opener, Parking Space - 4+, Side Load Garage', 'Attached Garage, Garage - 3 Car, Garage Door Opener, Parking Space - 4+, Side Load Garage']\n",
      "Synonyms for 'driveway, garage - 3 car, garage door opener, keypad entry': ['Driveway, Garage - 2 Car, Garage Door Opener, Keypad Entry', 'Driveway, Garage - 3 Car, Garage Door Opener, Keypad Entry']\n",
      "Synonyms for '2 carport, 2 off street': ['1 Carport, 2 Off Street', '2 Carport, 2 Off Street']\n",
      "Synonyms for '4 car garage': ['2 Car Garage', '1 Car Garage', '3 Car Garage', '4 Car Garage']\n",
      "Synonyms for '60 spaces': ['6 spaces', '10 spaces', '30 spaces', '20 spaces', '50 spaces', '40 spaces', '68 spaces', '70 spaces', '60 spaces']\n",
      "Synonyms for '5.00': ['1.00', '3.00', '6.00', '8.00', '2.00', '5.00']\n",
      "Synonyms for '2 car, parking lot, paved, unassigned': ['2 Car, Parking Lot, PAVED, Unassigned', '1 Car, Parking Lot, PAVED, Unassigned']\n",
      "Synonyms for 'carport - 2 car, garage - 1 car': ['Carport - 2 Car, Garage - 1 Car', 'Carport - 1 Car, Garage - 1 Car']\n",
      "Synonyms for '1 car garage, 2 off street, detached garage, opener': ['1 Car Garage, 2 Off Street, Detached Garage, Opener', '1 Car Garage, 1 Off Street, Detached Garage, Opener']\n",
      "Synonyms for '1 car garage, 1 off street, detached garage, opener': ['1 Car Garage, 2 Off Street, Detached Garage, Opener', '1 Car Garage, 1 Off Street, Detached Garage, Opener']\n",
      "Synonyms for '144 spaces': ['14 spaces', '140 spaces', '144 spaces', '44 spaces']\n",
      "Synonyms for '1 car garage, detached, off street parking, utility garage': ['2 Car Garage, Detached, Off Street Parking, Utility Garage', '1 Car Garage, Detached, Off Street Parking, Utility Garage']\n",
      "Synonyms for '1 assigned, driveway paved': ['2 Assigned, Driveway Paved', '1 Assigned, Driveway Paved']\n",
      "Synonyms for '4 car garage, attached garage': ['2 Car Garage, Attached Garage', '1 Car Garage, Attached Garage', '3 Car Garage, Attached Garage', '4 Car Garage, Attached Garage']\n",
      "Synonyms for '150 spaces': ['10 spaces', '120 spaces', '50 spaces', '15 spaces', '140 spaces', '100 spaces', '110 spaces', '157 spaces', '150 spaces']\n",
      "Synonyms for 'carport - 1 car, detached garage, garage - 3 car': ['Carport - 2 Car, Detached Garage, Garage - 3 Car', 'Carport - 1 Car, Detached Garage, Garage - 3 Car']\n",
      "Synonyms for '1 car space, on street parking': ['2 Car Space, On Street Parking', '1 Car Space, On Street Parking']\n",
      "Synonyms for '331 spaces': ['131 spaces', '331 spaces']\n",
      "Synonyms for 'detached garage, garage - 2 car, parking space - 4+': ['Detached Garage, Garage - 3 Car, Parking Space - 4+', 'Detached Garage, Garage - 2 Car, Parking Space - 4+']\n",
      "Synonyms for 'detached garage, garage - 3 car': ['Detached Garage, Garage - 2 Car', 'Detached Garage, Garage - 1 Car', 'Detached Garage, Garage - 3 Car']\n",
      "Synonyms for '75': ['7', '5', '55', '15', '75', '25']\n",
      "Synonyms for '252 spaces': ['22 spaces', '25 spaces', '252 spaces', '222 spaces']\n",
      "Synonyms for '1 car attchd garage': ['2 Car Attchd Garage', '1 Car Attchd Garage']\n",
      "Synonyms for '44 spaces': ['4 spaces', '14 spaces', '40 spaces', '24 spaces', '144 spaces', '44 spaces', '42 spaces', '41 spaces', '43 spaces', '47 spaces']\n",
      "Synonyms for 'assigned parking space - 1, lot': ['Assigned Parking Space - 2, Lot', 'Assigned Parking Space - 1, Lot']\n",
      "Synonyms for '35 spaces': ['3 spaces', '5 spaces', '30 spaces', '15 spaces', '32 spaces', '55 spaces', '353 spaces', '37 spaces', '36 spaces', '75 spaces', '25 spaces', '35 spaces']\n",
      "Synonyms for '42 spaces': ['2 spaces', '4 spaces', '12 spaces', '40 spaces', '32 spaces', '22 spaces', '82 spaces', '44 spaces', '42 spaces', '41 spaces', '43 spaces', '47 spaces']\n",
      "Synonyms for '2 car space, guest parking': ['1 Car Space, Guest Parking', '2 Car Space, Guest Parking']\n",
      "Synonyms for '25': ['2', '5', '20', '27', '55', '22', '15', '24', '26', '21', '28', '23', '75', '25', '252']\n",
      "Synonyms for 'attached garage, driveway, garage - 2 car, parking space - 4+': ['Attached Garage, Driveway, Garage - 1 Car, Parking Space - 4+', 'Attached Garage, Driveway, Garage - 3 Car, Parking Space - 4+', 'Attached Garage, Driveway, Garage - 2 Car, Parking Space - 4+']\n",
      "Synonyms for '2 car garage, 2 off street, detached garage, on street': ['1 Car Garage, 2 Off Street, Detached Garage, On Street', '2 Car Garage, 2 Off Street, Detached Garage, On Street']\n",
      "Synonyms for 'attached garage, garage - 3 car, garage door opener, keypad entry': ['Attached Garage, Garage - 2 Car, Garage Door Opener, Keypad Entry', 'Attached Garage, Garage - 3 Car, Garage Door Opener, Keypad Entry']\n",
      "Synonyms for '46': ['4', '6', '16', '42', '40', '26', '46', '48']\n",
      "Synonyms for '108 spaces': ['10 spaces', '18 spaces', '100 spaces', '105 spaces', '108 spaces', '118 spaces']\n",
      "Synonyms for 'driveway, garage - 3 car, on-street parking': ['Driveway, Garage - 3 Car, On-Street Parking', 'Driveway, Garage - 2 Car, On-Street Parking', 'Driveway, Garage - 1 Car, On-Street Parking']\n",
      "Synonyms for '228': ['22', '28', '228']\n",
      "Synonyms for 'assigned parking space - 2, on-street parking': ['Assigned Parking Space - 1, On-Street Parking', 'Assigned Parking Space - 2, On-Street Parking']\n",
      "Synonyms for '252': ['22', '25', '252']\n",
      "Synonyms for 'attached garage, carport - 2 car, garage - 1 car': ['Attached Garage, Carport - 2 Car, Garage - 3 Car', 'Attached Garage, Carport - 2 Car, Garage - 2 Car', 'Attached Garage, Carport - 2 Car, Garage - 1 Car']\n",
      "Synonyms for '2 car garage, detached garage, farm bldg': ['3 Car Garage, Detached Garage, Farm Bldg', '2 Car Garage, Detached Garage, Farm Bldg']\n",
      "Synonyms for 'carport - 2 car, detached garage, garage - 1 car': ['Carport - 2 Car, Detached Garage, Garage - 3 Car', 'Carport - 2 Car, Detached Garage, Garage - 1 Car']\n",
      "Synonyms for 'attached garage, garage - 3 car, parking space - 4+, side load garage': ['Attached Garage, Garage - 2 Car, Parking Space - 4+, Side Load Garage', 'Attached Garage, Garage - 3 Car, Parking Space - 4+, Side Load Garage']\n",
      "Synonyms for '3 car garage, opener': ['2 Car Garage, Opener', '3 Car Garage, Opener']\n",
      "Synonyms for 'attached garage, basement, garage - 2 car, on-street parking': ['Attached Garage, Basement, Garage - 3 Car, On-Street Parking', 'Attached Garage, Basement, Garage - 2 Car, On-Street Parking']\n",
      "Synonyms for 'carport - 2 car, parking space - 3': ['Carport - 1 Car, Parking Space - 3', 'Carport - 2 Car, Parking Space - 3', 'Carport - 2 Car, Parking Space - 2']\n",
      "Synonyms for '171 spaces': ['11 spaces', '17 spaces', '131 spaces', '171 spaces']\n",
      "Synonyms for 'attached garage, garage - 3 car, keypad entry': ['Attached Garage, Garage - 2 Car, Keypad Entry', 'Attached Garage, Garage - 3 Car, Keypad Entry']\n",
      "Synonyms for 'attached garage, driveway, garage - 2 car, parking space - 4+, side load garage': ['Attached Garage, Driveway, Garage - 2 Car, Parking Space - 4+, Side Load Garage', 'Attached Garage, Driveway, Garage - 3 Car, Parking Space - 4+, Side Load Garage']\n",
      "Synonyms for 'carport - 1 car, garage - 1 car': ['Carport - 2 Car, Garage - 1 Car', 'Carport - 1 Car, Garage - 1 Car', 'Carport - 1 Car, Garage - 3 Car']\n",
      "Synonyms for '21 spaces': ['2 spaces', '21+ Spaces', '20 spaces', '2+ Spaces', '11 spaces', '28 spaces', '22 spaces', '210 spaces', '24 spaces', '25 spaces', '27 spaces', '29 spaces', '21 spaces', '41 spaces', '23 spaces']\n",
      "Synonyms for '41 spaces': ['4 spaces', '11 spaces', '40 spaces', '44 spaces', '42 spaces', '21 spaces', '41 spaces', '43 spaces', '47 spaces']\n",
      "Synonyms for 'driveway, garage - 2 car, on-street parking': ['Driveway, Garage - 3 Car, On-Street Parking', 'Driveway, Garage - 2 Car, On-Street Parking', 'Driveway, Garage - 1 Car, On-Street Parking']\n",
      "Synonyms for 'carport - 1 car, detached garage, garage - 1 car, parking space - 4+': ['Carport - 2 Car, Detached Garage, Garage - 1 Car, Parking Space - 4+', 'Carport - 1 Car, Detached Garage, Garage - 1 Car, Parking Space - 4+']\n",
      "Synonyms for 'driveway, garage - 1 car, on-street parking': ['Driveway, Garage - 3 Car, On-Street Parking', 'Driveway, Garage - 2 Car, On-Street Parking', 'Driveway, Garage - 1 Car, On-Street Parking']\n",
      "Synonyms for 'carport - 1 car, garage - 3 car': ['Carport - 1 Car, Garage - 1 Car', 'Carport - 1 Car, Garage - 3 Car']\n",
      "Synonyms for '111': ['11', '110', '111']\n",
      "Synonyms for '529 spaces': ['5209 spaces', '59 spaces', '29 spaces', '529 spaces']\n",
      "Synonyms for '23 spaces': ['2 spaces', '3 spaces', '20 spaces', '2+ Spaces', '28 spaces', '93 spaces', '22 spaces', '13 spaces', '238 spaces', '24 spaces', '25 spaces', '27 spaces', '73 spaces', '29 spaces', '21 spaces', '23 spaces', '43 spaces', '230 spaces']\n",
      "Synonyms for '1 car, parking lot, paved, unassigned': ['2 Car, Parking Lot, PAVED, Unassigned', '1 Car, Parking Lot, PAVED, Unassigned']\n",
      "Synonyms for '4 car garage, attached garage, detached garage, side load': ['2 Car Garage, Attached Garage, Detached Garage, Side Load', '4 Car Garage, Attached Garage, Detached Garage, Side Load']\n",
      "Synonyms for 'carport - 2 car, parking space - 2': ['Carport - 1 Car, Parking Space - 2', 'Carport - 2 Car, Parking Space - 3', 'Carport - 2 Car, Parking Space - 2']\n",
      "Synonyms for 'attached garage, driveway, garage - 1 car, garage door opener, on-street parking': ['Attached Garage, Driveway, Garage - 2 Car, Garage Door Opener, On-Street Parking', 'Attached Garage, Driveway, Garage - 3 Car, Garage Door Opener, On-Street Parking', 'Attached Garage, Driveway, Garage - 1 Car, Garage Door Opener, On-Street Parking']\n",
      "Synonyms for '1 car garage, on street': ['2 Car Garage, On Street', '1 Car Garage, On Street']\n",
      "Synonyms for '222 spaces': ['22 spaces', '252 spaces', '222 spaces']\n",
      "Synonyms for 'garage - 2 car, garage door opener, keypad entry, side load garage': ['Garage - 3 Car, Garage Door Opener, Keypad Entry, Side Load Garage', 'Garage - 2 Car, Garage Door Opener, Keypad Entry, Side Load Garage']\n",
      "Synonyms for '1 carport': ['1 Carport', '2 Carport']\n",
      "Synonyms for '4 car garage, attached garage, detached garage, opener': ['2 Car Garage, Attached Garage, Detached Garage, Opener', '4 Car Garage, Attached Garage, Detached Garage, Opener']\n",
      "Synonyms for '43 spaces': ['4 spaces', '3 spaces', '93 spaces', '40 spaces', '13 spaces', '73 spaces', '44 spaces', '42 spaces', '41 spaces', '23 spaces', '43 spaces', '47 spaces']\n",
      "Synonyms for '1 car garage, 1 off street, detached garage, on street': ['1 Car Garage, 2 Off Street, Detached Garage, On Street', '1 Car Garage, 1 Off Street, Detached Garage, On Street']\n",
      "Synonyms for '1 car garage, parking under building': ['2 Car Garage, Parking Under Building', '1 Car Garage, Parking Under Building']\n",
      "Synonyms for 'lot, parking space - 3': ['Lot, Parking Space - 1', 'Lot, Parking Space - 2', 'Lot, Parking Space - 3']\n",
      "Synonyms for '48': ['4', '8', '42', '40', '18', '28', '46', '48']\n",
      "Synonyms for '230 spaces': ['30 spaces', '20 spaces', '210 spaces', '238 spaces', '200 spaces', '23 spaces', '230 spaces']\n",
      "Synonyms for 'attached garage, driveway, garage - 3 car, parking space - 4+, side load garage': ['Attached Garage, Driveway, Garage - 2 Car, Parking Space - 4+, Side Load Garage', 'Attached Garage, Driveway, Garage - 3 Car, Parking Space - 4+, Side Load Garage']\n",
      "Synonyms for 'attached garage, garage - 2 car, garage door opener, parking space - 3, side load garage': ['Attached Garage, Garage - 3 Car, Garage Door Opener, Parking Space - 3, Side Load Garage', 'Attached Garage, Garage - 2 Car, Garage Door Opener, Parking Space - 3, Side Load Garage']\n",
      "Synonyms for '47 spaces': ['4 spaces', '7 spaces', '40 spaces', '17 spaces', '37 spaces', '27 spaces', '44 spaces', '42 spaces', '41 spaces', '43 spaces', '47 spaces']\n",
      "Synonyms for 'asphalt, driveway, off street, on street': ['Asphalt Driveway, Off Street, On Street', 'Asphalt, Driveway, Off Street, On Street']\n",
      "Synonyms for '2 car garage, 4 car garage, attached garage, detached garage, opener': ['2 Car Garage, 3 Car Garage, Attached Garage, Detached Garage, Opener', '2 Car Garage, 4 Car Garage, Attached Garage, Detached Garage, Opener']\n",
      "Synonyms for 'attached garage, back load garage, garage - 1 car, garage door opener, keypad entry, on-street parking': ['Attached Garage, Back Load Garage, Garage - 2 Car, Garage Door Opener, Keypad Entry, On-Street Parking', 'Attached Garage, Back Load Garage, Garage - 1 Car, Garage Door Opener, Keypad Entry, On-Street Parking']\n",
      "Synonyms for '2 carport': ['1 Carport', '2 Carport']\n",
      "Synonyms for '-carport': ['Carport', '-Carport']\n",
      "Synonyms for '4 car garage, attached garage, opener, side load': ['2 Car Garage, Attached Garage, Opener, Side Load', '3 Car Garage, Attached Garage, Opener, Side Load', '4 Car Garage, Attached Garage, Opener, Side Load']\n",
      "Synonyms for '120': ['10', '20', '100', '12', '140', '150', '110', '120']\n",
      "Synonyms for '1 car garage, attached garage, heated, opener': ['2 Car Garage, Attached Garage, Heated, Opener', '3 Car Garage, Attached Garage, Heated, Opener', '1 Car Garage, Attached Garage, Heated, Opener']\n",
      "Synonyms for 'attached garage, garage - 2 car, parking space - 3': ['Attached Garage, Garage - 2 Car, Parking Space - 2', 'Attached Garage, Garage - 1 Car, Parking Space - 3', 'Attached Garage, Garage - 2 Car, Parking Space - 1', 'Attached Garage, Garage - 2 Car, Parking Space - 3']\n",
      "Synonyms for 'attached garage, basement, driveway, garage - 2 car': ['Attached Garage, Basement, Driveway, Garage - 1 Car', 'Attached Garage, Basement, Driveway, Garage - 2 Car']\n",
      "Synonyms for '2 car garage, detached, main level, off street parking': ['1 Car Garage, Detached, Main Level, Off Street Parking', '2 Car Garage, Detached, Main Level, Off Street Parking']\n",
      "Synonyms for '1 car garage, attached, basement, off street parking': ['2 Car Garage, Attached, Basement, Off Street Parking', '1 Car Garage, Attached, Basement, Off Street Parking']\n",
      "Synonyms for '118 spaces': ['11 spaces', '18 spaces', '112 spaces', '110 spaces', '108 spaces', '118 spaces']\n",
      "Synonyms for '2 attached carport': ['1 Attached Carport', '2 Attached Carport']\n",
      "Synonyms for '1 car carport, main level, off street parking': ['2 Car Carport, Main Level, Off Street Parking', '1 Car Carport, Main Level, Off Street Parking']\n"
     ]
    }
   ],
   "source": [
    "\n",
    "\n",
    "# создаем список всех уникальных значений в столбце\n",
    "unique_values = data['Parking'].unique()\n",
    "\n",
    "# создаем список всех уникальных значений в столбце, приведенных к нижнему регистру\n",
    "lowercase_values = [str(value).lower() if isinstance(value, str) else str(value) for value in unique_values]\n",
    "\n",
    "# создаем словарь синонимов (ключ - это нормализованное значение, значение - это список всех значений, которые считаются синонимами)\n",
    "synonyms_dict = {}\n",
    "\n",
    "for value in unique_values:\n",
    "    # нормализуем текущее значение\n",
    "    normalized_value = str(value).lower() if isinstance(value, str) else str(value)\n",
    "\n",
    "    # ищем все значения, которые считаются синонимами для текущего значения\n",
    "    synonyms = [v for v in unique_values if distance(str(v).lower() if isinstance(v, str) else str(v), normalized_value) <= 1]\n",
    "\n",
    "    # добавляем текущее значение и его синонимы в словарь\n",
    "    synonyms_dict[normalized_value] = synonyms\n",
    "\n",
    "# выводим все найденные синонимы\n",
    "for key, value in synonyms_dict.items():\n",
    "    if len(value) > 1:\n",
    "        print(f\"Synonyms for '{key}': {value}\")"
   ]
  },
  {
   "cell_type": "code",
   "execution_count": 54,
   "metadata": {},
   "outputs": [],
   "source": [
    "# Создаем словарь с заменами\n",
    "replacements_Parking = {\n",
    "    'central air,': 'central air',\n",
    "    'cooling system:': 'cooling system',\n",
    "    'has cooling': 'cooling system',\n",
    "    'central, electric': 'central electric',\n",
    "    'central-electric': 'central electric',\n",
    "    'central ac': 'central a/c',\n",
    "    '': None,\n",
    "    'no data': None,\n",
    "    'none': None\n",
    "    }\n",
    "\n",
    "# Приводим значения столбца \"Parking\" к нижнему регистру\n",
    "data['Parking'] = data['Parking'].str.lower()\n",
    "\n",
    "# Заменяем значения в столбце \"Parking\" с помощью словаря замен\n",
    "data['Parking'].replace(replacements_Parking, inplace=True)"
   ]
  },
  {
   "cell_type": "code",
   "execution_count": 55,
   "metadata": {},
   "outputs": [
    {
     "name": "stdout",
     "output_type": "stream",
     "text": [
      "Series([], Name: count, dtype: int64)\n"
     ]
    }
   ],
   "source": [
    "unwanted_values_Parking = ['central air,', \n",
    "                   'cooling system:', \n",
    "                   'has cooling',  \n",
    "                   'central, electric', \n",
    "                   'central-electric', \n",
    "                   'central ac', \n",
    "                   'no data', \n",
    "                   'none', \n",
    "                   '',  \n",
    "                   ]\n",
    "\n",
    "filtered_data = data[data['Parking'].isin(unwanted_values_Parking)]\n",
    "unwanted_counts = filtered_data['Parking'].value_counts()\n",
    "\n",
    "print(unwanted_counts)"
   ]
  },
  {
   "cell_type": "code",
   "execution_count": 56,
   "metadata": {},
   "outputs": [
    {
     "name": "stdout",
     "output_type": "stream",
     "text": [
      "Количество уникальных значений:  3317\n"
     ]
    }
   ],
   "source": [
    "print('Количество уникальных значений: ', data['Parking'].nunique())"
   ]
  },
  {
   "cell_type": "code",
   "execution_count": 57,
   "metadata": {},
   "outputs": [
    {
     "data": {
      "text/plain": [
       "Parking\n",
       "attached garage                     70752\n",
       "2 spaces                            28063\n",
       "1 space                             14252\n",
       "detached garage                     13201\n",
       "carport                              7743\n",
       "off street                           5279\n",
       "3 spaces                             4724\n",
       "carport, attached garage             3025\n",
       "1                                    2936\n",
       "4 spaces                             2917\n",
       "2                                    2756\n",
       "on street                            1707\n",
       "attached garage, detached garage     1354\n",
       "0                                    1114\n",
       "attached garage, carport              993\n",
       "Name: count, dtype: int64"
      ]
     },
     "execution_count": 57,
     "metadata": {},
     "output_type": "execute_result"
    }
   ],
   "source": [
    "data['Parking'].value_counts().nlargest(15)"
   ]
  },
  {
   "cell_type": "code",
   "execution_count": 58,
   "metadata": {},
   "outputs": [
    {
     "name": "stderr",
     "output_type": "stream",
     "text": [
      "  0%|          | 0/377185 [00:00<?, ?it/s]"
     ]
    },
    {
     "name": "stderr",
     "output_type": "stream",
     "text": [
      "100%|██████████| 377185/377185 [00:00<00:00, 625467.93it/s]\n"
     ]
    }
   ],
   "source": [
    "Parking_list = list(data['Parking'].value_counts().nlargest(15).index)\n",
    "data['Parking'] = data['Parking'].progress_apply(lambda x: x if x in Parking_list else 'other')"
   ]
  },
  {
   "cell_type": "code",
   "execution_count": 59,
   "metadata": {},
   "outputs": [
    {
     "name": "stdout",
     "output_type": "stream",
     "text": [
      "Количество уникальных значений:  16\n"
     ]
    }
   ],
   "source": [
    "print('Количество уникальных значений: ', data['Parking'].nunique())"
   ]
  },
  {
   "cell_type": "markdown",
   "metadata": {},
   "source": [
    "# 5.4 Heating"
   ]
  },
  {
   "cell_type": "code",
   "execution_count": 60,
   "metadata": {},
   "outputs": [
    {
     "data": {
      "text/plain": [
       "array(['Central A/C, Heat Pump', '', 'Forced Air', 'Electric, Heat Pump',\n",
       "       'Gas', 'Central Electric', 'Forced air', 'Other',\n",
       "       'Forced air, Heat pump', 'Central Air', 'Electric', 'Heat Pump',\n",
       "       'Radiant', 'Baseboard', 'Central Furnace'], dtype=object)"
      ]
     },
     "execution_count": 60,
     "metadata": {},
     "output_type": "execute_result"
    }
   ],
   "source": [
    "data['Heating'].unique()[:15]"
   ]
  },
  {
   "cell_type": "code",
   "execution_count": 61,
   "metadata": {},
   "outputs": [
    {
     "name": "stdout",
     "output_type": "stream",
     "text": [
      "Количество уникальных значений:  1984\n"
     ]
    }
   ],
   "source": [
    "print('Количество уникальных значений: ', data['Heating'].nunique())"
   ]
  },
  {
   "cell_type": "code",
   "execution_count": 62,
   "metadata": {},
   "outputs": [
    {
     "name": "stdout",
     "output_type": "stream",
     "text": [
      "Доля (%) 15-ти наиболее весомых категорий:  90.0\n"
     ]
    }
   ],
   "source": [
    "print('Доля (%) 15-ти наиболее весомых категорий: ' , round((data['Heating'].value_counts().nlargest(15)/len(data)*100).sum(),1))"
   ]
  },
  {
   "cell_type": "code",
   "execution_count": 63,
   "metadata": {},
   "outputs": [
    {
     "data": {
      "text/plain": [
       "Heating\n",
       "                     105799\n",
       "Forced Air            82807\n",
       "Forced air            51506\n",
       "Other                 29623\n",
       "Electric              10211\n",
       "Gas                    9296\n",
       "No Data                8611\n",
       "Central Air            7814\n",
       "Central Electric       7112\n",
       "Central                6247\n",
       "Heat Pump              6104\n",
       "Central, Electric      4253\n",
       "Baseboard              3815\n",
       "Wall                   3301\n",
       "Electric Heat          3064\n",
       "Name: count, dtype: int64"
      ]
     },
     "execution_count": 63,
     "metadata": {},
     "output_type": "execute_result"
    }
   ],
   "source": [
    "data['Heating'].value_counts().nlargest(15)"
   ]
  },
  {
   "cell_type": "code",
   "execution_count": 64,
   "metadata": {},
   "outputs": [
    {
     "name": "stdout",
     "output_type": "stream",
     "text": [
      "Synonyms for '': ['', '3', '1', '5', '2']\n",
      "Synonyms for 'forced air': ['Forced Air', 'Forced air', 'ForcedAir', 'Forced-Air']\n",
      "Synonyms for 'electric, heat pump': ['Electric, Heat Pump', 'ELECTRIC HEAT PUMP', 'Electric Heat Pump']\n",
      "Synonyms for 'gas': ['Gas', 'gas', 'GAS']\n",
      "Synonyms for 'central electric': ['Central Electric', 'Central, Electric', 'Central-Electric']\n",
      "Synonyms for 'forced air, heat pump': ['Forced air, Heat pump', 'Forced Air, Heat Pump']\n",
      "Synonyms for 'electric': ['Electric', 'electric']\n",
      "Synonyms for 'heat pump': ['Heat Pump', 'Heat pump', 'HeatPump']\n",
      "Synonyms for 'central, electric': ['Central Electric', 'Central, Electric']\n",
      "Synonyms for 'lower level-gas': ['Lower level-Gas', 'Lower Level-Gas', 'lower level-Gas']\n",
      "Synonyms for 'heating system': ['Heating System', 'Heating System:']\n",
      "Synonyms for 'None': [None, 'None']\n",
      "Synonyms for 'central, gas': ['Central, Gas', 'Central Gas']\n",
      "Synonyms for 'central electric, zoned': ['Central Electric, Zoned', 'Central, Electric, Zoned']\n",
      "Synonyms for 'baseboard, electric': ['Baseboard, Electric', 'Baseboard Electric']\n",
      "Synonyms for 'central electric, heat pump': ['Central Electric, Heat Pump', 'Central, Electric, Heat Pump']\n",
      "Synonyms for 'central gas': ['Central, Gas', 'Central Gas']\n",
      "Synonyms for 'forcedair': ['Forced Air', 'Forced air', 'ForcedAir', 'Forced-Air']\n",
      "Synonyms for 'wall gas, wall gas': ['Wall Gas, Wall Gas', 'Wall Gas,Wall Gas']\n",
      "Synonyms for 'window units': ['Window Units', 'Window Unit']\n",
      "Synonyms for 'central, electric, heat pump, zoned': ['Central, Electric, Heat Pump, Zoned', 'Central Electric, Heat Pump, Zoned']\n",
      "Synonyms for 'forced air, stove': ['Forced air, Stove', 'Forced Air, Stove']\n",
      "Synonyms for 'closet-electric': ['Closet-Electric', 'closet-electric', 'closet-Electric']\n",
      "Synonyms for 'baseboard - hotwater': ['Baseboard - Hotwater', 'Baseboard - Hot Water']\n",
      "Synonyms for 'wall furnace': ['Wall Furnace', 'Wall Furnance']\n",
      "Synonyms for 'garage-heat pump hybrid electric': ['Garage-Heat pump hybrid electric', 'Garage-Heat Pump Hybrid electric']\n",
      "Synonyms for 'lower level-electric': ['Lower Level-Electric', 'Lower level-Electric', 'lower level-Electric']\n",
      "Synonyms for 'propane': ['Propane', 'PROPANE']\n",
      "Synonyms for 'wall gas,wall gas': ['Wall Gas, Wall Gas', 'Wall Gas,Wall Gas']\n",
      "Synonyms for 'central, electric, zoned': ['Central Electric, Zoned', 'Central, Electric, Zoned']\n",
      "Synonyms for 'gas forced air': ['GAS FORCED AIR', 'Gas Forced Air', 'Gas, Forced Air']\n",
      "Synonyms for 'baseboard, forced air': ['Baseboard, Forced air', 'Baseboard, ForcedAir', 'Baseboard, Forced Air']\n",
      "Synonyms for 'heat pump, zoned': ['Heat Pump, Zoned', 'Heat Pump, Zone']\n",
      "Synonyms for 'utility room-electric': ['Utility Room-Electric', 'utility room-electric', 'Utility room-Electric']\n",
      "Synonyms for 'central, electric, heat pump': ['Central Electric, Heat Pump', 'Central, Electric, Heat Pump', 'Central, Electric Heat Pump']\n",
      "Synonyms for 'none': [None, 'None']\n",
      "Synonyms for 'baseboard - hot water': ['Baseboard - Hotwater', 'Baseboard - Hot Water']\n",
      "Synonyms for 'garage-gas tankless': ['Garage-Gas Tankless', 'Garage-Gas/Tankless', 'GARAGE-GAS TANKLESS']\n",
      "Synonyms for 'electric, forced air': ['Electric, Forced Air', 'ELECTRIC FORCED AIR']\n",
      "Synonyms for '2 air conditioners': ['2 Air Conditioners', '4 Air Conditioners', '3 Air Conditioners', '5 Air Conditioners', '6 Air Conditioners']\n",
      "Synonyms for 'radiator': ['Radiator', 'Radiators']\n",
      "Synonyms for 'garage-gas': ['Garage-Gas', 'garage-gas', 'garage-Gas', 'Garage-GAs']\n",
      "Synonyms for 'lower level-tankless': ['Lower level-Tankless', 'Lower Level-Tankless']\n",
      "Synonyms for '4 air conditioners': ['2 Air Conditioners', '4 Air Conditioners', '3 Air Conditioners', '5 Air Conditioners', '6 Air Conditioners']\n",
      "Synonyms for 'electric, wall furnace': ['Electric, Wall Furnace', 'Electric, Wall Furnance']\n",
      "Synonyms for 'garage-tankless': ['garage-tankless', 'Garage-Tankless']\n",
      "Synonyms for 'forced air, radiant': ['Forced air, Radiant', 'Forced Air, Radiant']\n",
      "Synonyms for 'baseboard, heat pump': ['Baseboard, Heat Pump', 'Baseboard, Heat pump']\n",
      "Synonyms for 'garage-electric': ['Garage-Electric', 'garage-electric', 'Garage-electric']\n",
      "Synonyms for 'central, electric, solar': ['Central, Electric, Solar', 'Central Electric, Solar']\n",
      "Synonyms for 'central electric, window units': ['Central Electric, Window Units', 'Central Electric, Window Unit']\n",
      "Synonyms for 'forced air, propane, wood-burning furnace': ['Forced Air, Propane, Wood-Burning Furnace', 'Forced Air, Propane, Woodburning Furnace']\n",
      "Synonyms for 'laundry room': ['Laundry Room', 'laundry room']\n",
      "Synonyms for 'central electric, heat pump, zoned': ['Central, Electric, Heat Pump, Zoned', 'Central Electric, Heat Pump, Zoned']\n",
      "Synonyms for 'radiators': ['Radiator', 'Radiators']\n",
      "Synonyms for 'heatpump': ['Heat Pump', 'Heat pump', 'HeatPump']\n",
      "Synonyms for 'basement-electric': ['Basement-Electric', 'basement-electric']\n",
      "Synonyms for 'space heater': ['Space Heater', 'Space Heaters']\n",
      "Synonyms for '1 window/wall a/c': ['1 Window/Wall A/C', '2 Window/Wall A/C']\n",
      "Synonyms for 'ceiling electric': ['Ceiling Electric', 'Ceiling, Electric']\n",
      "Synonyms for '14': ['14', '1']\n",
      "Synonyms for 'heat pump, radiant': ['Heat pump, Radiant', 'Heat Pump, Radiant']\n",
      "Synonyms for 'forced air, geothermal': ['Forced Air, Geothermal', 'Forced air, Geothermal']\n",
      "Synonyms for 'garage-tankless gas': ['Garage-Tankless Gas', 'Garage-Tankless, Gas']\n",
      "Synonyms for 'electric baseboard': ['ELECTRIC BASEBOARD', 'Electric Baseboard']\n",
      "Synonyms for 'central-electric': ['Central Electric', 'Central-Electric']\n",
      "Synonyms for 'central, forced air': ['Central, Forced Air', 'Central Forced Air']\n",
      "Synonyms for 'garage-gas/tankless': ['Garage-Gas Tankless', 'Garage-Gas/Tankless', 'GARAGE-GAS TANKLESS']\n",
      "Synonyms for 'propane butane': ['Propane butane', 'Propane/Butane']\n",
      "Synonyms for 'baseboard, forcedair': ['Baseboard, Forced air', 'Baseboard, ForcedAir', 'Baseboard, Forced Air']\n",
      "Synonyms for 'central electric, window unit': ['Central Electric, Window Units', 'Central Electric, Window Unit']\n",
      "Synonyms for 'basement-gas': ['Basement-Gas', 'basement-gas', 'Bsement-Gas', 'Basement-gas', 'basement-Gas']\n",
      "Synonyms for 'forced air, propane, woodburning furnace': ['Forced Air, Propane, Wood-Burning Furnace', 'Forced Air, Propane, Woodburning Furnace']\n",
      "Synonyms for 'central, oil': ['Central, Oil', 'Central Oil']\n",
      "Synonyms for 'wall units': ['Wall Units', 'Wall Unit']\n",
      "Synonyms for 'main floor-electric': ['Main floor-Electric', 'main floor-electric']\n",
      "Synonyms for 'utility closet-gas': ['Utility closet-Gas', 'Utility Closet-Gas']\n",
      "Synonyms for 'laundry room-electric': ['Laundry Room-Electric', 'Laundry room-Electric']\n",
      "Synonyms for 'central electric, solar': ['Central, Electric, Solar', 'Central Electric, Solar']\n",
      "Synonyms for 'basement-tankless': ['basement-tankless', 'Basement-Tankless']\n",
      "Synonyms for 'baseboard, radiator': ['Baseboard, Radiator', 'Baseboard, Radiators']\n",
      "Synonyms for 'utility closet-electric': ['Utility closet-Electric', 'Utility Closet-Electric']\n",
      "Synonyms for 'basement-tankless gas': ['Basement-Tankless Gas', 'Basement-Tankless/Gas']\n",
      "Synonyms for 'central hot water': ['Central hot Water', 'Central Hot Water', 'Central Hot Water-']\n",
      "Synonyms for 'garage-tankless, gas': ['Garage-Tankless Gas', 'Garage-Tankless, Gas']\n",
      "Synonyms for 'basement': ['Basement', 'basement']\n",
      "Synonyms for 'central electric, space heater': ['Central Electric, Space Heater', 'Central, Electric, Space Heater']\n",
      "Synonyms for 'laundry room-tank': ['Laundry Room-Tank', 'Laundry room-Tank']\n",
      "Synonyms for 'heating system:': ['Heating System', 'Heating System:']\n",
      "Synonyms for 'natural gas- forced air': ['Natural Gas- Forced Air', 'Natural Gas, Forced Air']\n",
      "Synonyms for 'central oil': ['Central, Oil', 'Central Oil']\n",
      "Synonyms for 'garage': ['garage', 'Garage']\n",
      "Synonyms for 'basement closet-gas': ['Basement Closet-Gas', 'basement closet-gas']\n",
      "Synonyms for 'forced air electric': ['Forced Air Electric', 'Forced Air, Electric']\n",
      "Synonyms for 'central, electric heat pump': ['Central, Electric, Heat Pump', 'Central, Electric Heat Pump']\n",
      "Synonyms for 'space heaters': ['Space Heater', 'Space Heaters']\n",
      "Synonyms for 'floor furnace,wall heater': ['Floor Furnace,Wall Heater', 'Floor Furnace, Wall Heater']\n",
      "Synonyms for 'in unit-electric': ['In Unit-Electric', 'in unit-electric', 'In unit-Electric']\n",
      "Synonyms for 'utility room-tankless': ['Utility Room-Tankless', 'utility room-tankless']\n",
      "Synonyms for 'electric forced air': ['Electric, Forced Air', 'ELECTRIC FORCED AIR']\n",
      "Synonyms for 'utility room': ['Utility Room', 'Utility room']\n",
      "Synonyms for '3 air conditioners': ['2 Air Conditioners', '4 Air Conditioners', '3 Air Conditioners', '5 Air Conditioners', '6 Air Conditioners']\n",
      "Synonyms for 'utility room-gas': ['Utility Room-Gas', 'utility room-Gas']\n",
      "Synonyms for 'closet-tank': ['Closet-Tank', 'closet-tank']\n",
      "Synonyms for 'wall furnance': ['Wall Furnace', 'Wall Furnance']\n",
      "Synonyms for 'central furnace, natural gas': ['Central Furnace, Natural Gas', 'Central Furnace,Natural Gas']\n",
      "Synonyms for 'propane/butane': ['Propane butane', 'Propane/Butane']\n",
      "Synonyms for 'pantry-electric': ['pantry-Electric', 'Pantry-Electric', 'pantry-electric']\n",
      "Synonyms for 'tankless hot water heater': ['Tankless hot water heater', 'Tankless Hot Water Heater']\n",
      "Synonyms for 'window unit': ['Window Units', 'Window Unit']\n",
      "Synonyms for 'bsement-gas': ['Basement-Gas', 'basement-gas', 'Bsement-Gas', 'Basement-gas', 'basement-Gas']\n",
      "Synonyms for 'basement-tankless/gas': ['Basement-Tankless Gas', 'Basement-Tankless/Gas']\n",
      "Synonyms for 'forced air, electric': ['Forced Air Electric', 'Forced Air, Electric']\n",
      "Synonyms for 'bedroom closet-electric': ['Bedroom closet-Electric', 'Bedroom Closet-Electric']\n",
      "Synonyms for 'electric, central': ['Electric, Central', 'Electric,Central']\n",
      "Synonyms for 'lower floor-tank': ['Lower Floor-Tank', 'Lower floor-Tank']\n",
      "Synonyms for '2 window/wall a/c': ['1 Window/Wall A/C', '2 Window/Wall A/C']\n",
      "Synonyms for 'natural gas, forced air': ['Natural Gas- Forced Air', 'Natural Gas, Forced Air']\n",
      "Synonyms for 'basement-boiler': ['Basement-Boiler', 'basement-Boiler', 'basement-boiler']\n",
      "Synonyms for 'ceiling, electric': ['Ceiling Electric', 'Ceiling, Electric']\n",
      "Synonyms for '5 air conditioners': ['2 Air Conditioners', '4 Air Conditioners', '3 Air Conditioners', '5 Air Conditioners', '6 Air Conditioners']\n",
      "Synonyms for 'laundry room-gas': ['laundry room-gas', 'Laundry Room-Gas']\n",
      "Synonyms for 'baseboard electric': ['Baseboard, Electric', 'Baseboard Electric']\n",
      "Synonyms for 'baseboard, radiators': ['Baseboard, Radiator', 'Baseboard, Radiators']\n",
      "Synonyms for 'heat pump, zone': ['Heat Pump, Zoned', 'Heat Pump, Zone']\n",
      "Synonyms for '6 air conditioners': ['2 Air Conditioners', '4 Air Conditioners', '3 Air Conditioners', '5 Air Conditioners', '6 Air Conditioners']\n",
      "Synonyms for 'central forced air': ['Central, Forced Air', 'Central Forced Air']\n",
      "Synonyms for 'floor furnace, wall heater': ['Floor Furnace,Wall Heater', 'Floor Furnace, Wall Heater']\n",
      "Synonyms for 'central heat-gas': ['Central Heat-Gas', 'Central Heat/Gas']\n",
      "Synonyms for 'mechanical room-gas': ['Mechanical Room-Gas', 'mechanical room-Gas']\n",
      "Synonyms for '3': ['', '3', '1', '5', '2']\n",
      "Synonyms for '1': ['', '14', '3', '1', '5', '2']\n",
      "Synonyms for 'electric heat pump': ['Electric, Heat Pump', 'ELECTRIC HEAT PUMP', 'Electric Heat Pump']\n",
      "Synonyms for 'forced air, humidifier': ['Forced Air, Humidifier', 'ForcedAir, Humidifier']\n",
      "Synonyms for 'forcedair, humidifier': ['Forced Air, Humidifier', 'ForcedAir, Humidifier']\n",
      "Synonyms for 'electric, propane/butane': ['Electric, Propane/Butane', 'Electric, Propane butane']\n",
      "Synonyms for '5': ['', '3', '1', '5', '2']\n",
      "Synonyms for 'electric, heat pump, woodburning furnace': ['Electric, Heat Pump, Woodburning Furnace', 'Electric, Heat Pump, Wood-Burning Furnace']\n",
      "Synonyms for 'hall closet-electric': ['Hall closet-Electric', 'Hall Closet-Electric', 'hall closet-electric', 'Hall Closer-Electric']\n",
      "Synonyms for 'gas, forced air': ['GAS FORCED AIR', 'Gas Forced Air', 'Gas, Forced Air']\n",
      "Synonyms for 'boiler, forced air, propane, woodburning furnace': ['Boiler, Forced Air, Propane, Woodburning Furnace', 'Boiler, Forced Air, Propane, Wood-Burning Furnace']\n",
      "Synonyms for '2': ['', '3', '1', '5', '2']\n",
      "Synonyms for 'entry closet-electric': ['Entry Closet-Electric', 'Entry Closet-electric']\n",
      "Synonyms for 'central hot water-': ['Central hot Water', 'Central Hot Water', 'Central Hot Water-']\n",
      "Synonyms for 'electric, propane butane': ['Electric, Propane/Butane', 'Electric, Propane butane']\n",
      "Synonyms for 'boiler, forced air, propane, wood-burning furnace': ['Boiler, Forced Air, Propane, Woodburning Furnace', 'Boiler, Forced Air, Propane, Wood-Burning Furnace']\n",
      "Synonyms for 'forced air, propane leased': ['Forced Air, Propane Leased', 'Forced Air, Propane-Leased']\n",
      "Synonyms for 'wall unit': ['Wall Units', 'Wall Unit']\n",
      "Synonyms for 'electric,central': ['Electric, Central', 'Electric,Central']\n",
      "Synonyms for 'forced-air': ['Forced Air', 'Forced air', 'ForcedAir', 'Forced-Air']\n",
      "Synonyms for 'oil, pellet': ['Oil, Pellet', 'Oil, Pellets']\n",
      "Synonyms for 'central, electric, space heater': ['Central Electric, Space Heater', 'Central, Electric, Space Heater']\n",
      "Synonyms for 'oil, pellets': ['Oil, Pellet', 'Oil, Pellets']\n",
      "Synonyms for 'forced air, propane-leased': ['Forced Air, Propane Leased', 'Forced Air, Propane-Leased']\n",
      "Synonyms for 'electric, heat pump, wood-burning furnace': ['Electric, Heat Pump, Woodburning Furnace', 'Electric, Heat Pump, Wood-Burning Furnace']\n",
      "Synonyms for 'hall closer-electric': ['Hall closet-Electric', 'Hall Closet-Electric', 'hall closet-electric', 'Hall Closer-Electric']\n",
      "Synonyms for 'electric, wall furnance': ['Electric, Wall Furnace', 'Electric, Wall Furnance']\n",
      "Synonyms for 'central heat/gas': ['Central Heat-Gas', 'Central Heat/Gas']\n",
      "Synonyms for 'central furnace,natural gas': ['Central Furnace, Natural Gas', 'Central Furnace,Natural Gas']\n"
     ]
    }
   ],
   "source": [
    "\n",
    "\n",
    "# создаем список всех уникальных значений в столбце\n",
    "unique_values = data['Heating'].unique()\n",
    "\n",
    "# создаем список всех уникальных значений в столбце, приведенных к нижнему регистру\n",
    "lowercase_values = [str(value).lower() if isinstance(value, str) else str(value) for value in unique_values]\n",
    "\n",
    "# создаем словарь синонимов (ключ - это нормализованное значение, значение - это список всех значений, которые считаются синонимами)\n",
    "synonyms_dict = {}\n",
    "\n",
    "for value in unique_values:\n",
    "    # нормализуем текущее значение\n",
    "    normalized_value = str(value).lower() if isinstance(value, str) else str(value)\n",
    "\n",
    "    # ищем все значения, которые считаются синонимами для текущего значения\n",
    "    synonyms = [v for v in unique_values if distance(str(v).lower() if isinstance(v, str) else str(v), normalized_value) <= 1]\n",
    "\n",
    "    # добавляем текущее значение и его синонимы в словарь\n",
    "    synonyms_dict[normalized_value] = synonyms\n",
    "\n",
    "# выводим все найденные синонимы\n",
    "for key, value in synonyms_dict.items():\n",
    "    if len(value) > 1:\n",
    "        print(f\"Synonyms for '{key}': {value}\")"
   ]
  },
  {
   "cell_type": "code",
   "execution_count": 65,
   "metadata": {},
   "outputs": [],
   "source": [
    "# Создаем словарь с заменами\n",
    "replacements_Heating = {\n",
    "    'forcedair,': 'forced air',\n",
    "    'forced-air': 'forced air',\n",
    "    'central, electric': 'central electric',\n",
    "    'central-electric': 'central electric',\n",
    "    'heatpump': 'heat pump',\n",
    "    '': None,\n",
    "    'no data': None,\n",
    "    'none': None\n",
    "    }\n",
    "\n",
    "# Приводим значения столбца \"status\" к нижнему регистру\n",
    "data['Heating'] = data['Heating'].str.lower()\n",
    "\n",
    "# Заменяем значения в столбце \"status\" с помощью словаря замен\n",
    "data['Heating'].replace(replacements_Heating, inplace=True)"
   ]
  },
  {
   "cell_type": "code",
   "execution_count": 66,
   "metadata": {},
   "outputs": [
    {
     "name": "stdout",
     "output_type": "stream",
     "text": [
      "Series([], Name: count, dtype: int64)\n"
     ]
    }
   ],
   "source": [
    "unwanted_values_Heating = ['forcedair,', \n",
    "                   'forced-air', \n",
    "                   'central, electric',   \n",
    "                   'central-electric', \n",
    "                   'heatpump', \n",
    "                   'no data', \n",
    "                   'none', \n",
    "                   '',  \n",
    "                   ]\n",
    "\n",
    "filtered_data = data[data['Heating'].isin(unwanted_values_Heating)]\n",
    "unwanted_counts = filtered_data['Heating'].value_counts()\n",
    "\n",
    "print(unwanted_counts)"
   ]
  },
  {
   "cell_type": "code",
   "execution_count": 67,
   "metadata": {},
   "outputs": [
    {
     "name": "stdout",
     "output_type": "stream",
     "text": [
      "Количество уникальных значений:  1911\n"
     ]
    }
   ],
   "source": [
    "print('Количество уникальных значений: ', data['Heating'].nunique())"
   ]
  },
  {
   "cell_type": "code",
   "execution_count": 68,
   "metadata": {},
   "outputs": [
    {
     "data": {
      "text/plain": [
       "Heating\n",
       "forced air                     134314\n",
       "other                           29623\n",
       "central electric                11368\n",
       "electric                        10217\n",
       "gas                              9299\n",
       "heat pump                        8855\n",
       "central air                      7814\n",
       "central                          6247\n",
       "baseboard                        3815\n",
       "wall                             3301\n",
       "electric heat                    3064\n",
       "heating system                   2709\n",
       "forced air, heat pump            1767\n",
       "radiant                          1485\n",
       "central air, ceiling fan(s)      1432\n",
       "Name: count, dtype: int64"
      ]
     },
     "execution_count": 68,
     "metadata": {},
     "output_type": "execute_result"
    }
   ],
   "source": [
    "data['Heating'].value_counts().nlargest(15)"
   ]
  },
  {
   "cell_type": "code",
   "execution_count": 69,
   "metadata": {},
   "outputs": [
    {
     "name": "stderr",
     "output_type": "stream",
     "text": [
      "  0%|          | 0/377185 [00:00<?, ?it/s]"
     ]
    },
    {
     "name": "stderr",
     "output_type": "stream",
     "text": [
      "100%|██████████| 377185/377185 [00:00<00:00, 622373.96it/s]\n"
     ]
    }
   ],
   "source": [
    "Heating_list = list(data['Heating'].value_counts().nlargest(15).index)\n",
    "data['Heating'] = data['Heating'].progress_apply(lambda x: x if x in Heating_list else 'other')"
   ]
  },
  {
   "cell_type": "code",
   "execution_count": 70,
   "metadata": {},
   "outputs": [
    {
     "name": "stdout",
     "output_type": "stream",
     "text": [
      "Количество уникальных значений:  15\n"
     ]
    }
   ],
   "source": [
    "print('Количество уникальных значений: ', data['Heating'].nunique())"
   ]
  },
  {
   "cell_type": "markdown",
   "metadata": {},
   "source": [
    "# 5.5 Year built"
   ]
  },
  {
   "cell_type": "code",
   "execution_count": 71,
   "metadata": {},
   "outputs": [
    {
     "data": {
      "text/plain": [
       "array(['2019', '1961', '2006', '', '1920', '1976', '1970', '1965', '2015',\n",
       "       '1996', '1982', '1905', '2008', '1899', '2016'], dtype=object)"
      ]
     },
     "execution_count": 71,
     "metadata": {},
     "output_type": "execute_result"
    }
   ],
   "source": [
    "data['Year built'].unique()[:15]"
   ]
  },
  {
   "cell_type": "markdown",
   "metadata": {},
   "source": [
    "Cоздадим функцию для извлечения чисел, включая float"
   ]
  },
  {
   "cell_type": "code",
   "execution_count": 72,
   "metadata": {},
   "outputs": [],
   "source": [
    "def get_float(string):\n",
    "    a = re.findall(r\"[-+]?(?:\\d*\\.*\\d+)\", str(string).replace(',', '.'))\n",
    "    if a != []:\n",
    "        b = float(a[0])\n",
    "        return b\n",
    "    else:\n",
    "        return np.nan"
   ]
  },
  {
   "cell_type": "code",
   "execution_count": 73,
   "metadata": {},
   "outputs": [
    {
     "name": "stderr",
     "output_type": "stream",
     "text": [
      "  0%|          | 0/377185 [00:00<?, ?it/s]"
     ]
    },
    {
     "name": "stderr",
     "output_type": "stream",
     "text": [
      "100%|██████████| 377185/377185 [00:01<00:00, 261914.29it/s]\n"
     ]
    }
   ],
   "source": [
    "data['Year built'] = data['Year built'].progress_apply(get_float)"
   ]
  },
  {
   "cell_type": "markdown",
   "metadata": {},
   "source": [
    "Изменим год постройки на возраст дома"
   ]
  },
  {
   "cell_type": "code",
   "execution_count": 74,
   "metadata": {},
   "outputs": [
    {
     "name": "stderr",
     "output_type": "stream",
     "text": [
      "100%|██████████| 377185/377185 [00:00<00:00, 749819.57it/s]\n"
     ]
    }
   ],
   "source": [
    "data['Year built'] = data['Year built'].progress_apply(lambda x: 2022 - x)"
   ]
  },
  {
   "cell_type": "markdown",
   "metadata": {},
   "source": [
    "# 5.6 Remodeled year"
   ]
  },
  {
   "cell_type": "markdown",
   "metadata": {},
   "source": [
    "Повторим"
   ]
  },
  {
   "cell_type": "code",
   "execution_count": 75,
   "metadata": {},
   "outputs": [
    {
     "name": "stderr",
     "output_type": "stream",
     "text": [
      "  0%|          | 0/377185 [00:00<?, ?it/s]"
     ]
    },
    {
     "name": "stderr",
     "output_type": "stream",
     "text": [
      "100%|██████████| 377185/377185 [00:01<00:00, 285293.54it/s]\n",
      "100%|██████████| 377185/377185 [00:00<00:00, 706285.76it/s]\n"
     ]
    }
   ],
   "source": [
    "data['Remodeled year'] = data['Remodeled year'].progress_apply(get_float)\n",
    "data['Remodeled year'] = data['Remodeled year'].progress_apply(lambda x: 2022 - x)"
   ]
  },
  {
   "cell_type": "markdown",
   "metadata": {},
   "source": [
    "# 5.7 Price/sqft"
   ]
  },
  {
   "cell_type": "code",
   "execution_count": 76,
   "metadata": {},
   "outputs": [
    {
     "name": "stderr",
     "output_type": "stream",
     "text": [
      "  0%|          | 0/377185 [00:00<?, ?it/s]"
     ]
    },
    {
     "name": "stderr",
     "output_type": "stream",
     "text": [
      "100%|██████████| 377185/377185 [00:01<00:00, 220737.72it/s]\n"
     ]
    }
   ],
   "source": [
    "data['Price/sqft'] = data['Price/sqft'].progress_apply(get_float)"
   ]
  },
  {
   "cell_type": "code",
   "execution_count": 77,
   "metadata": {},
   "outputs": [],
   "source": [
    "data = data.drop('homeFacts', axis = 1)"
   ]
  },
  {
   "cell_type": "markdown",
   "metadata": {},
   "source": [
    "# 6 city"
   ]
  },
  {
   "cell_type": "code",
   "execution_count": 78,
   "metadata": {},
   "outputs": [
    {
     "data": {
      "text/plain": [
       "array(['Southern Pines', 'Spokane Valley', 'Los Angeles', 'Dallas',\n",
       "       'Palm Bay', 'Philadelphia', 'POINCIANA', 'Memphis', 'Mason City',\n",
       "       'Houston', 'Flushing', 'Pembroke Pines', 'Eugene', 'Brooklyn',\n",
       "       'Fort Lauderdale'], dtype=object)"
      ]
     },
     "execution_count": 78,
     "metadata": {},
     "output_type": "execute_result"
    }
   ],
   "source": [
    "data['city'].unique()[:15]"
   ]
  },
  {
   "cell_type": "code",
   "execution_count": 79,
   "metadata": {},
   "outputs": [
    {
     "name": "stdout",
     "output_type": "stream",
     "text": [
      "Количество уникальных значений:  2026\n"
     ]
    }
   ],
   "source": [
    "print('Количество уникальных значений: ', data['city'].nunique())"
   ]
  },
  {
   "cell_type": "code",
   "execution_count": 80,
   "metadata": {},
   "outputs": [
    {
     "name": "stdout",
     "output_type": "stream",
     "text": [
      "Synonyms for 'los angeles': ['Los Angeles', 'Los angeles']\n",
      "Synonyms for 'dallas': ['Dallas', 'DALLAS']\n",
      "Synonyms for 'poinciana': ['POINCIANA', 'Poinciana']\n",
      "Synonyms for 'new york': ['New York', 'New york']\n",
      "Synonyms for 'bend': ['Bend', 'BEND']\n",
      "Synonyms for 'spring': ['Spring', 'Springs']\n",
      "Synonyms for 'miami': ['Miami', 'MIAMI']\n",
      "Synonyms for 'davie': ['Davie', 'Davis']\n",
      "Synonyms for 'tampa': ['Tampa', 'TAMPA']\n",
      "Synonyms for 'jacksonville': ['Jacksonville', 'JACKSONVILLE']\n",
      "Synonyms for 'charlotte': ['Charlotte', 'CHARLOTTE']\n",
      "Synonyms for 'rotonda west': ['ROTONDA WEST', 'Rotonda West']\n",
      "Synonyms for 'weston': ['Weston', 'Reston']\n",
      "Synonyms for 'fort worth': ['Fort Worth', 'Fort worth']\n",
      "Synonyms for 'temple terrace': ['Temple Terrace', 'TEMPLE TERRACE']\n",
      "Synonyms for 'atlanta': ['Atlanta', 'Atlaanta']\n",
      "Synonyms for 'lakewood': ['Lakewood', 'LAKEWOOD']\n",
      "Synonyms for 'seattle': ['Seattle', 'SEATTLE']\n",
      "Synonyms for 'port charlotte': ['PORT CHARLOTTE', 'Port Charlotte']\n",
      "Synonyms for 'saint johns': ['Saint Johns', 'SAINT JOHNS']\n",
      "Synonyms for 'kissimmee': ['Kissimmee', 'KISSIMMEE']\n",
      "Synonyms for 'orlando': ['ORLANDO', 'Orlando']\n",
      "Synonyms for 'valley view': ['Valley View', 'Valleyview']\n",
      "Synonyms for 'coral gables': ['Coral Gables', 'Coral gables']\n",
      "Synonyms for 'mckinney': ['McKinney', 'Mckinney', 'Mc Kinney']\n",
      "Synonyms for 'cape coral': ['Cape Coral', 'Cape coral']\n",
      "Synonyms for 'austin': ['Austin', 'Tustin']\n",
      "Synonyms for 'nashville': ['Nashville', 'Ashville', 'NASHVILLE']\n",
      "Synonyms for 'st petersburg': ['ST PETERSBURG', 'St Petersburg', 'St. Petersburg']\n",
      "Synonyms for 'saint pete beach': ['Saint Pete Beach', 'Saint pete beach', 'SAINT PETE BEACH']\n",
      "Synonyms for 'grand prairie': ['Grand Prairie', 'Grand prairie']\n",
      "Synonyms for 'clearwater': ['Clearwater', 'CLEARWATER']\n",
      "Synonyms for 'hialeah': ['Hialeah', 'HIALEAH']\n",
      "Synonyms for 'lehigh acres': ['Lehigh Acres', 'Lehigh acres']\n",
      "Synonyms for 'saint petersburg': ['Saint Petersburg', 'SAINT PETERSBURG']\n",
      "Synonyms for 'tacoma': ['Tacoma', 'TACOMA']\n",
      "Synonyms for 'south pasadena': ['South Pasadena', 'SOUTH PASADENA', 'South pasadena']\n",
      "Synonyms for 'buffalo': ['Buffalo', 'BUFFALO']\n",
      "Synonyms for 'bryan': ['Bryan', 'Bryant']\n",
      "Synonyms for 'irving': ['Irving', 'Irvine']\n",
      "Synonyms for 'denver': ['Denver', 'DENVER']\n",
      "Synonyms for 'madeira beach': ['MADEIRA BEACH', 'Madeira Beach']\n",
      "Synonyms for 'swanton': ['Swanton', 'Stanton']\n",
      "Synonyms for 'longmont': ['LONGMONT', 'Longmont']\n",
      "Synonyms for 'asheville': ['Asheville', 'Ashville']\n",
      "Synonyms for 'brooksville': ['Brooksville', 'Crooksville']\n",
      "Synonyms for 'forest hills': ['Forest Hills', 'Forest Hill']\n",
      "Synonyms for 'springfield': ['Springfield', 'SPRINGFIELD']\n",
      "Synonyms for 'aurora': ['Aurora', 'AURORA']\n",
      "Synonyms for 'dania beach': ['Dania Beach', 'Dania beach']\n",
      "Synonyms for 'ashville': ['Nashville', 'Asheville', 'Ashville', 'NASHVILLE']\n",
      "Synonyms for 'irvine': ['Irving', 'Irvine']\n",
      "Synonyms for 'chino': ['Chino', 'Chico', 'China']\n",
      "Synonyms for 'reunion': ['Reunion', 'REUNION']\n",
      "Synonyms for 'soddy daisy': ['Soddy Daisy', 'Soddy-Daisy']\n",
      "Synonyms for 'south lyon': ['South Lyon', 'South lyon']\n",
      "Synonyms for 'spring hill': ['Spring Hill', 'Spring hill', 'SPRING HILL']\n",
      "Synonyms for 'bellingham': ['Bellingham', 'Belllingham']\n",
      "Synonyms for 'st johns': ['St Johns', 'St. Johns']\n",
      "Synonyms for 'ventura': ['Ventura', 'Aventura', 'AVENTURA']\n",
      "Synonyms for 'ocklawaha': ['Ocklawaha', 'Oklawaha']\n",
      "Synonyms for 'lake worth': ['Lake Worth', 'Lake worth']\n",
      "Synonyms for 'clinton': ['Clinton', 'Clifton']\n",
      "Synonyms for 'silver springs': ['Silver Springs', 'Silver Spring']\n",
      "Synonyms for 'roseville': ['Roseville', 'Rossville']\n",
      "Synonyms for 'arlington': ['Arlington', 'Arrington']\n",
      "Synonyms for 'commerce city': ['Commerce City', 'COMMERCECITY']\n",
      "Synonyms for 'sunrise': ['Sunrise', 'SUNRISE']\n",
      "Synonyms for 'punta gorda': ['Punta Gorda', 'PUNTA GORDA']\n",
      "Synonyms for 'bonita springs': ['Bonita Springs', 'Bonita springs']\n",
      "Synonyms for 'brighton': ['BRIGHTON', 'Brighton']\n",
      "Synonyms for 'placida': ['PLACIDA', 'Placida']\n",
      "Synonyms for 'thornton': ['Thornton', 'THORNTON']\n",
      "Synonyms for 'renton': ['Renton', 'Denton', 'Trenton', 'Reston']\n",
      "Synonyms for 'aventura': ['Ventura', 'Aventura', 'AVENTURA']\n",
      "Synonyms for 'englewood': ['Englewood', 'ENGLEWOOD', 'Inglewood']\n",
      "Synonyms for 'st pete beach': ['St Pete Beach', 'ST PETE BEACH']\n",
      "Synonyms for 'canton': ['Canton', 'Panton', 'Canyon']\n",
      "Synonyms for 'saint louis': ['Saint Louis', 'Saint louis']\n",
      "Synonyms for 'denton': ['Renton', 'Denton', 'Delton']\n",
      "Synonyms for 'mcallen': ['McAllen', 'Mcallen', 'Mc Allen', 'mcallen']\n",
      "Synonyms for 'north fort myers': ['NORTH FORT MYERS', 'North Fort Myers']\n",
      "Synonyms for 'doral': ['Doral', 'DORAL']\n",
      "Synonyms for 'fairfield': ['Fairfield', 'FAIRFIELD']\n",
      "Synonyms for 'arcadia': ['ARCADIA', 'Arcadia']\n",
      "Synonyms for 'milwaukee': ['Milwaukee', 'Milwaukie']\n",
      "Synonyms for 'broomfield': ['BROOMFIELD', 'Broomfield']\n",
      "Synonyms for 'deltona': ['Deltona', 'Delton']\n",
      "Synonyms for 'celebration': ['CELEBRATION', 'Celebration']\n",
      "Synonyms for 'youngstown': ['Youngstown', 'Youngtown']\n",
      "Synonyms for 'morriston': ['Morriston', 'MORRISON', 'Morrison', 'Morristown']\n",
      "Synonyms for 'redding': ['Redding', 'Reading']\n",
      "Synonyms for 'brandon': ['Brandon', 'BRANDON']\n",
      "Synonyms for 'youngtown': ['Youngstown', 'Youngtown']\n",
      "Synonyms for 'gulfport': ['GULFPORT', 'Gulfport']\n",
      "Synonyms for 'boca grande': ['Boca Grande', 'BOCA GRANDE']\n",
      "Synonyms for 'fairfield twp': ['Fairfield Twp', 'Fairfield Twp.']\n",
      "Synonyms for 'lake in the hills': ['Lake in the Hills', 'Lake In The Hills']\n",
      "Synonyms for 'highland park': ['Highland Park', 'Highland park']\n",
      "Synonyms for 'treasure island': ['Treasure Island', 'TREASURE ISLAND']\n",
      "Synonyms for 'golden': ['Golden', 'GOLDEN']\n",
      "Synonyms for 'johnson city': ['Johnson City', 'JOHNSON CITY']\n",
      "Synonyms for 'westminster': ['Westminster', 'WESTMINSTER']\n",
      "Synonyms for 'littleton': ['LITTLETON', 'Littleton']\n",
      "Synonyms for 'silver spring': ['Silver Springs', 'Silver Spring']\n",
      "Synonyms for 'kenneth city': ['Kenneth City', 'KENNETH CITY']\n",
      "Synonyms for 'tierra verde': ['Tierra Verde', 'TIERRA VERDE']\n",
      "Synonyms for 'opa locka': ['Opa Locka', 'Opa-Locka', 'Opa-locka']\n",
      "Synonyms for 'wheat ridge': ['Wheat Ridge', 'WHEATRIDGE']\n",
      "Synonyms for 'winter park': ['Winter Park', 'WINTER PARK']\n",
      "Synonyms for 'centennial': ['CENTENNIAL', 'Centennial']\n",
      "Synonyms for 'davis': ['Davie', 'Davis']\n",
      "Synonyms for 'odessa': ['Odessa', 'ODESSA']\n",
      "Synonyms for 'allen': ['Allen', 'Alden']\n",
      "Synonyms for 'fort collins': ['Fort Collins', 'FORT COLLINS']\n",
      "Synonyms for 'provo': ['Provo', 'PROVO']\n",
      "Synonyms for 'mayville': ['Mayville', 'Maxville']\n",
      "Synonyms for 'commercecity': ['Commerce City', 'COMMERCECITY']\n",
      "Synonyms for 'ann arbor': ['Ann Arbor', 'ANN ARBOR']\n",
      "Synonyms for 'redington beach': ['Redington Beach', 'REDINGTON BEACH']\n",
      "Synonyms for 'silver lake': ['Silver Lake', 'Silver Lakes']\n",
      "Synonyms for 'northglenn': ['Northglenn', 'NORTHGLENN']\n",
      "Synonyms for 'hillsboro': ['Hillsboro', 'Willsboro']\n",
      "Synonyms for 'redford': ['Redford', 'Bedford', 'Medford']\n",
      "Synonyms for 'north port': ['North Port', 'NORTH PORT', 'North port']\n",
      "Synonyms for 'wheatridge': ['Wheat Ridge', 'WHEATRIDGE']\n",
      "Synonyms for 'oklawaha': ['Ocklawaha', 'Oklawaha']\n",
      "Synonyms for 'milwaukie': ['Milwaukee', 'Milwaukie']\n",
      "Synonyms for 'lauderdale by the sea': ['Lauderdale By The Sea', 'Lauderdale By the Sea', 'LAUDERDALE BY THE SEA']\n",
      "Synonyms for 'st. petersburg': ['ST PETERSBURG', 'St Petersburg', 'St. Petersburg']\n",
      "Synonyms for 'federalheights': ['FEDERALHEIGHTS', 'Federal Heights']\n",
      "Synonyms for 'lake suzy': ['LAKE SUZY', 'Lake Suzy']\n",
      "Synonyms for 'pinellas park': ['Pinellas Park', 'PINELLAS PARK']\n",
      "Synonyms for 'morrison': ['Morriston', 'MORRISON', 'Morrison']\n",
      "Synonyms for 'bee cave': ['Bee Cave', 'Bee Caves']\n",
      "Synonyms for 'dayton': ['Dayton', 'Dalton']\n",
      "Synonyms for 'stowe': ['Stowe', 'Stow']\n",
      "Synonyms for 'redington shores': ['REDINGTON SHORES', 'Redington Shores']\n",
      "Synonyms for 'forest hill': ['Forest Hills', 'Forest Hill']\n",
      "Synonyms for 'panton': ['Canton', 'Panton']\n",
      "Synonyms for 'seatac': ['SeaTac', 'Seatac']\n",
      "Synonyms for 'royal palm beach': ['Royal Palm Beach', 'Royal palm beach']\n",
      "Synonyms for 'brook park': ['Brook Park', 'Brookpark']\n",
      "Synonyms for 'belle isle': ['Belle Isle', 'BELLE ISLE']\n",
      "Synonyms for 'chico': ['Chino', 'Chico']\n",
      "Synonyms for 'dupont': ['Dupont', 'DuPont']\n",
      "Synonyms for 'lowell': ['Lowell', 'Powell']\n",
      "Synonyms for 'merced': ['Merced', 'Mercer']\n",
      "Synonyms for 'rossville': ['Roseville', 'Rossville']\n",
      "Synonyms for 'edgewood': ['Edgewood', 'EDGEWOOD']\n",
      "Synonyms for 'doctor phillips': ['Doctor Phillips', 'Doctor Philips']\n",
      "Synonyms for 'apopka': ['APOPKA', 'Apopka']\n",
      "Synonyms for 'barrington': ['Barrington', 'Arrington']\n",
      "Synonyms for 'bedford': ['Redford', 'Bedford', 'Medford']\n",
      "Synonyms for 'temple hills': ['Temple Hills', 'Temple hills']\n",
      "Synonyms for 'mc allen': ['McAllen', 'Mcallen', 'Mc Allen', 'mcallen']\n",
      "Synonyms for 'stow': ['Stowe', 'Stow']\n",
      "Synonyms for 'medford': ['Redford', 'Bedford', 'Medford']\n",
      "Synonyms for 'fort wayne': ['Fort Wayne', 'Fort wayne']\n",
      "Synonyms for 'st. albans city': ['St. Albans City', 'St Albans City']\n",
      "Synonyms for 'north redington beach': ['North Redington Beach', 'NORTH REDINGTON BEACH']\n",
      "Synonyms for 'trenton': ['Renton', 'Trenton']\n",
      "Synonyms for 'delton': ['Denton', 'Deltona', 'Delton', 'Belton', 'Dalton', 'Dolton']\n",
      "Synonyms for 'brookpark': ['Brook Park', 'Brookpark']\n",
      "Synonyms for 'baldwin': ['Baldwin', 'BALDWIN']\n",
      "Synonyms for 'stanford': ['Stanford', 'Stafford']\n",
      "Synonyms for 'soddy-daisy': ['Soddy Daisy', 'Soddy-Daisy']\n",
      "Synonyms for 'maxville': ['Mayville', 'Maxville']\n",
      "Synonyms for 'mercer': ['Merced', 'Mercer']\n",
      "Synonyms for 'riverview': ['Riverview', 'RIVERVIEW']\n",
      "Synonyms for 'haines city': ['Haines City', 'HAINES CITY']\n",
      "Synonyms for 'belton': ['Delton', 'Belton']\n",
      "Synonyms for 'stafford': ['Stanford', 'Stafford']\n",
      "Synonyms for 'ft worth': ['Ft Worth', 'Ft. Worth']\n",
      "Synonyms for 'flint': ['Flint', 'Clint']\n",
      "Synonyms for 'reading': ['Redding', 'Reading']\n",
      "Synonyms for 'millcreek': ['Millcreek', 'Mill Creek']\n",
      "Synonyms for 'st george': ['St George', 'St. George', 'St george']\n",
      "Synonyms for 'oxon hill': ['Oxon Hill', 'Onon Hill']\n",
      "Synonyms for 'alden': ['Allen', 'Alden', 'Arden']\n",
      "Synonyms for 'stanton': ['Swanton', 'Stanton']\n",
      "Synonyms for 'fort myers': ['Fort Myers', 'FORT MYERS']\n",
      "Synonyms for 'valleyview': ['Valley View', 'Valleyview']\n",
      "Synonyms for 'mill creek': ['Millcreek', 'Mill Creek']\n",
      "Synonyms for 'dalton': ['Dayton', 'Delton', 'Dalton', 'Dolton']\n",
      "Synonyms for 'belmont': ['Belmont', 'Belmond']\n",
      "Synonyms for 'the hills': ['the Hills', 'The Hills']\n",
      "Synonyms for 'lutz': ['LUTZ', 'Lutz']\n",
      "Synonyms for 'federal heights': ['FEDERALHEIGHTS', 'Federal Heights']\n",
      "Synonyms for 'mc gregor': ['Mc Gregor', 'McGregor']\n",
      "Synonyms for 'mc kinney': ['McKinney', 'Mckinney', 'Mc Kinney']\n",
      "Synonyms for 'wake forest': ['Wake Forest', 'Lake Forest']\n",
      "Synonyms for 'mcgregor': ['Mc Gregor', 'McGregor']\n",
      "Synonyms for 'inglewood': ['Englewood', 'ENGLEWOOD', 'Inglewood']\n",
      "Synonyms for 'morristown': ['Morriston', 'Morristown']\n",
      "Synonyms for 'ocoee': ['OCOEE', 'Ocoee']\n",
      "Synonyms for 'maitland': ['MAITLAND', 'Maitland']\n",
      "Synonyms for 'crooksville': ['Brooksville', 'Crooksville']\n",
      "Synonyms for 'rome': ['Rome', 'Nome', 'Rowe']\n",
      "Synonyms for 'dacono': ['DACONO', 'Dacono']\n",
      "Synonyms for 'ruston': ['Ruston', 'Reston']\n",
      "Synonyms for 'ft. worth': ['Ft Worth', 'Ft. Worth']\n",
      "Synonyms for 'fairfield twp.': ['Fairfield Twp', 'Fairfield Twp.']\n",
      "Synonyms for 'leon valley': ['Leon Valley', 'Leona valley']\n",
      "Synonyms for 'roy': ['Roy', 'Troy']\n",
      "Synonyms for 'clint': ['Flint', 'Clint']\n",
      "Synonyms for 'st pete': ['ST PETE', 'St Pete']\n",
      "Synonyms for 'cape haze': ['Cape Haze', 'CAPE HAZE']\n",
      "Synonyms for 'tustin': ['Austin', 'Tustin']\n",
      "Synonyms for 'pt charlotte': ['PT CHARLOTTE', 'Pt Charlotte']\n",
      "Synonyms for 'belmond': ['Belmont', 'Belmond']\n",
      "Synonyms for 'canyon': ['Canton', 'Canyon']\n",
      "Synonyms for 'iola': ['Iola', 'Biola']\n",
      "Synonyms for 'reston': ['Weston', 'Renton', 'Ruston', 'Reston']\n",
      "Synonyms for 'edgewater': ['Edgewater', 'EDGEWATER']\n",
      "Synonyms for 'powell': ['Lowell', 'Powell']\n",
      "Synonyms for 'troy': ['Roy', 'Troy']\n",
      "Synonyms for 'clifton': ['Clinton', 'Clifton']\n",
      "Synonyms for 'st. george': ['St George', 'St. George', 'St george']\n",
      "Synonyms for 'highland': ['Highland', 'Highlands']\n",
      "Synonyms for 'arden': ['Alden', 'Arden']\n",
      "Synonyms for 'belllingham': ['Bellingham', 'Belllingham']\n",
      "Synonyms for 'bermuda dunes': ['Bermuda Dunes', 'Bermuda dunes']\n",
      "Synonyms for 'greenacres': ['Greenacres', 'Green Acres']\n",
      "Synonyms for 'st. johns': ['St Johns', 'St. Johns']\n",
      "Synonyms for 'dows': ['Dows', 'Downs']\n",
      "Synonyms for 'arrington': ['Arlington', 'Barrington', 'Arrington']\n",
      "Synonyms for 'doctor philips': ['Doctor Phillips', 'Doctor Philips']\n",
      "Synonyms for 'opa-locka': ['Opa Locka', 'Opa-Locka', 'Opa-locka']\n",
      "Synonyms for 'leona valley': ['Leon Valley', 'Leona valley']\n",
      "Synonyms for 'nome': ['Rome', 'Nome']\n",
      "Synonyms for 'biola': ['Iola', 'Biola']\n",
      "Synonyms for 'downs': ['Dows', 'Downs']\n",
      "Synonyms for 'brant': ['Brant', 'Bryant']\n",
      "Synonyms for 'st albans city': ['St. Albans City', 'St Albans City']\n",
      "Synonyms for 'jefferson': ['JEFFERSON', 'Jefferson']\n",
      "Synonyms for 'bryant': ['Bryan', 'Brant', 'Bryant']\n",
      "Synonyms for 'rowe': ['Rome', 'Rowe']\n",
      "Synonyms for 'bee caves': ['Bee Cave', 'Bee Caves']\n",
      "Synonyms for 'green acres': ['Greenacres', 'Green Acres']\n",
      "Synonyms for 'willsboro': ['Hillsboro', 'Willsboro']\n",
      "Synonyms for 'un-incorporated broward county': ['Un-Incorporated Broward County', 'Unincorporated Broward County']\n",
      "Synonyms for 'onon hill': ['Oxon Hill', 'Onon Hill']\n",
      "Synonyms for 'silver lakes': ['Silver Lake', 'Silver Lakes']\n",
      "Synonyms for 'unincorporated broward county': ['Un-Incorporated Broward County', 'Unincorporated Broward County']\n",
      "Synonyms for 'china': ['Chino', 'China']\n",
      "Synonyms for 'dolton': ['Delton', 'Dalton', 'Dolton']\n",
      "Synonyms for 'springs': ['Spring', 'Springs']\n",
      "Synonyms for 'lake forest': ['Wake Forest', 'Lake Forest']\n",
      "Synonyms for 'highlands': ['Highland', 'Highlands']\n",
      "Synonyms for 'atlaanta': ['Atlanta', 'Atlaanta']\n"
     ]
    }
   ],
   "source": [
    "\n",
    "\n",
    "# создаем список всех уникальных значений в столбце\n",
    "unique_values = data['city'].unique()\n",
    "\n",
    "# создаем список всех уникальных значений в столбце, приведенных к нижнему регистру\n",
    "lowercase_values = [str(value).lower() if isinstance(value, str) else str(value) for value in unique_values]\n",
    "\n",
    "# создаем словарь синонимов (ключ - это нормализованное значение, значение - это список всех значений, которые считаются синонимами)\n",
    "synonyms_dict = {}\n",
    "\n",
    "for value in unique_values:\n",
    "    # нормализуем текущее значение\n",
    "    normalized_value = str(value).lower() if isinstance(value, str) else str(value)\n",
    "\n",
    "    # ищем все значения, которые считаются синонимами для текущего значения\n",
    "    synonyms = [v for v in unique_values if distance(str(v).lower() if isinstance(v, str) else str(v), normalized_value) <= 1]\n",
    "\n",
    "    # добавляем текущее значение и его синонимы в словарь\n",
    "    synonyms_dict[normalized_value] = synonyms\n",
    "\n",
    "# выводим все найденные синонимы\n",
    "for key, value in synonyms_dict.items():\n",
    "    if len(value) > 1:\n",
    "        print(f\"Synonyms for '{key}': {value}\")"
   ]
  },
  {
   "cell_type": "markdown",
   "metadata": {},
   "source": [
    "Необходимо привести названия городов к одинаковому регистру"
   ]
  },
  {
   "cell_type": "code",
   "execution_count": 81,
   "metadata": {},
   "outputs": [],
   "source": [
    "data['city'] = data['city'].apply(lambda x: x.lower() if isinstance(x, str) else x)"
   ]
  },
  {
   "cell_type": "code",
   "execution_count": 82,
   "metadata": {},
   "outputs": [
    {
     "name": "stdout",
     "output_type": "stream",
     "text": [
      "Synonyms for 'spring': ['spring', 'springs']\n",
      "Synonyms for 'davie': ['davie', 'davis']\n",
      "Synonyms for 'weston': ['weston', 'reston']\n",
      "Synonyms for 'atlanta': ['atlanta', 'atlaanta']\n",
      "Synonyms for 'valley view': ['valley view', 'valleyview']\n",
      "Synonyms for 'mckinney': ['mckinney', 'mc kinney']\n",
      "Synonyms for 'austin': ['austin', 'tustin']\n",
      "Synonyms for 'nashville': ['nashville', 'ashville']\n",
      "Synonyms for 'st petersburg': ['st petersburg', 'st. petersburg']\n",
      "Synonyms for 'bryan': ['bryan', 'bryant']\n",
      "Synonyms for 'irving': ['irving', 'irvine']\n",
      "Synonyms for 'swanton': ['swanton', 'stanton']\n",
      "Synonyms for 'asheville': ['asheville', 'ashville']\n",
      "Synonyms for 'brooksville': ['brooksville', 'crooksville']\n",
      "Synonyms for 'forest hills': ['forest hills', 'forest hill']\n",
      "Synonyms for 'ashville': ['nashville', 'asheville', 'ashville']\n",
      "Synonyms for 'irvine': ['irving', 'irvine']\n",
      "Synonyms for 'chino': ['chino', 'chico', 'china']\n",
      "Synonyms for 'soddy daisy': ['soddy daisy', 'soddy-daisy']\n",
      "Synonyms for 'bellingham': ['bellingham', 'belllingham']\n",
      "Synonyms for 'st johns': ['st johns', 'st. johns']\n",
      "Synonyms for 'ventura': ['ventura', 'aventura']\n",
      "Synonyms for 'ocklawaha': ['ocklawaha', 'oklawaha']\n",
      "Synonyms for 'clinton': ['clinton', 'clifton']\n",
      "Synonyms for 'silver springs': ['silver springs', 'silver spring']\n",
      "Synonyms for 'roseville': ['roseville', 'rossville']\n",
      "Synonyms for 'arlington': ['arlington', 'arrington']\n",
      "Synonyms for 'commerce city': ['commerce city', 'commercecity']\n",
      "Synonyms for 'renton': ['renton', 'denton', 'trenton', 'reston']\n",
      "Synonyms for 'aventura': ['ventura', 'aventura']\n",
      "Synonyms for 'englewood': ['englewood', 'inglewood']\n",
      "Synonyms for 'canton': ['canton', 'panton', 'canyon']\n",
      "Synonyms for 'denton': ['renton', 'denton', 'delton']\n",
      "Synonyms for 'mcallen': ['mcallen', 'mc allen']\n",
      "Synonyms for 'milwaukee': ['milwaukee', 'milwaukie']\n",
      "Synonyms for 'deltona': ['deltona', 'delton']\n",
      "Synonyms for 'youngstown': ['youngstown', 'youngtown']\n",
      "Synonyms for 'morriston': ['morriston', 'morrison', 'morristown']\n",
      "Synonyms for 'redding': ['redding', 'reading']\n",
      "Synonyms for 'youngtown': ['youngstown', 'youngtown']\n",
      "Synonyms for 'fairfield twp': ['fairfield twp', 'fairfield twp.']\n",
      "Synonyms for 'silver spring': ['silver springs', 'silver spring']\n",
      "Synonyms for 'opa locka': ['opa locka', 'opa-locka']\n",
      "Synonyms for 'wheat ridge': ['wheat ridge', 'wheatridge']\n",
      "Synonyms for 'davis': ['davie', 'davis']\n",
      "Synonyms for 'allen': ['allen', 'alden']\n",
      "Synonyms for 'mayville': ['mayville', 'maxville']\n",
      "Synonyms for 'commercecity': ['commerce city', 'commercecity']\n",
      "Synonyms for 'silver lake': ['silver lake', 'silver lakes']\n",
      "Synonyms for 'hillsboro': ['hillsboro', 'willsboro']\n",
      "Synonyms for 'redford': ['redford', 'bedford', 'medford']\n",
      "Synonyms for 'wheatridge': ['wheat ridge', 'wheatridge']\n",
      "Synonyms for 'oklawaha': ['ocklawaha', 'oklawaha']\n",
      "Synonyms for 'milwaukie': ['milwaukee', 'milwaukie']\n",
      "Synonyms for 'st. petersburg': ['st petersburg', 'st. petersburg']\n",
      "Synonyms for 'federalheights': ['federalheights', 'federal heights']\n",
      "Synonyms for 'morrison': ['morriston', 'morrison']\n",
      "Synonyms for 'bee cave': ['bee cave', 'bee caves']\n",
      "Synonyms for 'dayton': ['dayton', 'dalton']\n",
      "Synonyms for 'stowe': ['stowe', 'stow']\n",
      "Synonyms for 'forest hill': ['forest hills', 'forest hill']\n",
      "Synonyms for 'panton': ['canton', 'panton']\n",
      "Synonyms for 'brook park': ['brook park', 'brookpark']\n",
      "Synonyms for 'chico': ['chino', 'chico']\n",
      "Synonyms for 'lowell': ['lowell', 'powell']\n",
      "Synonyms for 'merced': ['merced', 'mercer']\n",
      "Synonyms for 'rossville': ['roseville', 'rossville']\n",
      "Synonyms for 'doctor phillips': ['doctor phillips', 'doctor philips']\n",
      "Synonyms for 'barrington': ['barrington', 'arrington']\n",
      "Synonyms for 'bedford': ['redford', 'bedford', 'medford']\n",
      "Synonyms for 'mc allen': ['mcallen', 'mc allen']\n",
      "Synonyms for 'stow': ['stowe', 'stow']\n",
      "Synonyms for 'medford': ['redford', 'bedford', 'medford']\n",
      "Synonyms for 'st. albans city': ['st. albans city', 'st albans city']\n",
      "Synonyms for 'trenton': ['renton', 'trenton']\n",
      "Synonyms for 'delton': ['denton', 'deltona', 'delton', 'belton', 'dalton', 'dolton']\n",
      "Synonyms for 'brookpark': ['brook park', 'brookpark']\n",
      "Synonyms for 'stanford': ['stanford', 'stafford']\n",
      "Synonyms for 'soddy-daisy': ['soddy daisy', 'soddy-daisy']\n",
      "Synonyms for 'maxville': ['mayville', 'maxville']\n",
      "Synonyms for 'mercer': ['merced', 'mercer']\n",
      "Synonyms for 'belton': ['delton', 'belton']\n",
      "Synonyms for 'stafford': ['stanford', 'stafford']\n",
      "Synonyms for 'ft worth': ['ft worth', 'ft. worth']\n",
      "Synonyms for 'flint': ['flint', 'clint']\n",
      "Synonyms for 'reading': ['redding', 'reading']\n",
      "Synonyms for 'millcreek': ['millcreek', 'mill creek']\n",
      "Synonyms for 'st george': ['st george', 'st. george']\n",
      "Synonyms for 'oxon hill': ['oxon hill', 'onon hill']\n",
      "Synonyms for 'alden': ['allen', 'alden', 'arden']\n",
      "Synonyms for 'stanton': ['swanton', 'stanton']\n",
      "Synonyms for 'valleyview': ['valley view', 'valleyview']\n",
      "Synonyms for 'mill creek': ['millcreek', 'mill creek']\n",
      "Synonyms for 'dalton': ['dayton', 'delton', 'dalton', 'dolton']\n",
      "Synonyms for 'belmont': ['belmont', 'belmond']\n",
      "Synonyms for 'federal heights': ['federalheights', 'federal heights']\n",
      "Synonyms for 'mc gregor': ['mc gregor', 'mcgregor']\n",
      "Synonyms for 'mc kinney': ['mckinney', 'mc kinney']\n",
      "Synonyms for 'wake forest': ['wake forest', 'lake forest']\n",
      "Synonyms for 'mcgregor': ['mc gregor', 'mcgregor']\n",
      "Synonyms for 'inglewood': ['englewood', 'inglewood']\n",
      "Synonyms for 'morristown': ['morriston', 'morristown']\n",
      "Synonyms for 'crooksville': ['brooksville', 'crooksville']\n",
      "Synonyms for 'rome': ['rome', 'nome', 'rowe']\n",
      "Synonyms for 'ruston': ['ruston', 'reston']\n",
      "Synonyms for 'ft. worth': ['ft worth', 'ft. worth']\n",
      "Synonyms for 'fairfield twp.': ['fairfield twp', 'fairfield twp.']\n",
      "Synonyms for 'leon valley': ['leon valley', 'leona valley']\n",
      "Synonyms for 'roy': ['roy', 'troy']\n",
      "Synonyms for 'clint': ['flint', 'clint']\n",
      "Synonyms for 'tustin': ['austin', 'tustin']\n",
      "Synonyms for 'belmond': ['belmont', 'belmond']\n",
      "Synonyms for 'canyon': ['canton', 'canyon']\n",
      "Synonyms for 'iola': ['iola', 'biola']\n",
      "Synonyms for 'reston': ['weston', 'renton', 'ruston', 'reston']\n",
      "Synonyms for 'powell': ['lowell', 'powell']\n",
      "Synonyms for 'troy': ['roy', 'troy']\n",
      "Synonyms for 'clifton': ['clinton', 'clifton']\n",
      "Synonyms for 'st. george': ['st george', 'st. george']\n",
      "Synonyms for 'highland': ['highland', 'highlands']\n",
      "Synonyms for 'arden': ['alden', 'arden']\n",
      "Synonyms for 'belllingham': ['bellingham', 'belllingham']\n",
      "Synonyms for 'greenacres': ['greenacres', 'green acres']\n",
      "Synonyms for 'st. johns': ['st johns', 'st. johns']\n",
      "Synonyms for 'dows': ['dows', 'downs']\n",
      "Synonyms for 'arrington': ['arlington', 'barrington', 'arrington']\n",
      "Synonyms for 'doctor philips': ['doctor phillips', 'doctor philips']\n",
      "Synonyms for 'opa-locka': ['opa locka', 'opa-locka']\n",
      "Synonyms for 'leona valley': ['leon valley', 'leona valley']\n",
      "Synonyms for 'nome': ['rome', 'nome']\n",
      "Synonyms for 'biola': ['iola', 'biola']\n",
      "Synonyms for 'downs': ['dows', 'downs']\n",
      "Synonyms for 'brant': ['brant', 'bryant']\n",
      "Synonyms for 'st albans city': ['st. albans city', 'st albans city']\n",
      "Synonyms for 'bryant': ['bryan', 'brant', 'bryant']\n",
      "Synonyms for 'rowe': ['rome', 'rowe']\n",
      "Synonyms for 'bee caves': ['bee cave', 'bee caves']\n",
      "Synonyms for 'green acres': ['greenacres', 'green acres']\n",
      "Synonyms for 'willsboro': ['hillsboro', 'willsboro']\n",
      "Synonyms for 'un-incorporated broward county': ['un-incorporated broward county', 'unincorporated broward county']\n",
      "Synonyms for 'onon hill': ['oxon hill', 'onon hill']\n",
      "Synonyms for 'silver lakes': ['silver lake', 'silver lakes']\n",
      "Synonyms for 'unincorporated broward county': ['un-incorporated broward county', 'unincorporated broward county']\n",
      "Synonyms for 'china': ['chino', 'china']\n",
      "Synonyms for 'dolton': ['delton', 'dalton', 'dolton']\n",
      "Synonyms for 'springs': ['spring', 'springs']\n",
      "Synonyms for 'lake forest': ['wake forest', 'lake forest']\n",
      "Synonyms for 'highlands': ['highland', 'highlands']\n",
      "Synonyms for 'atlaanta': ['atlanta', 'atlaanta']\n"
     ]
    }
   ],
   "source": [
    "\n",
    "\n",
    "# создаем список всех уникальных значений в столбце\n",
    "unique_values = data['city'].unique()\n",
    "\n",
    "# создаем список всех уникальных значений в столбце, приведенных к нижнему регистру\n",
    "lowercase_values = [str(value).lower() if isinstance(value, str) else str(value) for value in unique_values]\n",
    "\n",
    "# создаем словарь синонимов (ключ - это нормализованное значение, значение - это список всех значений, которые считаются синонимами)\n",
    "synonyms_dict = {}\n",
    "\n",
    "for value in unique_values:\n",
    "    # нормализуем текущее значение\n",
    "    normalized_value = str(value).lower() if isinstance(value, str) else str(value)\n",
    "\n",
    "    # ищем все значения, которые считаются синонимами для текущего значения\n",
    "    synonyms = [v for v in unique_values if distance(str(v).lower() if isinstance(v, str) else str(v), normalized_value) <= 1]\n",
    "\n",
    "    # добавляем текущее значение и его синонимы в словарь\n",
    "    synonyms_dict[normalized_value] = synonyms\n",
    "\n",
    "# выводим все найденные синонимы\n",
    "for key, value in synonyms_dict.items():\n",
    "    if len(value) > 1:\n",
    "        print(f\"Synonyms for '{key}': {value}\")"
   ]
  },
  {
   "cell_type": "code",
   "execution_count": 83,
   "metadata": {},
   "outputs": [],
   "source": [
    "# Создаем словарь с заменами\n",
    "replacements_city = {\n",
    "    'springs,': 'spring',\n",
    "    'davis': 'davie',\n",
    "    'reston': 'weston',\n",
    "    'atlaanta': 'atlanta',\n",
    "    'valleyview': 'valley view',\n",
    "    'mc kinney': 'mckinney',\n",
    "    'tustin': 'austin',\n",
    "    'ashville': 'nashville',\n",
    "    'st. petersburg': 'st petersburg',\n",
    "    'bryant': 'bryan',\n",
    "    'irvine': 'irving',\n",
    "    'stanton': 'swanton',\n",
    "    'asheville': 'nashville',\n",
    "    'chico': 'chino',\n",
    "    'china': 'chino',\n",
    "    'soddy-daisy': 'soddy daisy',\n",
    "    'belllingham': 'bellingham',\n",
    "    'st. johns': 'st johns',\n",
    "    'aventura': 'ventura',\n",
    "    'oklawaha': 'ocklawaha',\n",
    "    'clifton': 'clinton',\n",
    "    'silver spring': 'silver springs',\n",
    "    'rossville': 'roseville',\n",
    "    'arrington': 'arlington',\n",
    "    'commercecity': 'commerce city',\n",
    "    'denton': 'renton',\n",
    "    'trenton': 'renton',\n",
    "    'reston': 'renton',\n",
    "    'inglewood': 'englewood',\n",
    "    'panton': 'canton',\n",
    "    'canyon': 'canton',\n",
    "    'delton': 'renton',\n",
    "    'youngtown': 'youngstown',\n",
    "    'morrison': 'morristown',\n",
    "    'morriston': 'morristown',\n",
    "    'reading': 'redding',\n",
    "    'fairfield twp.': 'fairfield twp',\n",
    "    'silver springs': 'silver spring',\n",
    "    'opa-locka': 'opa locka',\n",
    "    'wheatridge': 'wheat ridge',\n",
    "    'alden': 'allen',\n",
    "    'maxville': 'mayville',\n",
    "    'silver lakes': 'silver lake',\n",
    "    'willsboro': 'hillsboro',\n",
    "    'bedford': 'redford',\n",
    "    'medford': 'redford',\n",
    "    'milwaukee': 'milwaukie',\n",
    "    'federal heights': 'federalheights',\n",
    "    'bee caves': 'bee cave',\n",
    "    'dalton': 'dayton',\n",
    "    'stow': 'stowe',\n",
    "    'forest hills': 'forest hill',\n",
    "    'brookpark': 'brook park',\n",
    "    'powell': 'lowell',\n",
    "    'mercer': 'merced',\n",
    "    'roseville': 'rossville',\n",
    "    'doctor philips': 'doctor phillips',\n",
    "    'arrington': 'barrington',\n",
    "    'mc allen': 'mcallen',\n",
    "    'st albans city': 'st. albans city',\n",
    "    'deltona': 'renton',\n",
    "    'belton': 'renton',\n",
    "    'dolton': 'renton',\n",
    "    'ft. worth': 'ft worth',\n",
    "    'mill creek': 'millcreek',\n",
    "    'st. george': 'st george',\n",
    "    'onon hill': 'oxon hill',\n",
    "    'arden': 'allen',\n",
    "    'belmond': 'belmont',\n",
    "    'mcgregor': 'mc gregor',\n",
    "    'lake forest': 'wake forest',\n",
    "    'nome': 'rome',\n",
    "    'rowe': 'rome',\n",
    "    'ruston': 'reston',\n",
    "    'leona valley': 'leon valley',\n",
    "    'troy': 'roy',\n",
    "    'biola': 'iola',\n",
    "    'highlands': 'highland',\n",
    "    'green acres': 'greenacres',\n",
    "    'downs': 'dows',\n",
    "    'bryant': 'brant',\n",
    "    'unincorporated broward county': 'un-incorporated broward county',\n",
    "    '': None,\n",
    "    'no data': None,\n",
    "    'none': None\n",
    "    }\n",
    "\n",
    "\n",
    "# Заменяем значения в столбце \"sity\" с помощью словаря замен\n",
    "data['city'].replace(replacements_city, inplace=True)"
   ]
  },
  {
   "cell_type": "code",
   "execution_count": 84,
   "metadata": {},
   "outputs": [
    {
     "name": "stdout",
     "output_type": "stream",
     "text": [
      "Количество уникальных значений:  1836\n"
     ]
    }
   ],
   "source": [
    "print('Количество уникальных значений: ', data['city'].nunique())"
   ]
  },
  {
   "cell_type": "code",
   "execution_count": 85,
   "metadata": {},
   "outputs": [
    {
     "name": "stdout",
     "output_type": "stream",
     "text": [
      "Доля (%) 300 наиболее весомых категорий:  90.5\n"
     ]
    }
   ],
   "source": [
    "print('Доля (%) 300 наиболее весомых категорий: ' , round((data['city'].value_counts().nlargest(300)/len(data)*100).sum(),1))"
   ]
  },
  {
   "cell_type": "code",
   "execution_count": 86,
   "metadata": {},
   "outputs": [
    {
     "name": "stderr",
     "output_type": "stream",
     "text": [
      "100%|██████████| 377185/377185 [00:01<00:00, 351824.75it/s]\n"
     ]
    }
   ],
   "source": [
    "city_list = list(data['city'].value_counts().nlargest(300).index)\n",
    "data['city'] = data['city'].progress_apply(lambda x: x if x in city_list else 'other')"
   ]
  },
  {
   "cell_type": "markdown",
   "metadata": {},
   "source": [
    "# 7 schools"
   ]
  },
  {
   "cell_type": "markdown",
   "metadata": {},
   "source": [
    "Посмотрим на данные"
   ]
  },
  {
   "cell_type": "code",
   "execution_count": 87,
   "metadata": {},
   "outputs": [
    {
     "data": {
      "text/plain": [
       "\"[{'rating': ['8/10', '4/10', '8/10'], 'data': {'Distance': ['1.19mi', '2.06mi', '2.63mi'], 'Grades': ['6-8', 'K-5', '9-12']}, 'name': ['Paul Revere Middle School', 'Brentwood Science School', 'Palisades Charter High School']}]\""
      ]
     },
     "execution_count": 87,
     "metadata": {},
     "output_type": "execute_result"
    }
   ],
   "source": [
    "data['schools'][2]"
   ]
  },
  {
   "cell_type": "markdown",
   "metadata": {},
   "source": [
    "Разобьем строку на отдельные словари"
   ]
  },
  {
   "cell_type": "code",
   "execution_count": 88,
   "metadata": {},
   "outputs": [
    {
     "name": "stdout",
     "output_type": "stream",
     "text": [
      "{'rating': ['4', '4', '7', 'NR', '4', '7', 'NR', 'NR'], 'data': {'Distance': ['2.7 mi', '3.6 mi', '5.1 mi', '4.0 mi', '10.5 mi', '12.6 mi', '2.7 mi', '3.1 mi'], 'Grades': ['3–5', '6–8', '9–12', 'PK–2', '6–8', '9–12', 'PK–5', 'K–12']}, 'name': ['Southern Pines Elementary School', 'Southern Middle School', 'Pinecrest High School', 'Southern Pines Primary School', \"Crain's Creek Middle School\", 'Union Pines High School', 'Episcopal Day Private School', 'Calvary Christian Private School']}\n",
      "[{'rating': ['4', '4', '7', 'NR', '4', '7', 'NR', 'NR'], 'data': {'Distance': ['2.7 mi', '3.6 mi', '5.1 mi', '4.0 mi', '10.5 mi', '12.6 mi', '2.7 mi', '3.1 mi'], 'Grades': ['3–5', '6–8', '9–12', 'PK–2', '6–8', '9–12', 'PK–5', 'K–12']}, 'name': ['Southern Pines Elementary School', 'Southern Middle School', 'Pinecrest High School', 'Southern Pines Primary School', \"Crain's Creek Middle School\", 'Union Pines High School', 'Episcopal Day Private School', 'Calvary Christian Private School']}]\n"
     ]
    }
   ],
   "source": [
    "facts = ast.literal_eval(data['schools'][0])\n",
    "for fact in facts:\n",
    "    print (fact)\n",
    "print (facts)"
   ]
  },
  {
   "cell_type": "markdown",
   "metadata": {},
   "source": [
    "Cоздадим функцию для извлечения характеристик, принимая во внимание формат: количество школ, а также минимальный, средний и максимальный рейтинг школ и расстояние до школы"
   ]
  },
  {
   "cell_type": "code",
   "execution_count": 89,
   "metadata": {},
   "outputs": [
    {
     "name": "stderr",
     "output_type": "stream",
     "text": [
      "  0%|          | 0/377185 [00:00<?, ?it/s]"
     ]
    },
    {
     "name": "stderr",
     "output_type": "stream",
     "text": [
      "100%|██████████| 377185/377185 [54:01<00:00, 116.37it/s] \n"
     ]
    }
   ],
   "source": [
    "def schools_feature (x):\n",
    "    \n",
    "    x =  ast.literal_eval(x)\n",
    "    schools = pd.json_normalize(x)\n",
    "            \n",
    "    len_list = []\n",
    "    for i in range(0,4):\n",
    "        len_list.append(len(schools.iloc[0][i]))\n",
    "    mx = max(len_list)\n",
    "    \n",
    "    for col in list(schools.columns):\n",
    "        while len(schools[col][0]) < mx:\n",
    "            schools[col].iloc[0].append(np.nan)\n",
    "            \n",
    "    schools = schools.explode(['rating','name','data.Distance', 'data.Grades'])\n",
    "       \n",
    "\n",
    "    if len(schools['rating']) == 1 and schools['rating'][0] is np.nan:\n",
    "        Min_rating, Max_rating, Mean_rating = np.nan, np.nan, np.nan\n",
    "    else: \n",
    "        schools['rating'] = schools['rating'].apply(get_float)\n",
    "        Min_rating, Max_rating, Mean_rating = schools['rating'].min(), schools['rating'].max(), schools['rating'].mean()\n",
    "\n",
    "        \n",
    "    if len(schools['data.Distance']) == 1 and schools['data.Distance'][0] is np.nan:\n",
    "        Min_distance, Max_distance, Mean_distance = np.nan, np.nan, np.nan\n",
    "    else: \n",
    "        schools['data.Distance'] = schools['data.Distance'].apply(get_float)\n",
    "        Min_distance, Max_distance, Mean_distance = schools['data.Distance'].min(), schools['data.Distance'].max(), schools['data.Distance'].mean()\n",
    "\n",
    "    return len(schools), Min_rating, Max_rating, Mean_rating, Min_distance, Max_distance, Mean_distance\n",
    "\n",
    "    \n",
    "school_feature_list = ['Number of schools', 'Min rating', 'Max rating', 'Mean rating', 'Min distance', 'Max distance', 'Mean distance']\n",
    "  \n",
    "data [['Number of schools', 'Min rating','Max rating','Mean rating','Min distance','Max distance','Mean distance']] = data['schools'].progress_apply(schools_feature).apply(pd.Series)"
   ]
  },
  {
   "cell_type": "code",
   "execution_count": 90,
   "metadata": {},
   "outputs": [],
   "source": [
    "data = data.drop('schools', axis =1)"
   ]
  },
  {
   "cell_type": "code",
   "execution_count": 92,
   "metadata": {},
   "outputs": [],
   "source": [
    "data.to_csv('data_data.csv')"
   ]
  },
  {
   "cell_type": "markdown",
   "metadata": {},
   "source": [
    "# 8 sqft"
   ]
  },
  {
   "cell_type": "code",
   "execution_count": 93,
   "metadata": {},
   "outputs": [
    {
     "data": {
      "text/plain": [
       "array(['2900', '1,947 sqft', '3,000 sqft', '6,457 sqft', nan, '897 sqft',\n",
       "       '1,507', '3588', '1,930', '1,300 sqft', '3,130', '2,839 sqft',\n",
       "       'Total interior livable area: 1,820 sqft', '2,454', '2,203'],\n",
       "      dtype=object)"
      ]
     },
     "execution_count": 93,
     "metadata": {},
     "output_type": "execute_result"
    }
   ],
   "source": [
    "data['sqft'].unique()[:15]"
   ]
  },
  {
   "cell_type": "code",
   "execution_count": 94,
   "metadata": {},
   "outputs": [
    {
     "name": "stderr",
     "output_type": "stream",
     "text": [
      "  0%|          | 0/377185 [00:00<?, ?it/s]"
     ]
    },
    {
     "name": "stderr",
     "output_type": "stream",
     "text": [
      "100%|██████████| 377185/377185 [00:01<00:00, 227613.27it/s]\n"
     ]
    }
   ],
   "source": [
    "data['sqft'] = data['sqft'].progress_apply(get_float)"
   ]
  },
  {
   "cell_type": "code",
   "execution_count": 95,
   "metadata": {},
   "outputs": [
    {
     "data": {
      "text/plain": [
       "array([2.900e+03, 1.947e+00, 3.000e+00, 6.457e+00,       nan, 8.970e+02,\n",
       "       1.507e+00, 3.588e+03, 1.930e+00, 1.300e+00, 3.130e+00, 2.839e+00,\n",
       "       1.820e+00, 2.454e+00, 2.203e+00])"
      ]
     },
     "execution_count": 95,
     "metadata": {},
     "output_type": "execute_result"
    }
   ],
   "source": [
    "data['sqft'].unique()[:15]"
   ]
  },
  {
   "cell_type": "markdown",
   "metadata": {},
   "source": [
    "# 9 zipcode"
   ]
  },
  {
   "cell_type": "code",
   "execution_count": 96,
   "metadata": {},
   "outputs": [
    {
     "data": {
      "text/plain": [
       "array(['28387', '99216', '90049', '75205', '32908', '19145', '34759',\n",
       "       '38115', '50401', '77080', '11354', '77068', '33028', '97401',\n",
       "       '77084'], dtype=object)"
      ]
     },
     "execution_count": 96,
     "metadata": {},
     "output_type": "execute_result"
    }
   ],
   "source": [
    "data['zipcode'].unique()[:15]"
   ]
  },
  {
   "cell_type": "code",
   "execution_count": 97,
   "metadata": {},
   "outputs": [
    {
     "name": "stdout",
     "output_type": "stream",
     "text": [
      "Количество уникальных значений:  4549\n"
     ]
    }
   ],
   "source": [
    "print('Количество уникальных значений: ', data['zipcode'].nunique())"
   ]
  },
  {
   "cell_type": "markdown",
   "metadata": {},
   "source": [
    "# 10 beds"
   ]
  },
  {
   "cell_type": "code",
   "execution_count": 98,
   "metadata": {},
   "outputs": [
    {
     "data": {
      "text/plain": [
       "array(['4', '3 Beds', '5 Beds', nan, '2 Beds', '3', '4 Beds', '3 bd',\n",
       "       'Baths', '4 bd', '5 bd', '8 Beds', '2', '2 bd', '2.0', '5', '1',\n",
       "       '3.0', '6 Beds', 'Bath', '12 Beds', '6', '14', '0.25 acres',\n",
       "       '6 bd', '-- bd', '7', '5.0', '4.0', ' ', '7 Beds', '1 bd',\n",
       "       '9 Beds', '0.44 acres', '0', '1.43 acres', '0.32 acres',\n",
       "       '8,637 sqft', '7.0', '8', '16 Beds', '9.7 acres', '1.0', '16 bd',\n",
       "       '10,310 sqft', '6,250 sqft', '3.02 acres', '2 acres', '5,000 sqft',\n",
       "       '0.96 acres', '6.0', '13 bd', '6.31 acres', '0.6 acres', '9',\n",
       "       '5,662 sqft', '2,200 sqft', '10', '18 Beds', '10 Beds',\n",
       "       '0.46 acres', '0.59 acres', '20 Beds', '0.0', '2,874 sqft',\n",
       "       '0.26 acres', '10 bd', '32', '0.4 acres', '2,178 sqft',\n",
       "       '6,351 sqft', '4,356 sqft', '5 acres', '0.55 acres', '5,501 sqft',\n",
       "       '8,001 sqft', '0.7 acres', '1.69 acres', '0.88 acres',\n",
       "       '0.34 acres', '13 Beds', '1.5 acres', '0.97 acres', '7,405 sqft',\n",
       "       '7 bd', '8.43 acres', '1,502 sqft', '8,712 sqft', '8,189 sqft',\n",
       "       '1.04 acres', '8,973 sqft', '7,148 sqft', '11', '0.43 acres',\n",
       "       '8,494 sqft', '-- sqft', '10,001 sqft', '8 bd', '26 Beds',\n",
       "       '64 Beds'], dtype=object)"
      ]
     },
     "execution_count": 98,
     "metadata": {},
     "output_type": "execute_result"
    }
   ],
   "source": [
    "data['beds'].unique()[:100]"
   ]
  },
  {
   "cell_type": "code",
   "execution_count": 99,
   "metadata": {},
   "outputs": [
    {
     "name": "stderr",
     "output_type": "stream",
     "text": [
      "100%|██████████| 377185/377185 [00:01<00:00, 289232.23it/s]\n",
      "100%|██████████| 377185/377185 [00:00<00:00, 766587.73it/s]\n"
     ]
    }
   ],
   "source": [
    "data['beds'] = data['beds'].progress_apply(get_float)\n",
    "data['beds'] = data['beds'].progress_apply(lambda x: x if  (1<= x <1000 and x.is_integer()) else np.nan)"
   ]
  },
  {
   "cell_type": "code",
   "execution_count": 100,
   "metadata": {},
   "outputs": [
    {
     "data": {
      "text/plain": [
       "array([  4.,   3.,   5.,  nan,   2.,   8.,   1.,   6.,  12.,  14.,   7.,\n",
       "         9.,  16.,  13.,  10.,  18.,  20.,  32.,  11.,  26.,  64., 144.,\n",
       "        22.,  24.,  15.,  28.,  60.,  36.,  19.,  48.,  25.,  17.,  27.,\n",
       "        37.,  40.,  47.,  23.,  44.,  30.,  33.,  38.,  31.,  34., 831.,\n",
       "       248.,  99., 184.,  78., 542.,  53.,  50.,  51., 102.,  21., 106.,\n",
       "        75.,  29., 640., 449., 448., 100.,  39.,  52.,  42., 150., 540.,\n",
       "        46., 871.,  76.,  35.,  88., 840.])"
      ]
     },
     "execution_count": 100,
     "metadata": {},
     "output_type": "execute_result"
    }
   ],
   "source": [
    "data['beds'].unique()[:100]"
   ]
  },
  {
   "cell_type": "markdown",
   "metadata": {},
   "source": [
    "# 11 state"
   ]
  },
  {
   "cell_type": "code",
   "execution_count": 101,
   "metadata": {},
   "outputs": [
    {
     "data": {
      "text/plain": [
       "array(['NC', 'WA', 'CA', 'TX', 'FL', 'PA', 'TN', 'IA', 'NY', 'OR', 'DC',\n",
       "       'NV', 'AZ', 'GA', 'IL'], dtype=object)"
      ]
     },
     "execution_count": 101,
     "metadata": {},
     "output_type": "execute_result"
    }
   ],
   "source": [
    "data['state'].unique()[:15]"
   ]
  },
  {
   "cell_type": "code",
   "execution_count": 102,
   "metadata": {},
   "outputs": [
    {
     "name": "stdout",
     "output_type": "stream",
     "text": [
      "Количество уникальных значений:  39\n"
     ]
    }
   ],
   "source": [
    "print('Количество уникальных значений: ', data['state'].nunique())"
   ]
  },
  {
   "cell_type": "markdown",
   "metadata": {},
   "source": [
    "# 12 stories"
   ]
  },
  {
   "cell_type": "code",
   "execution_count": 103,
   "metadata": {},
   "outputs": [
    {
     "data": {
      "text/plain": [
       "array([nan, '2.0', '1.0', '3.0', 'One', '2', 'Multi/Split', '4.0', '0.0',\n",
       "       '0', 'One Level', '1', '9.0', '3', '1 Level, Site Built',\n",
       "       'One Story', '3.00', '1.00', '14.0', 'Two', '3+', '1 Story', '5.0',\n",
       "       '2 Story', 'Ranch/1 Story', 'Condominium', 'Stories/Levels', '7.0',\n",
       "       '2 Level, Site Built', '2 Level', '15', '3 Level, Site Built', '4',\n",
       "       '22.0', '2.00', '6.0', '1.0000', 'Lot', '3 Story', 'Three Or More',\n",
       "       '1.5', '1 Level', 'Two Story or More', 'Site Built, Tri-Level',\n",
       "       '54.0', '23', 'Farm House', '8.0', '16.0', '1.50', '18', '9', '21',\n",
       "       '8', '12.0', 'Split Level w/ Sub', '11.0', '18.0', '1.5 Stories',\n",
       "       '7', '11', 'Townhouse', '12', '21.0', '16', '1.5 Story/Basement',\n",
       "       '28.0', 'Traditional', '2.5 Story', '17', '2.0000', '63.0',\n",
       "       'Acreage', 'Ground Level, One', '6', 'Split Foyer', '2 Stories',\n",
       "       '27.0', '19.0', '2.50', '1.30', '2 Story/Basement', 'Split Level',\n",
       "       '1.5 Story', '1.5 Level', '2 Or More Stories',\n",
       "       '1 Level, Condo, Site Built', '15.0', '20', '1.5000', '4.00',\n",
       "       '1 Story Basement', '5', 'Multi-Level', '17.0', 'Other Multi-unit',\n",
       "       'Ranch', 'Tri-Level', '13.0', '1 Story/Ranch'], dtype=object)"
      ]
     },
     "execution_count": 103,
     "metadata": {},
     "output_type": "execute_result"
    }
   ],
   "source": [
    "data['stories'].unique()[:100]"
   ]
  },
  {
   "cell_type": "markdown",
   "metadata": {},
   "source": [
    "В признаке разношерстные данные, к тому же пропуски составляют почти 40%. Удалим данный признак."
   ]
  },
  {
   "cell_type": "code",
   "execution_count": 104,
   "metadata": {},
   "outputs": [],
   "source": [
    "data = data.drop('stories', axis=1)"
   ]
  },
  {
   "cell_type": "markdown",
   "metadata": {},
   "source": [
    "# 13 mls-id и MLsId"
   ]
  },
  {
   "cell_type": "markdown",
   "metadata": {},
   "source": [
    "Данный признак не несет информации, влияющей на стоимость жилья, поэтому удалим его."
   ]
  },
  {
   "cell_type": "code",
   "execution_count": 105,
   "metadata": {},
   "outputs": [],
   "source": [
    "data = data.drop('mls-id', axis=1)"
   ]
  },
  {
   "cell_type": "code",
   "execution_count": 106,
   "metadata": {},
   "outputs": [],
   "source": [
    "data = data.drop('MlsId', axis=1)"
   ]
  },
  {
   "cell_type": "markdown",
   "metadata": {},
   "source": [
    "# 14 street"
   ]
  },
  {
   "cell_type": "code",
   "execution_count": 107,
   "metadata": {},
   "outputs": [],
   "source": [
    "data = data.drop('street', axis=1)"
   ]
  },
  {
   "cell_type": "markdown",
   "metadata": {},
   "source": [
    "# 15 fireplace"
   ]
  },
  {
   "cell_type": "markdown",
   "metadata": {},
   "source": [
    "Данный признак содержит почти 73% пропусков. Удалим его."
   ]
  },
  {
   "cell_type": "code",
   "execution_count": 108,
   "metadata": {},
   "outputs": [],
   "source": [
    "data = data.drop('fireplace', axis=1)"
   ]
  },
  {
   "cell_type": "markdown",
   "metadata": {},
   "source": [
    "# 16 target"
   ]
  },
  {
   "cell_type": "code",
   "execution_count": 109,
   "metadata": {},
   "outputs": [
    {
     "data": {
      "text/plain": [
       "array(['$418,000', '$310,000', '$2,895,000', '$2,395,000', '$5,000',\n",
       "       '$209,000', '181,500', '68,000', '$244,900', '$311,995',\n",
       "       '$669,000', '260,000', '$525,000', '$499,900', '$168,800',\n",
       "       '1,650,000', '335,000', '2,650,000', '$365,000', '$626,000',\n",
       "       '$375,000', '$3,500,000', '579,000', '$499,007', '$182,000',\n",
       "       '$3,749,000', '799,000', '$559,000', '$830,000', '$1,195,000',\n",
       "       '$262,000', '$204,800', '$179,000', '$105,000', '$260,000',\n",
       "       '$284,900', '$495,000', '$117,900', '$385,000', '54,000',\n",
       "       '$1,100,000', '850,000', '$620,000', '$125,000', '$499,000',\n",
       "       '$1,429,000', '$233,990+', '125,000', '$275,000', '$27,000'],\n",
       "      dtype=object)"
      ]
     },
     "execution_count": 109,
     "metadata": {},
     "output_type": "execute_result"
    }
   ],
   "source": [
    "data['target'].unique()[:50]"
   ]
  },
  {
   "cell_type": "code",
   "execution_count": 110,
   "metadata": {},
   "outputs": [
    {
     "name": "stdout",
     "output_type": "stream",
     "text": [
      "Количество уникальных значений:  43939\n"
     ]
    }
   ],
   "source": [
    "print('Количество уникальных значений: ', data['target'].nunique())"
   ]
  },
  {
   "cell_type": "code",
   "execution_count": 111,
   "metadata": {},
   "outputs": [
    {
     "name": "stderr",
     "output_type": "stream",
     "text": [
      "100%|██████████| 377185/377185 [00:01<00:00, 307381.12it/s]\n"
     ]
    }
   ],
   "source": [
    "data['target'] = data['target'].progress_apply(get_float)"
   ]
  },
  {
   "cell_type": "code",
   "execution_count": 112,
   "metadata": {},
   "outputs": [
    {
     "data": {
      "text/plain": [
       "array([418.   , 310.   ,   2.895,   2.395,   5.   , 209.   , 181.5  ,\n",
       "        68.   , 244.9  , 311.995, 669.   , 260.   , 525.   , 499.9  ,\n",
       "       168.8  ,   1.65 , 335.   ,   2.65 , 365.   , 626.   , 375.   ,\n",
       "         3.5  , 579.   , 499.007, 182.   ,   3.749, 799.   , 559.   ,\n",
       "       830.   ,   1.195, 262.   , 204.8  , 179.   , 105.   , 284.9  ,\n",
       "       495.   , 117.9  , 385.   ,  54.   ,   1.1  , 850.   , 620.   ,\n",
       "       125.   , 499.   ,   1.429, 233.99 , 275.   ,  27.   , 598.   ,\n",
       "         1.78 ])"
      ]
     },
     "execution_count": 112,
     "metadata": {},
     "output_type": "execute_result"
    }
   ],
   "source": [
    "data['target'].unique()[:50]"
   ]
  },
  {
   "cell_type": "code",
   "execution_count": 113,
   "metadata": {},
   "outputs": [
    {
     "data": {
      "text/html": [
       "<div>\n",
       "<style scoped>\n",
       "    .dataframe tbody tr th:only-of-type {\n",
       "        vertical-align: middle;\n",
       "    }\n",
       "\n",
       "    .dataframe tbody tr th {\n",
       "        vertical-align: top;\n",
       "    }\n",
       "\n",
       "    .dataframe thead th {\n",
       "        text-align: right;\n",
       "    }\n",
       "</style>\n",
       "<table border=\"1\" class=\"dataframe\">\n",
       "  <thead>\n",
       "    <tr style=\"text-align: right;\">\n",
       "      <th></th>\n",
       "      <th>status</th>\n",
       "      <th>propertyType</th>\n",
       "      <th>baths</th>\n",
       "      <th>city</th>\n",
       "      <th>sqft</th>\n",
       "      <th>zipcode</th>\n",
       "      <th>beds</th>\n",
       "      <th>state</th>\n",
       "      <th>target</th>\n",
       "      <th>Private_pool</th>\n",
       "      <th>...</th>\n",
       "      <th>Year built</th>\n",
       "      <th>Remodeled year</th>\n",
       "      <th>Price/sqft</th>\n",
       "      <th>Number of schools</th>\n",
       "      <th>Min rating</th>\n",
       "      <th>Max rating</th>\n",
       "      <th>Mean rating</th>\n",
       "      <th>Min distance</th>\n",
       "      <th>Max distance</th>\n",
       "      <th>Mean distance</th>\n",
       "    </tr>\n",
       "  </thead>\n",
       "  <tbody>\n",
       "    <tr>\n",
       "      <th>0</th>\n",
       "      <td>active</td>\n",
       "      <td>single family</td>\n",
       "      <td>3.5</td>\n",
       "      <td>southern pines</td>\n",
       "      <td>2900.000</td>\n",
       "      <td>28387</td>\n",
       "      <td>4.0</td>\n",
       "      <td>NC</td>\n",
       "      <td>418.000</td>\n",
       "      <td>0</td>\n",
       "      <td>...</td>\n",
       "      <td>3.0</td>\n",
       "      <td>NaN</td>\n",
       "      <td>144.0</td>\n",
       "      <td>8.0</td>\n",
       "      <td>4.0</td>\n",
       "      <td>7.0</td>\n",
       "      <td>5.200000</td>\n",
       "      <td>2.70</td>\n",
       "      <td>12.60</td>\n",
       "      <td>5.537500</td>\n",
       "    </tr>\n",
       "    <tr>\n",
       "      <th>1</th>\n",
       "      <td>for sale</td>\n",
       "      <td>single family</td>\n",
       "      <td>3.0</td>\n",
       "      <td>other</td>\n",
       "      <td>1.947</td>\n",
       "      <td>99216</td>\n",
       "      <td>3.0</td>\n",
       "      <td>WA</td>\n",
       "      <td>310.000</td>\n",
       "      <td>0</td>\n",
       "      <td>...</td>\n",
       "      <td>3.0</td>\n",
       "      <td>NaN</td>\n",
       "      <td>159.0</td>\n",
       "      <td>3.0</td>\n",
       "      <td>4.0</td>\n",
       "      <td>10.0</td>\n",
       "      <td>6.000000</td>\n",
       "      <td>1.01</td>\n",
       "      <td>1.65</td>\n",
       "      <td>1.326667</td>\n",
       "    </tr>\n",
       "    <tr>\n",
       "      <th>2</th>\n",
       "      <td>for sale</td>\n",
       "      <td>single family</td>\n",
       "      <td>2.0</td>\n",
       "      <td>los angeles</td>\n",
       "      <td>3.000</td>\n",
       "      <td>90049</td>\n",
       "      <td>3.0</td>\n",
       "      <td>CA</td>\n",
       "      <td>2.895</td>\n",
       "      <td>1</td>\n",
       "      <td>...</td>\n",
       "      <td>61.0</td>\n",
       "      <td>55.0</td>\n",
       "      <td>965.0</td>\n",
       "      <td>3.0</td>\n",
       "      <td>4.0</td>\n",
       "      <td>8.0</td>\n",
       "      <td>6.666667</td>\n",
       "      <td>1.19</td>\n",
       "      <td>2.63</td>\n",
       "      <td>1.960000</td>\n",
       "    </tr>\n",
       "    <tr>\n",
       "      <th>3</th>\n",
       "      <td>for sale</td>\n",
       "      <td>single family</td>\n",
       "      <td>8.0</td>\n",
       "      <td>dallas</td>\n",
       "      <td>6.457</td>\n",
       "      <td>75205</td>\n",
       "      <td>5.0</td>\n",
       "      <td>TX</td>\n",
       "      <td>2.395</td>\n",
       "      <td>0</td>\n",
       "      <td>...</td>\n",
       "      <td>16.0</td>\n",
       "      <td>16.0</td>\n",
       "      <td>371.0</td>\n",
       "      <td>4.0</td>\n",
       "      <td>9.0</td>\n",
       "      <td>10.0</td>\n",
       "      <td>9.250000</td>\n",
       "      <td>0.10</td>\n",
       "      <td>1.05</td>\n",
       "      <td>0.752500</td>\n",
       "    </tr>\n",
       "    <tr>\n",
       "      <th>4</th>\n",
       "      <td>for sale</td>\n",
       "      <td>land</td>\n",
       "      <td>NaN</td>\n",
       "      <td>palm bay</td>\n",
       "      <td>NaN</td>\n",
       "      <td>32908</td>\n",
       "      <td>NaN</td>\n",
       "      <td>FL</td>\n",
       "      <td>5.000</td>\n",
       "      <td>0</td>\n",
       "      <td>...</td>\n",
       "      <td>NaN</td>\n",
       "      <td>NaN</td>\n",
       "      <td>NaN</td>\n",
       "      <td>3.0</td>\n",
       "      <td>4.0</td>\n",
       "      <td>5.0</td>\n",
       "      <td>4.666667</td>\n",
       "      <td>3.03</td>\n",
       "      <td>5.96</td>\n",
       "      <td>4.080000</td>\n",
       "    </tr>\n",
       "  </tbody>\n",
       "</table>\n",
       "<p>5 rows × 24 columns</p>\n",
       "</div>"
      ],
      "text/plain": [
       "     status   propertyType  baths            city      sqft zipcode  beds  \\\n",
       "0    active  single family    3.5  southern pines  2900.000   28387   4.0   \n",
       "1  for sale  single family    3.0           other     1.947   99216   3.0   \n",
       "2  for sale  single family    2.0     los angeles     3.000   90049   3.0   \n",
       "3  for sale  single family    8.0          dallas     6.457   75205   5.0   \n",
       "4  for sale           land    NaN        palm bay       NaN   32908   NaN   \n",
       "\n",
       "  state   target  Private_pool  ... Year built  Remodeled year Price/sqft  \\\n",
       "0    NC  418.000             0  ...        3.0             NaN      144.0   \n",
       "1    WA  310.000             0  ...        3.0             NaN      159.0   \n",
       "2    CA    2.895             1  ...       61.0            55.0      965.0   \n",
       "3    TX    2.395             0  ...       16.0            16.0      371.0   \n",
       "4    FL    5.000             0  ...        NaN             NaN        NaN   \n",
       "\n",
       "  Number of schools  Min rating  Max rating  Mean rating  Min distance  \\\n",
       "0               8.0         4.0         7.0     5.200000          2.70   \n",
       "1               3.0         4.0        10.0     6.000000          1.01   \n",
       "2               3.0         4.0         8.0     6.666667          1.19   \n",
       "3               4.0         9.0        10.0     9.250000          0.10   \n",
       "4               3.0         4.0         5.0     4.666667          3.03   \n",
       "\n",
       "   Max distance  Mean distance  \n",
       "0         12.60       5.537500  \n",
       "1          1.65       1.326667  \n",
       "2          2.63       1.960000  \n",
       "3          1.05       0.752500  \n",
       "4          5.96       4.080000  \n",
       "\n",
       "[5 rows x 24 columns]"
      ]
     },
     "execution_count": 113,
     "metadata": {},
     "output_type": "execute_result"
    }
   ],
   "source": [
    "data.head()"
   ]
  },
  {
   "cell_type": "code",
   "execution_count": 114,
   "metadata": {},
   "outputs": [
    {
     "name": "stdout",
     "output_type": "stream",
     "text": [
      "<class 'pandas.core.frame.DataFrame'>\n",
      "RangeIndex: 377185 entries, 0 to 377184\n",
      "Data columns (total 24 columns):\n",
      " #   Column             Non-Null Count   Dtype  \n",
      "---  ------             --------------   -----  \n",
      " 0   status             377185 non-null  object \n",
      " 1   propertyType       377185 non-null  object \n",
      " 2   baths              269278 non-null  float64\n",
      " 3   city               377185 non-null  object \n",
      " 4   sqft               335788 non-null  float64\n",
      " 5   zipcode            377185 non-null  object \n",
      " 6   beds               264122 non-null  float64\n",
      " 7   state              377185 non-null  object \n",
      " 8   target             374704 non-null  float64\n",
      " 9   Private_pool       377185 non-null  int64  \n",
      " 10  Cooling            377185 non-null  object \n",
      " 11  lotsize            281330 non-null  float64\n",
      " 12  Parking            377185 non-null  object \n",
      " 13  Heating            377185 non-null  object \n",
      " 14  Year built         313589 non-null  float64\n",
      " 15  Remodeled year     151075 non-null  float64\n",
      " 16  Price/sqft         311248 non-null  float64\n",
      " 17  Number of schools  377185 non-null  float64\n",
      " 18  Min rating         372064 non-null  float64\n",
      " 19  Max rating         372064 non-null  float64\n",
      " 20  Mean rating        372064 non-null  float64\n",
      " 21  Min distance       372901 non-null  float64\n",
      " 22  Max distance       372901 non-null  float64\n",
      " 23  Mean distance      372901 non-null  float64\n",
      "dtypes: float64(15), int64(1), object(8)\n",
      "memory usage: 69.1+ MB\n"
     ]
    }
   ],
   "source": [
    "data.info()"
   ]
  },
  {
   "cell_type": "code",
   "execution_count": 115,
   "metadata": {},
   "outputs": [],
   "source": [
    "data.to_csv('df.csv')"
   ]
  }
 ],
 "metadata": {
  "kernelspec": {
   "display_name": "Python 3",
   "language": "python",
   "name": "python3"
  },
  "language_info": {
   "codemirror_mode": {
    "name": "ipython",
    "version": 3
   },
   "file_extension": ".py",
   "mimetype": "text/x-python",
   "name": "python",
   "nbconvert_exporter": "python",
   "pygments_lexer": "ipython3",
   "version": "3.9.10"
  },
  "orig_nbformat": 4
 },
 "nbformat": 4,
 "nbformat_minor": 2
}
