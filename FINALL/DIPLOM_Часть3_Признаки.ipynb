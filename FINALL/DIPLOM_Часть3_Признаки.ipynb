{
 "cells": [
  {
   "cell_type": "code",
   "execution_count": 1,
   "metadata": {},
   "outputs": [],
   "source": [
    "# импорт необходимых библиотек\n",
    "import pandas as pd\n",
    "import numpy as np\n",
    "from tqdm import tqdm\n",
    "tqdm.pandas()\n",
    "import re\n",
    "import ast\n",
    "from Levenshtein import distance"
   ]
  },
  {
   "cell_type": "code",
   "execution_count": 2,
   "metadata": {},
   "outputs": [],
   "source": [
    "# чтение файла\n",
    "data = pd.read_csv('data/dataset.csv', sep=',')"
   ]
  },
  {
   "cell_type": "markdown",
   "metadata": {},
   "source": [
    "# 6 city"
   ]
  },
  {
   "cell_type": "code",
   "execution_count": 3,
   "metadata": {},
   "outputs": [
    {
     "data": {
      "text/plain": [
       "array(['Southern Pines', 'Spokane Valley', 'Los Angeles', 'Dallas',\n",
       "       'Palm Bay', 'Philadelphia', 'POINCIANA', 'Memphis', 'Mason City',\n",
       "       'Houston', 'Flushing', 'Pembroke Pines', 'Eugene', 'Brooklyn',\n",
       "       'Fort Lauderdale'], dtype=object)"
      ]
     },
     "execution_count": 3,
     "metadata": {},
     "output_type": "execute_result"
    }
   ],
   "source": [
    "data['city'].unique()[:15]"
   ]
  },
  {
   "cell_type": "code",
   "execution_count": 4,
   "metadata": {},
   "outputs": [
    {
     "name": "stdout",
     "output_type": "stream",
     "text": [
      "Количество уникальных значений:  2026\n"
     ]
    }
   ],
   "source": [
    "print('Количество уникальных значений: ', data['city'].nunique())"
   ]
  },
  {
   "cell_type": "code",
   "execution_count": 5,
   "metadata": {},
   "outputs": [
    {
     "name": "stdout",
     "output_type": "stream",
     "text": [
      "Synonyms for 'los angeles': ['Los Angeles', 'Los angeles']\n",
      "Synonyms for 'dallas': ['Dallas', 'DALLAS']\n",
      "Synonyms for 'poinciana': ['POINCIANA', 'Poinciana']\n",
      "Synonyms for 'new york': ['New York', 'New york']\n",
      "Synonyms for 'bend': ['Bend', 'BEND']\n",
      "Synonyms for 'spring': ['Spring', 'Springs']\n",
      "Synonyms for 'miami': ['Miami', 'MIAMI']\n",
      "Synonyms for 'davie': ['Davie', 'Davis']\n",
      "Synonyms for 'tampa': ['Tampa', 'TAMPA']\n",
      "Synonyms for 'jacksonville': ['Jacksonville', 'JACKSONVILLE']\n",
      "Synonyms for 'charlotte': ['Charlotte', 'CHARLOTTE']\n",
      "Synonyms for 'rotonda west': ['ROTONDA WEST', 'Rotonda West']\n",
      "Synonyms for 'weston': ['Weston', 'Reston']\n",
      "Synonyms for 'fort worth': ['Fort Worth', 'Fort worth']\n",
      "Synonyms for 'temple terrace': ['Temple Terrace', 'TEMPLE TERRACE']\n",
      "Synonyms for 'atlanta': ['Atlanta', 'Atlaanta']\n",
      "Synonyms for 'lakewood': ['Lakewood', 'LAKEWOOD']\n",
      "Synonyms for 'seattle': ['Seattle', 'SEATTLE']\n",
      "Synonyms for 'port charlotte': ['PORT CHARLOTTE', 'Port Charlotte']\n",
      "Synonyms for 'saint johns': ['Saint Johns', 'SAINT JOHNS']\n",
      "Synonyms for 'kissimmee': ['Kissimmee', 'KISSIMMEE']\n",
      "Synonyms for 'orlando': ['ORLANDO', 'Orlando']\n",
      "Synonyms for 'valley view': ['Valley View', 'Valleyview']\n",
      "Synonyms for 'coral gables': ['Coral Gables', 'Coral gables']\n",
      "Synonyms for 'mckinney': ['McKinney', 'Mckinney', 'Mc Kinney']\n",
      "Synonyms for 'cape coral': ['Cape Coral', 'Cape coral']\n",
      "Synonyms for 'austin': ['Austin', 'Tustin']\n",
      "Synonyms for 'nashville': ['Nashville', 'Ashville', 'NASHVILLE']\n",
      "Synonyms for 'st petersburg': ['ST PETERSBURG', 'St Petersburg', 'St. Petersburg']\n",
      "Synonyms for 'saint pete beach': ['Saint Pete Beach', 'Saint pete beach', 'SAINT PETE BEACH']\n",
      "Synonyms for 'grand prairie': ['Grand Prairie', 'Grand prairie']\n",
      "Synonyms for 'clearwater': ['Clearwater', 'CLEARWATER']\n",
      "Synonyms for 'hialeah': ['Hialeah', 'HIALEAH']\n",
      "Synonyms for 'lehigh acres': ['Lehigh Acres', 'Lehigh acres']\n",
      "Synonyms for 'saint petersburg': ['Saint Petersburg', 'SAINT PETERSBURG']\n",
      "Synonyms for 'tacoma': ['Tacoma', 'TACOMA']\n",
      "Synonyms for 'south pasadena': ['South Pasadena', 'SOUTH PASADENA', 'South pasadena']\n",
      "Synonyms for 'buffalo': ['Buffalo', 'BUFFALO']\n",
      "Synonyms for 'bryan': ['Bryan', 'Bryant']\n",
      "Synonyms for 'irving': ['Irving', 'Irvine']\n",
      "Synonyms for 'denver': ['Denver', 'DENVER']\n",
      "Synonyms for 'madeira beach': ['MADEIRA BEACH', 'Madeira Beach']\n",
      "Synonyms for 'swanton': ['Swanton', 'Stanton']\n",
      "Synonyms for 'longmont': ['LONGMONT', 'Longmont']\n",
      "Synonyms for 'asheville': ['Asheville', 'Ashville']\n",
      "Synonyms for 'brooksville': ['Brooksville', 'Crooksville']\n",
      "Synonyms for 'forest hills': ['Forest Hills', 'Forest Hill']\n",
      "Synonyms for 'springfield': ['Springfield', 'SPRINGFIELD']\n",
      "Synonyms for 'aurora': ['Aurora', 'AURORA']\n",
      "Synonyms for 'dania beach': ['Dania Beach', 'Dania beach']\n",
      "Synonyms for 'ashville': ['Nashville', 'Asheville', 'Ashville', 'NASHVILLE']\n",
      "Synonyms for 'irvine': ['Irving', 'Irvine']\n",
      "Synonyms for 'chino': ['Chino', 'Chico', 'China']\n",
      "Synonyms for 'reunion': ['Reunion', 'REUNION']\n",
      "Synonyms for 'soddy daisy': ['Soddy Daisy', 'Soddy-Daisy']\n",
      "Synonyms for 'south lyon': ['South Lyon', 'South lyon']\n",
      "Synonyms for 'spring hill': ['Spring Hill', 'Spring hill', 'SPRING HILL']\n",
      "Synonyms for 'bellingham': ['Bellingham', 'Belllingham']\n",
      "Synonyms for 'st johns': ['St Johns', 'St. Johns']\n",
      "Synonyms for 'ventura': ['Ventura', 'Aventura', 'AVENTURA']\n",
      "Synonyms for 'ocklawaha': ['Ocklawaha', 'Oklawaha']\n",
      "Synonyms for 'lake worth': ['Lake Worth', 'Lake worth']\n",
      "Synonyms for 'clinton': ['Clinton', 'Clifton']\n",
      "Synonyms for 'silver springs': ['Silver Springs', 'Silver Spring']\n",
      "Synonyms for 'roseville': ['Roseville', 'Rossville']\n",
      "Synonyms for 'arlington': ['Arlington', 'Arrington']\n",
      "Synonyms for 'commerce city': ['Commerce City', 'COMMERCECITY']\n",
      "Synonyms for 'sunrise': ['Sunrise', 'SUNRISE']\n",
      "Synonyms for 'punta gorda': ['Punta Gorda', 'PUNTA GORDA']\n",
      "Synonyms for 'bonita springs': ['Bonita Springs', 'Bonita springs']\n",
      "Synonyms for 'brighton': ['BRIGHTON', 'Brighton']\n",
      "Synonyms for 'placida': ['PLACIDA', 'Placida']\n",
      "Synonyms for 'thornton': ['Thornton', 'THORNTON']\n",
      "Synonyms for 'renton': ['Renton', 'Denton', 'Trenton', 'Reston']\n",
      "Synonyms for 'aventura': ['Ventura', 'Aventura', 'AVENTURA']\n",
      "Synonyms for 'englewood': ['Englewood', 'ENGLEWOOD', 'Inglewood']\n",
      "Synonyms for 'st pete beach': ['St Pete Beach', 'ST PETE BEACH']\n",
      "Synonyms for 'canton': ['Canton', 'Panton', 'Canyon']\n",
      "Synonyms for 'saint louis': ['Saint Louis', 'Saint louis']\n",
      "Synonyms for 'denton': ['Renton', 'Denton', 'Delton']\n",
      "Synonyms for 'mcallen': ['McAllen', 'Mcallen', 'Mc Allen', 'mcallen']\n",
      "Synonyms for 'north fort myers': ['NORTH FORT MYERS', 'North Fort Myers']\n",
      "Synonyms for 'doral': ['Doral', 'DORAL']\n",
      "Synonyms for 'fairfield': ['Fairfield', 'FAIRFIELD']\n",
      "Synonyms for 'arcadia': ['ARCADIA', 'Arcadia']\n",
      "Synonyms for 'milwaukee': ['Milwaukee', 'Milwaukie']\n",
      "Synonyms for 'broomfield': ['BROOMFIELD', 'Broomfield']\n",
      "Synonyms for 'deltona': ['Deltona', 'Delton']\n",
      "Synonyms for 'celebration': ['CELEBRATION', 'Celebration']\n",
      "Synonyms for 'youngstown': ['Youngstown', 'Youngtown']\n",
      "Synonyms for 'morriston': ['Morriston', 'MORRISON', 'Morrison', 'Morristown']\n",
      "Synonyms for 'redding': ['Redding', 'Reading']\n",
      "Synonyms for 'brandon': ['Brandon', 'BRANDON']\n",
      "Synonyms for 'youngtown': ['Youngstown', 'Youngtown']\n",
      "Synonyms for 'gulfport': ['GULFPORT', 'Gulfport']\n",
      "Synonyms for 'boca grande': ['Boca Grande', 'BOCA GRANDE']\n",
      "Synonyms for 'fairfield twp': ['Fairfield Twp', 'Fairfield Twp.']\n",
      "Synonyms for 'lake in the hills': ['Lake in the Hills', 'Lake In The Hills']\n",
      "Synonyms for 'highland park': ['Highland Park', 'Highland park']\n",
      "Synonyms for 'treasure island': ['Treasure Island', 'TREASURE ISLAND']\n",
      "Synonyms for 'golden': ['Golden', 'GOLDEN']\n",
      "Synonyms for 'johnson city': ['Johnson City', 'JOHNSON CITY']\n",
      "Synonyms for 'westminster': ['Westminster', 'WESTMINSTER']\n",
      "Synonyms for 'littleton': ['LITTLETON', 'Littleton']\n",
      "Synonyms for 'silver spring': ['Silver Springs', 'Silver Spring']\n",
      "Synonyms for 'kenneth city': ['Kenneth City', 'KENNETH CITY']\n",
      "Synonyms for 'tierra verde': ['Tierra Verde', 'TIERRA VERDE']\n",
      "Synonyms for 'opa locka': ['Opa Locka', 'Opa-Locka', 'Opa-locka']\n",
      "Synonyms for 'wheat ridge': ['Wheat Ridge', 'WHEATRIDGE']\n",
      "Synonyms for 'winter park': ['Winter Park', 'WINTER PARK']\n",
      "Synonyms for 'centennial': ['CENTENNIAL', 'Centennial']\n",
      "Synonyms for 'davis': ['Davie', 'Davis']\n",
      "Synonyms for 'odessa': ['Odessa', 'ODESSA']\n",
      "Synonyms for 'allen': ['Allen', 'Alden']\n",
      "Synonyms for 'fort collins': ['Fort Collins', 'FORT COLLINS']\n",
      "Synonyms for 'provo': ['Provo', 'PROVO']\n",
      "Synonyms for 'mayville': ['Mayville', 'Maxville']\n",
      "Synonyms for 'commercecity': ['Commerce City', 'COMMERCECITY']\n",
      "Synonyms for 'ann arbor': ['Ann Arbor', 'ANN ARBOR']\n",
      "Synonyms for 'redington beach': ['Redington Beach', 'REDINGTON BEACH']\n",
      "Synonyms for 'silver lake': ['Silver Lake', 'Silver Lakes']\n",
      "Synonyms for 'northglenn': ['Northglenn', 'NORTHGLENN']\n",
      "Synonyms for 'hillsboro': ['Hillsboro', 'Willsboro']\n",
      "Synonyms for 'redford': ['Redford', 'Bedford', 'Medford']\n",
      "Synonyms for 'north port': ['North Port', 'NORTH PORT', 'North port']\n",
      "Synonyms for 'wheatridge': ['Wheat Ridge', 'WHEATRIDGE']\n",
      "Synonyms for 'oklawaha': ['Ocklawaha', 'Oklawaha']\n",
      "Synonyms for 'milwaukie': ['Milwaukee', 'Milwaukie']\n",
      "Synonyms for 'lauderdale by the sea': ['Lauderdale By The Sea', 'Lauderdale By the Sea', 'LAUDERDALE BY THE SEA']\n",
      "Synonyms for 'st. petersburg': ['ST PETERSBURG', 'St Petersburg', 'St. Petersburg']\n",
      "Synonyms for 'federalheights': ['FEDERALHEIGHTS', 'Federal Heights']\n",
      "Synonyms for 'lake suzy': ['LAKE SUZY', 'Lake Suzy']\n",
      "Synonyms for 'pinellas park': ['Pinellas Park', 'PINELLAS PARK']\n",
      "Synonyms for 'morrison': ['Morriston', 'MORRISON', 'Morrison']\n",
      "Synonyms for 'bee cave': ['Bee Cave', 'Bee Caves']\n",
      "Synonyms for 'dayton': ['Dayton', 'Dalton']\n",
      "Synonyms for 'stowe': ['Stowe', 'Stow']\n",
      "Synonyms for 'redington shores': ['REDINGTON SHORES', 'Redington Shores']\n",
      "Synonyms for 'forest hill': ['Forest Hills', 'Forest Hill']\n",
      "Synonyms for 'panton': ['Canton', 'Panton']\n",
      "Synonyms for 'seatac': ['SeaTac', 'Seatac']\n",
      "Synonyms for 'royal palm beach': ['Royal Palm Beach', 'Royal palm beach']\n",
      "Synonyms for 'brook park': ['Brook Park', 'Brookpark']\n",
      "Synonyms for 'belle isle': ['Belle Isle', 'BELLE ISLE']\n",
      "Synonyms for 'chico': ['Chino', 'Chico']\n",
      "Synonyms for 'dupont': ['Dupont', 'DuPont']\n",
      "Synonyms for 'lowell': ['Lowell', 'Powell']\n",
      "Synonyms for 'merced': ['Merced', 'Mercer']\n",
      "Synonyms for 'rossville': ['Roseville', 'Rossville']\n",
      "Synonyms for 'edgewood': ['Edgewood', 'EDGEWOOD']\n",
      "Synonyms for 'doctor phillips': ['Doctor Phillips', 'Doctor Philips']\n",
      "Synonyms for 'apopka': ['APOPKA', 'Apopka']\n",
      "Synonyms for 'barrington': ['Barrington', 'Arrington']\n",
      "Synonyms for 'bedford': ['Redford', 'Bedford', 'Medford']\n",
      "Synonyms for 'temple hills': ['Temple Hills', 'Temple hills']\n",
      "Synonyms for 'mc allen': ['McAllen', 'Mcallen', 'Mc Allen', 'mcallen']\n",
      "Synonyms for 'stow': ['Stowe', 'Stow']\n",
      "Synonyms for 'medford': ['Redford', 'Bedford', 'Medford']\n",
      "Synonyms for 'fort wayne': ['Fort Wayne', 'Fort wayne']\n",
      "Synonyms for 'st. albans city': ['St. Albans City', 'St Albans City']\n",
      "Synonyms for 'north redington beach': ['North Redington Beach', 'NORTH REDINGTON BEACH']\n",
      "Synonyms for 'trenton': ['Renton', 'Trenton']\n",
      "Synonyms for 'delton': ['Denton', 'Deltona', 'Delton', 'Belton', 'Dalton', 'Dolton']\n",
      "Synonyms for 'brookpark': ['Brook Park', 'Brookpark']\n",
      "Synonyms for 'baldwin': ['Baldwin', 'BALDWIN']\n",
      "Synonyms for 'stanford': ['Stanford', 'Stafford']\n",
      "Synonyms for 'soddy-daisy': ['Soddy Daisy', 'Soddy-Daisy']\n",
      "Synonyms for 'maxville': ['Mayville', 'Maxville']\n",
      "Synonyms for 'mercer': ['Merced', 'Mercer']\n",
      "Synonyms for 'riverview': ['Riverview', 'RIVERVIEW']\n",
      "Synonyms for 'haines city': ['Haines City', 'HAINES CITY']\n",
      "Synonyms for 'belton': ['Delton', 'Belton']\n",
      "Synonyms for 'stafford': ['Stanford', 'Stafford']\n",
      "Synonyms for 'ft worth': ['Ft Worth', 'Ft. Worth']\n",
      "Synonyms for 'flint': ['Flint', 'Clint']\n",
      "Synonyms for 'reading': ['Redding', 'Reading']\n",
      "Synonyms for 'millcreek': ['Millcreek', 'Mill Creek']\n",
      "Synonyms for 'st george': ['St George', 'St. George', 'St george']\n",
      "Synonyms for 'oxon hill': ['Oxon Hill', 'Onon Hill']\n",
      "Synonyms for 'alden': ['Allen', 'Alden', 'Arden']\n",
      "Synonyms for 'stanton': ['Swanton', 'Stanton']\n",
      "Synonyms for 'fort myers': ['Fort Myers', 'FORT MYERS']\n",
      "Synonyms for 'valleyview': ['Valley View', 'Valleyview']\n",
      "Synonyms for 'mill creek': ['Millcreek', 'Mill Creek']\n",
      "Synonyms for 'dalton': ['Dayton', 'Delton', 'Dalton', 'Dolton']\n",
      "Synonyms for 'belmont': ['Belmont', 'Belmond']\n",
      "Synonyms for 'the hills': ['the Hills', 'The Hills']\n",
      "Synonyms for 'lutz': ['LUTZ', 'Lutz']\n",
      "Synonyms for 'federal heights': ['FEDERALHEIGHTS', 'Federal Heights']\n",
      "Synonyms for 'mc gregor': ['Mc Gregor', 'McGregor']\n",
      "Synonyms for 'mc kinney': ['McKinney', 'Mckinney', 'Mc Kinney']\n",
      "Synonyms for 'wake forest': ['Wake Forest', 'Lake Forest']\n",
      "Synonyms for 'mcgregor': ['Mc Gregor', 'McGregor']\n",
      "Synonyms for 'inglewood': ['Englewood', 'ENGLEWOOD', 'Inglewood']\n",
      "Synonyms for 'morristown': ['Morriston', 'Morristown']\n",
      "Synonyms for 'ocoee': ['OCOEE', 'Ocoee']\n",
      "Synonyms for 'maitland': ['MAITLAND', 'Maitland']\n",
      "Synonyms for 'crooksville': ['Brooksville', 'Crooksville']\n",
      "Synonyms for 'rome': ['Rome', 'Nome', 'Rowe']\n",
      "Synonyms for 'dacono': ['DACONO', 'Dacono']\n",
      "Synonyms for 'ruston': ['Ruston', 'Reston']\n",
      "Synonyms for 'ft. worth': ['Ft Worth', 'Ft. Worth']\n",
      "Synonyms for 'fairfield twp.': ['Fairfield Twp', 'Fairfield Twp.']\n",
      "Synonyms for 'leon valley': ['Leon Valley', 'Leona valley']\n",
      "Synonyms for 'roy': ['Roy', 'Troy']\n",
      "Synonyms for 'clint': ['Flint', 'Clint']\n",
      "Synonyms for 'st pete': ['ST PETE', 'St Pete']\n",
      "Synonyms for 'cape haze': ['Cape Haze', 'CAPE HAZE']\n",
      "Synonyms for 'tustin': ['Austin', 'Tustin']\n",
      "Synonyms for 'pt charlotte': ['PT CHARLOTTE', 'Pt Charlotte']\n",
      "Synonyms for 'belmond': ['Belmont', 'Belmond']\n",
      "Synonyms for 'canyon': ['Canton', 'Canyon']\n",
      "Synonyms for 'iola': ['Iola', 'Biola']\n",
      "Synonyms for 'reston': ['Weston', 'Renton', 'Ruston', 'Reston']\n",
      "Synonyms for 'edgewater': ['Edgewater', 'EDGEWATER']\n",
      "Synonyms for 'powell': ['Lowell', 'Powell']\n",
      "Synonyms for 'troy': ['Roy', 'Troy']\n",
      "Synonyms for 'clifton': ['Clinton', 'Clifton']\n",
      "Synonyms for 'st. george': ['St George', 'St. George', 'St george']\n",
      "Synonyms for 'highland': ['Highland', 'Highlands']\n",
      "Synonyms for 'arden': ['Alden', 'Arden']\n",
      "Synonyms for 'belllingham': ['Bellingham', 'Belllingham']\n",
      "Synonyms for 'bermuda dunes': ['Bermuda Dunes', 'Bermuda dunes']\n",
      "Synonyms for 'greenacres': ['Greenacres', 'Green Acres']\n",
      "Synonyms for 'st. johns': ['St Johns', 'St. Johns']\n",
      "Synonyms for 'dows': ['Dows', 'Downs']\n",
      "Synonyms for 'arrington': ['Arlington', 'Barrington', 'Arrington']\n",
      "Synonyms for 'doctor philips': ['Doctor Phillips', 'Doctor Philips']\n",
      "Synonyms for 'opa-locka': ['Opa Locka', 'Opa-Locka', 'Opa-locka']\n",
      "Synonyms for 'leona valley': ['Leon Valley', 'Leona valley']\n",
      "Synonyms for 'nome': ['Rome', 'Nome']\n",
      "Synonyms for 'biola': ['Iola', 'Biola']\n",
      "Synonyms for 'downs': ['Dows', 'Downs']\n",
      "Synonyms for 'brant': ['Brant', 'Bryant']\n",
      "Synonyms for 'st albans city': ['St. Albans City', 'St Albans City']\n",
      "Synonyms for 'jefferson': ['JEFFERSON', 'Jefferson']\n",
      "Synonyms for 'bryant': ['Bryan', 'Brant', 'Bryant']\n",
      "Synonyms for 'rowe': ['Rome', 'Rowe']\n",
      "Synonyms for 'bee caves': ['Bee Cave', 'Bee Caves']\n",
      "Synonyms for 'green acres': ['Greenacres', 'Green Acres']\n",
      "Synonyms for 'willsboro': ['Hillsboro', 'Willsboro']\n",
      "Synonyms for 'un-incorporated broward county': ['Un-Incorporated Broward County', 'Unincorporated Broward County']\n",
      "Synonyms for 'onon hill': ['Oxon Hill', 'Onon Hill']\n",
      "Synonyms for 'silver lakes': ['Silver Lake', 'Silver Lakes']\n",
      "Synonyms for 'unincorporated broward county': ['Un-Incorporated Broward County', 'Unincorporated Broward County']\n",
      "Synonyms for 'china': ['Chino', 'China']\n",
      "Synonyms for 'dolton': ['Delton', 'Dalton', 'Dolton']\n",
      "Synonyms for 'springs': ['Spring', 'Springs']\n",
      "Synonyms for 'lake forest': ['Wake Forest', 'Lake Forest']\n",
      "Synonyms for 'highlands': ['Highland', 'Highlands']\n",
      "Synonyms for 'atlaanta': ['Atlanta', 'Atlaanta']\n"
     ]
    }
   ],
   "source": [
    "# создаем список всех уникальных значений в столбце\n",
    "unique_values = data['city'].unique()\n",
    "\n",
    "# создаем список всех уникальных значений в столбце, приведенных к нижнему регистру\n",
    "lowercase_values = [str(value).lower() if isinstance(value, str) else str(value) for value in unique_values]\n",
    "\n",
    "# создаем словарь синонимов (ключ - это нормализованное значение, значение - это список всех значений, которые считаются синонимами)\n",
    "synonyms_dict = {}\n",
    "\n",
    "for value in unique_values:\n",
    "    # нормализуем текущее значение\n",
    "    normalized_value = str(value).lower() if isinstance(value, str) else str(value)\n",
    "\n",
    "    # ищем все значения, которые считаются синонимами для текущего значения\n",
    "    synonyms = [v for v in unique_values if distance(str(v).lower() if isinstance(v, str) else str(v), normalized_value) <= 1]\n",
    "\n",
    "    # добавляем текущее значение и его синонимы в словарь\n",
    "    synonyms_dict[normalized_value] = synonyms\n",
    "\n",
    "# выводим все найденные синонимы\n",
    "for key, value in synonyms_dict.items():\n",
    "    if len(value) > 1:\n",
    "        print(f\"Synonyms for '{key}': {value}\")"
   ]
  },
  {
   "cell_type": "markdown",
   "metadata": {},
   "source": [
    "Необходимо привести названия городов к одинаковому регистру"
   ]
  },
  {
   "cell_type": "code",
   "execution_count": 6,
   "metadata": {},
   "outputs": [],
   "source": [
    "data['city'] = data['city'].apply(lambda x: x.lower() if isinstance(x, str) else x)"
   ]
  },
  {
   "cell_type": "code",
   "execution_count": 7,
   "metadata": {},
   "outputs": [
    {
     "name": "stdout",
     "output_type": "stream",
     "text": [
      "Synonyms for 'spring': ['spring', 'springs']\n",
      "Synonyms for 'davie': ['davie', 'davis']\n",
      "Synonyms for 'weston': ['weston', 'reston']\n",
      "Synonyms for 'atlanta': ['atlanta', 'atlaanta']\n",
      "Synonyms for 'valley view': ['valley view', 'valleyview']\n",
      "Synonyms for 'mckinney': ['mckinney', 'mc kinney']\n",
      "Synonyms for 'austin': ['austin', 'tustin']\n",
      "Synonyms for 'nashville': ['nashville', 'ashville']\n",
      "Synonyms for 'st petersburg': ['st petersburg', 'st. petersburg']\n",
      "Synonyms for 'bryan': ['bryan', 'bryant']\n",
      "Synonyms for 'irving': ['irving', 'irvine']\n",
      "Synonyms for 'swanton': ['swanton', 'stanton']\n",
      "Synonyms for 'asheville': ['asheville', 'ashville']\n",
      "Synonyms for 'brooksville': ['brooksville', 'crooksville']\n",
      "Synonyms for 'forest hills': ['forest hills', 'forest hill']\n",
      "Synonyms for 'ashville': ['nashville', 'asheville', 'ashville']\n",
      "Synonyms for 'irvine': ['irving', 'irvine']\n",
      "Synonyms for 'chino': ['chino', 'chico', 'china']\n",
      "Synonyms for 'soddy daisy': ['soddy daisy', 'soddy-daisy']\n",
      "Synonyms for 'bellingham': ['bellingham', 'belllingham']\n",
      "Synonyms for 'st johns': ['st johns', 'st. johns']\n",
      "Synonyms for 'ventura': ['ventura', 'aventura']\n",
      "Synonyms for 'ocklawaha': ['ocklawaha', 'oklawaha']\n",
      "Synonyms for 'clinton': ['clinton', 'clifton']\n",
      "Synonyms for 'silver springs': ['silver springs', 'silver spring']\n",
      "Synonyms for 'roseville': ['roseville', 'rossville']\n",
      "Synonyms for 'arlington': ['arlington', 'arrington']\n",
      "Synonyms for 'commerce city': ['commerce city', 'commercecity']\n",
      "Synonyms for 'renton': ['renton', 'denton', 'trenton', 'reston']\n",
      "Synonyms for 'aventura': ['ventura', 'aventura']\n",
      "Synonyms for 'englewood': ['englewood', 'inglewood']\n",
      "Synonyms for 'canton': ['canton', 'panton', 'canyon']\n",
      "Synonyms for 'denton': ['renton', 'denton', 'delton']\n",
      "Synonyms for 'mcallen': ['mcallen', 'mc allen']\n",
      "Synonyms for 'milwaukee': ['milwaukee', 'milwaukie']\n",
      "Synonyms for 'deltona': ['deltona', 'delton']\n",
      "Synonyms for 'youngstown': ['youngstown', 'youngtown']\n",
      "Synonyms for 'morriston': ['morriston', 'morrison', 'morristown']\n",
      "Synonyms for 'redding': ['redding', 'reading']\n",
      "Synonyms for 'youngtown': ['youngstown', 'youngtown']\n",
      "Synonyms for 'fairfield twp': ['fairfield twp', 'fairfield twp.']\n",
      "Synonyms for 'silver spring': ['silver springs', 'silver spring']\n",
      "Synonyms for 'opa locka': ['opa locka', 'opa-locka']\n",
      "Synonyms for 'wheat ridge': ['wheat ridge', 'wheatridge']\n",
      "Synonyms for 'davis': ['davie', 'davis']\n",
      "Synonyms for 'allen': ['allen', 'alden']\n",
      "Synonyms for 'mayville': ['mayville', 'maxville']\n",
      "Synonyms for 'commercecity': ['commerce city', 'commercecity']\n",
      "Synonyms for 'silver lake': ['silver lake', 'silver lakes']\n",
      "Synonyms for 'hillsboro': ['hillsboro', 'willsboro']\n",
      "Synonyms for 'redford': ['redford', 'bedford', 'medford']\n",
      "Synonyms for 'wheatridge': ['wheat ridge', 'wheatridge']\n",
      "Synonyms for 'oklawaha': ['ocklawaha', 'oklawaha']\n",
      "Synonyms for 'milwaukie': ['milwaukee', 'milwaukie']\n",
      "Synonyms for 'st. petersburg': ['st petersburg', 'st. petersburg']\n",
      "Synonyms for 'federalheights': ['federalheights', 'federal heights']\n",
      "Synonyms for 'morrison': ['morriston', 'morrison']\n",
      "Synonyms for 'bee cave': ['bee cave', 'bee caves']\n",
      "Synonyms for 'dayton': ['dayton', 'dalton']\n",
      "Synonyms for 'stowe': ['stowe', 'stow']\n",
      "Synonyms for 'forest hill': ['forest hills', 'forest hill']\n",
      "Synonyms for 'panton': ['canton', 'panton']\n",
      "Synonyms for 'brook park': ['brook park', 'brookpark']\n",
      "Synonyms for 'chico': ['chino', 'chico']\n",
      "Synonyms for 'lowell': ['lowell', 'powell']\n",
      "Synonyms for 'merced': ['merced', 'mercer']\n",
      "Synonyms for 'rossville': ['roseville', 'rossville']\n",
      "Synonyms for 'doctor phillips': ['doctor phillips', 'doctor philips']\n",
      "Synonyms for 'barrington': ['barrington', 'arrington']\n",
      "Synonyms for 'bedford': ['redford', 'bedford', 'medford']\n",
      "Synonyms for 'mc allen': ['mcallen', 'mc allen']\n",
      "Synonyms for 'stow': ['stowe', 'stow']\n",
      "Synonyms for 'medford': ['redford', 'bedford', 'medford']\n",
      "Synonyms for 'st. albans city': ['st. albans city', 'st albans city']\n",
      "Synonyms for 'trenton': ['renton', 'trenton']\n",
      "Synonyms for 'delton': ['denton', 'deltona', 'delton', 'belton', 'dalton', 'dolton']\n",
      "Synonyms for 'brookpark': ['brook park', 'brookpark']\n",
      "Synonyms for 'stanford': ['stanford', 'stafford']\n",
      "Synonyms for 'soddy-daisy': ['soddy daisy', 'soddy-daisy']\n",
      "Synonyms for 'maxville': ['mayville', 'maxville']\n",
      "Synonyms for 'mercer': ['merced', 'mercer']\n",
      "Synonyms for 'belton': ['delton', 'belton']\n",
      "Synonyms for 'stafford': ['stanford', 'stafford']\n",
      "Synonyms for 'ft worth': ['ft worth', 'ft. worth']\n",
      "Synonyms for 'flint': ['flint', 'clint']\n",
      "Synonyms for 'reading': ['redding', 'reading']\n",
      "Synonyms for 'millcreek': ['millcreek', 'mill creek']\n",
      "Synonyms for 'st george': ['st george', 'st. george']\n",
      "Synonyms for 'oxon hill': ['oxon hill', 'onon hill']\n",
      "Synonyms for 'alden': ['allen', 'alden', 'arden']\n",
      "Synonyms for 'stanton': ['swanton', 'stanton']\n",
      "Synonyms for 'valleyview': ['valley view', 'valleyview']\n",
      "Synonyms for 'mill creek': ['millcreek', 'mill creek']\n",
      "Synonyms for 'dalton': ['dayton', 'delton', 'dalton', 'dolton']\n",
      "Synonyms for 'belmont': ['belmont', 'belmond']\n",
      "Synonyms for 'federal heights': ['federalheights', 'federal heights']\n",
      "Synonyms for 'mc gregor': ['mc gregor', 'mcgregor']\n",
      "Synonyms for 'mc kinney': ['mckinney', 'mc kinney']\n",
      "Synonyms for 'wake forest': ['wake forest', 'lake forest']\n",
      "Synonyms for 'mcgregor': ['mc gregor', 'mcgregor']\n",
      "Synonyms for 'inglewood': ['englewood', 'inglewood']\n",
      "Synonyms for 'morristown': ['morriston', 'morristown']\n",
      "Synonyms for 'crooksville': ['brooksville', 'crooksville']\n",
      "Synonyms for 'rome': ['rome', 'nome', 'rowe']\n",
      "Synonyms for 'ruston': ['ruston', 'reston']\n",
      "Synonyms for 'ft. worth': ['ft worth', 'ft. worth']\n",
      "Synonyms for 'fairfield twp.': ['fairfield twp', 'fairfield twp.']\n",
      "Synonyms for 'leon valley': ['leon valley', 'leona valley']\n",
      "Synonyms for 'roy': ['roy', 'troy']\n",
      "Synonyms for 'clint': ['flint', 'clint']\n",
      "Synonyms for 'tustin': ['austin', 'tustin']\n",
      "Synonyms for 'belmond': ['belmont', 'belmond']\n",
      "Synonyms for 'canyon': ['canton', 'canyon']\n",
      "Synonyms for 'iola': ['iola', 'biola']\n",
      "Synonyms for 'reston': ['weston', 'renton', 'ruston', 'reston']\n",
      "Synonyms for 'powell': ['lowell', 'powell']\n",
      "Synonyms for 'troy': ['roy', 'troy']\n",
      "Synonyms for 'clifton': ['clinton', 'clifton']\n",
      "Synonyms for 'st. george': ['st george', 'st. george']\n",
      "Synonyms for 'highland': ['highland', 'highlands']\n",
      "Synonyms for 'arden': ['alden', 'arden']\n",
      "Synonyms for 'belllingham': ['bellingham', 'belllingham']\n",
      "Synonyms for 'greenacres': ['greenacres', 'green acres']\n",
      "Synonyms for 'st. johns': ['st johns', 'st. johns']\n",
      "Synonyms for 'dows': ['dows', 'downs']\n",
      "Synonyms for 'arrington': ['arlington', 'barrington', 'arrington']\n",
      "Synonyms for 'doctor philips': ['doctor phillips', 'doctor philips']\n",
      "Synonyms for 'opa-locka': ['opa locka', 'opa-locka']\n",
      "Synonyms for 'leona valley': ['leon valley', 'leona valley']\n",
      "Synonyms for 'nome': ['rome', 'nome']\n",
      "Synonyms for 'biola': ['iola', 'biola']\n",
      "Synonyms for 'downs': ['dows', 'downs']\n",
      "Synonyms for 'brant': ['brant', 'bryant']\n",
      "Synonyms for 'st albans city': ['st. albans city', 'st albans city']\n",
      "Synonyms for 'bryant': ['bryan', 'brant', 'bryant']\n",
      "Synonyms for 'rowe': ['rome', 'rowe']\n",
      "Synonyms for 'bee caves': ['bee cave', 'bee caves']\n",
      "Synonyms for 'green acres': ['greenacres', 'green acres']\n",
      "Synonyms for 'willsboro': ['hillsboro', 'willsboro']\n",
      "Synonyms for 'un-incorporated broward county': ['un-incorporated broward county', 'unincorporated broward county']\n",
      "Synonyms for 'onon hill': ['oxon hill', 'onon hill']\n",
      "Synonyms for 'silver lakes': ['silver lake', 'silver lakes']\n",
      "Synonyms for 'unincorporated broward county': ['un-incorporated broward county', 'unincorporated broward county']\n",
      "Synonyms for 'china': ['chino', 'china']\n",
      "Synonyms for 'dolton': ['delton', 'dalton', 'dolton']\n",
      "Synonyms for 'springs': ['spring', 'springs']\n",
      "Synonyms for 'lake forest': ['wake forest', 'lake forest']\n",
      "Synonyms for 'highlands': ['highland', 'highlands']\n",
      "Synonyms for 'atlaanta': ['atlanta', 'atlaanta']\n"
     ]
    }
   ],
   "source": [
    "\n",
    "# создаем список всех уникальных значений в столбце\n",
    "unique_values = data['city'].unique()\n",
    "\n",
    "# создаем список всех уникальных значений в столбце, приведенных к нижнему регистру\n",
    "lowercase_values = [str(value).lower() if isinstance(value, str) else str(value) for value in unique_values]\n",
    "\n",
    "# создаем словарь синонимов (ключ - это нормализованное значение, значение - это список всех значений, которые считаются синонимами)\n",
    "synonyms_dict = {}\n",
    "\n",
    "for value in unique_values:\n",
    "    # нормализуем текущее значение\n",
    "    normalized_value = str(value).lower() if isinstance(value, str) else str(value)\n",
    "\n",
    "    # ищем все значения, которые считаются синонимами для текущего значения\n",
    "    synonyms = [v for v in unique_values if distance(str(v).lower() if isinstance(v, str) else str(v), normalized_value) <= 1]\n",
    "\n",
    "    # добавляем текущее значение и его синонимы в словарь\n",
    "    synonyms_dict[normalized_value] = synonyms\n",
    "\n",
    "# выводим все найденные синонимы\n",
    "for key, value in synonyms_dict.items():\n",
    "    if len(value) > 1:\n",
    "        print(f\"Synonyms for '{key}': {value}\")"
   ]
  },
  {
   "cell_type": "code",
   "execution_count": 8,
   "metadata": {},
   "outputs": [],
   "source": [
    "# Создаем словарь с заменами\n",
    "replacements_city = {\n",
    "    'springs,': 'spring',\n",
    "    'davis': 'davie',\n",
    "    'reston': 'weston',\n",
    "    'atlaanta': 'atlanta',\n",
    "    'valleyview': 'valley view',\n",
    "    'mc kinney': 'mckinney',\n",
    "    'tustin': 'austin',\n",
    "    'ashville': 'nashville',\n",
    "    'st. petersburg': 'st petersburg',\n",
    "    'bryant': 'bryan',\n",
    "    'irvine': 'irving',\n",
    "    'stanton': 'swanton',\n",
    "    'asheville': 'nashville',\n",
    "    'chico': 'chino',\n",
    "    'china': 'chino',\n",
    "    'soddy-daisy': 'soddy daisy',\n",
    "    'belllingham': 'bellingham',\n",
    "    'st. johns': 'st johns',\n",
    "    'aventura': 'ventura',\n",
    "    'oklawaha': 'ocklawaha',\n",
    "    'clifton': 'clinton',\n",
    "    'silver spring': 'silver springs',\n",
    "    'rossville': 'roseville',\n",
    "    'arrington': 'arlington',\n",
    "    'commercecity': 'commerce city',\n",
    "    'denton': 'renton',\n",
    "    'trenton': 'renton',\n",
    "    'reston': 'renton',\n",
    "    'inglewood': 'englewood',\n",
    "    'panton': 'canton',\n",
    "    'canyon': 'canton',\n",
    "    'delton': 'renton',\n",
    "    'youngtown': 'youngstown',\n",
    "    'morrison': 'morristown',\n",
    "    'morriston': 'morristown',\n",
    "    'reading': 'redding',\n",
    "    'fairfield twp.': 'fairfield twp',\n",
    "    'silver springs': 'silver spring',\n",
    "    'opa-locka': 'opa locka',\n",
    "    'wheatridge': 'wheat ridge',\n",
    "    'alden': 'allen',\n",
    "    'maxville': 'mayville',\n",
    "    'silver lakes': 'silver lake',\n",
    "    'willsboro': 'hillsboro',\n",
    "    'bedford': 'redford',\n",
    "    'medford': 'redford',\n",
    "    'milwaukee': 'milwaukie',\n",
    "    'federal heights': 'federalheights',\n",
    "    'bee caves': 'bee cave',\n",
    "    'dalton': 'dayton',\n",
    "    'stow': 'stowe',\n",
    "    'forest hills': 'forest hill',\n",
    "    'brookpark': 'brook park',\n",
    "    'powell': 'lowell',\n",
    "    'mercer': 'merced',\n",
    "    'roseville': 'rossville',\n",
    "    'doctor philips': 'doctor phillips',\n",
    "    'arrington': 'barrington',\n",
    "    'mc allen': 'mcallen',\n",
    "    'st albans city': 'st. albans city',\n",
    "    'deltona': 'renton',\n",
    "    'belton': 'renton',\n",
    "    'dolton': 'renton',\n",
    "    'ft. worth': 'ft worth',\n",
    "    'mill creek': 'millcreek',\n",
    "    'st. george': 'st george',\n",
    "    'onon hill': 'oxon hill',\n",
    "    'arden': 'allen',\n",
    "    'belmond': 'belmont',\n",
    "    'mcgregor': 'mc gregor',\n",
    "    'lake forest': 'wake forest',\n",
    "    'nome': 'rome',\n",
    "    'rowe': 'rome',\n",
    "    'ruston': 'reston',\n",
    "    'leona valley': 'leon valley',\n",
    "    'troy': 'roy',\n",
    "    'biola': 'iola',\n",
    "     'highlands': 'highland',\n",
    "    'green acres': 'greenacres',\n",
    "    'downs': 'dows',\n",
    "    'bryant': 'brant',\n",
    "    'unincorporated broward county': 'un-incorporated broward county',\n",
    "    '': None,\n",
    "    'no data': None,\n",
    "    'none': None\n",
    "    }\n",
    "\n",
    "\n",
    "# Заменяем значения в столбце \"sity\" с помощью словаря замен\n",
    "data['city'].replace(replacements_city, inplace=True)"
   ]
  },
  {
   "cell_type": "code",
   "execution_count": 9,
   "metadata": {},
   "outputs": [
    {
     "name": "stdout",
     "output_type": "stream",
     "text": [
      "Количество уникальных значений:  1836\n"
     ]
    }
   ],
   "source": [
    "print('Количество уникальных значений: ', data['city'].nunique())"
   ]
  },
  {
   "cell_type": "code",
   "execution_count": 10,
   "metadata": {},
   "outputs": [
    {
     "name": "stdout",
     "output_type": "stream",
     "text": [
      "Доля (%) 300 наиболее весомых категорий:  90.5\n"
     ]
    }
   ],
   "source": [
    "print('Доля (%) 300 наиболее весомых категорий: ' , round((data['city'].value_counts().nlargest(300)/len(data)*100).sum(),1))"
   ]
  },
  {
   "cell_type": "code",
   "execution_count": 11,
   "metadata": {},
   "outputs": [
    {
     "name": "stderr",
     "output_type": "stream",
     "text": [
      "100%|██████████| 377185/377185 [00:00<00:00, 438045.28it/s]\n"
     ]
    }
   ],
   "source": [
    "city_list = list(data['city'].value_counts().nlargest(300).index)\n",
    "data['city'] = data['city'].progress_apply(lambda x: x if x in city_list else 'other')"
   ]
  },
  {
   "cell_type": "markdown",
   "metadata": {},
   "source": [
    "# 7 schools"
   ]
  },
  {
   "cell_type": "markdown",
   "metadata": {},
   "source": [
    "Посмотрим на данные"
   ]
  },
  {
   "cell_type": "code",
   "execution_count": 12,
   "metadata": {},
   "outputs": [
    {
     "data": {
      "text/plain": [
       "\"[{'rating': ['8/10', '4/10', '8/10'], 'data': {'Distance': ['1.19mi', '2.06mi', '2.63mi'], 'Grades': ['6-8', 'K-5', '9-12']}, 'name': ['Paul Revere Middle School', 'Brentwood Science School', 'Palisades Charter High School']}]\""
      ]
     },
     "execution_count": 12,
     "metadata": {},
     "output_type": "execute_result"
    }
   ],
   "source": [
    "data['schools'][2]"
   ]
  },
  {
   "cell_type": "markdown",
   "metadata": {},
   "source": [
    "Разобьем строку на отдельные словари"
   ]
  },
  {
   "cell_type": "code",
   "execution_count": 13,
   "metadata": {},
   "outputs": [
    {
     "name": "stdout",
     "output_type": "stream",
     "text": [
      "{'rating': ['4', '4', '7', 'NR', '4', '7', 'NR', 'NR'], 'data': {'Distance': ['2.7 mi', '3.6 mi', '5.1 mi', '4.0 mi', '10.5 mi', '12.6 mi', '2.7 mi', '3.1 mi'], 'Grades': ['3–5', '6–8', '9–12', 'PK–2', '6–8', '9–12', 'PK–5', 'K–12']}, 'name': ['Southern Pines Elementary School', 'Southern Middle School', 'Pinecrest High School', 'Southern Pines Primary School', \"Crain's Creek Middle School\", 'Union Pines High School', 'Episcopal Day Private School', 'Calvary Christian Private School']}\n",
      "[{'rating': ['4', '4', '7', 'NR', '4', '7', 'NR', 'NR'], 'data': {'Distance': ['2.7 mi', '3.6 mi', '5.1 mi', '4.0 mi', '10.5 mi', '12.6 mi', '2.7 mi', '3.1 mi'], 'Grades': ['3–5', '6–8', '9–12', 'PK–2', '6–8', '9–12', 'PK–5', 'K–12']}, 'name': ['Southern Pines Elementary School', 'Southern Middle School', 'Pinecrest High School', 'Southern Pines Primary School', \"Crain's Creek Middle School\", 'Union Pines High School', 'Episcopal Day Private School', 'Calvary Christian Private School']}]\n"
     ]
    }
   ],
   "source": [
    "facts = ast.literal_eval(data['schools'][0])\n",
    "for fact in facts:\n",
    "    print (fact)\n",
    "print (facts)"
   ]
  },
  {
   "cell_type": "markdown",
   "metadata": {},
   "source": [
    "Cоздадим функцию для извлечения характеристик, принимая во внимание формат: количество школ, а также минимальный, средний и максимальный рейтинг школ и расстояние до школы"
   ]
  },
  {
   "cell_type": "code",
   "execution_count": 14,
   "metadata": {},
   "outputs": [],
   "source": [
    "def get_float(string):\n",
    "    a = re.findall(r\"[-+]?(?:\\d*\\.*\\d+)\", str(string).replace(',', '.'))\n",
    "    if a != []:\n",
    "        b = float(a[0])\n",
    "        return b\n",
    "    else:\n",
    "        return np.nan"
   ]
  },
  {
   "cell_type": "code",
   "execution_count": 15,
   "metadata": {},
   "outputs": [
    {
     "name": "stderr",
     "output_type": "stream",
     "text": [
      "  0%|          | 0/377185 [00:00<?, ?it/s]"
     ]
    },
    {
     "name": "stderr",
     "output_type": "stream",
     "text": [
      "100%|██████████| 377185/377185 [39:03<00:00, 160.92it/s] \n"
     ]
    }
   ],
   "source": [
    "def schools_feature (x):\n",
    "    \n",
    "    x =  ast.literal_eval(x)\n",
    "    schools = pd.json_normalize(x)\n",
    "            \n",
    "    len_list = []\n",
    "    for i in range(0,4):\n",
    "        len_list.append(len(schools.iloc[0][i]))\n",
    "    mx = max(len_list)\n",
    "    \n",
    "    for col in list(schools.columns):\n",
    "        while len(schools[col][0]) < mx:\n",
    "            schools[col].iloc[0].append(np.nan)\n",
    "            \n",
    "    schools = schools.explode(['rating','name','data.Distance', 'data.Grades'])\n",
    "       \n",
    "\n",
    "    if len(schools['rating']) == 1 and schools['rating'][0] is np.nan:\n",
    "        Min_rating, Max_rating, Mean_rating = np.nan, np.nan, np.nan\n",
    "    else: \n",
    "        schools['rating'] = schools['rating'].apply(get_float)\n",
    "        Min_rating, Max_rating, Mean_rating = schools['rating'].min(), schools['rating'].max(), schools['rating'].mean()\n",
    "\n",
    "        \n",
    "    if len(schools['data.Distance']) == 1 and schools['data.Distance'][0] is np.nan:\n",
    "        Min_distance, Max_distance, Mean_distance = np.nan, np.nan, np.nan\n",
    "    else: \n",
    "        schools['data.Distance'] = schools['data.Distance'].apply(get_float)\n",
    "        Min_distance, Max_distance, Mean_distance = schools['data.Distance'].min(), schools['data.Distance'].max(), schools['data.Distance'].mean()\n",
    "\n",
    "    return len(schools), Min_rating, Max_rating, Mean_rating, Min_distance, Max_distance, Mean_distance\n",
    "\n",
    "    \n",
    "school_feature_list = ['Number of schools', 'Min rating', 'Max rating', 'Mean rating', 'Min distance', 'Max distance', 'Mean distance']\n",
    "  \n",
    "data [['Number of schools', 'Min rating','Max rating','Mean rating','Min distance','Max distance','Mean distance']] = data['schools'].progress_apply(schools_feature).apply(pd.Series)"
   ]
  },
  {
   "cell_type": "code",
   "execution_count": 16,
   "metadata": {},
   "outputs": [],
   "source": [
    "data = data.drop('schools', axis =1)"
   ]
  },
  {
   "cell_type": "markdown",
   "metadata": {},
   "source": [
    "# 8 sqft"
   ]
  },
  {
   "cell_type": "code",
   "execution_count": 17,
   "metadata": {},
   "outputs": [
    {
     "data": {
      "text/plain": [
       "array(['2900', '1,947 sqft', '3,000 sqft', '6,457 sqft', nan, '897 sqft',\n",
       "       '1,507', '3588', '1,930', '1,300 sqft', '3,130', '2,839 sqft',\n",
       "       'Total interior livable area: 1,820 sqft', '2,454', '2,203'],\n",
       "      dtype=object)"
      ]
     },
     "execution_count": 17,
     "metadata": {},
     "output_type": "execute_result"
    }
   ],
   "source": [
    "data['sqft'].unique()[:15]"
   ]
  },
  {
   "cell_type": "code",
   "execution_count": 18,
   "metadata": {},
   "outputs": [
    {
     "name": "stderr",
     "output_type": "stream",
     "text": [
      "100%|██████████| 377185/377185 [00:01<00:00, 251102.81it/s]\n"
     ]
    }
   ],
   "source": [
    "data['sqft'] = data['sqft'].progress_apply(get_float)"
   ]
  },
  {
   "cell_type": "code",
   "execution_count": 19,
   "metadata": {},
   "outputs": [
    {
     "data": {
      "text/plain": [
       "array([2.900e+03, 1.947e+00, 3.000e+00, 6.457e+00,       nan, 8.970e+02,\n",
       "       1.507e+00, 3.588e+03, 1.930e+00, 1.300e+00, 3.130e+00, 2.839e+00,\n",
       "       1.820e+00, 2.454e+00, 2.203e+00])"
      ]
     },
     "execution_count": 19,
     "metadata": {},
     "output_type": "execute_result"
    }
   ],
   "source": [
    "data['sqft'].unique()[:15]"
   ]
  },
  {
   "cell_type": "markdown",
   "metadata": {},
   "source": [
    "# 9 zipcode"
   ]
  },
  {
   "cell_type": "code",
   "execution_count": 20,
   "metadata": {},
   "outputs": [
    {
     "data": {
      "text/plain": [
       "array(['28387', '99216', '90049', '75205', '32908', '19145', '34759',\n",
       "       '38115', '50401', '77080', '11354', '77068', '33028', '97401',\n",
       "       '77084'], dtype=object)"
      ]
     },
     "execution_count": 20,
     "metadata": {},
     "output_type": "execute_result"
    }
   ],
   "source": [
    "data['zipcode'].unique()[:15]"
   ]
  },
  {
   "cell_type": "code",
   "execution_count": 21,
   "metadata": {},
   "outputs": [
    {
     "name": "stdout",
     "output_type": "stream",
     "text": [
      "Количество уникальных значений:  4549\n"
     ]
    }
   ],
   "source": [
    "print('Количество уникальных значений: ', data['zipcode'].nunique())"
   ]
  },
  {
   "cell_type": "markdown",
   "metadata": {},
   "source": [
    "# 10 beds"
   ]
  },
  {
   "cell_type": "code",
   "execution_count": 22,
   "metadata": {},
   "outputs": [
    {
     "data": {
      "text/plain": [
       "array(['4', '3 Beds', '5 Beds', nan, '2 Beds', '3', '4 Beds', '3 bd',\n",
       "       'Baths', '4 bd', '5 bd', '8 Beds', '2', '2 bd', '2.0', '5', '1',\n",
       "       '3.0', '6 Beds', 'Bath', '12 Beds', '6', '14', '0.25 acres',\n",
       "       '6 bd', '-- bd', '7', '5.0', '4.0', ' ', '7 Beds', '1 bd',\n",
       "       '9 Beds', '0.44 acres', '0', '1.43 acres', '0.32 acres',\n",
       "       '8,637 sqft', '7.0', '8', '16 Beds', '9.7 acres', '1.0', '16 bd',\n",
       "       '10,310 sqft', '6,250 sqft', '3.02 acres', '2 acres', '5,000 sqft',\n",
       "       '0.96 acres', '6.0', '13 bd', '6.31 acres', '0.6 acres', '9',\n",
       "       '5,662 sqft', '2,200 sqft', '10', '18 Beds', '10 Beds',\n",
       "       '0.46 acres', '0.59 acres', '20 Beds', '0.0', '2,874 sqft',\n",
       "       '0.26 acres', '10 bd', '32', '0.4 acres', '2,178 sqft',\n",
       "       '6,351 sqft', '4,356 sqft', '5 acres', '0.55 acres', '5,501 sqft',\n",
       "       '8,001 sqft', '0.7 acres', '1.69 acres', '0.88 acres',\n",
       "       '0.34 acres', '13 Beds', '1.5 acres', '0.97 acres', '7,405 sqft',\n",
       "       '7 bd', '8.43 acres', '1,502 sqft', '8,712 sqft', '8,189 sqft',\n",
       "       '1.04 acres', '8,973 sqft', '7,148 sqft', '11', '0.43 acres',\n",
       "       '8,494 sqft', '-- sqft', '10,001 sqft', '8 bd', '26 Beds',\n",
       "       '64 Beds'], dtype=object)"
      ]
     },
     "execution_count": 22,
     "metadata": {},
     "output_type": "execute_result"
    }
   ],
   "source": [
    "data['beds'].unique()[:100]"
   ]
  },
  {
   "cell_type": "code",
   "execution_count": 23,
   "metadata": {},
   "outputs": [
    {
     "name": "stderr",
     "output_type": "stream",
     "text": [
      "100%|██████████| 377185/377185 [00:01<00:00, 281040.73it/s]\n",
      "100%|██████████| 377185/377185 [00:00<00:00, 738079.58it/s]\n"
     ]
    }
   ],
   "source": [
    "data['beds'] = data['beds'].progress_apply(get_float)\n",
    "data['beds'] = data['beds'].progress_apply(lambda x: x if  (1<= x <1000 and x.is_integer()) else np.nan)"
   ]
  },
  {
   "cell_type": "code",
   "execution_count": 24,
   "metadata": {},
   "outputs": [
    {
     "data": {
      "text/plain": [
       "array([  4.,   3.,   5.,  nan,   2.,   8.,   1.,   6.,  12.,  14.,   7.,\n",
       "         9.,  16.,  13.,  10.,  18.,  20.,  32.,  11.,  26.,  64., 144.,\n",
       "        22.,  24.,  15.,  28.,  60.,  36.,  19.,  48.,  25.,  17.,  27.,\n",
       "        37.,  40.,  47.,  23.,  44.,  30.,  33.,  38.,  31.,  34., 831.,\n",
       "       248.,  99., 184.,  78., 542.,  53.,  50.,  51., 102.,  21., 106.,\n",
       "        75.,  29., 640., 449., 448., 100.,  39.,  52.,  42., 150., 540.,\n",
       "        46., 871.,  76.,  35.,  88., 840.])"
      ]
     },
     "execution_count": 24,
     "metadata": {},
     "output_type": "execute_result"
    }
   ],
   "source": [
    "data['beds'].unique()[:100]"
   ]
  },
  {
   "cell_type": "markdown",
   "metadata": {},
   "source": [
    "# 11 state"
   ]
  },
  {
   "cell_type": "code",
   "execution_count": 25,
   "metadata": {},
   "outputs": [
    {
     "data": {
      "text/plain": [
       "array(['NC', 'WA', 'CA', 'TX', 'FL', 'PA', 'TN', 'IA', 'NY', 'OR', 'DC',\n",
       "       'NV', 'AZ', 'GA', 'IL'], dtype=object)"
      ]
     },
     "execution_count": 25,
     "metadata": {},
     "output_type": "execute_result"
    }
   ],
   "source": [
    "data['state'].unique()[:15]"
   ]
  },
  {
   "cell_type": "code",
   "execution_count": 26,
   "metadata": {},
   "outputs": [
    {
     "name": "stdout",
     "output_type": "stream",
     "text": [
      "Количество уникальных значений:  39\n"
     ]
    }
   ],
   "source": [
    "print('Количество уникальных значений: ', data['state'].nunique())"
   ]
  },
  {
   "cell_type": "markdown",
   "metadata": {},
   "source": [
    "# 12 stories"
   ]
  },
  {
   "cell_type": "code",
   "execution_count": 27,
   "metadata": {},
   "outputs": [
    {
     "data": {
      "text/plain": [
       "array([nan, '2.0', '1.0', '3.0', 'One', '2', 'Multi/Split', '4.0', '0.0',\n",
       "       '0', 'One Level', '1', '9.0', '3', '1 Level, Site Built',\n",
       "       'One Story', '3.00', '1.00', '14.0', 'Two', '3+', '1 Story', '5.0',\n",
       "       '2 Story', 'Ranch/1 Story', 'Condominium', 'Stories/Levels', '7.0',\n",
       "       '2 Level, Site Built', '2 Level', '15', '3 Level, Site Built', '4',\n",
       "       '22.0', '2.00', '6.0', '1.0000', 'Lot', '3 Story', 'Three Or More',\n",
       "       '1.5', '1 Level', 'Two Story or More', 'Site Built, Tri-Level',\n",
       "       '54.0', '23', 'Farm House', '8.0', '16.0', '1.50', '18', '9', '21',\n",
       "       '8', '12.0', 'Split Level w/ Sub', '11.0', '18.0', '1.5 Stories',\n",
       "       '7', '11', 'Townhouse', '12', '21.0', '16', '1.5 Story/Basement',\n",
       "       '28.0', 'Traditional', '2.5 Story', '17', '2.0000', '63.0',\n",
       "       'Acreage', 'Ground Level, One', '6', 'Split Foyer', '2 Stories',\n",
       "       '27.0', '19.0', '2.50', '1.30', '2 Story/Basement', 'Split Level',\n",
       "       '1.5 Story', '1.5 Level', '2 Or More Stories',\n",
       "       '1 Level, Condo, Site Built', '15.0', '20', '1.5000', '4.00',\n",
       "       '1 Story Basement', '5', 'Multi-Level', '17.0', 'Other Multi-unit',\n",
       "       'Ranch', 'Tri-Level', '13.0', '1 Story/Ranch'], dtype=object)"
      ]
     },
     "execution_count": 27,
     "metadata": {},
     "output_type": "execute_result"
    }
   ],
   "source": [
    "data['stories'].unique()[:100]"
   ]
  },
  {
   "cell_type": "markdown",
   "metadata": {},
   "source": [
    "В признаке разношерстные данные, к тому же пропуски составляют почти 40%. Удалим данный признак."
   ]
  },
  {
   "cell_type": "code",
   "execution_count": 28,
   "metadata": {},
   "outputs": [],
   "source": [
    "data = data.drop('stories', axis=1)"
   ]
  },
  {
   "cell_type": "markdown",
   "metadata": {},
   "source": [
    "# 13 mls-id и MLsId"
   ]
  },
  {
   "cell_type": "markdown",
   "metadata": {},
   "source": [
    "Данный признак не несет информации, влияющей на стоимость жилья, поэтому удалим его."
   ]
  },
  {
   "cell_type": "code",
   "execution_count": 29,
   "metadata": {},
   "outputs": [],
   "source": [
    "data = data.drop('mls-id', axis=1)"
   ]
  },
  {
   "cell_type": "code",
   "execution_count": 30,
   "metadata": {},
   "outputs": [],
   "source": [
    "data = data.drop('MlsId', axis=1)"
   ]
  },
  {
   "cell_type": "markdown",
   "metadata": {},
   "source": [
    "# 14 street"
   ]
  },
  {
   "cell_type": "code",
   "execution_count": 31,
   "metadata": {},
   "outputs": [],
   "source": [
    "data = data.drop('street', axis=1)"
   ]
  },
  {
   "cell_type": "markdown",
   "metadata": {},
   "source": [
    "# 15 fireplace"
   ]
  },
  {
   "cell_type": "markdown",
   "metadata": {},
   "source": [
    "Данный признак содержит почти 73% пропусков. Удалим его."
   ]
  },
  {
   "cell_type": "code",
   "execution_count": 32,
   "metadata": {},
   "outputs": [],
   "source": [
    "data = data.drop('fireplace', axis=1)"
   ]
  },
  {
   "cell_type": "markdown",
   "metadata": {},
   "source": [
    "# 16 target"
   ]
  },
  {
   "cell_type": "code",
   "execution_count": 33,
   "metadata": {},
   "outputs": [
    {
     "data": {
      "text/plain": [
       "array(['$418,000', '$310,000', '$2,895,000', '$2,395,000', '$5,000',\n",
       "       '$209,000', '181,500', '68,000', '$244,900', '$311,995',\n",
       "       '$669,000', '260,000', '$525,000', '$499,900', '$168,800',\n",
       "       '1,650,000', '335,000', '2,650,000', '$365,000', '$626,000',\n",
       "       '$375,000', '$3,500,000', '579,000', '$499,007', '$182,000',\n",
       "       '$3,749,000', '799,000', '$559,000', '$830,000', '$1,195,000',\n",
       "       '$262,000', '$204,800', '$179,000', '$105,000', '$260,000',\n",
       "       '$284,900', '$495,000', '$117,900', '$385,000', '54,000',\n",
       "       '$1,100,000', '850,000', '$620,000', '$125,000', '$499,000',\n",
       "       '$1,429,000', '$233,990+', '125,000', '$275,000', '$27,000'],\n",
       "      dtype=object)"
      ]
     },
     "execution_count": 33,
     "metadata": {},
     "output_type": "execute_result"
    }
   ],
   "source": [
    "data['target'].unique()[:50]"
   ]
  },
  {
   "cell_type": "code",
   "execution_count": 34,
   "metadata": {},
   "outputs": [
    {
     "name": "stdout",
     "output_type": "stream",
     "text": [
      "Количество уникальных значений:  43939\n"
     ]
    }
   ],
   "source": [
    "print('Количество уникальных значений: ', data['target'].nunique())"
   ]
  },
  {
   "cell_type": "code",
   "execution_count": 35,
   "metadata": {},
   "outputs": [
    {
     "name": "stderr",
     "output_type": "stream",
     "text": [
      "100%|██████████| 377185/377185 [00:01<00:00, 285725.22it/s]\n"
     ]
    }
   ],
   "source": [
    "data['target'] = data['target'].progress_apply(get_float)"
   ]
  },
  {
   "cell_type": "code",
   "execution_count": 36,
   "metadata": {},
   "outputs": [
    {
     "data": {
      "text/plain": [
       "array([418.   , 310.   ,   2.895,   2.395,   5.   , 209.   , 181.5  ,\n",
       "        68.   , 244.9  , 311.995, 669.   , 260.   , 525.   , 499.9  ,\n",
       "       168.8  ,   1.65 , 335.   ,   2.65 , 365.   , 626.   , 375.   ,\n",
       "         3.5  , 579.   , 499.007, 182.   ,   3.749, 799.   , 559.   ,\n",
       "       830.   ,   1.195, 262.   , 204.8  , 179.   , 105.   , 284.9  ,\n",
       "       495.   , 117.9  , 385.   ,  54.   ,   1.1  , 850.   , 620.   ,\n",
       "       125.   , 499.   ,   1.429, 233.99 , 275.   ,  27.   , 598.   ,\n",
       "         1.78 ])"
      ]
     },
     "execution_count": 36,
     "metadata": {},
     "output_type": "execute_result"
    }
   ],
   "source": [
    "data['target'].unique()[:50]"
   ]
  },
  {
   "cell_type": "code",
   "execution_count": 37,
   "metadata": {},
   "outputs": [
    {
     "data": {
      "text/html": [
       "<div>\n",
       "<style scoped>\n",
       "    .dataframe tbody tr th:only-of-type {\n",
       "        vertical-align: middle;\n",
       "    }\n",
       "\n",
       "    .dataframe tbody tr th {\n",
       "        vertical-align: top;\n",
       "    }\n",
       "\n",
       "    .dataframe thead th {\n",
       "        text-align: right;\n",
       "    }\n",
       "</style>\n",
       "<table border=\"1\" class=\"dataframe\">\n",
       "  <thead>\n",
       "    <tr style=\"text-align: right;\">\n",
       "      <th></th>\n",
       "      <th>Unnamed: 0.1</th>\n",
       "      <th>Unnamed: 0</th>\n",
       "      <th>status</th>\n",
       "      <th>propertyType</th>\n",
       "      <th>baths</th>\n",
       "      <th>city</th>\n",
       "      <th>sqft</th>\n",
       "      <th>zipcode</th>\n",
       "      <th>beds</th>\n",
       "      <th>state</th>\n",
       "      <th>...</th>\n",
       "      <th>Year built</th>\n",
       "      <th>Remodeled year</th>\n",
       "      <th>Price/sqft</th>\n",
       "      <th>Number of schools</th>\n",
       "      <th>Min rating</th>\n",
       "      <th>Max rating</th>\n",
       "      <th>Mean rating</th>\n",
       "      <th>Min distance</th>\n",
       "      <th>Max distance</th>\n",
       "      <th>Mean distance</th>\n",
       "    </tr>\n",
       "  </thead>\n",
       "  <tbody>\n",
       "    <tr>\n",
       "      <th>0</th>\n",
       "      <td>0</td>\n",
       "      <td>0</td>\n",
       "      <td>active</td>\n",
       "      <td>single family</td>\n",
       "      <td>3.5</td>\n",
       "      <td>southern pines</td>\n",
       "      <td>2900.000</td>\n",
       "      <td>28387</td>\n",
       "      <td>4.0</td>\n",
       "      <td>NC</td>\n",
       "      <td>...</td>\n",
       "      <td>3.0</td>\n",
       "      <td>NaN</td>\n",
       "      <td>144.0</td>\n",
       "      <td>8.0</td>\n",
       "      <td>4.0</td>\n",
       "      <td>7.0</td>\n",
       "      <td>5.200000</td>\n",
       "      <td>2.70</td>\n",
       "      <td>12.60</td>\n",
       "      <td>5.537500</td>\n",
       "    </tr>\n",
       "    <tr>\n",
       "      <th>1</th>\n",
       "      <td>1</td>\n",
       "      <td>1</td>\n",
       "      <td>for sale</td>\n",
       "      <td>single family</td>\n",
       "      <td>3.0</td>\n",
       "      <td>other</td>\n",
       "      <td>1.947</td>\n",
       "      <td>99216</td>\n",
       "      <td>3.0</td>\n",
       "      <td>WA</td>\n",
       "      <td>...</td>\n",
       "      <td>3.0</td>\n",
       "      <td>NaN</td>\n",
       "      <td>159.0</td>\n",
       "      <td>3.0</td>\n",
       "      <td>4.0</td>\n",
       "      <td>10.0</td>\n",
       "      <td>6.000000</td>\n",
       "      <td>1.01</td>\n",
       "      <td>1.65</td>\n",
       "      <td>1.326667</td>\n",
       "    </tr>\n",
       "    <tr>\n",
       "      <th>2</th>\n",
       "      <td>2</td>\n",
       "      <td>2</td>\n",
       "      <td>for sale</td>\n",
       "      <td>single family</td>\n",
       "      <td>2.0</td>\n",
       "      <td>los angeles</td>\n",
       "      <td>3.000</td>\n",
       "      <td>90049</td>\n",
       "      <td>3.0</td>\n",
       "      <td>CA</td>\n",
       "      <td>...</td>\n",
       "      <td>61.0</td>\n",
       "      <td>55.0</td>\n",
       "      <td>965.0</td>\n",
       "      <td>3.0</td>\n",
       "      <td>4.0</td>\n",
       "      <td>8.0</td>\n",
       "      <td>6.666667</td>\n",
       "      <td>1.19</td>\n",
       "      <td>2.63</td>\n",
       "      <td>1.960000</td>\n",
       "    </tr>\n",
       "    <tr>\n",
       "      <th>3</th>\n",
       "      <td>3</td>\n",
       "      <td>3</td>\n",
       "      <td>for sale</td>\n",
       "      <td>single family</td>\n",
       "      <td>8.0</td>\n",
       "      <td>dallas</td>\n",
       "      <td>6.457</td>\n",
       "      <td>75205</td>\n",
       "      <td>5.0</td>\n",
       "      <td>TX</td>\n",
       "      <td>...</td>\n",
       "      <td>16.0</td>\n",
       "      <td>16.0</td>\n",
       "      <td>371.0</td>\n",
       "      <td>4.0</td>\n",
       "      <td>9.0</td>\n",
       "      <td>10.0</td>\n",
       "      <td>9.250000</td>\n",
       "      <td>0.10</td>\n",
       "      <td>1.05</td>\n",
       "      <td>0.752500</td>\n",
       "    </tr>\n",
       "    <tr>\n",
       "      <th>4</th>\n",
       "      <td>4</td>\n",
       "      <td>4</td>\n",
       "      <td>for sale</td>\n",
       "      <td>land</td>\n",
       "      <td>NaN</td>\n",
       "      <td>palm bay</td>\n",
       "      <td>NaN</td>\n",
       "      <td>32908</td>\n",
       "      <td>NaN</td>\n",
       "      <td>FL</td>\n",
       "      <td>...</td>\n",
       "      <td>NaN</td>\n",
       "      <td>NaN</td>\n",
       "      <td>NaN</td>\n",
       "      <td>3.0</td>\n",
       "      <td>4.0</td>\n",
       "      <td>5.0</td>\n",
       "      <td>4.666667</td>\n",
       "      <td>3.03</td>\n",
       "      <td>5.96</td>\n",
       "      <td>4.080000</td>\n",
       "    </tr>\n",
       "  </tbody>\n",
       "</table>\n",
       "<p>5 rows × 26 columns</p>\n",
       "</div>"
      ],
      "text/plain": [
       "   Unnamed: 0.1  Unnamed: 0    status   propertyType  baths            city  \\\n",
       "0             0           0    active  single family    3.5  southern pines   \n",
       "1             1           1  for sale  single family    3.0           other   \n",
       "2             2           2  for sale  single family    2.0     los angeles   \n",
       "3             3           3  for sale  single family    8.0          dallas   \n",
       "4             4           4  for sale           land    NaN        palm bay   \n",
       "\n",
       "       sqft zipcode  beds state  ...  Year built  Remodeled year Price/sqft  \\\n",
       "0  2900.000   28387   4.0    NC  ...         3.0             NaN      144.0   \n",
       "1     1.947   99216   3.0    WA  ...         3.0             NaN      159.0   \n",
       "2     3.000   90049   3.0    CA  ...        61.0            55.0      965.0   \n",
       "3     6.457   75205   5.0    TX  ...        16.0            16.0      371.0   \n",
       "4       NaN   32908   NaN    FL  ...         NaN             NaN        NaN   \n",
       "\n",
       "   Number of schools Min rating Max rating  Mean rating  Min distance  \\\n",
       "0                8.0        4.0        7.0     5.200000          2.70   \n",
       "1                3.0        4.0       10.0     6.000000          1.01   \n",
       "2                3.0        4.0        8.0     6.666667          1.19   \n",
       "3                4.0        9.0       10.0     9.250000          0.10   \n",
       "4                3.0        4.0        5.0     4.666667          3.03   \n",
       "\n",
       "   Max distance  Mean distance  \n",
       "0         12.60       5.537500  \n",
       "1          1.65       1.326667  \n",
       "2          2.63       1.960000  \n",
       "3          1.05       0.752500  \n",
       "4          5.96       4.080000  \n",
       "\n",
       "[5 rows x 26 columns]"
      ]
     },
     "execution_count": 37,
     "metadata": {},
     "output_type": "execute_result"
    }
   ],
   "source": [
    "data.head()"
   ]
  },
  {
   "cell_type": "code",
   "execution_count": 38,
   "metadata": {},
   "outputs": [],
   "source": [
    "data.to_csv('df.csv')"
   ]
  }
 ],
 "metadata": {
  "kernelspec": {
   "display_name": "Python 3",
   "language": "python",
   "name": "python3"
  },
  "language_info": {
   "codemirror_mode": {
    "name": "ipython",
    "version": 3
   },
   "file_extension": ".py",
   "mimetype": "text/x-python",
   "name": "python",
   "nbconvert_exporter": "python",
   "pygments_lexer": "ipython3",
   "version": "3.9.10"
  },
  "orig_nbformat": 4
 },
 "nbformat": 4,
 "nbformat_minor": 2
}
