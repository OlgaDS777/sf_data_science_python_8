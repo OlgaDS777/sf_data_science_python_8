{
 "cells": [
  {
   "cell_type": "code",
   "execution_count": 1,
   "metadata": {},
   "outputs": [],
   "source": [
    "# импорт необходимых библиотек\n",
    "import pandas as pd\n",
    "import numpy as np\n",
    "from tqdm import tqdm\n",
    "tqdm.pandas()\n",
    "import re\n",
    "import ast\n",
    "from Levenshtein import distance\n"
   ]
  },
  {
   "cell_type": "code",
   "execution_count": 3,
   "metadata": {},
   "outputs": [],
   "source": [
    "# чтение файла\n",
    "data = pd.read_csv('data/dt.csv', sep=',')"
   ]
  },
  {
   "cell_type": "markdown",
   "metadata": {},
   "source": [
    "# 5. homeFacts"
   ]
  },
  {
   "cell_type": "markdown",
   "metadata": {},
   "source": [
    "Посмотрим, что из себя представляет данный признак"
   ]
  },
  {
   "cell_type": "code",
   "execution_count": 4,
   "metadata": {},
   "outputs": [
    {
     "data": {
      "text/plain": [
       "\"{'atAGlanceFacts': [{'factValue': '2019', 'factLabel': 'Year built'}, {'factValue': '', 'factLabel': 'Remodeled year'}, {'factValue': 'Central A/C, Heat Pump', 'factLabel': 'Heating'}, {'factValue': '', 'factLabel': 'Cooling'}, {'factValue': '', 'factLabel': 'Parking'}, {'factValue': None, 'factLabel': 'lotsize'}, {'factValue': '$144', 'factLabel': 'Price/sqft'}]}\""
      ]
     },
     "execution_count": 4,
     "metadata": {},
     "output_type": "execute_result"
    }
   ],
   "source": [
    "data['homeFacts'][0]"
   ]
  },
  {
   "cell_type": "markdown",
   "metadata": {},
   "source": [
    "Разобьем строку на отдельные словари"
   ]
  },
  {
   "cell_type": "code",
   "execution_count": 5,
   "metadata": {},
   "outputs": [
    {
     "name": "stdout",
     "output_type": "stream",
     "text": [
      "{'factValue': '2019', 'factLabel': 'Year built'}\n",
      "{'factValue': '', 'factLabel': 'Remodeled year'}\n",
      "{'factValue': 'Central A/C, Heat Pump', 'factLabel': 'Heating'}\n",
      "{'factValue': '', 'factLabel': 'Cooling'}\n",
      "{'factValue': '', 'factLabel': 'Parking'}\n",
      "{'factValue': None, 'factLabel': 'lotsize'}\n",
      "{'factValue': '$144', 'factLabel': 'Price/sqft'}\n",
      "[{'factValue': '2019', 'factLabel': 'Year built'}, {'factValue': '', 'factLabel': 'Remodeled year'}, {'factValue': 'Central A/C, Heat Pump', 'factLabel': 'Heating'}, {'factValue': '', 'factLabel': 'Cooling'}, {'factValue': '', 'factLabel': 'Parking'}, {'factValue': None, 'factLabel': 'lotsize'}, {'factValue': '$144', 'factLabel': 'Price/sqft'}]\n"
     ]
    }
   ],
   "source": [
    "facts = ast.literal_eval(data['homeFacts'][0])['atAGlanceFacts']\n",
    "for fact in facts:\n",
    "    print (fact)\n",
    "print (facts)"
   ]
  },
  {
   "cell_type": "markdown",
   "metadata": {},
   "source": [
    "Создадим 7 новых признаков"
   ]
  },
  {
   "cell_type": "code",
   "execution_count": 6,
   "metadata": {},
   "outputs": [],
   "source": [
    "feature_list = ['Cooling','lotsize','Parking','Heating', 'Year built','Remodeled year','Price/sqft']"
   ]
  },
  {
   "cell_type": "code",
   "execution_count": 7,
   "metadata": {},
   "outputs": [],
   "source": [
    "#Создадим новые столбцы с именами, указанным в списке \"feature_list\", и заполним все ячейки этого столбца значением np.nan.\n",
    "for f in feature_list:\n",
    "    data[f] = np.nan"
   ]
  },
  {
   "cell_type": "code",
   "execution_count": 8,
   "metadata": {},
   "outputs": [
    {
     "name": "stderr",
     "output_type": "stream",
     "text": [
      "C:\\Users\\Павел\\AppData\\Local\\Temp\\ipykernel_13032\\3364542581.py:5: SettingWithCopyWarning: \n",
      "A value is trying to be set on a copy of a slice from a DataFrame\n",
      "\n",
      "See the caveats in the documentation: https://pandas.pydata.org/pandas-docs/stable/user_guide/indexing.html#returning-a-view-versus-a-copy\n",
      "  data[fact['factLabel']].iloc[i] = fact['factValue']\n",
      "C:\\Users\\Павел\\AppData\\Local\\Temp\\ipykernel_13032\\3364542581.py:5: SettingWithCopyWarning: \n",
      "A value is trying to be set on a copy of a slice from a DataFrame\n",
      "\n",
      "See the caveats in the documentation: https://pandas.pydata.org/pandas-docs/stable/user_guide/indexing.html#returning-a-view-versus-a-copy\n",
      "  data[fact['factLabel']].iloc[i] = fact['factValue']\n",
      "C:\\Users\\Павел\\AppData\\Local\\Temp\\ipykernel_13032\\3364542581.py:5: SettingWithCopyWarning: \n",
      "A value is trying to be set on a copy of a slice from a DataFrame\n",
      "\n",
      "See the caveats in the documentation: https://pandas.pydata.org/pandas-docs/stable/user_guide/indexing.html#returning-a-view-versus-a-copy\n",
      "  data[fact['factLabel']].iloc[i] = fact['factValue']\n",
      "C:\\Users\\Павел\\AppData\\Local\\Temp\\ipykernel_13032\\3364542581.py:5: SettingWithCopyWarning: \n",
      "A value is trying to be set on a copy of a slice from a DataFrame\n",
      "\n",
      "See the caveats in the documentation: https://pandas.pydata.org/pandas-docs/stable/user_guide/indexing.html#returning-a-view-versus-a-copy\n",
      "  data[fact['factLabel']].iloc[i] = fact['factValue']\n",
      "C:\\Users\\Павел\\AppData\\Local\\Temp\\ipykernel_13032\\3364542581.py:5: SettingWithCopyWarning: \n",
      "A value is trying to be set on a copy of a slice from a DataFrame\n",
      "\n",
      "See the caveats in the documentation: https://pandas.pydata.org/pandas-docs/stable/user_guide/indexing.html#returning-a-view-versus-a-copy\n",
      "  data[fact['factLabel']].iloc[i] = fact['factValue']\n",
      "C:\\Users\\Павел\\AppData\\Local\\Temp\\ipykernel_13032\\3364542581.py:5: SettingWithCopyWarning: \n",
      "A value is trying to be set on a copy of a slice from a DataFrame\n",
      "\n",
      "See the caveats in the documentation: https://pandas.pydata.org/pandas-docs/stable/user_guide/indexing.html#returning-a-view-versus-a-copy\n",
      "  data[fact['factLabel']].iloc[i] = fact['factValue']\n",
      "C:\\Users\\Павел\\AppData\\Local\\Temp\\ipykernel_13032\\3364542581.py:5: SettingWithCopyWarning: \n",
      "A value is trying to be set on a copy of a slice from a DataFrame\n",
      "\n",
      "See the caveats in the documentation: https://pandas.pydata.org/pandas-docs/stable/user_guide/indexing.html#returning-a-view-versus-a-copy\n",
      "  data[fact['factLabel']].iloc[i] = fact['factValue']\n",
      "C:\\Users\\Павел\\AppData\\Local\\Temp\\ipykernel_13032\\3364542581.py:5: SettingWithCopyWarning: \n",
      "A value is trying to be set on a copy of a slice from a DataFrame\n",
      "\n",
      "See the caveats in the documentation: https://pandas.pydata.org/pandas-docs/stable/user_guide/indexing.html#returning-a-view-versus-a-copy\n",
      "  data[fact['factLabel']].iloc[i] = fact['factValue']\n"
     ]
    }
   ],
   "source": [
    "#Заполним значениями соответствующие столбцы\n",
    "for i in range (0, len(data)):\n",
    "    facts = ast.literal_eval(data['homeFacts'][i])['atAGlanceFacts']\n",
    "    for fact in facts:\n",
    "        data[fact['factLabel']].iloc[i] = fact['factValue']"
   ]
  },
  {
   "cell_type": "markdown",
   "metadata": {},
   "source": [
    "Преобразуем новые признаки"
   ]
  },
  {
   "cell_type": "markdown",
   "metadata": {},
   "source": [
    "# 5.1 Cooling"
   ]
  },
  {
   "cell_type": "code",
   "execution_count": 9,
   "metadata": {},
   "outputs": [
    {
     "name": "stdout",
     "output_type": "stream",
     "text": [
      "Доля (%) 15-ти наиболее весомых категорий:  92.1\n"
     ]
    }
   ],
   "source": [
    "print('Доля (%) 15-ти наиболее весомых категорий: ' , round((data['Cooling'].value_counts().nlargest(15)/len(data)*100).sum(),1))"
   ]
  },
  {
   "cell_type": "code",
   "execution_count": 10,
   "metadata": {},
   "outputs": [
    {
     "data": {
      "text/plain": [
       "Cooling\n",
       "Central                                            158754\n",
       "                                                   120434\n",
       "Central Air                                         14384\n",
       "No Data                                             10616\n",
       "Has Cooling                                          9730\n",
       "None                                                 7390\n",
       "Central Electric                                     6154\n",
       "Wall                                                 4018\n",
       "Central Gas                                          3573\n",
       "Central Heating                                      2807\n",
       "Cooling System                                       2700\n",
       "Central A/C                                          2051\n",
       "Other                                                1840\n",
       "Central A/C (Electric), Central Heat (Gas)           1646\n",
       "Central A/C (Electric), Central Heat (Electric)      1429\n",
       "Name: count, dtype: int64"
      ]
     },
     "execution_count": 10,
     "metadata": {},
     "output_type": "execute_result"
    }
   ],
   "source": [
    "data['Cooling'].value_counts().nlargest(15)"
   ]
  },
  {
   "cell_type": "markdown",
   "metadata": {},
   "source": [
    "Найдем синонимы"
   ]
  },
  {
   "cell_type": "code",
   "execution_count": 11,
   "metadata": {},
   "outputs": [
    {
     "name": "stdout",
     "output_type": "stream",
     "text": [
      "Synonyms for '': ['', '1', '2', '3', '5', '4']\n",
      "Synonyms for 'central air': ['Central Air', 'Central Air,']\n",
      "Synonyms for 'central a/c': ['Central A/C', 'Central AC']\n",
      "Synonyms for 'central electric': ['Central Electric', 'Central, Electric', 'Central-Electric']\n",
      "Synonyms for 'none': ['None', None]\n",
      "Synonyms for 'ceiling fan, central electric': ['Ceiling Fan, Central Electric', 'Ceiling Fan, Central, Electric', 'Ceiling Fans, Central Electric']\n",
      "Synonyms for 'yes': ['Yes', 'YES']\n",
      "Synonyms for 'cooling system': ['Cooling System', 'Cooling System:']\n",
      "Synonyms for 'None': ['None', None]\n",
      "Synonyms for 'gas heating': ['Gas Heating', 'Has Heating']\n",
      "Synonyms for 'window unit(s)': ['Window Unit(s)', 'Window Unit(S)']\n",
      "Synonyms for 'central, electric': ['Central Electric', 'Central, Electric']\n",
      "Synonyms for 'ceiling fan, central electric, heat pump': ['Ceiling Fan, Central Electric, Heat Pump', 'Ceiling Fans, Central Electric, Heat Pump']\n",
      "Synonyms for 'has heating': ['Gas Heating', 'Has Heating']\n",
      "Synonyms for 'wall unit(s)': ['Wall Unit(s)', 'Wall Unit(S)']\n",
      "Synonyms for 'central air, multizone a/c': ['Central Air, Multizone A/C', 'Central Air, Multi-Zone A/C']\n",
      "Synonyms for 'ceiling fan': ['Ceiling Fan', 'Ceiling Fans']\n",
      "Synonyms for 'window': ['Window', 'WINDOW']\n",
      "Synonyms for '1': ['', '1', '2', '3', '5', '4']\n",
      "Synonyms for 'gas': ['Gas', 'gas']\n",
      "Synonyms for 'ceiling fan, central, electric': ['Ceiling Fan, Central Electric', 'Ceiling Fan, Central, Electric']\n",
      "Synonyms for 'central electric, heat pump': ['Central Electric, Heat Pump', 'Central, Electric, Heat Pump', 'Central Electric Heat Pump']\n",
      "Synonyms for 'multizone a/c': ['Multizone A/C', 'Multi-Zone A/C']\n",
      "Synonyms for '2': ['', '1', '2', '3', '5', '4']\n",
      "Synonyms for 'cooling system:': ['Cooling System', 'Cooling System:']\n",
      "Synonyms for 'window units': ['Window Units', 'Window Unit']\n",
      "Synonyms for 'central ac': ['Central A/C', 'Central AC']\n",
      "Synonyms for 'ceiling fans, central electric': ['Ceiling Fan, Central Electric', 'Ceiling Fans, Central Electric']\n",
      "Synonyms for 'window unit': ['Window Units', 'Window Unit']\n",
      "Synonyms for 'incl': ['incl', 'inc', 'Inc', 'Incl']\n",
      "Synonyms for 'ceiling fans, central cooling': ['Ceiling Fans, Central Cooling', 'Ceiling Fan, Central Cooling']\n",
      "Synonyms for 'central gas, window unit': ['Central Gas, Window Unit', 'Central Gas, Window Units']\n",
      "Synonyms for 'inc': ['incl', 'inc', 'Inc', 'Incl']\n",
      "Synonyms for '3': ['', '1', '2', '3', '5', '4']\n",
      "Synonyms for 'central electric, window units': ['Central Electric, Window Units', 'Central Electric, Window Unit']\n",
      "Synonyms for 'heat pump, zoned': ['Heat Pump, Zoned', 'Heat Pump, Zone']\n",
      "Synonyms for 'wall unit': ['Wall Unit', 'Wall Units']\n",
      "Synonyms for 'ceiling fans, central electric, heat pump': ['Ceiling Fan, Central Electric, Heat Pump', 'Ceiling Fans, Central Electric, Heat Pump']\n",
      "Synonyms for 'heat pump, electric': ['Heat Pump, Electric', 'Heat Pump,Electric']\n",
      "Synonyms for 'ceiling fan, central electric, zoned': ['Ceiling Fan, Central Electric, Zoned', 'Ceiling Fans, Central Electric, Zoned']\n",
      "Synonyms for 'central electric, window unit': ['Central Electric, Window Units', 'Central Electric, Window Unit', 'Central, Electric, Window Unit']\n",
      "Synonyms for '5': ['', '1', '2', '3', '5', '4']\n",
      "Synonyms for 'ceiling fans': ['Ceiling Fan', 'Ceiling Fans']\n",
      "Synonyms for 'multi-zone a/c': ['Multizone A/C', 'Multi-Zone A/C']\n",
      "Synonyms for 'window a/c': ['Window A/C', 'Window AC']\n",
      "Synonyms for 'central air, multi-zone a/c': ['Central Air, Multizone A/C', 'Central Air, Multi-Zone A/C']\n",
      "Synonyms for 'wall units': ['Wall Unit', 'Wall Units']\n",
      "Synonyms for 'central electric, wall unit': ['Central Electric, Wall Unit', 'Central Electric, Wall Units']\n",
      "Synonyms for 'ceiling fans, central electric, zoned': ['Ceiling Fan, Central Electric, Zoned', 'Ceiling Fans, Central Electric, Zoned']\n",
      "Synonyms for 'central air,': ['Central Air', 'Central Air,', 'Central Air, ']\n",
      "Synonyms for 'ceiling fan, central cooling': ['Ceiling Fans, Central Cooling', 'Ceiling Fan, Central Cooling']\n",
      "Synonyms for 'central, electric heat pump': ['Central, Electric Heat Pump', 'Central, Electric, Heat Pump', 'Central Electric Heat Pump']\n",
      "Synonyms for '2 air conditioners': ['2 Air Conditioners', '3 Air Conditioners']\n",
      "Synonyms for 'central electric, geothermal': ['Central Electric, Geothermal', 'Central, Electric, Geothermal']\n",
      "Synonyms for '1 (window/wall unit)': ['1 (Window/Wall Unit)', '2 (Window/Wall Unit)']\n",
      "Synonyms for 'central, electric, heat pump': ['Central Electric, Heat Pump', 'Central, Electric Heat Pump', 'Central, Electric, Heat Pump']\n",
      "Synonyms for 'central-electric': ['Central Electric', 'Central-Electric']\n",
      "Synonyms for '4': ['', '1', '2', '3', '5', '4']\n",
      "Synonyms for '2 (window/wall unit)': ['1 (Window/Wall Unit)', '2 (Window/Wall Unit)']\n",
      "Synonyms for 'central, electric, window unit': ['Central Electric, Window Unit', 'Central, Electric, Window Unit']\n",
      "Synonyms for 'central, wall units': ['Central, Wall Units', 'Central, Wall Unit']\n",
      "Synonyms for 'heat pump, zone': ['Heat Pump, Zoned', 'Heat Pump, Zone']\n",
      "Synonyms for 'central gas, window units': ['Central Gas, Window Unit', 'Central Gas, Window Units']\n",
      "Synonyms for 'central electric heat pump': ['Central Electric, Heat Pump', 'Central, Electric Heat Pump', 'Central Electric Heat Pump']\n",
      "Synonyms for 'heat pump,electric': ['Heat Pump, Electric', 'Heat Pump,Electric']\n",
      "Synonyms for '3 air conditioners': ['2 Air Conditioners', '3 Air Conditioners']\n",
      "Synonyms for 'central air, ': ['Central Air,', 'Central Air, ']\n",
      "Synonyms for 'central, wall unit': ['Central, Wall Units', 'Central, Wall Unit']\n",
      "Synonyms for 'window ac': ['Window A/C', 'Window AC']\n",
      "Synonyms for 'central electric, wall units': ['Central Electric, Wall Unit', 'Central Electric, Wall Units']\n",
      "Synonyms for 'central, electric, geothermal': ['Central Electric, Geothermal', 'Central, Electric, Geothermal']\n"
     ]
    }
   ],
   "source": [
    "\n",
    "\n",
    "# создаем список всех уникальных значений в столбце\n",
    "unique_values = data['Cooling'].unique()\n",
    "\n",
    "# создаем список всех уникальных значений в столбце, приведенных к нижнему регистру\n",
    "lowercase_values = [str(value).lower() if isinstance(value, str) else str(value) for value in unique_values]\n",
    "\n",
    "# создаем словарь синонимов (ключ - это нормализованное значение, значение - это список всех значений, которые считаются синонимами)\n",
    "synonyms_dict = {}\n",
    "\n",
    "for value in unique_values:\n",
    "    # нормализуем текущее значение\n",
    "    normalized_value = str(value).lower() if isinstance(value, str) else str(value)\n",
    "\n",
    "    # ищем все значения, которые считаются синонимами для текущего значения\n",
    "    synonyms = [v for v in unique_values if distance(str(v).lower() if isinstance(v, str) else str(v), normalized_value) <= 1]\n",
    "\n",
    "    # добавляем текущее значение и его синонимы в словарь\n",
    "    synonyms_dict[normalized_value] = synonyms\n",
    "\n",
    "# выводим все найденные синонимы\n",
    "for key, value in synonyms_dict.items():\n",
    "    if len(value) > 1:\n",
    "        print(f\"Synonyms for '{key}': {value}\")"
   ]
  },
  {
   "cell_type": "code",
   "execution_count": 12,
   "metadata": {},
   "outputs": [],
   "source": [
    "# Создаем словарь с заменами\n",
    "replacements_Сooling = {\n",
    "    'central air,': 'central air',\n",
    "    'cooling system:': 'cooling system',\n",
    "    'has cooling': 'cooling system',\n",
    "    'central, electric': 'central electric',\n",
    "    'central-electric': 'central electric',\n",
    "    'central ac': 'central a/c',\n",
    "    '': None,\n",
    "    'no data': None,\n",
    "    'none': None\n",
    "    }\n",
    "\n",
    "# Приводим значения столбца \"status\" к нижнему регистру\n",
    "data['Cooling'] = data['Cooling'].str.lower()\n",
    "\n",
    "# Заменяем значения в столбце \"status\" с помощью словаря замен\n",
    "data['Cooling'].replace(replacements_Сooling, inplace=True)"
   ]
  },
  {
   "cell_type": "code",
   "execution_count": 13,
   "metadata": {},
   "outputs": [
    {
     "name": "stdout",
     "output_type": "stream",
     "text": [
      "Series([], Name: count, dtype: int64)\n"
     ]
    }
   ],
   "source": [
    "unwanted_values_Cooling = ['central air,', \n",
    "                   'cooling system:', \n",
    "                   'has cooling',  \n",
    "                   'central, electric', \n",
    "                   'central-electric', \n",
    "                   'central ac', \n",
    "                   'no data', \n",
    "                   'none', \n",
    "                   '',  \n",
    "                   ]\n",
    "\n",
    "filtered_data = data[data['Cooling'].isin(unwanted_values_Cooling)]\n",
    "unwanted_counts = filtered_data['Cooling'].value_counts()\n",
    "\n",
    "print(unwanted_counts)"
   ]
  },
  {
   "cell_type": "code",
   "execution_count": 14,
   "metadata": {},
   "outputs": [
    {
     "name": "stderr",
     "output_type": "stream",
     "text": [
      "100%|██████████| 377185/377185 [00:00<00:00, 859128.10it/s]\n"
     ]
    }
   ],
   "source": [
    "Cooling_list = list(data['Cooling'].value_counts().nlargest(15).index)\n",
    "data['Cooling'] = data['Cooling'].progress_apply(lambda x: x if x in Cooling_list else 'other')"
   ]
  },
  {
   "cell_type": "code",
   "execution_count": 15,
   "metadata": {},
   "outputs": [
    {
     "name": "stdout",
     "output_type": "stream",
     "text": [
      "Количество уникальных значений:  15\n"
     ]
    }
   ],
   "source": [
    "print('Количество уникальных значений: ', data['Cooling'].nunique())"
   ]
  },
  {
   "cell_type": "markdown",
   "metadata": {},
   "source": [
    "# 5.2 lotsize"
   ]
  },
  {
   "cell_type": "code",
   "execution_count": 16,
   "metadata": {},
   "outputs": [
    {
     "data": {
      "text/plain": [
       "array([nan, '5828 sqft', '8,626 sqft', '8,220 sqft', '10,019 sqft',\n",
       "       '680 sqft', '4,996 Sq. Ft.', '8,750 Sq. Ft.', '124582',\n",
       "       '2,056 sqft', '1.73 acres', '5,715 Sq. Ft.', '10,270 sqft',\n",
       "       '7,000 sqft lot', '2,130 sqft'], dtype=object)"
      ]
     },
     "execution_count": 16,
     "metadata": {},
     "output_type": "execute_result"
    }
   ],
   "source": [
    "data['lotsize'].unique()[:15]"
   ]
  },
  {
   "cell_type": "markdown",
   "metadata": {},
   "source": [
    "Используем функцию для извлечения числа"
   ]
  },
  {
   "cell_type": "code",
   "execution_count": 17,
   "metadata": {},
   "outputs": [],
   "source": [
    "def square(x):\n",
    "    if type(x) == str:\n",
    "        a = re.findall(r\"[-+]?(?:\\d*\\.*\\d+)\", x.replace(',', ''))\n",
    "        if re.findall(\"\\d+\", x) != []:\n",
    "            b = float(a[0])\n",
    "            if 'cres' in x:\n",
    "                b = b*43560.04\n",
    "            return b\n",
    "        else:\n",
    "            return np.nan\n",
    "    else:\n",
    "        return np.nan"
   ]
  },
  {
   "cell_type": "code",
   "execution_count": 18,
   "metadata": {},
   "outputs": [
    {
     "name": "stderr",
     "output_type": "stream",
     "text": [
      "  0%|          | 0/377185 [00:00<?, ?it/s]"
     ]
    },
    {
     "name": "stderr",
     "output_type": "stream",
     "text": [
      "100%|██████████| 377185/377185 [00:01<00:00, 194410.70it/s]\n"
     ]
    }
   ],
   "source": [
    "data['lotsize'] = data['lotsize'].progress_apply(square) "
   ]
  },
  {
   "cell_type": "markdown",
   "metadata": {},
   "source": [
    "# 5.3 Parking"
   ]
  },
  {
   "cell_type": "code",
   "execution_count": 19,
   "metadata": {},
   "outputs": [
    {
     "data": {
      "text/plain": [
       "array(['', 'Attached Garage', 'Detached Garage',\n",
       "       'Carport, Attached Garage', '2 spaces', '4 spaces', 'Off Street',\n",
       "       'None', '0', '1 space', 'No Data', 'Carport', '2', '3 spaces',\n",
       "       'Double Wide Drive, Oversized Drive'], dtype=object)"
      ]
     },
     "execution_count": 19,
     "metadata": {},
     "output_type": "execute_result"
    }
   ],
   "source": [
    "data['Parking'].unique()[:15]"
   ]
  },
  {
   "cell_type": "code",
   "execution_count": 20,
   "metadata": {},
   "outputs": [
    {
     "name": "stdout",
     "output_type": "stream",
     "text": [
      "Количество уникальных значений:  3346\n"
     ]
    }
   ],
   "source": [
    "print('Количество уникальных значений: ', data['Parking'].nunique())"
   ]
  },
  {
   "cell_type": "code",
   "execution_count": 21,
   "metadata": {},
   "outputs": [
    {
     "name": "stdout",
     "output_type": "stream",
     "text": [
      "Доля (%) 15-ти наиболее весомых категорий:  91.0\n"
     ]
    }
   ],
   "source": [
    "print('Доля (%) 15-ти наиболее весомых категорий: ' , round((data['Parking'].value_counts().nlargest(15)/len(data)*100).sum(),1))"
   ]
  },
  {
   "cell_type": "code",
   "execution_count": 22,
   "metadata": {},
   "outputs": [
    {
     "data": {
      "text/plain": [
       "Parking\n",
       "                            171887\n",
       "Attached Garage              70752\n",
       "2 spaces                     28063\n",
       "1 space                      14252\n",
       "No Data                      13334\n",
       "Detached Garage              13201\n",
       "Carport                       7743\n",
       "3 spaces                      4724\n",
       "Off Street                    3622\n",
       "Carport, Attached Garage      3025\n",
       "1                             2936\n",
       "4 spaces                      2917\n",
       "2                             2756\n",
       "None                          2366\n",
       "Off street                    1657\n",
       "Name: count, dtype: int64"
      ]
     },
     "execution_count": 22,
     "metadata": {},
     "output_type": "execute_result"
    }
   ],
   "source": [
    "data['Parking'].value_counts().nlargest(15)"
   ]
  },
  {
   "cell_type": "code",
   "execution_count": 23,
   "metadata": {},
   "outputs": [
    {
     "name": "stdout",
     "output_type": "stream",
     "text": [
      "Synonyms for '': ['', '0', '2', '1', '7', '4', '3', '6', '5', '8', '9']\n",
      "Synonyms for 'attached garage': ['Attached Garage', 'Attached, Garage']\n",
      "Synonyms for '2 spaces': ['2 spaces', '4 spaces', '3 spaces', '7 spaces', '6 spaces', '8 spaces', '5 spaces', '9 spaces', '12 spaces', '20 spaces', '2+ Spaces', '28 spaces', '32 spaces', '22 spaces', '82 spaces', '24 spaces', '25 spaces', '27 spaces', '29 spaces', '42 spaces', '21 spaces', '23 spaces']\n",
      "Synonyms for '4 spaces': ['2 spaces', '4 spaces', '3 spaces', '7 spaces', '6 spaces', '8 spaces', '5 spaces', '9 spaces', '14 spaces', '40 spaces', '24 spaces', '44 spaces', '42 spaces', '41 spaces', '43 spaces', '47 spaces']\n",
      "Synonyms for 'off street': ['Off Street', 'Off street']\n",
      "Synonyms for 'none': ['None', None, 'none']\n",
      "Synonyms for '0': ['', '0', '2', '1', '10', '7', '4', '3', '6', '5', '8', '9', '20', '60', '30', '40', '50']\n",
      "Synonyms for 'carport': ['Carport', '-Carport']\n",
      "Synonyms for '2': ['', '0', '2', '1', '7', '4', '3', '6', '5', '8', '9', '20', '32', '27', '22', '12', '42', '24', '26', '21', '28', '23', '25']\n",
      "Synonyms for '3 spaces': ['2 spaces', '4 spaces', '3 spaces', '7 spaces', '6 spaces', '8 spaces', '5 spaces', '9 spaces', '30 spaces', '93 spaces', '32 spaces', '13 spaces', '37 spaces', '36 spaces', '73 spaces', '35 spaces', '23 spaces', '43 spaces']\n",
      "Synonyms for '1': ['', '0', '2', '1', '10', '7', '4', '3', '6', '5', '8', '16', '9', '11', '17', '12', '14', '15', '18', '13', '21', '51']\n",
      "Synonyms for '10': ['0', '1', '10', '16', '20', '60', '11', '100', '17', '12', '30', '40', '14', '15', '140', '18', '150', '110', '13', '50', '120']\n",
      "Synonyms for '7': ['', '0', '2', '1', '7', '4', '3', '6', '5', '8', '9', '27', '17', '75']\n",
      "Synonyms for 'detached parking': ['Detached parking', 'Detached Parking']\n",
      "Synonyms for '7 spaces': ['2 spaces', '4 spaces', '3 spaces', '7 spaces', '6 spaces', '8 spaces', '5 spaces', '9 spaces', '17 spaces', '79 spaces', '37 spaces', '75 spaces', '70 spaces', '27 spaces', '73 spaces', '47 spaces']\n",
      "Synonyms for 'None': ['None', None, 'none']\n",
      "Synonyms for 'on street, attached garage': ['On street, Attached Garage', 'On Street, Attached Garage']\n",
      "Synonyms for '2 car garage, attached, main level, off street parking': ['2 Car Garage, Attached, Main Level, Off Street Parking', '1 Car Garage, Attached, Main Level, Off Street Parking']\n",
      "Synonyms for 'garage - 2 car': ['Garage - 2 Car', 'Garage - 3 Car', 'Garage - 1 Car']\n",
      "Synonyms for 'off street, on street, attached garage': ['Off street, On street, Attached Garage', 'Off Street, On Street, Attached Garage']\n",
      "Synonyms for '4': ['', '0', '2', '1', '7', '4', '3', '6', '5', '8', '9', '42', '40', '14', '24', '34', '46', '48']\n",
      "Synonyms for '6 spaces': ['2 spaces', '4 spaces', '3 spaces', '7 spaces', '6 spaces', '8 spaces', '5 spaces', '9 spaces', '16 spaces', '68 spaces', '36 spaces', '56 spaces', '60 spaces']\n",
      "Synonyms for 'off street, attached garage': ['Off Street, Attached Garage', 'Off street, Attached Garage']\n",
      "Synonyms for 'carport, off street, detached garage': ['Carport, Off Street, Detached Garage', 'Carport, Off street, Detached Garage']\n",
      "Synonyms for 'garage detached': ['Garage Detached', 'Garage-Detached']\n",
      "Synonyms for 'attached garage, driveway, garage - 2 car, side load garage': ['Attached Garage, Driveway, Garage - 2 Car, Side Load Garage', 'Attached Garage, Driveway, Garage - 3 Car, Side Load Garage']\n",
      "Synonyms for 'off street parking': ['Off street parking', 'Off-Street Parking', 'Off Street Parking']\n",
      "Synonyms for 'on street': ['On Street', 'On street']\n",
      "Synonyms for 'detached garage, garage - 2 car': ['Detached Garage, Garage - 2 Car', 'Detached Garage, Garage - 1 Car', 'Detached Garage, Garage - 3 Car']\n",
      "Synonyms for '8 spaces': ['2 spaces', '4 spaces', '3 spaces', '7 spaces', '6 spaces', '8 spaces', '5 spaces', '9 spaces', '28 spaces', '18 spaces', '89 spaces', '82 spaces', '68 spaces']\n",
      "Synonyms for 'off street, detached garage': ['Off Street, Detached Garage', 'Off street, Detached Garage']\n",
      "Synonyms for 'off-street parking': ['Off street parking', 'Off-Street Parking', 'Off Street Parking']\n",
      "Synonyms for 'garage-attached': ['Garage-Attached', 'Garage Attached']\n",
      "Synonyms for 'assigned parking space - 2': ['Assigned Parking Space - 2', 'Assigned Parking Space - 1']\n",
      "Synonyms for 'garage - 2 car, garage door opener': ['Garage - 2 Car, Garage Door Opener', 'Garage - 3 Car, Garage Door Opener']\n",
      "Synonyms for 'attached garage, driveway, garage - 3 car, garage door opener, side load garage': ['Attached Garage, Driveway, Garage - 3 Car, Garage Door Opener, Side Load Garage', 'Attached Garage, Driveway, Garage - 2 Car, Garage Door Opener, Side Load Garage']\n",
      "Synonyms for 'driveway, parking space - 2': ['Driveway, Parking Space - 2', 'Driveway, Parking Space - 3', 'Driveway, Parking Space - 1']\n",
      "Synonyms for 'attached garage, driveway, garage - 3 car, garage door opener': ['Attached Garage, Driveway, Garage - 3 Car, Garage Door Opener', 'Attached Garage, Driveway, Garage - 2 Car, Garage Door Opener', 'Attached Garage, Driveway, Garage - 1 Car, Garage Door Opener']\n",
      "Synonyms for 'off street, on street': ['Off Street, On Street', 'Off street, On street']\n",
      "Synonyms for 'carport, off street': ['Carport, Off Street', 'Carport, Off street']\n",
      "Synonyms for '19 spaces': ['19 spaces', '10 spaces', '9 spaces', '12 spaces', '14 spaces', '16 spaces', '11 spaces', '15 spaces', '18 spaces', '13 spaces', '17 spaces', '89 spaces', '59 spaces', '79 spaces', '99 spaces', '29 spaces']\n",
      "Synonyms for '10 spaces': ['19 spaces', '10 spaces', '30 spaces', '12 spaces', '14 spaces', '20 spaces', '16 spaces', '120 spaces', '11 spaces', '50 spaces', '15 spaces', '40 spaces', '18 spaces', '13 spaces', '17 spaces', '210 spaces', '140 spaces', '100 spaces', '105 spaces', '70 spaces', '110 spaces', '60 spaces', '150 spaces', '108 spaces']\n",
      "Synonyms for '2 off street': ['2 Off Street', '1 Off Street']\n",
      "Synonyms for 'parking type': ['Parking Type', 'ParkingType']\n",
      "Synonyms for '3': ['', '0', '2', '1', '7', '4', '3', '6', '5', '8', '9', '32', '30', '34', '13', '23']\n",
      "Synonyms for 'gravl': ['GRAVL', 'Gravel']\n",
      "Synonyms for 'detached garage, driveway, garage - 1 car, on-street parking': ['Detached Garage, Driveway, Garage - 1 Car, On-Street Parking', 'Detached Garage, Driveway, Garage - 2 Car, On-Street Parking']\n",
      "Synonyms for '5 spaces': ['2 spaces', '4 spaces', '3 spaces', '7 spaces', '6 spaces', '8 spaces', '5 spaces', '9 spaces', '50 spaces', '15 spaces', '55 spaces', '59 spaces', '75 spaces', '25 spaces', '56 spaces', '35 spaces']\n",
      "Synonyms for '21+ spaces': ['21+ Spaces', '2+ Spaces', '210 spaces', '21 spaces']\n",
      "Synonyms for '6': ['', '0', '2', '1', '7', '4', '3', '6', '5', '8', '16', '9', '60', '26', '46']\n",
      "Synonyms for '2 car garage, 2 off street, attached garage, on street': ['2 Car Garage, 2 Off Street, Attached Garage, On Street', '1 Car Garage, 2 Off Street, Attached Garage, On Street']\n",
      "Synonyms for 'attached garage, garage - 2 car': ['Attached Garage, Garage - 2 Car', 'Attached Garage, Garage - 3 Car', 'Attached Garage, Garage - 1 Car']\n",
      "Synonyms for 'garage - 3 car, side load garage': ['Garage - 3 Car, Side Load Garage', 'Garage - 2 Car, Side Load Garage', 'Garage - 1 Car, Side Load Garage']\n",
      "Synonyms for '2 car garage, 2 off street, attached garage, on street, opener': ['2 Car Garage, 2 Off Street, Attached Garage, On Street, Opener', '1 Car Garage, 2 Off Street, Attached Garage, On Street, Opener']\n",
      "Synonyms for 'driveway, garage - 1 car': ['Driveway, Garage - 1 Car', 'Driveway, Garage - 2 Car', 'Driveway, Garage - 3 Car']\n",
      "Synonyms for 'attached garage, garage - 2 car, garage door opener': ['Attached Garage, Garage - 2 Car, Garage Door Opener', 'Attached Garage, Garage - 1 Car, Garage Door Opener', 'Attached Garage, Garage - 3 Car, Garage Door Opener']\n",
      "Synonyms for '5': ['', '0', '2', '1', '7', '4', '3', '6', '5', '8', '9', '55', '15', '51', '50', '75', '25']\n",
      "Synonyms for '2 off street, 4 car garage, attached garage, opener, side load': ['2 Off Street, 4 Car Garage, Attached Garage, Opener, Side Load', '2 Off Street, 3 Car Garage, Attached Garage, Opener, Side Load']\n",
      "Synonyms for 'garage - 3 car': ['Garage - 2 Car', 'Garage - 3 Car', 'Garage - 1 Car']\n",
      "Synonyms for 'driveway, paved': ['Driveway, Paved', 'Driveway Paved']\n",
      "Synonyms for 'parkingtype': ['Parking Type', 'ParkingType']\n",
      "Synonyms for 'garage attached': ['Garage-Attached', 'Garage Attached']\n",
      "Synonyms for 'driveway paved': ['Driveway, Paved', 'Driveway Paved']\n",
      "Synonyms for '9 spaces': ['2 spaces', '4 spaces', '3 spaces', '7 spaces', '6 spaces', '8 spaces', '19 spaces', '5 spaces', '9 spaces', '93 spaces', '89 spaces', '59 spaces', '79 spaces', '99 spaces', '29 spaces']\n",
      "Synonyms for 'on street parking': ['On Street Parking', 'On-Street Parking']\n",
      "Synonyms for 'attached garage, garage - 2 car, parking space - 2': ['Attached Garage, Garage - 2 Car, Parking Space - 2', 'Attached Garage, Garage - 1 Car, Parking Space - 2', 'Attached Garage, Garage - 2 Car, Parking Space - 1', 'Attached Garage, Garage - 2 Car, Parking Space - 3']\n",
      "Synonyms for 'carport - 1 car': ['Carport - 1 Car', 'Carport - 2 Car', 'Carport - 3 Car']\n",
      "Synonyms for '2 car garage, detached, off street parking, utility garage': ['2 Car Garage, Detached, Off Street Parking, Utility Garage', '1 Car Garage, Detached, Off Street Parking, Utility Garage']\n",
      "Synonyms for '2 car garage, attached garage': ['2 Car Garage, Attached Garage', '1 Car Garage, Attached Garage', '3 Car Garage, Attached Garage', '4 Car Garage, Attached Garage']\n",
      "Synonyms for 'attached garage, driveway, garage - 2 car, garage door opener, side load garage': ['Attached Garage, Driveway, Garage - 3 Car, Garage Door Opener, Side Load Garage', 'Attached Garage, Driveway, Garage - 2 Car, Garage Door Opener, Side Load Garage']\n",
      "Synonyms for 'back load garage, garage - 2 car': ['Back Load Garage, Garage - 2 Car', 'Back Load Garage, Garage - 3 Car', 'Back Load Garage, Garage - 1 Car']\n",
      "Synonyms for 'attached garage, garage - 3 car': ['Attached Garage, Garage - 2 Car', 'Attached Garage, Garage - 3 Car', 'Attached Garage, Garage - 1 Car']\n",
      "Synonyms for '8': ['', '0', '2', '1', '7', '4', '3', '6', '5', '8', '9', '18', '28', '48']\n",
      "Synonyms for '1 attached carport': ['1 Attached Carport', '2 Attached Carport']\n",
      "Synonyms for 'carport - 1 car, parking space - 3': ['Carport - 1 Car, Parking Space - 3', 'Carport - 1 Car, Parking Space - 2', 'Carport - 2 Car, Parking Space - 3']\n",
      "Synonyms for 'parking space - 2': ['Parking Space - 2', 'Parking Space - 3', 'Parking Space - 1']\n",
      "Synonyms for '3 car garage, attached garage, opener': ['3 Car Garage, Attached Garage, Opener', '2 Car Garage, Attached Garage, Opener', '1 Car Garage, Attached Garage, Opener']\n",
      "Synonyms for '2 car garage': ['2 Car Garage', '2 Car, Garage', '1 Car Garage', '3 Car Garage', '4 Car Garage']\n",
      "Synonyms for 'attached garage, driveway, garage - 2 car, garage door opener': ['Attached Garage, Driveway, Garage - 3 Car, Garage Door Opener', 'Attached Garage, Driveway, Garage - 2 Car, Garage Door Opener', 'Attached Garage, Driveway, Garage - 1 Car, Garage Door Opener']\n",
      "Synonyms for '1 car, parking lot': ['1 Car, Parking Lot', '2 Car, Parking Lot', '3 Car, Parking Lot']\n",
      "Synonyms for '2 car garage, attached garage, opener': ['3 Car Garage, Attached Garage, Opener', '2 Car Garage, Attached Garage, Opener', '1 Car Garage, Attached Garage, Opener']\n",
      "Synonyms for 'gravel': ['GRAVL', 'Gravel']\n",
      "Synonyms for 'parking/driveway': ['Parking/Driveway', 'Parking Driveway']\n",
      "Synonyms for 'on street, none': ['On Street, None', 'On street, None']\n",
      "Synonyms for '16': ['1', '10', '6', '16', '11', '17', '12', '14', '15', '18', '13', '26', '46']\n",
      "Synonyms for 'garage - 2 car, parking space - 4+': ['Garage - 2 Car, Parking Space - 4+', 'Garage - 1 Car, Parking Space - 4+']\n",
      "Synonyms for 'paved': ['Paved', 'PAVED']\n",
      "Synonyms for 'driveway, garage - 2 car, garage door opener, keypad entry': ['Driveway, Garage - 2 Car, Garage Door Opener, Keypad Entry', 'Driveway, Garage - 3 Car, Garage Door Opener, Keypad Entry']\n",
      "Synonyms for 'parking driveway': ['Parking/Driveway', 'Parking Driveway']\n",
      "Synonyms for 'assigned parking space - 1': ['Assigned Parking Space - 2', 'Assigned Parking Space - 1']\n",
      "Synonyms for 'attached garage, garage - 1 car': ['Attached Garage, Garage - 2 Car', 'Attached Garage, Garage - 3 Car', 'Attached Garage, Garage - 1 Car']\n",
      "Synonyms for 'detached garage, driveway, garage - 2 car': ['Detached Garage, Driveway, Garage - 2 Car', 'Detached Garage, Driveway, Garage - 1 Car']\n",
      "Synonyms for '1 off street': ['2 Off Street', '1 Off Street']\n",
      "Synonyms for '9': ['', '0', '2', '1', '7', '4', '3', '6', '5', '8', '9']\n",
      "Synonyms for 'main level, off street parking': ['Main Level, Off Street Parking', 'Main Level, Off-Street Parking']\n",
      "Synonyms for 'driveway, parking space - 3': ['Driveway, Parking Space - 2', 'Driveway, Parking Space - 3', 'Driveway, Parking Space - 1']\n",
      "Synonyms for 'garage - 2 car, garage door opener, keypad entry': ['Garage - 2 Car, Garage Door Opener, Keypad Entry', 'Garage - 3 Car, Garage Door Opener, Keypad Entry']\n",
      "Synonyms for '30 spaces': ['3 spaces', '10 spaces', '30 spaces', '20 spaces', '50 spaces', '40 spaces', '32 spaces', '37 spaces', '36 spaces', '70 spaces', '60 spaces', '35 spaces', '230 spaces']\n",
      "Synonyms for 'attached garage, garage - 3 car, garage door opener, side load garage': ['Attached Garage, Garage - 3 Car, Garage Door Opener, Side Load Garage', 'Attached Garage, Garage - 2 Car, Garage Door Opener, Side Load Garage']\n",
      "Synonyms for '2 car, garage': ['2 Car Garage', '2 Car, Garage']\n",
      "Synonyms for 'attached garage, back load garage, garage - 2 car': ['Attached Garage, Back Load Garage, Garage - 2 Car', 'Attached Garage, Back Load Garage, Garage - 1 Car']\n",
      "Synonyms for '20': ['0', '2', '10', '20', '60', '27', '22', '30', '40', '24', '26', '21', '28', '50', '23', '25', '120']\n",
      "Synonyms for '1 car garage, attached, main level, off street parking': ['2 Car Garage, Attached, Main Level, Off Street Parking', '1 Car Garage, Attached, Main Level, Off Street Parking']\n",
      "Synonyms for '12 spaces': ['2 spaces', '19 spaces', '10 spaces', '12 spaces', '14 spaces', '126 spaces', '16 spaces', '120 spaces', '11 spaces', '15 spaces', '32 spaces', '18 spaces', '22 spaces', '13 spaces', '17 spaces', '82 spaces', '112 spaces', '162 spaces', '42 spaces']\n",
      "Synonyms for '2 car, parking lot': ['1 Car, Parking Lot', '2 Car, Parking Lot', '3 Car, Parking Lot']\n",
      "Synonyms for 'attached garage, garage - 2 car, parking space - 4+, side load garage': ['Attached Garage, Garage - 2 Car, Parking Space - 4+, Side Load Garage', 'Attached Garage, Garage - 3 Car, Parking Space - 4+, Side Load Garage']\n",
      "Synonyms for 'garage - 1 car': ['Garage - 2 Car', 'Garage - 3 Car', 'Garage - 1 Car']\n",
      "Synonyms for 'parking features': ['Parking Features', 'ParkingFeatures']\n",
      "Synonyms for 'rv gated': ['RV Gated', 'RV Gate']\n",
      "Synonyms for 'attached garage, garage - 2 car, keypad entry': ['Attached Garage, Garage - 2 Car, Keypad Entry', 'Attached Garage, Garage - 3 Car, Keypad Entry']\n",
      "Synonyms for 'attached garage, driveway, garage - 2 car, garage door opener, keypad entry, side load garage': ['Attached Garage, Driveway, Garage - 2 Car, Garage Door Opener, Keypad Entry, Side Load Garage', 'Attached Garage, Driveway, Garage - 3 Car, Garage Door Opener, Keypad Entry, Side Load Garage']\n",
      "Synonyms for '2 car garage, attached garage, opener, side load': ['2 Car Garage, Attached Garage, Opener, Side Load', '3 Car Garage, Attached Garage, Opener, Side Load', '4 Car Garage, Attached Garage, Opener, Side Load']\n",
      "Synonyms for '1 car garage, 2 off street, detached garage': ['1 Car Garage, 2 Off Street, Detached Garage', '2 Car Garage, 2 Off Street, Detached Garage']\n",
      "Synonyms for 'attached garage, driveway, garage - 2 car': ['Attached Garage, Driveway, Garage - 2 Car', 'Attached Garage, Driveway, Garage - 3 Car', 'Attached Garage, Driveway, Garage - 1 Car']\n",
      "Synonyms for 'carport, on street': ['Carport, On street', 'Carport, On Street']\n",
      "Synonyms for '2 car garage, attached, off street parking': ['2 Car Garage, Attached, Off Street Parking', '1 Car Garage, Attached, Off Street Parking']\n",
      "Synonyms for 'parking deck, parking space - 1': ['Parking Deck, Parking Space - 1', 'Parking Deck, Parking Space - 2']\n",
      "Synonyms for 'on street, detached garage': ['On Street, Detached Garage', 'On street, Detached Garage']\n",
      "Synonyms for 'parking space - 3': ['Parking Space - 2', 'Parking Space - 3', 'Parking Space - 1']\n",
      "Synonyms for '14 spaces': ['4 spaces', '19 spaces', '10 spaces', '12 spaces', '14 spaces', '16 spaces', '11 spaces', '15 spaces', '18 spaces', '13 spaces', '17 spaces', '140 spaces', '24 spaces', '144 spaces', '44 spaces']\n",
      "Synonyms for '2 car garage, detached garage, opener': ['2 Car Garage, Detached Garage, Opener', '1 Car Garage, Detached Garage, Opener', '4 Car Garage, Detached Garage, Opener', '3 Car Garage, Detached Garage, Opener']\n",
      "Synonyms for 'attached garage, garage - 2 car, garage door opener, side load garage': ['Attached Garage, Garage - 3 Car, Garage Door Opener, Side Load Garage', 'Attached Garage, Garage - 2 Car, Garage Door Opener, Side Load Garage']\n",
      "Synonyms for 'detached, gravl': ['Detached, GRAVL', 'Detached, Gravel']\n",
      "Synonyms for 'attached garage, driveway, garage - 1 car, parking space - 4+': ['Attached Garage, Driveway, Garage - 1 Car, Parking Space - 4+', 'Attached Garage, Driveway, Garage - 3 Car, Parking Space - 4+', 'Attached Garage, Driveway, Garage - 2 Car, Parking Space - 4+']\n",
      "Synonyms for 'parking space - 1': ['Parking Space - 2', 'Parking Space - 3', 'Parking Space - 1']\n",
      "Synonyms for 'attached garage, garage - 2 car, side load garage': ['Attached Garage, Garage - 2 Car, Side Load Garage', 'Attached Garage, Garage - 3 Car, Side Load Garage']\n",
      "Synonyms for 'detached garage, garage - 1 car': ['Detached Garage, Garage - 2 Car', 'Detached Garage, Garage - 1 Car', 'Detached Garage, Garage - 3 Car']\n",
      "Synonyms for 'attached garage, garage - 2 car, garage door opener, keypad entry': ['Attached Garage, Garage - 2 Car, Garage Door Opener, Keypad Entry', 'Attached Garage, Garage - 3 Car, Garage Door Opener, Keypad Entry']\n",
      "Synonyms for '60': ['0', '10', '6', '20', '60', '30', '40', '50']\n",
      "Synonyms for '11': ['1', '10', '16', '11', '17', '12', '14', '15', '18', '110', '13', '21', '51', '111']\n",
      "Synonyms for '2 car, parking lot, unassigned': ['2 Car, Parking Lot, Unassigned', '1 Car, Parking Lot, Unassigned']\n",
      "Synonyms for 'garage - 3 car, garage door opener, keypad entry, side load garage': ['Garage - 3 Car, Garage Door Opener, Keypad Entry, Side Load Garage', 'Garage - 2 Car, Garage Door Opener, Keypad Entry, Side Load Garage']\n",
      "Synonyms for 'attached garage, garage - 1 car, parking space - 3': ['Attached Garage, Garage - 1 Car, Parking Space - 3', 'Attached Garage, Garage - 1 Car, Parking Space - 1', 'Attached Garage, Garage - 1 Car, Parking Space - 2', 'Attached Garage, Garage - 2 Car, Parking Space - 3']\n",
      "Synonyms for '100': ['10', '100', '1.00', '140', '150', '110', '120']\n",
      "Synonyms for '2 car garage, detached garage': ['2 Car Garage, Detached Garage', '3 Car Garage, Detached Garage', '4 Car Garage, Detached Garage', '1 Car Garage, Detached Garage']\n",
      "Synonyms for 'garage-detached': ['Garage Detached', 'Garage-Detached']\n",
      "Synonyms for 'lot, parking space - 1': ['Lot, Parking Space - 1', 'Lot, Parking Space - 2', 'Lot, Parking Space - 3']\n",
      "Synonyms for 'off street, on street, detached garage': ['Off Street, On Street, Detached Garage', 'Off street, On street, Detached Garage']\n",
      "Synonyms for '3 car garage, attached garage, opener, side load': ['2 Car Garage, Attached Garage, Opener, Side Load', '3 Car Garage, Attached Garage, Opener, Side Load', '4 Car Garage, Attached Garage, Opener, Side Load']\n",
      "Synonyms for 'attached garage, garage - 2 car, garage door opener, keypad entry, side load garage': ['Attached Garage, Garage - 2 Car, Garage Door Opener, Keypad Entry, Side Load Garage', 'Attached Garage, Garage - 3 Car, Garage Door Opener, Keypad Entry, Side Load Garage']\n",
      "Synonyms for 'parkingfeatures': ['Parking Features', 'ParkingFeatures']\n",
      "Synonyms for 'attached garage, driveway, garage - 3 car': ['Attached Garage, Driveway, Garage - 2 Car', 'Attached Garage, Driveway, Garage - 3 Car', 'Attached Garage, Driveway, Garage - 1 Car']\n",
      "Synonyms for '32': ['2', '3', '32', '22', '12', '30', '42', '34', '329']\n",
      "Synonyms for 'garage - 1 car, parking space - 1': ['Garage - 1 Car, Parking Space - 1', 'Garage - 1 Car, Parking Space - 2', 'Garage - 1 Car, Parking Space - 3']\n",
      "Synonyms for '27': ['2', '7', '20', '27', '22', '17', '24', '26', '21', '28', '23', '25']\n",
      "Synonyms for '2 car garage, attached, front loading, off street parking': ['2 Car Garage, Attached, Front Loading, Off Street Parking', '1 Car Garage, Attached, Front Loading, Off Street Parking']\n",
      "Synonyms for '2 car garage, detached, off street parking': ['2 Car Garage, Detached, Off Street Parking', '1 Car Garage, Detached, Off Street Parking']\n",
      "Synonyms for '55': ['5', '55', '15', '51', '50', '75', '25']\n",
      "Synonyms for 'off street, none': ['Off street, None', 'Off Street, None']\n",
      "Synonyms for 'attached garage, garage - 3 car, side load garage': ['Attached Garage, Garage - 2 Car, Side Load Garage', 'Attached Garage, Garage - 3 Car, Side Load Garage']\n",
      "Synonyms for 'attached garage, back load garage, garage - 1 car': ['Attached Garage, Back Load Garage, Garage - 2 Car', 'Attached Garage, Back Load Garage, Garage - 1 Car']\n",
      "Synonyms for '22': ['2', '20', '32', '27', '22', '12', '42', '24', '26', '21', '28', '23', '25', '228', '252']\n",
      "Synonyms for 'carport - 2 car': ['Carport - 1 Car', 'Carport - 2 Car', 'Carport - 3 Car']\n",
      "Synonyms for '20 spaces': ['2 spaces', '10 spaces', '30 spaces', '20 spaces', '2+ Spaces', '120 spaces', '50 spaces', '28 spaces', '40 spaces', '22 spaces', '210 spaces', '200 spaces', '70 spaces', '24 spaces', '25 spaces', '27 spaces', '29 spaces', '60 spaces', '21 spaces', '23 spaces', '230 spaces']\n",
      "Synonyms for 'detached garage, driveway, garage - 1 car': ['Detached Garage, Driveway, Garage - 2 Car', 'Detached Garage, Driveway, Garage - 1 Car']\n",
      "Synonyms for '126 spaces': ['12 spaces', '126 spaces', '16 spaces', '120 spaces']\n",
      "Synonyms for 'assigned parking space - 1, on-street parking': ['Assigned Parking Space - 1, On-Street Parking', 'Assigned Parking Space - 2, On-Street Parking']\n",
      "Synonyms for 'carport, off street, attached garage': ['Carport, Off street, Attached Garage', 'Carport, Off Street, Attached Garage']\n",
      "Synonyms for 'off street, attached garage, detached garage': ['Off Street, Attached Garage, Detached Garage', 'Off street, Attached Garage, Detached Garage']\n",
      "Synonyms for 'garage - 2 car, parking space - 3': ['Garage - 2 Car, Parking Space - 3', 'Garage - 2 Car, Parking Space - 2', 'Garage - 1 Car, Parking Space - 3']\n",
      "Synonyms for 'lot, parking space - 2': ['Lot, Parking Space - 1', 'Lot, Parking Space - 2', 'Lot, Parking Space - 3']\n",
      "Synonyms for 'attached garage, driveway, garage - 3 car, side load garage': ['Attached Garage, Driveway, Garage - 2 Car, Side Load Garage', 'Attached Garage, Driveway, Garage - 3 Car, Side Load Garage']\n",
      "Synonyms for '1 car garage, detached garage, opener': ['2 Car Garage, Detached Garage, Opener', '1 Car Garage, Detached Garage, Opener', '4 Car Garage, Detached Garage, Opener', '3 Car Garage, Detached Garage, Opener']\n",
      "Synonyms for 'attached parking': ['Attached Parking', 'Attached, Parking']\n",
      "Synonyms for '2 car, parking lot, paved': ['2 Car, Parking Lot, PAVED', '1 Car, Parking Lot, PAVED']\n",
      "Synonyms for 'garage - 2 car, parking space - 2': ['Garage - 2 Car, Parking Space - 3', 'Garage - 2 Car, Parking Space - 2', 'Garage - 1 Car, Parking Space - 2']\n",
      "Synonyms for 'attached garage, garage - 2 car, garage door opener, parking space - 2': ['Attached Garage, Garage - 2 Car, Garage Door Opener, Parking Space - 2', 'Attached Garage, Garage - 1 Car, Garage Door Opener, Parking Space - 2']\n",
      "Synonyms for '1 car garage, attached garage, opener': ['3 Car Garage, Attached Garage, Opener', '2 Car Garage, Attached Garage, Opener', '1 Car Garage, Attached Garage, Opener']\n",
      "Synonyms for 'assigned parking space - 1, parking garage': ['Assigned Parking Space - 1, Parking Garage', 'Assigned Parking Space - 2, Parking Garage']\n",
      "Synonyms for 'attached garage, garage - 2 car, garage door opener, on-street parking': ['Attached Garage, Garage - 2 Car, Garage Door Opener, On-Street Parking', 'Attached Garage, Garage - 1 Car, Garage Door Opener, On-Street Parking']\n",
      "Synonyms for '1 car garage, 2 off street, attached garage, opener': ['1 Car Garage, 2 Off Street, Attached Garage, Opener', '2 Car Garage, 2 Off Street, Attached Garage, Opener']\n",
      "Synonyms for '1 car garage, attached, off street parking': ['2 Car Garage, Attached, Off Street Parking', '1 Car Garage, Attached, Off Street Parking']\n",
      "Synonyms for 'attached garage, basement, garage - 1 car': ['Attached Garage, Basement, Garage - 1 Car', 'Attached Garage, Basement, Garage - 2 Car']\n",
      "Synonyms for '2 car garage, opener': ['2 Car Garage, Opener', '3 Car Garage, Opener']\n",
      "Synonyms for '2+ spaces': ['2 spaces', '21+ Spaces', '20 spaces', '2+ Spaces', '28 spaces', '22 spaces', '24 spaces', '25 spaces', '27 spaces', '29 spaces', '21 spaces', '23 spaces']\n",
      "Synonyms for '3 car garage, detached garage': ['2 Car Garage, Detached Garage', '3 Car Garage, Detached Garage', '4 Car Garage, Detached Garage', '1 Car Garage, Detached Garage']\n",
      "Synonyms for 'detached garage, driveway, garage - 2 car, on-street parking': ['Detached Garage, Driveway, Garage - 1 Car, On-Street Parking', 'Detached Garage, Driveway, Garage - 2 Car, On-Street Parking']\n",
      "Synonyms for '2 car garage, attached garage, heated, opener': ['2 Car Garage, Attached Garage, Heated, Opener', '3 Car Garage, Attached Garage, Heated, Opener', '1 Car Garage, Attached Garage, Heated, Opener']\n",
      "Synonyms for '2 assigned': ['2 Assigned', '1 Assigned']\n",
      "Synonyms for '1 car garage, attached garage': ['2 Car Garage, Attached Garage', '1 Car Garage, Attached Garage', '3 Car Garage, Attached Garage', '4 Car Garage, Attached Garage']\n",
      "Synonyms for '2 car garage, 3 car garage, attached garage, detached garage, opener': ['2 Car Garage, 3 Car Garage, Attached Garage, Detached Garage, Opener', '2 Car Garage, 4 Car Garage, Attached Garage, Detached Garage, Opener']\n",
      "Synonyms for '16 spaces': ['6 spaces', '19 spaces', '10 spaces', '12 spaces', '14 spaces', '126 spaces', '16 spaces', '11 spaces', '15 spaces', '18 spaces', '13 spaces', '17 spaces', '36 spaces', '162 spaces', '56 spaces']\n",
      "Synonyms for '17': ['1', '10', '7', '16', '11', '27', '17', '12', '14', '15', '18', '13', '179']\n",
      "Synonyms for 'attached garage, garage - 1 car, garage door opener, parking space - 2': ['Attached Garage, Garage - 2 Car, Garage Door Opener, Parking Space - 2', 'Attached Garage, Garage - 1 Car, Garage Door Opener, Parking Space - 2']\n",
      "Synonyms for '1 car garage, attached garage, detached garage': ['1 Car Garage, Attached Garage, Detached Garage', '3 Car Garage, Attached Garage, Detached Garage']\n",
      "Synonyms for '12': ['2', '1', '10', '16', '11', '32', '22', '17', '12', '42', '14', '15', '18', '13', '120']\n",
      "Synonyms for 'garage - 2 car, garage door opener, side load garage': ['Garage - 2 Car, Garage Door Opener, Side Load Garage', 'Garage - 3 Car, Garage Door Opener, Side Load Garage']\n",
      "Synonyms for '30': ['0', '10', '3', '20', '60', '32', '30', '40', '34', '50']\n",
      "Synonyms for '1 car garage, 1 off street, attached garage': ['1 Car Garage, 1 Off Street, Attached Garage', '1 Car Garage, 2 Off Street, Attached Garage']\n",
      "Synonyms for '120 spaces': ['10 spaces', '12 spaces', '20 spaces', '126 spaces', '120 spaces', '140 spaces', '100 spaces', '110 spaces', '150 spaces']\n",
      "Synonyms for 'assigned parking space - 2, parking garage': ['Assigned Parking Space - 1, Parking Garage', 'Assigned Parking Space - 2, Parking Garage']\n",
      "Synonyms for '3 car garage, attached garage, farm bldg, opener': ['3 Car Garage, Attached Garage, Farm Bldg, Opener', '2 Car Garage, Attached Garage, Farm Bldg, Opener']\n",
      "Synonyms for '11 spaces': ['19 spaces', '10 spaces', '12 spaces', '14 spaces', '16 spaces', '11 spaces', '15 spaces', '18 spaces', '13 spaces', '17 spaces', '131 spaces', '112 spaces', '110 spaces', '171 spaces', '21 spaces', '41 spaces', '118 spaces']\n",
      "Synonyms for 'driveway, garage - 2 car': ['Driveway, Garage - 1 Car', 'Driveway, Garage - 2 Car', 'Driveway, Garage - 3 Car']\n",
      "Synonyms for 'carport - 3 car, detached garage': ['Carport - 3 Car, Detached Garage', 'Carport - 2 Car, Detached Garage']\n",
      "Synonyms for '5209 spaces': ['5209 spaces', '529 spaces']\n",
      "Synonyms for 'garage - 1 car, parking space - 2': ['Garage - 1 Car, Parking Space - 1', 'Garage - 2 Car, Parking Space - 2', 'Garage - 1 Car, Parking Space - 2', 'Garage - 1 Car, Parking Space - 3']\n",
      "Synonyms for 'attached, gravl': ['Attached, GRAVL', 'Attached, Gravel']\n",
      "Synonyms for '50 spaces': ['10 spaces', '5 spaces', '30 spaces', '20 spaces', '50 spaces', '40 spaces', '55 spaces', '59 spaces', '70 spaces', '56 spaces', '60 spaces', '150 spaces']\n",
      "Synonyms for '15 spaces': ['19 spaces', '10 spaces', '5 spaces', '12 spaces', '14 spaces', '16 spaces', '11 spaces', '15 spaces', '18 spaces', '55 spaces', '13 spaces', '17 spaces', '75 spaces', '105 spaces', '25 spaces', '157 spaces', '150 spaces', '35 spaces']\n",
      "Synonyms for '28 spaces': ['2 spaces', '8 spaces', '20 spaces', '2+ Spaces', '28 spaces', '18 spaces', '22 spaces', '238 spaces', '68 spaces', '24 spaces', '25 spaces', '27 spaces', '29 spaces', '21 spaces', '23 spaces']\n",
      "Synonyms for '1 car garage, detached, off street parking': ['2 Car Garage, Detached, Off Street Parking', '1 Car Garage, Detached, Off Street Parking']\n",
      "Synonyms for 'driveway, on street parking': ['Driveway, On Street Parking', 'Driveway, On-Street Parking']\n",
      "Synonyms for 'rv gate': ['RV Gated', 'RV Gate']\n",
      "Synonyms for 'attached garage, driveway, garage - 2 car, garage door opener, on-street parking': ['Attached Garage, Driveway, Garage - 2 Car, Garage Door Opener, On-Street Parking', 'Attached Garage, Driveway, Garage - 3 Car, Garage Door Opener, On-Street Parking', 'Attached Garage, Driveway, Garage - 1 Car, Garage Door Opener, On-Street Parking']\n",
      "Synonyms for 'carport - 2 car, driveway, parking space - 4+': ['Carport - 2 Car, Driveway, Parking Space - 4+', 'Carport - 1 Car, Driveway, Parking Space - 4+']\n",
      "Synonyms for '93 spaces': ['3 spaces', '9 spaces', '93 spaces', '13 spaces', '99 spaces', '73 spaces', '23 spaces', '43 spaces']\n",
      "Synonyms for 'attached, gravel': ['Attached, GRAVL', 'Attached, Gravel']\n",
      "Synonyms for 'carport - 2 car, detached garage, garage - 3 car': ['Carport - 2 Car, Detached Garage, Garage - 3 Car', 'Carport - 1 Car, Detached Garage, Garage - 3 Car', 'Carport - 2 Car, Detached Garage, Garage - 1 Car']\n",
      "Synonyms for '40 spaces': ['4 spaces', '10 spaces', '30 spaces', '20 spaces', '50 spaces', '40 spaces', '140 spaces', '70 spaces', '60 spaces', '44 spaces', '42 spaces', '41 spaces', '43 spaces', '47 spaces']\n",
      "Synonyms for '3 car, parking lot': ['1 Car, Parking Lot', '2 Car, Parking Lot', '3 Car, Parking Lot']\n",
      "Synonyms for 'attached garage, garage - 2 car, garage door opener, parking space - 4+, side load garage': ['Attached Garage, Garage - 2 Car, Garage Door Opener, Parking Space - 4+, Side Load Garage', 'Attached Garage, Garage - 3 Car, Garage Door Opener, Parking Space - 4+, Side Load Garage']\n",
      "Synonyms for 'carport - 2 car, detached garage': ['Carport - 3 Car, Detached Garage', 'Carport - 2 Car, Detached Garage']\n",
      "Synonyms for 'attached garage, back load garage, garage - 2 car, garage door opener, keypad entry, on-street parking': ['Attached Garage, Back Load Garage, Garage - 2 Car, Garage Door Opener, Keypad Entry, On-Street Parking', 'Attached Garage, Back Load Garage, Garage - 1 Car, Garage Door Opener, Keypad Entry, On-Street Parking']\n",
      "Synonyms for 'attached garage, basement, garage - 2 car': ['Attached Garage, Basement, Garage - 1 Car', 'Attached Garage, Basement, Garage - 2 Car']\n",
      "Synonyms for '153': ['153', '15', '150', '13']\n",
      "Synonyms for 'attached garage, driveway, garage - 2 car, garage door opener, keypad entry': ['Attached Garage, Driveway, Garage - 2 Car, Garage Door Opener, Keypad Entry', 'Attached Garage, Driveway, Garage - 3 Car, Garage Door Opener, Keypad Entry']\n",
      "Synonyms for 'on-street parking': ['On Street Parking', 'On-Street Parking']\n",
      "Synonyms for 'attached garage, basement, driveway, garage - 1 car': ['Attached Garage, Basement, Driveway, Garage - 1 Car', 'Attached Garage, Basement, Driveway, Garage - 2 Car']\n",
      "Synonyms for 'driveway, garage - 3 car, side load garage': ['Driveway, Garage - 3 Car, Side Load Garage', 'Driveway, Garage - 2 Car, Side Load Garage']\n",
      "Synonyms for '42': ['2', '4', '32', '22', '12', '42', '40', '46', '48']\n",
      "Synonyms for '32 spaces': ['2 spaces', '3 spaces', '30 spaces', '12 spaces', '32 spaces', '22 spaces', '82 spaces', '37 spaces', '36 spaces', '35 spaces', '42 spaces']\n",
      "Synonyms for '40': ['0', '10', '4', '20', '60', '30', '42', '40', '140', '50', '46', '48']\n",
      "Synonyms for 'parking space': ['Parking Space', 'Parking Spaces']\n",
      "Synonyms for 'assigned parking space - 1, parking space - 1': ['Assigned Parking Space - 1, Parking Space - 1', 'Assigned Parking Space - 1, Parking Space - 2']\n",
      "Synonyms for 'garage - 2 car, side load garage': ['Garage - 3 Car, Side Load Garage', 'Garage - 2 Car, Side Load Garage', 'Garage - 1 Car, Side Load Garage']\n",
      "Synonyms for 'attached garage, driveway, garage - 3 car, garage door opener, keypad entry': ['Attached Garage, Driveway, Garage - 2 Car, Garage Door Opener, Keypad Entry', 'Attached Garage, Driveway, Garage - 3 Car, Garage Door Opener, Keypad Entry']\n",
      "Synonyms for '18 spaces': ['8 spaces', '19 spaces', '10 spaces', '12 spaces', '14 spaces', '16 spaces', '11 spaces', '15 spaces', '28 spaces', '18 spaces', '13 spaces', '17 spaces', '68 spaces', '108 spaces', '118 spaces']\n",
      "Synonyms for '1 car, assigned, parking lot': ['1 Car, Assigned, Parking Lot', '2 Car, Assigned, Parking Lot', '3 Car, Assigned, Parking Lot']\n",
      "Synonyms for '55 spaces': ['5 spaces', '50 spaces', '15 spaces', '55 spaces', '59 spaces', '75 spaces', '25 spaces', '56 spaces', '35 spaces']\n",
      "Synonyms for 'attached garage, driveway, garage - 2 car, parking space - 2': ['Attached Garage, Driveway, Garage - 2 Car, Parking Space - 2', 'Attached Garage, Driveway, Garage - 3 Car, Parking Space - 2', 'Attached Garage, Driveway, Garage - 2 Car, Parking Space - 3']\n",
      "Synonyms for 'attached garage, garage - 2 car, parking space - 4+': ['Attached Garage, Garage - 2 Car, Parking Space - 4+', 'Attached Garage, Garage - 3 Car, Parking Space - 4+']\n",
      "Synonyms for 'attached garage, garage - 2 car, tandem garage': ['Attached Garage, Garage - 2 Car, Tandem Garage', 'Attached Garage, Garage - 3 Car, Tandem Garage']\n",
      "Synonyms for '4 car garage, detached garage, opener': ['2 Car Garage, Detached Garage, Opener', '1 Car Garage, Detached Garage, Opener', '4 Car Garage, Detached Garage, Opener', '3 Car Garage, Detached Garage, Opener']\n",
      "Synonyms for '2 car garage, attached, basement, off street parking': ['2 Car Garage, Attached, Basement, Off Street Parking', '1 Car Garage, Attached, Basement, Off Street Parking']\n",
      "Synonyms for 'garage - 1 car, parking space - 3': ['Garage - 1 Car, Parking Space - 1', 'Garage - 2 Car, Parking Space - 3', 'Garage - 1 Car, Parking Space - 2', 'Garage - 1 Car, Parking Space - 3']\n",
      "Synonyms for '1.00': ['100', '1.00', '3.00', '6.00', '8.00', '2.00', '5.00']\n",
      "Synonyms for '14': ['1', '10', '4', '16', '11', '17', '12', '14', '15', '140', '18', '24', '34', '13']\n",
      "Synonyms for 'concrete driveway': ['Concrete Driveway', 'Concrete, Driveway']\n",
      "Synonyms for 'attached, parking': ['Attached Parking', 'Attached, Parking']\n",
      "Synonyms for 'assigned parking space - 1, lot, on-street parking': ['Assigned Parking Space - 1, Lot, On-Street Parking', 'Assigned Parking Space - 2, Lot, On-Street Parking']\n",
      "Synonyms for 'carport - 1 car, driveway, parking space - 4+': ['Carport - 2 Car, Driveway, Parking Space - 4+', 'Carport - 1 Car, Driveway, Parking Space - 4+']\n",
      "Synonyms for 'asphalt driveway': ['Asphalt Driveway', 'Asphalt, Driveway']\n",
      "Synonyms for '15': ['1', '10', '5', '16', '11', '55', '17', '12', '153', '14', '15', '18', '150', '13', '75', '25']\n",
      "Synonyms for '22 spaces': ['2 spaces', '12 spaces', '20 spaces', '2+ Spaces', '28 spaces', '32 spaces', '22 spaces', '82 spaces', '24 spaces', '25 spaces', '27 spaces', '29 spaces', '252 spaces', '42 spaces', '21 spaces', '23 spaces', '222 spaces']\n",
      "Synonyms for 'driveway, garage - 2 car, parking space - 3': ['Driveway, Garage - 2 Car, Parking Space - 3', 'Driveway, Garage - 2 Car, Parking Space - 2']\n",
      "Synonyms for '2 off street, 3 car garage, attached garage, opener, side load': ['2 Off Street, 4 Car Garage, Attached Garage, Opener, Side Load', '2 Off Street, 3 Car Garage, Attached Garage, Opener, Side Load']\n",
      "Synonyms for '1 car garage, 1 off street, attached garage, on street': ['1 Car Garage, 1 Off Street, Attached Garage, On Street', '1 Car Garage, 2 Off Street, Attached Garage, On Street']\n",
      "Synonyms for '13 spaces': ['3 spaces', '19 spaces', '10 spaces', '12 spaces', '14 spaces', '16 spaces', '11 spaces', '15 spaces', '93 spaces', '18 spaces', '13 spaces', '17 spaces', '131 spaces', '73 spaces', '23 spaces', '43 spaces']\n",
      "Synonyms for 'attached garage, driveway, garage - 1 car': ['Attached Garage, Driveway, Garage - 2 Car', 'Attached Garage, Driveway, Garage - 3 Car', 'Attached Garage, Driveway, Garage - 1 Car']\n",
      "Synonyms for 'attached garage, garage - 1 car, garage door opener': ['Attached Garage, Garage - 2 Car, Garage Door Opener', 'Attached Garage, Garage - 1 Car, Garage Door Opener', 'Attached Garage, Garage - 3 Car, Garage Door Opener']\n",
      "Synonyms for '140': ['10', '100', '40', '14', '140', '150', '110', '120']\n",
      "Synonyms for 'driveway, garage - 2 car, side load garage': ['Driveway, Garage - 3 Car, Side Load Garage', 'Driveway, Garage - 2 Car, Side Load Garage']\n",
      "Synonyms for '17 spaces': ['7 spaces', '19 spaces', '10 spaces', '12 spaces', '14 spaces', '16 spaces', '11 spaces', '15 spaces', '18 spaces', '13 spaces', '17 spaces', '37 spaces', '27 spaces', '157 spaces', '171 spaces', '47 spaces']\n",
      "Synonyms for '1 assigned': ['2 Assigned', '1 Assigned']\n",
      "Synonyms for 'attached garage, garage - 3 car, garage door opener, tandem garage': ['Attached Garage, Garage - 3 Car, Garage Door Opener, Tandem Garage', 'Attached Garage, Garage - 2 Car, Garage Door Opener, Tandem Garage']\n",
      "Synonyms for 'parking garage, parking space - 1': ['Parking Garage, Parking Space - 1', 'Parking Garage, Parking Space - 2']\n",
      "Synonyms for 'driveway, on-street parking, parking space - 3': ['Driveway, On-Street Parking, Parking Space - 3', 'Driveway, On-Street Parking, Parking Space - 2']\n",
      "Synonyms for '9 car, concr, parking lot': ['9 Car, CONCR, Parking Lot', '2 Car, CONCR, Parking Lot']\n",
      "Synonyms for '210 spaces': ['10 spaces', '21+ Spaces', '20 spaces', '210 spaces', '200 spaces', '110 spaces', '21 spaces', '230 spaces']\n",
      "Synonyms for '3 car garage, attached garage': ['2 Car Garage, Attached Garage', '1 Car Garage, Attached Garage', '3 Car Garage, Attached Garage', '4 Car Garage, Attached Garage']\n",
      "Synonyms for 'driveway, parking space - 1': ['Driveway, Parking Space - 2', 'Driveway, Parking Space - 3', 'Driveway, Parking Space - 1']\n",
      "Synonyms for 'attached garage, driveway, garage - 3 car, parking space - 3': ['Attached Garage, Driveway, Garage - 3 Car, Parking Space - 3', 'Attached Garage, Driveway, Garage - 3 Car, Parking Space - 2', 'Attached Garage, Driveway, Garage - 2 Car, Parking Space - 3']\n",
      "Synonyms for 'carport - 2 car, parking space - 4+': ['Carport - 2 Car, Parking Space - 4+', 'Carport - 1 Car, Parking Space - 4+']\n",
      "Synonyms for '89 spaces': ['8 spaces', '19 spaces', '9 spaces', '89 spaces', '82 spaces', '59 spaces', '79 spaces', '99 spaces', '29 spaces']\n",
      "Synonyms for 'attached garage, garage - 3 car, garage door opener, parking space - 3, side load garage': ['Attached Garage, Garage - 3 Car, Garage Door Opener, Parking Space - 3, Side Load Garage', 'Attached Garage, Garage - 2 Car, Garage Door Opener, Parking Space - 3, Side Load Garage']\n",
      "Synonyms for '18': ['1', '10', '8', '16', '11', '17', '12', '14', '15', '18', '13', '28', '48']\n",
      "Synonyms for '2 car carport, main level, off street parking': ['2 Car Carport, Main Level, Off Street Parking', '1 Car Carport, Main Level, Off Street Parking']\n",
      "Synonyms for '82 spaces': ['2 spaces', '8 spaces', '12 spaces', '32 spaces', '22 spaces', '89 spaces', '82 spaces', '42 spaces']\n",
      "Synonyms for '24': ['2', '4', '20', '27', '22', '14', '24', '34', '26', '21', '28', '23', '25']\n",
      "Synonyms for '2 car, concr, parking lot': ['9 Car, CONCR, Parking Lot', '2 Car, CONCR, Parking Lot']\n",
      "Synonyms for 'carport - 1 car, driveway': ['Carport - 1 Car, Driveway', 'Carport - 2 Car, Driveway']\n",
      "Synonyms for '150': ['10', '100', '153', '15', '140', '150', '110', '50', '120']\n",
      "Synonyms for 'garage - 3 car, garage door opener': ['Garage - 2 Car, Garage Door Opener', 'Garage - 3 Car, Garage Door Opener']\n",
      "Synonyms for 'driveway, on-street parking, parking space - 2': ['Driveway, On-Street Parking, Parking Space - 3', 'Driveway, On-Street Parking, Parking Space - 2']\n",
      "Synonyms for 'carport - 2 car, driveway': ['Carport - 1 Car, Driveway', 'Carport - 2 Car, Driveway']\n",
      "Synonyms for 'attached garage, driveway, garage - 3 car, garage door opener, keypad entry, side load garage': ['Attached Garage, Driveway, Garage - 2 Car, Garage Door Opener, Keypad Entry, Side Load Garage', 'Attached Garage, Driveway, Garage - 3 Car, Garage Door Opener, Keypad Entry, Side Load Garage']\n",
      "Synonyms for '2 car garage, front loading, main level, off street parking': ['2 Car Garage, Front Loading, Main Level, Off Street Parking', '1 Car Garage, Front Loading, Main Level, Off Street Parking']\n",
      "Synonyms for '110': ['10', '11', '100', '140', '150', '110', '111', '120']\n",
      "Synonyms for 'off street, on street, attached garage, detached garage': ['Off street, On street, Attached Garage, Detached Garage', 'Off Street, On Street, Attached Garage, Detached Garage']\n",
      "Synonyms for 'carport - 3+ car': ['Carport - 3+ Car', 'Carport - 3 Car', 'Carport - 4+ Car']\n",
      "Synonyms for '140 spaces': ['10 spaces', '14 spaces', '120 spaces', '40 spaces', '140 spaces', '100 spaces', '110 spaces', '144 spaces', '150 spaces']\n",
      "Synonyms for 'carport - 1 car, driveway, parking space - 3': ['Carport - 1 Car, Driveway, Parking Space - 3', 'Carport - 1 Car, Driveway, Parking Space - 2', 'Carport - 2 Car, Driveway, Parking Space - 3']\n",
      "Synonyms for '59 spaces': ['19 spaces', '5 spaces', '9 spaces', '50 spaces', '55 spaces', '89 spaces', '59 spaces', '79 spaces', '99 spaces', '29 spaces', '56 spaces', '529 spaces']\n",
      "Synonyms for 'on street, attached garage, detached garage': ['On street, Attached Garage, Detached Garage', 'On Street, Attached Garage, Detached Garage']\n",
      "Synonyms for 'driveway, on-street parking': ['Driveway, On Street Parking', 'Driveway, On-Street Parking']\n",
      "Synonyms for '1 car, attached - front, parking lot': ['1 Car, Attached - FRONT, Parking Lot', '2 Car, Attached - FRONT, Parking Lot']\n",
      "Synonyms for '238 spaces': ['28 spaces', '238 spaces', '23 spaces', '230 spaces']\n",
      "Synonyms for '79 spaces': ['7 spaces', '19 spaces', '9 spaces', '89 spaces', '59 spaces', '79 spaces', '99 spaces', '75 spaces', '70 spaces', '73 spaces', '29 spaces']\n",
      "Synonyms for '2 car, assigned, parking lot': ['1 Car, Assigned, Parking Lot', '2 Car, Assigned, Parking Lot', '3 Car, Assigned, Parking Lot']\n",
      "Synonyms for 'attached garage, carport - 2 car, garage - 3 car': ['Attached Garage, Carport - 2 Car, Garage - 3 Car', 'Attached Garage, Carport - 2 Car, Garage - 2 Car', 'Attached Garage, Carport - 2 Car, Garage - 1 Car']\n",
      "Synonyms for '1 off street, on street': ['1 Off Street, On Street', '2 Off Street, On Street']\n",
      "Synonyms for '200 spaces': ['20 spaces', '210 spaces', '200 spaces', '100 spaces', '2020 spaces', '230 spaces']\n",
      "Synonyms for 'attached garage, basement, garage - 3 car, on-street parking': ['Attached Garage, Basement, Garage - 3 Car, On-Street Parking', 'Attached Garage, Basement, Garage - 2 Car, On-Street Parking']\n",
      "Synonyms for 'asphalt driveway, off street, on street': ['Asphalt Driveway, Off Street, On Street', 'Asphalt, Driveway, Off Street, On Street']\n",
      "Synonyms for 'garage - 3 car, keypad entry, side load garage': ['Garage - 3 Car, Keypad Entry, Side Load Garage', 'Garage - 2 Car, Keypad Entry, Side Load Garage']\n",
      "Synonyms for 'assigned parking space - 2, lot': ['Assigned Parking Space - 2, Lot', 'Assigned Parking Space - 1, Lot']\n",
      "Synonyms for 'basement, garage - 2 car': ['Basement, Garage - 2 Car', 'Basement, Garage - 1 Car']\n",
      "Synonyms for 'detached, gravel': ['Detached, GRAVL', 'Detached, Gravel']\n",
      "Synonyms for 'attached garage, garage - 3 car, garage door opener': ['Attached Garage, Garage - 2 Car, Garage Door Opener', 'Attached Garage, Garage - 1 Car, Garage Door Opener', 'Attached Garage, Garage - 3 Car, Garage Door Opener']\n",
      "Synonyms for '3.00': ['1.00', '3.00', '6.00', '8.00', '2.00', '5.00']\n",
      "Synonyms for 'carport - 3 car': ['Carport - 1 Car', 'Carport - 2 Car', 'Carport - 3+ Car', 'Carport - 3 Car']\n",
      "Synonyms for '3 car garage, attached garage, detached garage': ['1 Car Garage, Attached Garage, Detached Garage', '3 Car Garage, Attached Garage, Detached Garage']\n",
      "Synonyms for '34': ['4', '3', '32', '30', '14', '24', '34']\n",
      "Synonyms for '2 car garage, detached garage, farm bldg, opener': ['2 Car Garage, Detached Garage, Farm Bldg, Opener', '3 Car Garage, Detached Garage, Farm Bldg, Opener']\n",
      "Synonyms for '99 spaces': ['19 spaces', '9 spaces', '93 spaces', '89 spaces', '59 spaces', '79 spaces', '99 spaces', '29 spaces']\n",
      "Synonyms for 'rv parking': ['RV Parking', 'Rv Parking']\n",
      "Synonyms for '353 spaces': ['353 spaces', '35 spaces']\n",
      "Synonyms for '100 spaces': ['10 spaces', '120 spaces', '140 spaces', '200 spaces', '100 spaces', '105 spaces', '110 spaces', '150 spaces', '108 spaces']\n",
      "Synonyms for '131 spaces': ['11 spaces', '13 spaces', '131 spaces', '331 spaces', '171 spaces']\n",
      "Synonyms for 'attached garage, garage - 1 car, parking space - 1': ['Attached Garage, Garage - 1 Car, Parking Space - 3', 'Attached Garage, Garage - 1 Car, Parking Space - 1', 'Attached Garage, Garage - 1 Car, Parking Space - 2', 'Attached Garage, Garage - 2 Car, Parking Space - 1']\n",
      "Synonyms for '68 spaces': ['6 spaces', '8 spaces', '28 spaces', '18 spaces', '68 spaces', '60 spaces']\n",
      "Synonyms for '37 spaces': ['3 spaces', '7 spaces', '30 spaces', '32 spaces', '17 spaces', '37 spaces', '36 spaces', '27 spaces', '35 spaces', '47 spaces']\n",
      "Synonyms for '2 off street, on street': ['1 Off Street, On Street', '2 Off Street, On Street']\n",
      "Synonyms for '1 car, detached, garage': ['1 Car, Detached, Garage', '2 Car, Detached, Garage']\n",
      "Synonyms for '1 car garage, detached, main level, off street parking': ['1 Car Garage, Detached, Main Level, Off Street Parking', '2 Car Garage, Detached, Main Level, Off Street Parking']\n",
      "Synonyms for '13': ['1', '10', '3', '16', '11', '17', '12', '153', '14', '15', '18', '13', '23']\n",
      "Synonyms for '26': ['2', '6', '16', '20', '27', '22', '24', '26', '21', '28', '23', '25', '46']\n",
      "Synonyms for '36 spaces': ['3 spaces', '6 spaces', '30 spaces', '16 spaces', '32 spaces', '37 spaces', '36 spaces', '56 spaces', '35 spaces']\n",
      "Synonyms for '21': ['2', '1', '20', '11', '27', '22', '24', '26', '21', '28', '51', '23', '25']\n",
      "Synonyms for '1 car garage, 2 off street, attached garage, on street': ['2 Car Garage, 2 Off Street, Attached Garage, On Street', '1 Car Garage, 1 Off Street, Attached Garage, On Street', '1 Car Garage, 2 Off Street, Attached Garage, On Street']\n",
      "Synonyms for 'attached garage, driveway, garage - 3 car, parking space - 4+': ['Attached Garage, Driveway, Garage - 1 Car, Parking Space - 4+', 'Attached Garage, Driveway, Garage - 3 Car, Parking Space - 4+', 'Attached Garage, Driveway, Garage - 2 Car, Parking Space - 4+']\n",
      "Synonyms for '112 spaces': ['12 spaces', '11 spaces', '112 spaces', '162 spaces', '110 spaces', '118 spaces']\n",
      "Synonyms for 'attached garage, back load garage, driveway, garage - 2 car, garage door opener': ['Attached Garage, Back Load Garage, Driveway, Garage - 2 Car, Garage Door Opener', 'Attached Garage, Back Load Garage, Driveway, Garage - 1 Car, Garage Door Opener']\n",
      "Synonyms for 'attached garage, 2 car garage': ['Attached Garage, 2 Car Garage', 'Attached Garage, 3 Car Garage']\n",
      "Synonyms for 'back load garage, garage - 3 car': ['Back Load Garage, Garage - 2 Car', 'Back Load Garage, Garage - 3 Car', 'Back Load Garage, Garage - 1 Car']\n",
      "Synonyms for 'garage - 3 car, garage door opener, side load garage': ['Garage - 2 Car, Garage Door Opener, Side Load Garage', 'Garage - 3 Car, Garage Door Opener, Side Load Garage']\n",
      "Synonyms for 'attached garage, driveway, garage - 3 car, parking space - 2': ['Attached Garage, Driveway, Garage - 2 Car, Parking Space - 2', 'Attached Garage, Driveway, Garage - 3 Car, Parking Space - 3', 'Attached Garage, Driveway, Garage - 3 Car, Parking Space - 2']\n",
      "Synonyms for 'carport - 1 car, driveway, parking space - 2': ['Carport - 1 Car, Driveway, Parking Space - 3', 'Carport - 1 Car, Driveway, Parking Space - 2', 'Carport - 2 Car, Driveway, Parking Space - 2']\n",
      "Synonyms for '6.00': ['1.00', '3.00', '6.00', '8.00', '2.00', '5.00']\n",
      "Synonyms for 'attached garage, garage - 1 car, garage door opener, keypad entry, on-street parking': ['Attached Garage, Garage - 1 Car, Garage Door Opener, Keypad Entry, On-Street Parking', 'Attached Garage, Garage - 2 Car, Garage Door Opener, Keypad Entry, On-Street Parking']\n",
      "Synonyms for '179': ['17', '179']\n",
      "Synonyms for 'attached, garage': ['Attached Garage', 'Attached, Garage']\n",
      "Synonyms for '2 car, attached - front, parking lot': ['1 Car, Attached - FRONT, Parking Lot', '2 Car, Attached - FRONT, Parking Lot']\n",
      "Synonyms for 'attached garage, garage - 2 car, garage door opener, tandem garage': ['Attached Garage, Garage - 3 Car, Garage Door Opener, Tandem Garage', 'Attached Garage, Garage - 2 Car, Garage Door Opener, Tandem Garage']\n",
      "Synonyms for '2 car garage, attached garage, farm bldg, opener': ['3 Car Garage, Attached Garage, Farm Bldg, Opener', '2 Car Garage, Attached Garage, Farm Bldg, Opener']\n",
      "Synonyms for 'assigned parking space - 1, parking garage, parking space - 1': ['Assigned Parking Space - 1, Parking Garage, Parking Space - 1', 'Assigned Parking Space - 1, Parking Garage, Parking Space - 2']\n",
      "Synonyms for 'assigned parking space - 1, parking garage, parking space - 2': ['Assigned Parking Space - 1, Parking Garage, Parking Space - 1', 'Assigned Parking Space - 1, Parking Garage, Parking Space - 2', 'Assigned Parking Space - 2, Parking Garage, Parking Space - 2']\n",
      "Synonyms for 'garage - 1 car, parking space - 4+': ['Garage - 2 Car, Parking Space - 4+', 'Garage - 1 Car, Parking Space - 4+']\n",
      "Synonyms for '2 car, detached, garage': ['1 Car, Detached, Garage', '2 Car, Detached, Garage']\n",
      "Synonyms for '28': ['2', '8', '20', '27', '22', '18', '24', '26', '21', '28', '23', '25', '228', '48']\n",
      "Synonyms for 'attached garage, garage - 2 car, golf cart garage, side load garage': ['Attached Garage, Garage - 2 Car, Golf Cart Garage, Side Load Garage', 'Attached Garage, Garage - 3 Car, Golf Cart Garage, Side Load Garage']\n",
      "Synonyms for '2 car space, on street parking': ['2 Car Space, On Street Parking', '1 Car Space, On Street Parking']\n",
      "Synonyms for 'carport, on street, detached garage': ['Carport, On Street, Detached Garage', 'Carport, On street, Detached Garage']\n",
      "Synonyms for 'parking spaces': ['Parking Space', 'Parking Spaces']\n",
      "Synonyms for '1 car garage, 2 off street, attached garage, on street, opener': ['2 Car Garage, 2 Off Street, Attached Garage, On Street, Opener', '1 Car Garage, 2 Off Street, Attached Garage, On Street, Opener']\n",
      "Synonyms for 'asphalt, driveway, on street': ['Asphalt, Driveway, On Street', 'Asphalt Driveway, On Street']\n",
      "Synonyms for '2 car garage, 2 off street, attached garage, opener': ['1 Car Garage, 2 Off Street, Attached Garage, Opener', '2 Car Garage, 2 Off Street, Attached Garage, Opener']\n",
      "Synonyms for '162 spaces': ['12 spaces', '16 spaces', '112 spaces', '162 spaces']\n",
      "Synonyms for '2 car garage, 2 off street, attached garage': ['2 Car Garage, 2 Off Street, Attached Garage', '1 Car Garage, 2 Off Street, Attached Garage']\n",
      "Synonyms for 'carport - 1 car, parking space - 4+': ['Carport - 2 Car, Parking Space - 4+', 'Carport - 1 Car, Parking Space - 4+']\n",
      "Synonyms for 'driveway, garage - 3 car': ['Driveway, Garage - 1 Car', 'Driveway, Garage - 2 Car', 'Driveway, Garage - 3 Car']\n",
      "Synonyms for 'assigned parking space - 2, parking garage, parking space - 2': ['Assigned Parking Space - 1, Parking Garage, Parking Space - 2', 'Assigned Parking Space - 2, Parking Garage, Parking Space - 2']\n",
      "Synonyms for 'attached garage, driveway, garage - 1 car, garage door opener': ['Attached Garage, Driveway, Garage - 3 Car, Garage Door Opener', 'Attached Garage, Driveway, Garage - 2 Car, Garage Door Opener', 'Attached Garage, Driveway, Garage - 1 Car, Garage Door Opener']\n",
      "Synonyms for '3 car garage, detached garage, farm bldg': ['3 Car Garage, Detached Garage, Farm Bldg', '2 Car Garage, Detached Garage, Farm Bldg']\n",
      "Synonyms for 'attached garage, 3 car garage': ['Attached Garage, 2 Car Garage', 'Attached Garage, 3 Car Garage']\n",
      "Synonyms for 'attached garage, garage - 1 car, garage door opener, on-street parking': ['Attached Garage, Garage - 2 Car, Garage Door Opener, On-Street Parking', 'Attached Garage, Garage - 1 Car, Garage Door Opener, On-Street Parking']\n",
      "Synonyms for '2 car attchd garage': ['2 Car Attchd Garage', '1 Car Attchd Garage']\n",
      "Synonyms for '4 car garage, detached garage': ['2 Car Garage, Detached Garage', '3 Car Garage, Detached Garage', '4 Car Garage, Detached Garage', '1 Car Garage, Detached Garage']\n",
      "Synonyms for 'main level, off-street parking': ['Main Level, Off Street Parking', 'Main Level, Off-Street Parking']\n",
      "Synonyms for '75 spaces': ['7 spaces', '5 spaces', '15 spaces', '55 spaces', '79 spaces', '75 spaces', '70 spaces', '25 spaces', '73 spaces', '35 spaces']\n",
      "Synonyms for 'asphalt driveway, on street': ['Asphalt, Driveway, On Street', 'Asphalt Driveway, On Street']\n",
      "Synonyms for 'assigned parking space - 2, attached garage': ['Assigned Parking Space - 2, Attached Garage', 'Assigned Parking Space - 1, Attached Garage']\n",
      "Synonyms for '1 car garage': ['2 Car Garage', '1 Car Garage', '3 Car Garage', '4 Car Garage']\n",
      "Synonyms for '105 spaces': ['10 spaces', '15 spaces', '100 spaces', '105 spaces', '108 spaces']\n",
      "Synonyms for 'parking deck, parking space - 2': ['Parking Deck, Parking Space - 1', 'Parking Deck, Parking Space - 2']\n",
      "Synonyms for 'garage - 2 car, garage door opener, keypad entry, parking space - 4+': ['Garage - 2 Car, Garage Door Opener, Keypad Entry, Parking Space - 4+', 'Garage - 3 Car, Garage Door Opener, Keypad Entry, Parking Space - 4+']\n",
      "Synonyms for '70 spaces': ['7 spaces', '10 spaces', '30 spaces', '20 spaces', '50 spaces', '40 spaces', '79 spaces', '75 spaces', '70 spaces', '73 spaces', '60 spaces']\n",
      "Synonyms for 'driveway, garage - 2 car, parking space - 2': ['Driveway, Garage - 2 Car, Parking Space - 3', 'Driveway, Garage - 2 Car, Parking Space - 2']\n",
      "Synonyms for '24 spaces': ['2 spaces', '4 spaces', '14 spaces', '20 spaces', '2+ Spaces', '28 spaces', '22 spaces', '24 spaces', '25 spaces', '27 spaces', '29 spaces', '44 spaces', '21 spaces', '23 spaces']\n",
      "Synonyms for 'on-street parking, parking space - 1': ['On-Street Parking, Parking Space - 1', 'On-Street Parking, Parking Space - 3']\n",
      "Synonyms for 'attached garage, garage - 3 car, tandem garage': ['Attached Garage, Garage - 2 Car, Tandem Garage', 'Attached Garage, Garage - 3 Car, Tandem Garage']\n",
      "Synonyms for 'attached garage, driveway, garage - 2 car, parking space - 3': ['Attached Garage, Driveway, Garage - 2 Car, Parking Space - 2', 'Attached Garage, Driveway, Garage - 3 Car, Parking Space - 3', 'Attached Garage, Driveway, Garage - 2 Car, Parking Space - 3']\n",
      "Synonyms for 'carport, on street, attached garage': ['Carport, On Street, Attached Garage', 'Carport, On street, Attached Garage']\n",
      "Synonyms for '1 car garage, detached garage': ['2 Car Garage, Detached Garage', '3 Car Garage, Detached Garage', '4 Car Garage, Detached Garage', '1 Car Garage, Detached Garage']\n",
      "Synonyms for '25 spaces': ['2 spaces', '5 spaces', '20 spaces', '2+ Spaces', '15 spaces', '28 spaces', '55 spaces', '22 spaces', '75 spaces', '24 spaces', '25 spaces', '27 spaces', '29 spaces', '252 spaces', '35 spaces', '21 spaces', '23 spaces']\n",
      "Synonyms for '3 car garage, detached garage, farm bldg, opener': ['2 Car Garage, Detached Garage, Farm Bldg, Opener', '3 Car Garage, Detached Garage, Farm Bldg, Opener']\n",
      "Synonyms for 'attached garage, garage - 3 car, keypad entry, side load garage': ['Attached Garage, Garage - 3 Car, Keypad Entry, Side Load Garage', 'Attached Garage, Garage - 2 Car, Keypad Entry, Side Load Garage']\n",
      "Synonyms for 'attached garage, garage - 3 car, parking space - 4+': ['Attached Garage, Garage - 2 Car, Parking Space - 4+', 'Attached Garage, Garage - 3 Car, Parking Space - 4+']\n",
      "Synonyms for '1 car garage, attached, front loading, off street parking': ['2 Car Garage, Attached, Front Loading, Off Street Parking', '1 Car Garage, Attached, Front Loading, Off Street Parking']\n",
      "Synonyms for '3 car garage, attached garage, heated, opener': ['2 Car Garage, Attached Garage, Heated, Opener', '3 Car Garage, Attached Garage, Heated, Opener', '1 Car Garage, Attached Garage, Heated, Opener']\n",
      "Synonyms for 'asphalt, driveway': ['Asphalt Driveway', 'Asphalt, Driveway']\n",
      "Synonyms for '51': ['1', '5', '11', '55', '21', '51', '50']\n",
      "Synonyms for '3 car garage, attached garage, side load': ['3 Car Garage, Attached Garage, Side Load', '2 Car Garage, Attached Garage, Side Load']\n",
      "Synonyms for 'parking garage, parking space - 2': ['Parking Garage, Parking Space - 1', 'Parking Garage, Parking Space - 2']\n",
      "Synonyms for '8.00': ['1.00', '3.00', '6.00', '8.00', '2.00', '5.00']\n",
      "Synonyms for '1 car space, guest parking': ['1 Car Space, Guest Parking', '2 Car Space, Guest Parking']\n",
      "Synonyms for '2020 spaces': ['200 spaces', '2020 spaces']\n",
      "Synonyms for '110 spaces': ['10 spaces', '120 spaces', '11 spaces', '210 spaces', '140 spaces', '100 spaces', '112 spaces', '110 spaces', '150 spaces', '118 spaces']\n",
      "Synonyms for '2 car garage, parking under building': ['2 Car Garage, Parking Under Building', '1 Car Garage, Parking Under Building']\n",
      "Synonyms for '27 spaces': ['2 spaces', '7 spaces', '20 spaces', '2+ Spaces', '28 spaces', '22 spaces', '17 spaces', '37 spaces', '24 spaces', '25 spaces', '27 spaces', '29 spaces', '21 spaces', '23 spaces', '47 spaces']\n",
      "Synonyms for 'back load garage, garage - 1 car': ['Back Load Garage, Garage - 2 Car', 'Back Load Garage, Garage - 3 Car', 'Back Load Garage, Garage - 1 Car']\n",
      "Synonyms for '1 car garage, basement, off street parking': ['1 Car Garage, Basement, Off Street Parking', '2 Car Garage, Basement, Off Street Parking']\n",
      "Synonyms for '1 car garage, front loading, main level, off street parking': ['2 Car Garage, Front Loading, Main Level, Off Street Parking', '1 Car Garage, Front Loading, Main Level, Off Street Parking']\n",
      "Synonyms for 'attached garage, garage - 1 car, parking space - 2': ['Attached Garage, Garage - 2 Car, Parking Space - 2', 'Attached Garage, Garage - 1 Car, Parking Space - 3', 'Attached Garage, Garage - 1 Car, Parking Space - 1', 'Attached Garage, Garage - 1 Car, Parking Space - 2']\n",
      "Synonyms for 'carport - 4+ car': ['Carport - 3+ Car', 'Carport - 4+ Car']\n",
      "Synonyms for 'assigned parking space - 1, attached garage': ['Assigned Parking Space - 2, Attached Garage', 'Assigned Parking Space - 1, Attached Garage']\n",
      "Synonyms for 'attached garage, garage - 3 car, golf cart garage, side load garage': ['Attached Garage, Garage - 2 Car, Golf Cart Garage, Side Load Garage', 'Attached Garage, Garage - 3 Car, Golf Cart Garage, Side Load Garage']\n",
      "Synonyms for '1 car garage, 2 off street, detached garage, on street': ['1 Car Garage, 2 Off Street, Detached Garage, On Street', '2 Car Garage, 2 Off Street, Detached Garage, On Street', '1 Car Garage, 1 Off Street, Detached Garage, On Street']\n",
      "Synonyms for 'garage - 2 car, keypad entry, side load garage': ['Garage - 3 Car, Keypad Entry, Side Load Garage', 'Garage - 2 Car, Keypad Entry, Side Load Garage']\n",
      "Synonyms for 'basement, garage - 1 car': ['Basement, Garage - 2 Car', 'Basement, Garage - 1 Car']\n",
      "Synonyms for 'assigned parking space - 1, parking space - 2': ['Assigned Parking Space - 1, Parking Space - 1', 'Assigned Parking Space - 1, Parking Space - 2']\n",
      "Synonyms for 'attached garage, driveway, garage - 3 car, garage door opener, on-street parking': ['Attached Garage, Driveway, Garage - 2 Car, Garage Door Opener, On-Street Parking', 'Attached Garage, Driveway, Garage - 3 Car, Garage Door Opener, On-Street Parking', 'Attached Garage, Driveway, Garage - 1 Car, Garage Door Opener, On-Street Parking']\n",
      "Synonyms for 'attached garage, back load garage, driveway, garage - 1 car, garage door opener': ['Attached Garage, Back Load Garage, Driveway, Garage - 2 Car, Garage Door Opener', 'Attached Garage, Back Load Garage, Driveway, Garage - 1 Car, Garage Door Opener']\n",
      "Synonyms for '2 car garage, 2 off street, detached garage': ['1 Car Garage, 2 Off Street, Detached Garage', '2 Car Garage, 2 Off Street, Detached Garage']\n",
      "Synonyms for '2.00': ['1.00', '3.00', '6.00', '8.00', '2.00', '5.00']\n",
      "Synonyms for 'assigned parking space - 2, lot, on-street parking': ['Assigned Parking Space - 1, Lot, On-Street Parking', 'Assigned Parking Space - 2, Lot, On-Street Parking']\n",
      "Synonyms for 'rv/boat parking': ['Rv/Boat Parking', 'RV/Boat Parking']\n",
      "Synonyms for '1 carport, 2 off street': ['1 Carport, 2 Off Street', '2 Carport, 2 Off Street']\n",
      "Synonyms for '73 spaces': ['3 spaces', '7 spaces', '93 spaces', '13 spaces', '79 spaces', '75 spaces', '70 spaces', '73 spaces', '23 spaces', '43 spaces']\n",
      "Synonyms for 'detached garage, garage - 3 car, parking space - 4+': ['Detached Garage, Garage - 3 Car, Parking Space - 4+', 'Detached Garage, Garage - 2 Car, Parking Space - 4+']\n",
      "Synonyms for '329': ['32', '329']\n",
      "Synonyms for 'on-street parking, parking space - 3': ['On-Street Parking, Parking Space - 1', 'On-Street Parking, Parking Space - 3']\n",
      "Synonyms for '2 car garage, attached garage, detached garage, side load': ['2 Car Garage, Attached Garage, Detached Garage, Side Load', '4 Car Garage, Attached Garage, Detached Garage, Side Load']\n",
      "Synonyms for '2 car garage, attached garage, detached garage, opener': ['2 Car Garage, Attached Garage, Detached Garage, Opener', '4 Car Garage, Attached Garage, Detached Garage, Opener']\n",
      "Synonyms for 'attached garage, carport - 2 car, garage - 2 car': ['Attached Garage, Carport - 2 Car, Garage - 3 Car', 'Attached Garage, Carport - 2 Car, Garage - 2 Car', 'Attached Garage, Carport - 2 Car, Garage - 1 Car']\n",
      "Synonyms for '2 car garage, on street': ['2 Car Garage, On Street', '1 Car Garage, On Street']\n",
      "Synonyms for '2 car garage, attached garage, side load': ['3 Car Garage, Attached Garage, Side Load', '2 Car Garage, Attached Garage, Side Load']\n",
      "Synonyms for '3 car garage': ['2 Car Garage', '1 Car Garage', '3 Car Garage', '4 Car Garage']\n",
      "Synonyms for '50': ['0', '10', '5', '20', '60', '55', '30', '40', '150', '51', '50']\n",
      "Synonyms for 'carport - 1 car, parking space - 2': ['Carport - 1 Car, Parking Space - 3', 'Carport - 1 Car, Parking Space - 2', 'Carport - 2 Car, Parking Space - 2']\n",
      "Synonyms for '3 car, assigned, parking lot': ['1 Car, Assigned, Parking Lot', '2 Car, Assigned, Parking Lot', '3 Car, Assigned, Parking Lot']\n",
      "Synonyms for '23': ['2', '3', '20', '27', '22', '24', '13', '26', '21', '28', '23', '25']\n",
      "Synonyms for '1 car, parking lot, unassigned': ['2 Car, Parking Lot, Unassigned', '1 Car, Parking Lot, Unassigned']\n",
      "Synonyms for 'garage - 3 car, garage door opener, keypad entry': ['Garage - 2 Car, Garage Door Opener, Keypad Entry', 'Garage - 3 Car, Garage Door Opener, Keypad Entry']\n",
      "Synonyms for '157 spaces': ['15 spaces', '17 spaces', '157 spaces', '150 spaces']\n",
      "Synonyms for 'attached garage, garage - 3 car, garage door opener, keypad entry, side load garage': ['Attached Garage, Garage - 2 Car, Garage Door Opener, Keypad Entry, Side Load Garage', 'Attached Garage, Garage - 3 Car, Garage Door Opener, Keypad Entry, Side Load Garage']\n",
      "Synonyms for 'attached garage, garage - 2 car, parking space - 1': ['Attached Garage, Garage - 2 Car, Parking Space - 2', 'Attached Garage, Garage - 1 Car, Parking Space - 1', 'Attached Garage, Garage - 2 Car, Parking Space - 1', 'Attached Garage, Garage - 2 Car, Parking Space - 3']\n",
      "Synonyms for '2 assigned, driveway paved': ['2 Assigned, Driveway Paved', '1 Assigned, Driveway Paved']\n",
      "Synonyms for '3 car garage, detached garage, opener': ['2 Car Garage, Detached Garage, Opener', '1 Car Garage, Detached Garage, Opener', '4 Car Garage, Detached Garage, Opener', '3 Car Garage, Detached Garage, Opener']\n",
      "Synonyms for '1 car, parking lot, paved': ['2 Car, Parking Lot, PAVED', '1 Car, Parking Lot, PAVED']\n",
      "Synonyms for 'attached garage, garage - 2 car, garage door opener, keypad entry, on-street parking': ['Attached Garage, Garage - 1 Car, Garage Door Opener, Keypad Entry, On-Street Parking', 'Attached Garage, Garage - 2 Car, Garage Door Opener, Keypad Entry, On-Street Parking']\n",
      "Synonyms for 'concrete, driveway': ['Concrete Driveway', 'Concrete, Driveway']\n",
      "Synonyms for '29 spaces': ['2 spaces', '19 spaces', '9 spaces', '20 spaces', '2+ Spaces', '28 spaces', '22 spaces', '89 spaces', '59 spaces', '79 spaces', '99 spaces', '24 spaces', '25 spaces', '27 spaces', '29 spaces', '21 spaces', '529 spaces', '23 spaces']\n",
      "Synonyms for 'carport - 2 car, detached garage, garage - 2 car, parking space - 4+': ['Carport - 2 Car, Detached Garage, Garage - 2 Car, Parking Space - 4+', 'Carport - 2 Car, Detached Garage, Garage - 1 Car, Parking Space - 4+']\n",
      "Synonyms for 'garage - 1 car, side load garage': ['Garage - 3 Car, Side Load Garage', 'Garage - 2 Car, Side Load Garage', 'Garage - 1 Car, Side Load Garage']\n",
      "Synonyms for 'carport - 2 car, detached garage, garage - 1 car, parking space - 4+': ['Carport - 2 Car, Detached Garage, Garage - 2 Car, Parking Space - 4+', 'Carport - 2 Car, Detached Garage, Garage - 1 Car, Parking Space - 4+', 'Carport - 1 Car, Detached Garage, Garage - 1 Car, Parking Space - 4+']\n",
      "Synonyms for 'carport - 2 car, driveway, parking space - 3': ['Carport - 1 Car, Driveway, Parking Space - 3', 'Carport - 2 Car, Driveway, Parking Space - 3', 'Carport - 2 Car, Driveway, Parking Space - 2']\n",
      "Synonyms for '1 car garage, 2 off street, attached garage': ['1 Car Garage, 1 Off Street, Attached Garage', '2 Car Garage, 2 Off Street, Attached Garage', '1 Car Garage, 2 Off Street, Attached Garage']\n",
      "Synonyms for '56 spaces': ['6 spaces', '5 spaces', '16 spaces', '50 spaces', '55 spaces', '59 spaces', '36 spaces', '56 spaces']\n",
      "Synonyms for '2 car garage, basement, off street parking': ['1 Car Garage, Basement, Off Street Parking', '2 Car Garage, Basement, Off Street Parking']\n",
      "Synonyms for 'carport - 2 car, driveway, parking space - 2': ['Carport - 1 Car, Driveway, Parking Space - 2', 'Carport - 2 Car, Driveway, Parking Space - 3', 'Carport - 2 Car, Driveway, Parking Space - 2']\n",
      "Synonyms for 'attached garage, garage - 2 car, keypad entry, side load garage': ['Attached Garage, Garage - 3 Car, Keypad Entry, Side Load Garage', 'Attached Garage, Garage - 2 Car, Keypad Entry, Side Load Garage']\n",
      "Synonyms for 'garage - 3 car, garage door opener, keypad entry, parking space - 4+': ['Garage - 2 Car, Garage Door Opener, Keypad Entry, Parking Space - 4+', 'Garage - 3 Car, Garage Door Opener, Keypad Entry, Parking Space - 4+']\n",
      "Synonyms for 'attached garage, garage - 3 car, garage door opener, parking space - 4+, side load garage': ['Attached Garage, Garage - 2 Car, Garage Door Opener, Parking Space - 4+, Side Load Garage', 'Attached Garage, Garage - 3 Car, Garage Door Opener, Parking Space - 4+, Side Load Garage']\n",
      "Synonyms for 'driveway, garage - 3 car, garage door opener, keypad entry': ['Driveway, Garage - 2 Car, Garage Door Opener, Keypad Entry', 'Driveway, Garage - 3 Car, Garage Door Opener, Keypad Entry']\n",
      "Synonyms for '2 carport, 2 off street': ['1 Carport, 2 Off Street', '2 Carport, 2 Off Street']\n",
      "Synonyms for '4 car garage': ['2 Car Garage', '1 Car Garage', '3 Car Garage', '4 Car Garage']\n",
      "Synonyms for '60 spaces': ['6 spaces', '10 spaces', '30 spaces', '20 spaces', '50 spaces', '40 spaces', '68 spaces', '70 spaces', '60 spaces']\n",
      "Synonyms for '5.00': ['1.00', '3.00', '6.00', '8.00', '2.00', '5.00']\n",
      "Synonyms for '2 car, parking lot, paved, unassigned': ['2 Car, Parking Lot, PAVED, Unassigned', '1 Car, Parking Lot, PAVED, Unassigned']\n",
      "Synonyms for 'carport - 2 car, garage - 1 car': ['Carport - 2 Car, Garage - 1 Car', 'Carport - 1 Car, Garage - 1 Car']\n",
      "Synonyms for '1 car garage, 2 off street, detached garage, opener': ['1 Car Garage, 2 Off Street, Detached Garage, Opener', '1 Car Garage, 1 Off Street, Detached Garage, Opener']\n",
      "Synonyms for '1 car garage, 1 off street, detached garage, opener': ['1 Car Garage, 2 Off Street, Detached Garage, Opener', '1 Car Garage, 1 Off Street, Detached Garage, Opener']\n",
      "Synonyms for '144 spaces': ['14 spaces', '140 spaces', '144 spaces', '44 spaces']\n",
      "Synonyms for '1 car garage, detached, off street parking, utility garage': ['2 Car Garage, Detached, Off Street Parking, Utility Garage', '1 Car Garage, Detached, Off Street Parking, Utility Garage']\n",
      "Synonyms for '1 assigned, driveway paved': ['2 Assigned, Driveway Paved', '1 Assigned, Driveway Paved']\n",
      "Synonyms for '4 car garage, attached garage': ['2 Car Garage, Attached Garage', '1 Car Garage, Attached Garage', '3 Car Garage, Attached Garage', '4 Car Garage, Attached Garage']\n",
      "Synonyms for '150 spaces': ['10 spaces', '120 spaces', '50 spaces', '15 spaces', '140 spaces', '100 spaces', '110 spaces', '157 spaces', '150 spaces']\n",
      "Synonyms for 'carport - 1 car, detached garage, garage - 3 car': ['Carport - 2 Car, Detached Garage, Garage - 3 Car', 'Carport - 1 Car, Detached Garage, Garage - 3 Car']\n",
      "Synonyms for '1 car space, on street parking': ['2 Car Space, On Street Parking', '1 Car Space, On Street Parking']\n",
      "Synonyms for '331 spaces': ['131 spaces', '331 spaces']\n",
      "Synonyms for 'detached garage, garage - 2 car, parking space - 4+': ['Detached Garage, Garage - 3 Car, Parking Space - 4+', 'Detached Garage, Garage - 2 Car, Parking Space - 4+']\n",
      "Synonyms for 'detached garage, garage - 3 car': ['Detached Garage, Garage - 2 Car', 'Detached Garage, Garage - 1 Car', 'Detached Garage, Garage - 3 Car']\n",
      "Synonyms for '75': ['7', '5', '55', '15', '75', '25']\n",
      "Synonyms for '252 spaces': ['22 spaces', '25 spaces', '252 spaces', '222 spaces']\n",
      "Synonyms for '1 car attchd garage': ['2 Car Attchd Garage', '1 Car Attchd Garage']\n",
      "Synonyms for '44 spaces': ['4 spaces', '14 spaces', '40 spaces', '24 spaces', '144 spaces', '44 spaces', '42 spaces', '41 spaces', '43 spaces', '47 spaces']\n",
      "Synonyms for 'assigned parking space - 1, lot': ['Assigned Parking Space - 2, Lot', 'Assigned Parking Space - 1, Lot']\n",
      "Synonyms for '35 spaces': ['3 spaces', '5 spaces', '30 spaces', '15 spaces', '32 spaces', '55 spaces', '353 spaces', '37 spaces', '36 spaces', '75 spaces', '25 spaces', '35 spaces']\n",
      "Synonyms for '42 spaces': ['2 spaces', '4 spaces', '12 spaces', '40 spaces', '32 spaces', '22 spaces', '82 spaces', '44 spaces', '42 spaces', '41 spaces', '43 spaces', '47 spaces']\n",
      "Synonyms for '2 car space, guest parking': ['1 Car Space, Guest Parking', '2 Car Space, Guest Parking']\n",
      "Synonyms for '25': ['2', '5', '20', '27', '55', '22', '15', '24', '26', '21', '28', '23', '75', '25', '252']\n",
      "Synonyms for 'attached garage, driveway, garage - 2 car, parking space - 4+': ['Attached Garage, Driveway, Garage - 1 Car, Parking Space - 4+', 'Attached Garage, Driveway, Garage - 3 Car, Parking Space - 4+', 'Attached Garage, Driveway, Garage - 2 Car, Parking Space - 4+']\n",
      "Synonyms for '2 car garage, 2 off street, detached garage, on street': ['1 Car Garage, 2 Off Street, Detached Garage, On Street', '2 Car Garage, 2 Off Street, Detached Garage, On Street']\n",
      "Synonyms for 'attached garage, garage - 3 car, garage door opener, keypad entry': ['Attached Garage, Garage - 2 Car, Garage Door Opener, Keypad Entry', 'Attached Garage, Garage - 3 Car, Garage Door Opener, Keypad Entry']\n",
      "Synonyms for '46': ['4', '6', '16', '42', '40', '26', '46', '48']\n",
      "Synonyms for '108 spaces': ['10 spaces', '18 spaces', '100 spaces', '105 spaces', '108 spaces', '118 spaces']\n",
      "Synonyms for 'driveway, garage - 3 car, on-street parking': ['Driveway, Garage - 3 Car, On-Street Parking', 'Driveway, Garage - 2 Car, On-Street Parking', 'Driveway, Garage - 1 Car, On-Street Parking']\n",
      "Synonyms for '228': ['22', '28', '228']\n",
      "Synonyms for 'assigned parking space - 2, on-street parking': ['Assigned Parking Space - 1, On-Street Parking', 'Assigned Parking Space - 2, On-Street Parking']\n",
      "Synonyms for '252': ['22', '25', '252']\n",
      "Synonyms for 'attached garage, carport - 2 car, garage - 1 car': ['Attached Garage, Carport - 2 Car, Garage - 3 Car', 'Attached Garage, Carport - 2 Car, Garage - 2 Car', 'Attached Garage, Carport - 2 Car, Garage - 1 Car']\n",
      "Synonyms for '2 car garage, detached garage, farm bldg': ['3 Car Garage, Detached Garage, Farm Bldg', '2 Car Garage, Detached Garage, Farm Bldg']\n",
      "Synonyms for 'carport - 2 car, detached garage, garage - 1 car': ['Carport - 2 Car, Detached Garage, Garage - 3 Car', 'Carport - 2 Car, Detached Garage, Garage - 1 Car']\n",
      "Synonyms for 'attached garage, garage - 3 car, parking space - 4+, side load garage': ['Attached Garage, Garage - 2 Car, Parking Space - 4+, Side Load Garage', 'Attached Garage, Garage - 3 Car, Parking Space - 4+, Side Load Garage']\n",
      "Synonyms for '3 car garage, opener': ['2 Car Garage, Opener', '3 Car Garage, Opener']\n",
      "Synonyms for 'attached garage, basement, garage - 2 car, on-street parking': ['Attached Garage, Basement, Garage - 3 Car, On-Street Parking', 'Attached Garage, Basement, Garage - 2 Car, On-Street Parking']\n",
      "Synonyms for 'carport - 2 car, parking space - 3': ['Carport - 1 Car, Parking Space - 3', 'Carport - 2 Car, Parking Space - 3', 'Carport - 2 Car, Parking Space - 2']\n",
      "Synonyms for '171 spaces': ['11 spaces', '17 spaces', '131 spaces', '171 spaces']\n",
      "Synonyms for 'attached garage, garage - 3 car, keypad entry': ['Attached Garage, Garage - 2 Car, Keypad Entry', 'Attached Garage, Garage - 3 Car, Keypad Entry']\n",
      "Synonyms for 'attached garage, driveway, garage - 2 car, parking space - 4+, side load garage': ['Attached Garage, Driveway, Garage - 2 Car, Parking Space - 4+, Side Load Garage', 'Attached Garage, Driveway, Garage - 3 Car, Parking Space - 4+, Side Load Garage']\n",
      "Synonyms for 'carport - 1 car, garage - 1 car': ['Carport - 2 Car, Garage - 1 Car', 'Carport - 1 Car, Garage - 1 Car', 'Carport - 1 Car, Garage - 3 Car']\n",
      "Synonyms for '21 spaces': ['2 spaces', '21+ Spaces', '20 spaces', '2+ Spaces', '11 spaces', '28 spaces', '22 spaces', '210 spaces', '24 spaces', '25 spaces', '27 spaces', '29 spaces', '21 spaces', '41 spaces', '23 spaces']\n",
      "Synonyms for '41 spaces': ['4 spaces', '11 spaces', '40 spaces', '44 spaces', '42 spaces', '21 spaces', '41 spaces', '43 spaces', '47 spaces']\n",
      "Synonyms for 'driveway, garage - 2 car, on-street parking': ['Driveway, Garage - 3 Car, On-Street Parking', 'Driveway, Garage - 2 Car, On-Street Parking', 'Driveway, Garage - 1 Car, On-Street Parking']\n",
      "Synonyms for 'carport - 1 car, detached garage, garage - 1 car, parking space - 4+': ['Carport - 2 Car, Detached Garage, Garage - 1 Car, Parking Space - 4+', 'Carport - 1 Car, Detached Garage, Garage - 1 Car, Parking Space - 4+']\n",
      "Synonyms for 'driveway, garage - 1 car, on-street parking': ['Driveway, Garage - 3 Car, On-Street Parking', 'Driveway, Garage - 2 Car, On-Street Parking', 'Driveway, Garage - 1 Car, On-Street Parking']\n",
      "Synonyms for 'carport - 1 car, garage - 3 car': ['Carport - 1 Car, Garage - 1 Car', 'Carport - 1 Car, Garage - 3 Car']\n",
      "Synonyms for '111': ['11', '110', '111']\n",
      "Synonyms for '529 spaces': ['5209 spaces', '59 spaces', '29 spaces', '529 spaces']\n",
      "Synonyms for '23 spaces': ['2 spaces', '3 spaces', '20 spaces', '2+ Spaces', '28 spaces', '93 spaces', '22 spaces', '13 spaces', '238 spaces', '24 spaces', '25 spaces', '27 spaces', '73 spaces', '29 spaces', '21 spaces', '23 spaces', '43 spaces', '230 spaces']\n",
      "Synonyms for '1 car, parking lot, paved, unassigned': ['2 Car, Parking Lot, PAVED, Unassigned', '1 Car, Parking Lot, PAVED, Unassigned']\n",
      "Synonyms for '4 car garage, attached garage, detached garage, side load': ['2 Car Garage, Attached Garage, Detached Garage, Side Load', '4 Car Garage, Attached Garage, Detached Garage, Side Load']\n",
      "Synonyms for 'carport - 2 car, parking space - 2': ['Carport - 1 Car, Parking Space - 2', 'Carport - 2 Car, Parking Space - 3', 'Carport - 2 Car, Parking Space - 2']\n",
      "Synonyms for 'attached garage, driveway, garage - 1 car, garage door opener, on-street parking': ['Attached Garage, Driveway, Garage - 2 Car, Garage Door Opener, On-Street Parking', 'Attached Garage, Driveway, Garage - 3 Car, Garage Door Opener, On-Street Parking', 'Attached Garage, Driveway, Garage - 1 Car, Garage Door Opener, On-Street Parking']\n",
      "Synonyms for '1 car garage, on street': ['2 Car Garage, On Street', '1 Car Garage, On Street']\n",
      "Synonyms for '222 spaces': ['22 spaces', '252 spaces', '222 spaces']\n",
      "Synonyms for 'garage - 2 car, garage door opener, keypad entry, side load garage': ['Garage - 3 Car, Garage Door Opener, Keypad Entry, Side Load Garage', 'Garage - 2 Car, Garage Door Opener, Keypad Entry, Side Load Garage']\n",
      "Synonyms for '1 carport': ['1 Carport', '2 Carport']\n",
      "Synonyms for '4 car garage, attached garage, detached garage, opener': ['2 Car Garage, Attached Garage, Detached Garage, Opener', '4 Car Garage, Attached Garage, Detached Garage, Opener']\n",
      "Synonyms for '43 spaces': ['4 spaces', '3 spaces', '93 spaces', '40 spaces', '13 spaces', '73 spaces', '44 spaces', '42 spaces', '41 spaces', '23 spaces', '43 spaces', '47 spaces']\n",
      "Synonyms for '1 car garage, 1 off street, detached garage, on street': ['1 Car Garage, 2 Off Street, Detached Garage, On Street', '1 Car Garage, 1 Off Street, Detached Garage, On Street']\n",
      "Synonyms for '1 car garage, parking under building': ['2 Car Garage, Parking Under Building', '1 Car Garage, Parking Under Building']\n",
      "Synonyms for 'lot, parking space - 3': ['Lot, Parking Space - 1', 'Lot, Parking Space - 2', 'Lot, Parking Space - 3']\n",
      "Synonyms for '48': ['4', '8', '42', '40', '18', '28', '46', '48']\n",
      "Synonyms for '230 spaces': ['30 spaces', '20 spaces', '210 spaces', '238 spaces', '200 spaces', '23 spaces', '230 spaces']\n",
      "Synonyms for 'attached garage, driveway, garage - 3 car, parking space - 4+, side load garage': ['Attached Garage, Driveway, Garage - 2 Car, Parking Space - 4+, Side Load Garage', 'Attached Garage, Driveway, Garage - 3 Car, Parking Space - 4+, Side Load Garage']\n",
      "Synonyms for 'attached garage, garage - 2 car, garage door opener, parking space - 3, side load garage': ['Attached Garage, Garage - 3 Car, Garage Door Opener, Parking Space - 3, Side Load Garage', 'Attached Garage, Garage - 2 Car, Garage Door Opener, Parking Space - 3, Side Load Garage']\n",
      "Synonyms for '47 spaces': ['4 spaces', '7 spaces', '40 spaces', '17 spaces', '37 spaces', '27 spaces', '44 spaces', '42 spaces', '41 spaces', '43 spaces', '47 spaces']\n",
      "Synonyms for 'asphalt, driveway, off street, on street': ['Asphalt Driveway, Off Street, On Street', 'Asphalt, Driveway, Off Street, On Street']\n",
      "Synonyms for '2 car garage, 4 car garage, attached garage, detached garage, opener': ['2 Car Garage, 3 Car Garage, Attached Garage, Detached Garage, Opener', '2 Car Garage, 4 Car Garage, Attached Garage, Detached Garage, Opener']\n",
      "Synonyms for 'attached garage, back load garage, garage - 1 car, garage door opener, keypad entry, on-street parking': ['Attached Garage, Back Load Garage, Garage - 2 Car, Garage Door Opener, Keypad Entry, On-Street Parking', 'Attached Garage, Back Load Garage, Garage - 1 Car, Garage Door Opener, Keypad Entry, On-Street Parking']\n",
      "Synonyms for '2 carport': ['1 Carport', '2 Carport']\n",
      "Synonyms for '-carport': ['Carport', '-Carport']\n",
      "Synonyms for '4 car garage, attached garage, opener, side load': ['2 Car Garage, Attached Garage, Opener, Side Load', '3 Car Garage, Attached Garage, Opener, Side Load', '4 Car Garage, Attached Garage, Opener, Side Load']\n",
      "Synonyms for '120': ['10', '20', '100', '12', '140', '150', '110', '120']\n",
      "Synonyms for '1 car garage, attached garage, heated, opener': ['2 Car Garage, Attached Garage, Heated, Opener', '3 Car Garage, Attached Garage, Heated, Opener', '1 Car Garage, Attached Garage, Heated, Opener']\n",
      "Synonyms for 'attached garage, garage - 2 car, parking space - 3': ['Attached Garage, Garage - 2 Car, Parking Space - 2', 'Attached Garage, Garage - 1 Car, Parking Space - 3', 'Attached Garage, Garage - 2 Car, Parking Space - 1', 'Attached Garage, Garage - 2 Car, Parking Space - 3']\n",
      "Synonyms for 'attached garage, basement, driveway, garage - 2 car': ['Attached Garage, Basement, Driveway, Garage - 1 Car', 'Attached Garage, Basement, Driveway, Garage - 2 Car']\n",
      "Synonyms for '2 car garage, detached, main level, off street parking': ['1 Car Garage, Detached, Main Level, Off Street Parking', '2 Car Garage, Detached, Main Level, Off Street Parking']\n",
      "Synonyms for '1 car garage, attached, basement, off street parking': ['2 Car Garage, Attached, Basement, Off Street Parking', '1 Car Garage, Attached, Basement, Off Street Parking']\n",
      "Synonyms for '118 spaces': ['11 spaces', '18 spaces', '112 spaces', '110 spaces', '108 spaces', '118 spaces']\n",
      "Synonyms for '2 attached carport': ['1 Attached Carport', '2 Attached Carport']\n",
      "Synonyms for '1 car carport, main level, off street parking': ['2 Car Carport, Main Level, Off Street Parking', '1 Car Carport, Main Level, Off Street Parking']\n"
     ]
    }
   ],
   "source": [
    "\n",
    "\n",
    "# создаем список всех уникальных значений в столбце\n",
    "unique_values = data['Parking'].unique()\n",
    "\n",
    "# создаем список всех уникальных значений в столбце, приведенных к нижнему регистру\n",
    "lowercase_values = [str(value).lower() if isinstance(value, str) else str(value) for value in unique_values]\n",
    "\n",
    "# создаем словарь синонимов (ключ - это нормализованное значение, значение - это список всех значений, которые считаются синонимами)\n",
    "synonyms_dict = {}\n",
    "\n",
    "for value in unique_values:\n",
    "    # нормализуем текущее значение\n",
    "    normalized_value = str(value).lower() if isinstance(value, str) else str(value)\n",
    "\n",
    "    # ищем все значения, которые считаются синонимами для текущего значения\n",
    "    synonyms = [v for v in unique_values if distance(str(v).lower() if isinstance(v, str) else str(v), normalized_value) <= 1]\n",
    "\n",
    "    # добавляем текущее значение и его синонимы в словарь\n",
    "    synonyms_dict[normalized_value] = synonyms\n",
    "\n",
    "# выводим все найденные синонимы\n",
    "for key, value in synonyms_dict.items():\n",
    "    if len(value) > 1:\n",
    "        print(f\"Synonyms for '{key}': {value}\")"
   ]
  },
  {
   "cell_type": "code",
   "execution_count": 24,
   "metadata": {},
   "outputs": [],
   "source": [
    "# Создаем словарь с заменами\n",
    "replacements_Parking = {\n",
    "    'central air,': 'central air',\n",
    "    'cooling system:': 'cooling system',\n",
    "    'has cooling': 'cooling system',\n",
    "    'central, electric': 'central electric',\n",
    "    'central-electric': 'central electric',\n",
    "    'central ac': 'central a/c',\n",
    "    '': None,\n",
    "    'no data': None,\n",
    "    'none': None\n",
    "    }\n",
    "\n",
    "# Приводим значения столбца \"Parking\" к нижнему регистру\n",
    "data['Parking'] = data['Parking'].str.lower()\n",
    "\n",
    "# Заменяем значения в столбце \"Parking\" с помощью словаря замен\n",
    "data['Parking'].replace(replacements_Parking, inplace=True)"
   ]
  },
  {
   "cell_type": "code",
   "execution_count": 25,
   "metadata": {},
   "outputs": [
    {
     "name": "stdout",
     "output_type": "stream",
     "text": [
      "Series([], Name: count, dtype: int64)\n"
     ]
    }
   ],
   "source": [
    "unwanted_values_Parking = ['central air,', \n",
    "                   'cooling system:', \n",
    "                   'has cooling',  \n",
    "                   'central, electric', \n",
    "                   'central-electric', \n",
    "                   'central ac', \n",
    "                   'no data', \n",
    "                   'none', \n",
    "                   '',  \n",
    "                   ]\n",
    "\n",
    "filtered_data = data[data['Parking'].isin(unwanted_values_Parking)]\n",
    "unwanted_counts = filtered_data['Parking'].value_counts()\n",
    "\n",
    "print(unwanted_counts)"
   ]
  },
  {
   "cell_type": "code",
   "execution_count": 26,
   "metadata": {},
   "outputs": [
    {
     "name": "stdout",
     "output_type": "stream",
     "text": [
      "Количество уникальных значений:  3317\n"
     ]
    }
   ],
   "source": [
    "print('Количество уникальных значений: ', data['Parking'].nunique())"
   ]
  },
  {
   "cell_type": "code",
   "execution_count": 27,
   "metadata": {},
   "outputs": [
    {
     "data": {
      "text/plain": [
       "Parking\n",
       "attached garage                     70752\n",
       "2 spaces                            28063\n",
       "1 space                             14252\n",
       "detached garage                     13201\n",
       "carport                              7743\n",
       "off street                           5279\n",
       "3 spaces                             4724\n",
       "carport, attached garage             3025\n",
       "1                                    2936\n",
       "4 spaces                             2917\n",
       "2                                    2756\n",
       "on street                            1707\n",
       "attached garage, detached garage     1354\n",
       "0                                    1114\n",
       "attached garage, carport              993\n",
       "Name: count, dtype: int64"
      ]
     },
     "execution_count": 27,
     "metadata": {},
     "output_type": "execute_result"
    }
   ],
   "source": [
    "data['Parking'].value_counts().nlargest(15)"
   ]
  },
  {
   "cell_type": "code",
   "execution_count": 28,
   "metadata": {},
   "outputs": [
    {
     "name": "stderr",
     "output_type": "stream",
     "text": [
      "100%|██████████| 377185/377185 [00:00<00:00, 772863.95it/s]\n"
     ]
    }
   ],
   "source": [
    "Parking_list = list(data['Parking'].value_counts().nlargest(15).index)\n",
    "data['Parking'] = data['Parking'].progress_apply(lambda x: x if x in Parking_list else 'other')"
   ]
  },
  {
   "cell_type": "code",
   "execution_count": 29,
   "metadata": {},
   "outputs": [
    {
     "name": "stdout",
     "output_type": "stream",
     "text": [
      "Количество уникальных значений:  16\n"
     ]
    }
   ],
   "source": [
    "print('Количество уникальных значений: ', data['Parking'].nunique())"
   ]
  },
  {
   "cell_type": "markdown",
   "metadata": {},
   "source": [
    "# 5.4 Heating"
   ]
  },
  {
   "cell_type": "code",
   "execution_count": 30,
   "metadata": {},
   "outputs": [
    {
     "data": {
      "text/plain": [
       "array(['Central A/C, Heat Pump', '', 'Forced Air', 'Electric, Heat Pump',\n",
       "       'Gas', 'Central Electric', 'Forced air', 'Other',\n",
       "       'Forced air, Heat pump', 'Central Air', 'Electric', 'Heat Pump',\n",
       "       'Radiant', 'Baseboard', 'Central Furnace'], dtype=object)"
      ]
     },
     "execution_count": 30,
     "metadata": {},
     "output_type": "execute_result"
    }
   ],
   "source": [
    "data['Heating'].unique()[:15]"
   ]
  },
  {
   "cell_type": "code",
   "execution_count": 31,
   "metadata": {},
   "outputs": [
    {
     "name": "stdout",
     "output_type": "stream",
     "text": [
      "Количество уникальных значений:  1984\n"
     ]
    }
   ],
   "source": [
    "print('Количество уникальных значений: ', data['Heating'].nunique())"
   ]
  },
  {
   "cell_type": "code",
   "execution_count": 32,
   "metadata": {},
   "outputs": [
    {
     "name": "stdout",
     "output_type": "stream",
     "text": [
      "Доля (%) 15-ти наиболее весомых категорий:  90.0\n"
     ]
    }
   ],
   "source": [
    "print('Доля (%) 15-ти наиболее весомых категорий: ' , round((data['Heating'].value_counts().nlargest(15)/len(data)*100).sum(),1))"
   ]
  },
  {
   "cell_type": "code",
   "execution_count": 33,
   "metadata": {},
   "outputs": [
    {
     "data": {
      "text/plain": [
       "Heating\n",
       "                     105799\n",
       "Forced Air            82807\n",
       "Forced air            51506\n",
       "Other                 29623\n",
       "Electric              10211\n",
       "Gas                    9296\n",
       "No Data                8611\n",
       "Central Air            7814\n",
       "Central Electric       7112\n",
       "Central                6247\n",
       "Heat Pump              6104\n",
       "Central, Electric      4253\n",
       "Baseboard              3815\n",
       "Wall                   3301\n",
       "Electric Heat          3064\n",
       "Name: count, dtype: int64"
      ]
     },
     "execution_count": 33,
     "metadata": {},
     "output_type": "execute_result"
    }
   ],
   "source": [
    "data['Heating'].value_counts().nlargest(15)"
   ]
  },
  {
   "cell_type": "code",
   "execution_count": 34,
   "metadata": {},
   "outputs": [
    {
     "name": "stdout",
     "output_type": "stream",
     "text": [
      "Synonyms for '': ['', '3', '1', '5', '2']\n",
      "Synonyms for 'forced air': ['Forced Air', 'Forced air', 'ForcedAir', 'Forced-Air']\n",
      "Synonyms for 'electric, heat pump': ['Electric, Heat Pump', 'ELECTRIC HEAT PUMP', 'Electric Heat Pump']\n",
      "Synonyms for 'gas': ['Gas', 'gas', 'GAS']\n",
      "Synonyms for 'central electric': ['Central Electric', 'Central, Electric', 'Central-Electric']\n",
      "Synonyms for 'forced air, heat pump': ['Forced air, Heat pump', 'Forced Air, Heat Pump']\n",
      "Synonyms for 'electric': ['Electric', 'electric']\n",
      "Synonyms for 'heat pump': ['Heat Pump', 'Heat pump', 'HeatPump']\n",
      "Synonyms for 'central, electric': ['Central Electric', 'Central, Electric']\n",
      "Synonyms for 'lower level-gas': ['Lower level-Gas', 'Lower Level-Gas', 'lower level-Gas']\n",
      "Synonyms for 'heating system': ['Heating System', 'Heating System:']\n",
      "Synonyms for 'None': [None, 'None']\n",
      "Synonyms for 'central, gas': ['Central, Gas', 'Central Gas']\n",
      "Synonyms for 'central electric, zoned': ['Central Electric, Zoned', 'Central, Electric, Zoned']\n",
      "Synonyms for 'baseboard, electric': ['Baseboard, Electric', 'Baseboard Electric']\n",
      "Synonyms for 'central electric, heat pump': ['Central Electric, Heat Pump', 'Central, Electric, Heat Pump']\n",
      "Synonyms for 'central gas': ['Central, Gas', 'Central Gas']\n",
      "Synonyms for 'forcedair': ['Forced Air', 'Forced air', 'ForcedAir', 'Forced-Air']\n",
      "Synonyms for 'wall gas, wall gas': ['Wall Gas, Wall Gas', 'Wall Gas,Wall Gas']\n",
      "Synonyms for 'window units': ['Window Units', 'Window Unit']\n",
      "Synonyms for 'central, electric, heat pump, zoned': ['Central, Electric, Heat Pump, Zoned', 'Central Electric, Heat Pump, Zoned']\n",
      "Synonyms for 'forced air, stove': ['Forced air, Stove', 'Forced Air, Stove']\n",
      "Synonyms for 'closet-electric': ['Closet-Electric', 'closet-electric', 'closet-Electric']\n",
      "Synonyms for 'baseboard - hotwater': ['Baseboard - Hotwater', 'Baseboard - Hot Water']\n",
      "Synonyms for 'wall furnace': ['Wall Furnace', 'Wall Furnance']\n",
      "Synonyms for 'garage-heat pump hybrid electric': ['Garage-Heat pump hybrid electric', 'Garage-Heat Pump Hybrid electric']\n",
      "Synonyms for 'lower level-electric': ['Lower Level-Electric', 'Lower level-Electric', 'lower level-Electric']\n",
      "Synonyms for 'propane': ['Propane', 'PROPANE']\n",
      "Synonyms for 'wall gas,wall gas': ['Wall Gas, Wall Gas', 'Wall Gas,Wall Gas']\n",
      "Synonyms for 'central, electric, zoned': ['Central Electric, Zoned', 'Central, Electric, Zoned']\n",
      "Synonyms for 'gas forced air': ['GAS FORCED AIR', 'Gas Forced Air', 'Gas, Forced Air']\n",
      "Synonyms for 'baseboard, forced air': ['Baseboard, Forced air', 'Baseboard, ForcedAir', 'Baseboard, Forced Air']\n",
      "Synonyms for 'heat pump, zoned': ['Heat Pump, Zoned', 'Heat Pump, Zone']\n",
      "Synonyms for 'utility room-electric': ['Utility Room-Electric', 'utility room-electric', 'Utility room-Electric']\n",
      "Synonyms for 'central, electric, heat pump': ['Central Electric, Heat Pump', 'Central, Electric, Heat Pump', 'Central, Electric Heat Pump']\n",
      "Synonyms for 'none': [None, 'None']\n",
      "Synonyms for 'baseboard - hot water': ['Baseboard - Hotwater', 'Baseboard - Hot Water']\n",
      "Synonyms for 'garage-gas tankless': ['Garage-Gas Tankless', 'Garage-Gas/Tankless', 'GARAGE-GAS TANKLESS']\n",
      "Synonyms for 'electric, forced air': ['Electric, Forced Air', 'ELECTRIC FORCED AIR']\n",
      "Synonyms for '2 air conditioners': ['2 Air Conditioners', '4 Air Conditioners', '3 Air Conditioners', '5 Air Conditioners', '6 Air Conditioners']\n",
      "Synonyms for 'radiator': ['Radiator', 'Radiators']\n",
      "Synonyms for 'garage-gas': ['Garage-Gas', 'garage-gas', 'garage-Gas', 'Garage-GAs']\n",
      "Synonyms for 'lower level-tankless': ['Lower level-Tankless', 'Lower Level-Tankless']\n",
      "Synonyms for '4 air conditioners': ['2 Air Conditioners', '4 Air Conditioners', '3 Air Conditioners', '5 Air Conditioners', '6 Air Conditioners']\n",
      "Synonyms for 'electric, wall furnace': ['Electric, Wall Furnace', 'Electric, Wall Furnance']\n",
      "Synonyms for 'garage-tankless': ['garage-tankless', 'Garage-Tankless']\n",
      "Synonyms for 'forced air, radiant': ['Forced air, Radiant', 'Forced Air, Radiant']\n",
      "Synonyms for 'baseboard, heat pump': ['Baseboard, Heat Pump', 'Baseboard, Heat pump']\n",
      "Synonyms for 'garage-electric': ['Garage-Electric', 'garage-electric', 'Garage-electric']\n",
      "Synonyms for 'central, electric, solar': ['Central, Electric, Solar', 'Central Electric, Solar']\n",
      "Synonyms for 'central electric, window units': ['Central Electric, Window Units', 'Central Electric, Window Unit']\n",
      "Synonyms for 'forced air, propane, wood-burning furnace': ['Forced Air, Propane, Wood-Burning Furnace', 'Forced Air, Propane, Woodburning Furnace']\n",
      "Synonyms for 'laundry room': ['Laundry Room', 'laundry room']\n",
      "Synonyms for 'central electric, heat pump, zoned': ['Central, Electric, Heat Pump, Zoned', 'Central Electric, Heat Pump, Zoned']\n",
      "Synonyms for 'radiators': ['Radiator', 'Radiators']\n",
      "Synonyms for 'heatpump': ['Heat Pump', 'Heat pump', 'HeatPump']\n",
      "Synonyms for 'basement-electric': ['Basement-Electric', 'basement-electric']\n",
      "Synonyms for 'space heater': ['Space Heater', 'Space Heaters']\n",
      "Synonyms for '1 window/wall a/c': ['1 Window/Wall A/C', '2 Window/Wall A/C']\n",
      "Synonyms for 'ceiling electric': ['Ceiling Electric', 'Ceiling, Electric']\n",
      "Synonyms for '14': ['14', '1']\n",
      "Synonyms for 'heat pump, radiant': ['Heat pump, Radiant', 'Heat Pump, Radiant']\n",
      "Synonyms for 'forced air, geothermal': ['Forced Air, Geothermal', 'Forced air, Geothermal']\n",
      "Synonyms for 'garage-tankless gas': ['Garage-Tankless Gas', 'Garage-Tankless, Gas']\n",
      "Synonyms for 'electric baseboard': ['ELECTRIC BASEBOARD', 'Electric Baseboard']\n",
      "Synonyms for 'central-electric': ['Central Electric', 'Central-Electric']\n",
      "Synonyms for 'central, forced air': ['Central, Forced Air', 'Central Forced Air']\n",
      "Synonyms for 'garage-gas/tankless': ['Garage-Gas Tankless', 'Garage-Gas/Tankless', 'GARAGE-GAS TANKLESS']\n",
      "Synonyms for 'propane butane': ['Propane butane', 'Propane/Butane']\n",
      "Synonyms for 'baseboard, forcedair': ['Baseboard, Forced air', 'Baseboard, ForcedAir', 'Baseboard, Forced Air']\n",
      "Synonyms for 'central electric, window unit': ['Central Electric, Window Units', 'Central Electric, Window Unit']\n",
      "Synonyms for 'basement-gas': ['Basement-Gas', 'basement-gas', 'Bsement-Gas', 'Basement-gas', 'basement-Gas']\n",
      "Synonyms for 'forced air, propane, woodburning furnace': ['Forced Air, Propane, Wood-Burning Furnace', 'Forced Air, Propane, Woodburning Furnace']\n",
      "Synonyms for 'central, oil': ['Central, Oil', 'Central Oil']\n",
      "Synonyms for 'wall units': ['Wall Units', 'Wall Unit']\n",
      "Synonyms for 'main floor-electric': ['Main floor-Electric', 'main floor-electric']\n",
      "Synonyms for 'utility closet-gas': ['Utility closet-Gas', 'Utility Closet-Gas']\n",
      "Synonyms for 'laundry room-electric': ['Laundry Room-Electric', 'Laundry room-Electric']\n",
      "Synonyms for 'central electric, solar': ['Central, Electric, Solar', 'Central Electric, Solar']\n",
      "Synonyms for 'basement-tankless': ['basement-tankless', 'Basement-Tankless']\n",
      "Synonyms for 'baseboard, radiator': ['Baseboard, Radiator', 'Baseboard, Radiators']\n",
      "Synonyms for 'utility closet-electric': ['Utility closet-Electric', 'Utility Closet-Electric']\n",
      "Synonyms for 'basement-tankless gas': ['Basement-Tankless Gas', 'Basement-Tankless/Gas']\n",
      "Synonyms for 'central hot water': ['Central hot Water', 'Central Hot Water', 'Central Hot Water-']\n",
      "Synonyms for 'garage-tankless, gas': ['Garage-Tankless Gas', 'Garage-Tankless, Gas']\n",
      "Synonyms for 'basement': ['Basement', 'basement']\n",
      "Synonyms for 'central electric, space heater': ['Central Electric, Space Heater', 'Central, Electric, Space Heater']\n",
      "Synonyms for 'laundry room-tank': ['Laundry Room-Tank', 'Laundry room-Tank']\n",
      "Synonyms for 'heating system:': ['Heating System', 'Heating System:']\n",
      "Synonyms for 'natural gas- forced air': ['Natural Gas- Forced Air', 'Natural Gas, Forced Air']\n",
      "Synonyms for 'central oil': ['Central, Oil', 'Central Oil']\n",
      "Synonyms for 'garage': ['garage', 'Garage']\n",
      "Synonyms for 'basement closet-gas': ['Basement Closet-Gas', 'basement closet-gas']\n",
      "Synonyms for 'forced air electric': ['Forced Air Electric', 'Forced Air, Electric']\n",
      "Synonyms for 'central, electric heat pump': ['Central, Electric, Heat Pump', 'Central, Electric Heat Pump']\n",
      "Synonyms for 'space heaters': ['Space Heater', 'Space Heaters']\n",
      "Synonyms for 'floor furnace,wall heater': ['Floor Furnace,Wall Heater', 'Floor Furnace, Wall Heater']\n",
      "Synonyms for 'in unit-electric': ['In Unit-Electric', 'in unit-electric', 'In unit-Electric']\n",
      "Synonyms for 'utility room-tankless': ['Utility Room-Tankless', 'utility room-tankless']\n",
      "Synonyms for 'electric forced air': ['Electric, Forced Air', 'ELECTRIC FORCED AIR']\n",
      "Synonyms for 'utility room': ['Utility Room', 'Utility room']\n",
      "Synonyms for '3 air conditioners': ['2 Air Conditioners', '4 Air Conditioners', '3 Air Conditioners', '5 Air Conditioners', '6 Air Conditioners']\n",
      "Synonyms for 'utility room-gas': ['Utility Room-Gas', 'utility room-Gas']\n",
      "Synonyms for 'closet-tank': ['Closet-Tank', 'closet-tank']\n",
      "Synonyms for 'wall furnance': ['Wall Furnace', 'Wall Furnance']\n",
      "Synonyms for 'central furnace, natural gas': ['Central Furnace, Natural Gas', 'Central Furnace,Natural Gas']\n",
      "Synonyms for 'propane/butane': ['Propane butane', 'Propane/Butane']\n",
      "Synonyms for 'pantry-electric': ['pantry-Electric', 'Pantry-Electric', 'pantry-electric']\n",
      "Synonyms for 'tankless hot water heater': ['Tankless hot water heater', 'Tankless Hot Water Heater']\n",
      "Synonyms for 'window unit': ['Window Units', 'Window Unit']\n",
      "Synonyms for 'bsement-gas': ['Basement-Gas', 'basement-gas', 'Bsement-Gas', 'Basement-gas', 'basement-Gas']\n",
      "Synonyms for 'basement-tankless/gas': ['Basement-Tankless Gas', 'Basement-Tankless/Gas']\n",
      "Synonyms for 'forced air, electric': ['Forced Air Electric', 'Forced Air, Electric']\n",
      "Synonyms for 'bedroom closet-electric': ['Bedroom closet-Electric', 'Bedroom Closet-Electric']\n",
      "Synonyms for 'electric, central': ['Electric, Central', 'Electric,Central']\n",
      "Synonyms for 'lower floor-tank': ['Lower Floor-Tank', 'Lower floor-Tank']\n",
      "Synonyms for '2 window/wall a/c': ['1 Window/Wall A/C', '2 Window/Wall A/C']\n",
      "Synonyms for 'natural gas, forced air': ['Natural Gas- Forced Air', 'Natural Gas, Forced Air']\n",
      "Synonyms for 'basement-boiler': ['Basement-Boiler', 'basement-Boiler', 'basement-boiler']\n",
      "Synonyms for 'ceiling, electric': ['Ceiling Electric', 'Ceiling, Electric']\n",
      "Synonyms for '5 air conditioners': ['2 Air Conditioners', '4 Air Conditioners', '3 Air Conditioners', '5 Air Conditioners', '6 Air Conditioners']\n",
      "Synonyms for 'laundry room-gas': ['laundry room-gas', 'Laundry Room-Gas']\n",
      "Synonyms for 'baseboard electric': ['Baseboard, Electric', 'Baseboard Electric']\n",
      "Synonyms for 'baseboard, radiators': ['Baseboard, Radiator', 'Baseboard, Radiators']\n",
      "Synonyms for 'heat pump, zone': ['Heat Pump, Zoned', 'Heat Pump, Zone']\n",
      "Synonyms for '6 air conditioners': ['2 Air Conditioners', '4 Air Conditioners', '3 Air Conditioners', '5 Air Conditioners', '6 Air Conditioners']\n",
      "Synonyms for 'central forced air': ['Central, Forced Air', 'Central Forced Air']\n",
      "Synonyms for 'floor furnace, wall heater': ['Floor Furnace,Wall Heater', 'Floor Furnace, Wall Heater']\n",
      "Synonyms for 'central heat-gas': ['Central Heat-Gas', 'Central Heat/Gas']\n",
      "Synonyms for 'mechanical room-gas': ['Mechanical Room-Gas', 'mechanical room-Gas']\n",
      "Synonyms for '3': ['', '3', '1', '5', '2']\n",
      "Synonyms for '1': ['', '14', '3', '1', '5', '2']\n",
      "Synonyms for 'electric heat pump': ['Electric, Heat Pump', 'ELECTRIC HEAT PUMP', 'Electric Heat Pump']\n",
      "Synonyms for 'forced air, humidifier': ['Forced Air, Humidifier', 'ForcedAir, Humidifier']\n",
      "Synonyms for 'forcedair, humidifier': ['Forced Air, Humidifier', 'ForcedAir, Humidifier']\n",
      "Synonyms for 'electric, propane/butane': ['Electric, Propane/Butane', 'Electric, Propane butane']\n",
      "Synonyms for '5': ['', '3', '1', '5', '2']\n",
      "Synonyms for 'electric, heat pump, woodburning furnace': ['Electric, Heat Pump, Woodburning Furnace', 'Electric, Heat Pump, Wood-Burning Furnace']\n",
      "Synonyms for 'hall closet-electric': ['Hall closet-Electric', 'Hall Closet-Electric', 'hall closet-electric', 'Hall Closer-Electric']\n",
      "Synonyms for 'gas, forced air': ['GAS FORCED AIR', 'Gas Forced Air', 'Gas, Forced Air']\n",
      "Synonyms for 'boiler, forced air, propane, woodburning furnace': ['Boiler, Forced Air, Propane, Woodburning Furnace', 'Boiler, Forced Air, Propane, Wood-Burning Furnace']\n",
      "Synonyms for '2': ['', '3', '1', '5', '2']\n",
      "Synonyms for 'entry closet-electric': ['Entry Closet-Electric', 'Entry Closet-electric']\n",
      "Synonyms for 'central hot water-': ['Central hot Water', 'Central Hot Water', 'Central Hot Water-']\n",
      "Synonyms for 'electric, propane butane': ['Electric, Propane/Butane', 'Electric, Propane butane']\n",
      "Synonyms for 'boiler, forced air, propane, wood-burning furnace': ['Boiler, Forced Air, Propane, Woodburning Furnace', 'Boiler, Forced Air, Propane, Wood-Burning Furnace']\n",
      "Synonyms for 'forced air, propane leased': ['Forced Air, Propane Leased', 'Forced Air, Propane-Leased']\n",
      "Synonyms for 'wall unit': ['Wall Units', 'Wall Unit']\n",
      "Synonyms for 'electric,central': ['Electric, Central', 'Electric,Central']\n",
      "Synonyms for 'forced-air': ['Forced Air', 'Forced air', 'ForcedAir', 'Forced-Air']\n",
      "Synonyms for 'oil, pellet': ['Oil, Pellet', 'Oil, Pellets']\n",
      "Synonyms for 'central, electric, space heater': ['Central Electric, Space Heater', 'Central, Electric, Space Heater']\n",
      "Synonyms for 'oil, pellets': ['Oil, Pellet', 'Oil, Pellets']\n",
      "Synonyms for 'forced air, propane-leased': ['Forced Air, Propane Leased', 'Forced Air, Propane-Leased']\n",
      "Synonyms for 'electric, heat pump, wood-burning furnace': ['Electric, Heat Pump, Woodburning Furnace', 'Electric, Heat Pump, Wood-Burning Furnace']\n",
      "Synonyms for 'hall closer-electric': ['Hall closet-Electric', 'Hall Closet-Electric', 'hall closet-electric', 'Hall Closer-Electric']\n",
      "Synonyms for 'electric, wall furnance': ['Electric, Wall Furnace', 'Electric, Wall Furnance']\n",
      "Synonyms for 'central heat/gas': ['Central Heat-Gas', 'Central Heat/Gas']\n",
      "Synonyms for 'central furnace,natural gas': ['Central Furnace, Natural Gas', 'Central Furnace,Natural Gas']\n"
     ]
    }
   ],
   "source": [
    "# создаем список всех уникальных значений в столбце\n",
    "unique_values = data['Heating'].unique()\n",
    "\n",
    "# создаем список всех уникальных значений в столбце, приведенных к нижнему регистру\n",
    "lowercase_values = [str(value).lower() if isinstance(value, str) else str(value) for value in unique_values]\n",
    "\n",
    "# создаем словарь синонимов (ключ - это нормализованное значение, значение - это список всех значений, которые считаются синонимами)\n",
    "synonyms_dict = {}\n",
    "\n",
    "for value in unique_values:\n",
    "    # нормализуем текущее значение\n",
    "    normalized_value = str(value).lower() if isinstance(value, str) else str(value)\n",
    "\n",
    "    # ищем все значения, которые считаются синонимами для текущего значения\n",
    "    synonyms = [v for v in unique_values if distance(str(v).lower() if isinstance(v, str) else str(v), normalized_value) <= 1]\n",
    "\n",
    "    # добавляем текущее значение и его синонимы в словарь\n",
    "    synonyms_dict[normalized_value] = synonyms\n",
    "\n",
    "# выводим все найденные синонимы\n",
    "for key, value in synonyms_dict.items():\n",
    "    if len(value) > 1:\n",
    "        print(f\"Synonyms for '{key}': {value}\")"
   ]
  },
  {
   "cell_type": "code",
   "execution_count": 35,
   "metadata": {},
   "outputs": [],
   "source": [
    "# Создаем словарь с заменами\n",
    "replacements_Heating = {\n",
    "    'forcedair,': 'forced air',\n",
    "    'forced-air': 'forced air',\n",
    "    'central, electric': 'central electric',\n",
    "    'central-electric': 'central electric',\n",
    "    'heatpump': 'heat pump',\n",
    "    '': None,\n",
    "    'no data': None,\n",
    "    'none': None\n",
    "    }\n",
    "\n",
    "# Приводим значения столбца \"status\" к нижнему регистру\n",
    "data['Heating'] = data['Heating'].str.lower()\n",
    "\n",
    "# Заменяем значения в столбце \"status\" с помощью словаря замен\n",
    "data['Heating'].replace(replacements_Heating, inplace=True)"
   ]
  },
  {
   "cell_type": "code",
   "execution_count": 36,
   "metadata": {},
   "outputs": [
    {
     "name": "stdout",
     "output_type": "stream",
     "text": [
      "Series([], Name: count, dtype: int64)\n"
     ]
    }
   ],
   "source": [
    "unwanted_values_Heating = ['forcedair,', \n",
    "                   'forced-air', \n",
    "                   'central, electric',   \n",
    "                   'central-electric', \n",
    "                   'heatpump', \n",
    "                   'no data', \n",
    "                   'none', \n",
    "                   '',  \n",
    "                   ]\n",
    "\n",
    "filtered_data = data[data['Heating'].isin(unwanted_values_Heating)]\n",
    "unwanted_counts = filtered_data['Heating'].value_counts()\n",
    "\n",
    "print(unwanted_counts)"
   ]
  },
  {
   "cell_type": "code",
   "execution_count": 37,
   "metadata": {},
   "outputs": [
    {
     "name": "stdout",
     "output_type": "stream",
     "text": [
      "Количество уникальных значений:  1911\n"
     ]
    }
   ],
   "source": [
    "print('Количество уникальных значений: ', data['Heating'].nunique())"
   ]
  },
  {
   "cell_type": "code",
   "execution_count": 38,
   "metadata": {},
   "outputs": [
    {
     "data": {
      "text/plain": [
       "Heating\n",
       "forced air                     134314\n",
       "other                           29623\n",
       "central electric                11368\n",
       "electric                        10217\n",
       "gas                              9299\n",
       "heat pump                        8855\n",
       "central air                      7814\n",
       "central                          6247\n",
       "baseboard                        3815\n",
       "wall                             3301\n",
       "electric heat                    3064\n",
       "heating system                   2709\n",
       "forced air, heat pump            1767\n",
       "radiant                          1485\n",
       "central air, ceiling fan(s)      1432\n",
       "Name: count, dtype: int64"
      ]
     },
     "execution_count": 38,
     "metadata": {},
     "output_type": "execute_result"
    }
   ],
   "source": [
    "data['Heating'].value_counts().nlargest(15)"
   ]
  },
  {
   "cell_type": "code",
   "execution_count": 39,
   "metadata": {},
   "outputs": [
    {
     "name": "stderr",
     "output_type": "stream",
     "text": [
      "100%|██████████| 377185/377185 [00:00<00:00, 743707.77it/s]\n"
     ]
    }
   ],
   "source": [
    "Heating_list = list(data['Heating'].value_counts().nlargest(15).index)\n",
    "data['Heating'] = data['Heating'].progress_apply(lambda x: x if x in Heating_list else 'other')"
   ]
  },
  {
   "cell_type": "code",
   "execution_count": 40,
   "metadata": {},
   "outputs": [
    {
     "name": "stdout",
     "output_type": "stream",
     "text": [
      "Количество уникальных значений:  15\n"
     ]
    }
   ],
   "source": [
    "print('Количество уникальных значений: ', data['Heating'].nunique())"
   ]
  },
  {
   "cell_type": "markdown",
   "metadata": {},
   "source": [
    "# 5.5 Year built"
   ]
  },
  {
   "cell_type": "code",
   "execution_count": 41,
   "metadata": {},
   "outputs": [
    {
     "data": {
      "text/plain": [
       "array(['2019', '1961', '2006', '', '1920', '1976', '1970', '1965', '2015',\n",
       "       '1996', '1982', '1905', '2008', '1899', '2016'], dtype=object)"
      ]
     },
     "execution_count": 41,
     "metadata": {},
     "output_type": "execute_result"
    }
   ],
   "source": [
    "data['Year built'].unique()[:15]"
   ]
  },
  {
   "cell_type": "markdown",
   "metadata": {},
   "source": [
    "Cоздадим функцию для извлечения чисел, включая float"
   ]
  },
  {
   "cell_type": "code",
   "execution_count": 42,
   "metadata": {},
   "outputs": [],
   "source": [
    "def get_float(string):\n",
    "    a = re.findall(r\"[-+]?(?:\\d*\\.*\\d+)\", str(string).replace(',', '.'))\n",
    "    if a != []:\n",
    "        b = float(a[0])\n",
    "        return b\n",
    "    else:\n",
    "        return np.nan"
   ]
  },
  {
   "cell_type": "code",
   "execution_count": 43,
   "metadata": {},
   "outputs": [
    {
     "name": "stderr",
     "output_type": "stream",
     "text": [
      "  0%|          | 0/377185 [00:00<?, ?it/s]"
     ]
    },
    {
     "name": "stderr",
     "output_type": "stream",
     "text": [
      "100%|██████████| 377185/377185 [00:01<00:00, 292370.19it/s]\n"
     ]
    }
   ],
   "source": [
    "data['Year built'] = data['Year built'].progress_apply(get_float)"
   ]
  },
  {
   "cell_type": "markdown",
   "metadata": {},
   "source": [
    "Изменим год постройки на возраст дома"
   ]
  },
  {
   "cell_type": "code",
   "execution_count": 44,
   "metadata": {},
   "outputs": [
    {
     "name": "stderr",
     "output_type": "stream",
     "text": [
      "100%|██████████| 377185/377185 [00:00<00:00, 838120.42it/s]\n"
     ]
    }
   ],
   "source": [
    "data['Year built'] = data['Year built'].progress_apply(lambda x: 2022 - x)"
   ]
  },
  {
   "cell_type": "markdown",
   "metadata": {},
   "source": [
    "# 5.6 Remodeled year"
   ]
  },
  {
   "cell_type": "markdown",
   "metadata": {},
   "source": [
    "Повторим"
   ]
  },
  {
   "cell_type": "code",
   "execution_count": 45,
   "metadata": {},
   "outputs": [
    {
     "name": "stderr",
     "output_type": "stream",
     "text": [
      "100%|██████████| 377185/377185 [00:01<00:00, 322994.34it/s]\n",
      "100%|██████████| 377185/377185 [00:00<00:00, 782485.96it/s]\n"
     ]
    }
   ],
   "source": [
    "data['Remodeled year'] = data['Remodeled year'].progress_apply(get_float)\n",
    "data['Remodeled year'] = data['Remodeled year'].progress_apply(lambda x: 2022 - x)"
   ]
  },
  {
   "cell_type": "markdown",
   "metadata": {},
   "source": [
    "# 5.7 Price/sqft"
   ]
  },
  {
   "cell_type": "code",
   "execution_count": 46,
   "metadata": {},
   "outputs": [
    {
     "name": "stderr",
     "output_type": "stream",
     "text": [
      "100%|██████████| 377185/377185 [00:01<00:00, 247640.69it/s]\n"
     ]
    }
   ],
   "source": [
    "data['Price/sqft'] = data['Price/sqft'].progress_apply(get_float)"
   ]
  },
  {
   "cell_type": "code",
   "execution_count": 47,
   "metadata": {},
   "outputs": [],
   "source": [
    "data = data.drop('homeFacts', axis = 1)"
   ]
  },
  {
   "cell_type": "code",
   "execution_count": 48,
   "metadata": {},
   "outputs": [],
   "source": [
    "data.to_csv('dataset.csv')"
   ]
  }
 ],
 "metadata": {
  "kernelspec": {
   "display_name": "Python 3",
   "language": "python",
   "name": "python3"
  },
  "language_info": {
   "codemirror_mode": {
    "name": "ipython",
    "version": 3
   },
   "file_extension": ".py",
   "mimetype": "text/x-python",
   "name": "python",
   "nbconvert_exporter": "python",
   "pygments_lexer": "ipython3",
   "version": "3.9.10"
  },
  "orig_nbformat": 4
 },
 "nbformat": 4,
 "nbformat_minor": 2
}
